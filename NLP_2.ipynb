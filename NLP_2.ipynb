{
  "nbformat": 4,
  "nbformat_minor": 0,
  "metadata": {
    "colab": {
      "name": "NLP.2.ipynb",
      "provenance": [],
      "collapsed_sections": [
        "O58immrK-vrq",
        "1kPcSQ3oPCVU"
      ]
    },
    "kernelspec": {
      "name": "python3",
      "display_name": "Python 3"
    }
  },
  "cells": [
    {
      "cell_type": "markdown",
      "metadata": {
        "id": "COTRFfDhFeJn",
        "colab_type": "text"
      },
      "source": [
        "##Lecture 6 - Ngrams predictions"
      ]
    },
    {
      "cell_type": "code",
      "metadata": {
        "id": "Bnj1CZlouTJQ",
        "colab_type": "code",
        "colab": {
          "base_uri": "https://localhost:8080/",
          "height": 122
        },
        "outputId": "c88b8a8c-589e-4250-9270-eafb664c0e20"
      },
      "source": [
        "from google.colab import drive\n",
        "drive.mount('/content/drive')"
      ],
      "execution_count": 1,
      "outputs": [
        {
          "output_type": "stream",
          "text": [
            "Go to this URL in a browser: https://accounts.google.com/o/oauth2/auth?client_id=947318989803-6bn6qk8qdgf4n4g3pfee6491hc0brc4i.apps.googleusercontent.com&redirect_uri=urn%3Aietf%3Awg%3Aoauth%3A2.0%3Aoob&scope=email%20https%3A%2F%2Fwww.googleapis.com%2Fauth%2Fdocs.test%20https%3A%2F%2Fwww.googleapis.com%2Fauth%2Fdrive%20https%3A%2F%2Fwww.googleapis.com%2Fauth%2Fdrive.photos.readonly%20https%3A%2F%2Fwww.googleapis.com%2Fauth%2Fpeopleapi.readonly&response_type=code\n",
            "\n",
            "Enter your authorization code:\n",
            "··········\n",
            "Mounted at /content/drive\n"
          ],
          "name": "stdout"
        }
      ]
    },
    {
      "cell_type": "code",
      "metadata": {
        "id": "VD_Md-1DFb0Y",
        "colab_type": "code",
        "colab": {
          "base_uri": "https://localhost:8080/",
          "height": 683
        },
        "outputId": "5f219ba0-6de0-4482-b341-126c04c6487d"
      },
      "source": [
        "import pandas as pd\n",
        "import numpy as np\n",
        "import os\n",
        "df = pd.read_csv(\"/content/drive/My Drive/NLP datasets/Consumer_Complaints_big.csv\")\n",
        "df.head()\n"
      ],
      "execution_count": 2,
      "outputs": [
        {
          "output_type": "stream",
          "text": [
            "/usr/local/lib/python3.6/dist-packages/IPython/core/interactiveshell.py:2718: DtypeWarning: Columns (5,6,11,16) have mixed types. Specify dtype option on import or set low_memory=False.\n",
            "  interactivity=interactivity, compiler=compiler, result=result)\n"
          ],
          "name": "stderr"
        },
        {
          "output_type": "execute_result",
          "data": {
            "text/html": [
              "<div>\n",
              "<style scoped>\n",
              "    .dataframe tbody tr th:only-of-type {\n",
              "        vertical-align: middle;\n",
              "    }\n",
              "\n",
              "    .dataframe tbody tr th {\n",
              "        vertical-align: top;\n",
              "    }\n",
              "\n",
              "    .dataframe thead th {\n",
              "        text-align: right;\n",
              "    }\n",
              "</style>\n",
              "<table border=\"1\" class=\"dataframe\">\n",
              "  <thead>\n",
              "    <tr style=\"text-align: right;\">\n",
              "      <th></th>\n",
              "      <th>Date received</th>\n",
              "      <th>Product</th>\n",
              "      <th>Sub-product</th>\n",
              "      <th>Issue</th>\n",
              "      <th>Sub-issue</th>\n",
              "      <th>Consumer complaint narrative</th>\n",
              "      <th>Company public response</th>\n",
              "      <th>Company</th>\n",
              "      <th>State</th>\n",
              "      <th>ZIP code</th>\n",
              "      <th>Tags</th>\n",
              "      <th>Consumer consent provided?</th>\n",
              "      <th>Submitted via</th>\n",
              "      <th>Date sent to company</th>\n",
              "      <th>Company response to consumer</th>\n",
              "      <th>Timely response?</th>\n",
              "      <th>Consumer disputed?</th>\n",
              "      <th>Complaint ID</th>\n",
              "    </tr>\n",
              "  </thead>\n",
              "  <tbody>\n",
              "    <tr>\n",
              "      <th>0</th>\n",
              "      <td>07/17/2019</td>\n",
              "      <td>Credit reporting, credit repair services, or o...</td>\n",
              "      <td>Credit reporting</td>\n",
              "      <td>Incorrect information on your report</td>\n",
              "      <td>Account status incorrect</td>\n",
              "      <td>NaN</td>\n",
              "      <td>NaN</td>\n",
              "      <td>ALLY FINANCIAL INC.</td>\n",
              "      <td>TX</td>\n",
              "      <td>75035</td>\n",
              "      <td>NaN</td>\n",
              "      <td>NaN</td>\n",
              "      <td>Web</td>\n",
              "      <td>07/17/2019</td>\n",
              "      <td>In progress</td>\n",
              "      <td>Yes</td>\n",
              "      <td>NaN</td>\n",
              "      <td>3309495</td>\n",
              "    </tr>\n",
              "    <tr>\n",
              "      <th>1</th>\n",
              "      <td>07/17/2019</td>\n",
              "      <td>Credit card or prepaid card</td>\n",
              "      <td>General-purpose prepaid card</td>\n",
              "      <td>Trouble using the card</td>\n",
              "      <td>Problem using the card to withdraw money from ...</td>\n",
              "      <td>NaN</td>\n",
              "      <td>NaN</td>\n",
              "      <td>SQUARE INC</td>\n",
              "      <td>KS</td>\n",
              "      <td>674XX</td>\n",
              "      <td>NaN</td>\n",
              "      <td>NaN</td>\n",
              "      <td>Web</td>\n",
              "      <td>07/17/2019</td>\n",
              "      <td>In progress</td>\n",
              "      <td>Yes</td>\n",
              "      <td>NaN</td>\n",
              "      <td>3310031</td>\n",
              "    </tr>\n",
              "    <tr>\n",
              "      <th>2</th>\n",
              "      <td>07/17/2019</td>\n",
              "      <td>Debt collection</td>\n",
              "      <td>Other debt</td>\n",
              "      <td>Took or threatened to take negative or legal a...</td>\n",
              "      <td>Threatened or suggested your credit would be d...</td>\n",
              "      <td>NaN</td>\n",
              "      <td>NaN</td>\n",
              "      <td>Diversified Consultants, Inc.</td>\n",
              "      <td>FL</td>\n",
              "      <td>NaN</td>\n",
              "      <td>NaN</td>\n",
              "      <td>NaN</td>\n",
              "      <td>Web</td>\n",
              "      <td>07/17/2019</td>\n",
              "      <td>In progress</td>\n",
              "      <td>Yes</td>\n",
              "      <td>NaN</td>\n",
              "      <td>3309687</td>\n",
              "    </tr>\n",
              "    <tr>\n",
              "      <th>3</th>\n",
              "      <td>07/17/2019</td>\n",
              "      <td>Mortgage</td>\n",
              "      <td>VA mortgage</td>\n",
              "      <td>Trouble during payment process</td>\n",
              "      <td>NaN</td>\n",
              "      <td>NaN</td>\n",
              "      <td>NaN</td>\n",
              "      <td>FLAGSTAR BANK, FSB</td>\n",
              "      <td>VA</td>\n",
              "      <td>22554</td>\n",
              "      <td>Servicemember</td>\n",
              "      <td>NaN</td>\n",
              "      <td>Web</td>\n",
              "      <td>07/17/2019</td>\n",
              "      <td>In progress</td>\n",
              "      <td>Yes</td>\n",
              "      <td>NaN</td>\n",
              "      <td>3308925</td>\n",
              "    </tr>\n",
              "    <tr>\n",
              "      <th>4</th>\n",
              "      <td>07/17/2019</td>\n",
              "      <td>Debt collection</td>\n",
              "      <td>Other debt</td>\n",
              "      <td>Attempts to collect debt not owed</td>\n",
              "      <td>Debt is not yours</td>\n",
              "      <td>NaN</td>\n",
              "      <td>Company believes it acted appropriately as aut...</td>\n",
              "      <td>BYL Collection Services</td>\n",
              "      <td>TN</td>\n",
              "      <td>370XX</td>\n",
              "      <td>Servicemember</td>\n",
              "      <td>NaN</td>\n",
              "      <td>Web</td>\n",
              "      <td>07/17/2019</td>\n",
              "      <td>Closed with explanation</td>\n",
              "      <td>Yes</td>\n",
              "      <td>NaN</td>\n",
              "      <td>3308914</td>\n",
              "    </tr>\n",
              "  </tbody>\n",
              "</table>\n",
              "</div>"
            ],
            "text/plain": [
              "  Date received  ... Complaint ID\n",
              "0    07/17/2019  ...      3309495\n",
              "1    07/17/2019  ...      3310031\n",
              "2    07/17/2019  ...      3309687\n",
              "3    07/17/2019  ...      3308925\n",
              "4    07/17/2019  ...      3308914\n",
              "\n",
              "[5 rows x 18 columns]"
            ]
          },
          "metadata": {
            "tags": []
          },
          "execution_count": 2
        }
      ]
    },
    {
      "cell_type": "code",
      "metadata": {
        "id": "msS1P_g_uie2",
        "colab_type": "code",
        "colab": {
          "base_uri": "https://localhost:8080/",
          "height": 170
        },
        "outputId": "cb348ef3-3a66-4498-adc8-c824cb18298a"
      },
      "source": [
        "df1 = df[[\"Product\", \"Consumer complaint narrative\"]]\n",
        "df1[\"Product\"] = df1[\"Product\"].str.lower()\n",
        "df1.isnull().sum()"
      ],
      "execution_count": 3,
      "outputs": [
        {
          "output_type": "stream",
          "text": [
            "/usr/local/lib/python3.6/dist-packages/ipykernel_launcher.py:2: SettingWithCopyWarning: \n",
            "A value is trying to be set on a copy of a slice from a DataFrame.\n",
            "Try using .loc[row_indexer,col_indexer] = value instead\n",
            "\n",
            "See the caveats in the documentation: http://pandas.pydata.org/pandas-docs/stable/user_guide/indexing.html#returning-a-view-versus-a-copy\n",
            "  \n"
          ],
          "name": "stderr"
        },
        {
          "output_type": "execute_result",
          "data": {
            "text/plain": [
              "Product                              0\n",
              "Consumer complaint narrative    938347\n",
              "dtype: int64"
            ]
          },
          "metadata": {
            "tags": []
          },
          "execution_count": 3
        }
      ]
    },
    {
      "cell_type": "code",
      "metadata": {
        "id": "Pjwy_O1XvDk8",
        "colab_type": "code",
        "colab": {
          "base_uri": "https://localhost:8080/",
          "height": 136
        },
        "outputId": "04d341d2-bc7a-41ac-cbf7-518d679b728e"
      },
      "source": [
        "df1 = df1.dropna()\n",
        "df1.isnull().sum()\n",
        "df1[\"Product\"].value_counts()\n",
        "df1 = df1.replace(to_replace =[\"credit card\", \"prepaid card\"],  \n",
        "                            value =\"credit card or prepaid card\")\n",
        "df1 = df1.replace(to_replace =\"credit reporting\",\n",
        "                            value =\"credit reporting, credit repair services, or other personal consumer reports\")\n",
        "df1 = df1.replace(to_replace =\"virtual currency\",\n",
        "                            value =\"money transfer, virtual currency, or money service\")\n",
        "df1 = df1.replace(to_replace =\"money transfers\",\n",
        "                            value =\"money transfer, virtual currency, or money service\")\n",
        "df1 = df1.replace(to_replace =[\"student loan\", \"consumer loan\", \"vehicle loan or lease\", \"payday loan, title loan, or personal loan\", \"payday loan\"],  \n",
        "                            value =\"loans\")\n",
        "df1 = df1.replace(to_replace =\"checking or savings account\",  \n",
        "                            value =\"bank account or service\")\n",
        "df1 = df1[df1.Product != 'money transfer, virtual currency, or money service']\n",
        "df1 = df1[df1.Product != 'other financial service']\n",
        "df1[\"Product\"].value_counts()\n"
      ],
      "execution_count": 4,
      "outputs": [
        {
          "output_type": "execute_result",
          "data": {
            "text/plain": [
              "credit reporting, credit repair services, or other personal consumer reports    129418\n",
              "debt collection                                                                  89379\n",
              "mortgage                                                                         54109\n",
              "loans                                                                            44409\n",
              "credit card or prepaid card                                                      43103\n",
              "bank account or service                                                          28554\n",
              "Name: Product, dtype: int64"
            ]
          },
          "metadata": {
            "tags": []
          },
          "execution_count": 4
        }
      ]
    },
    {
      "cell_type": "code",
      "metadata": {
        "id": "cgoN5-ZxvWsX",
        "colab_type": "code",
        "colab": {}
      },
      "source": [
        "from sklearn.preprocessing import LabelEncoder\n",
        "le = LabelEncoder()\n",
        "df1[\"Product\"] = le.fit_transform(df1[\"Product\"])\n",
        "df1.head()\n",
        "df1[\"Product\"].value_counts()\n",
        "dfs = df1.sample(n = 1000, random_state = 42, replace=False)\n",
        "dfs.head()\n",
        "corpus = dfs[\"Consumer complaint narrative\"].tolist()\n",
        "\n"
      ],
      "execution_count": 0,
      "outputs": []
    },
    {
      "cell_type": "code",
      "metadata": {
        "id": "BjuB9Yy0vzVK",
        "colab_type": "code",
        "colab": {
          "base_uri": "https://localhost:8080/",
          "height": 1000
        },
        "outputId": "48247522-d5c5-430b-f394-652714de64b0"
      },
      "source": [
        "##Text Preprocessing\n",
        "import nltk\n",
        "nltk.download()##all\n",
        "from nltk.corpus import stopwords\n",
        "from string import punctuation\n",
        "stuff_to_be_removed = list(stopwords.words(\"english\"))+list(punctuation)\n",
        "from nltk.tokenize import word_tokenize\n",
        "from nltk.stem import WordNetLemmatizer \n",
        "lemmatizer = WordNetLemmatizer()\n",
        "import nltk\n",
        "nltk.download('words')\n",
        "words = set(nltk.corpus.words.words())\n",
        "final_corpus= []\n",
        "for i in range(len(corpus)):\n",
        "    text = word_tokenize(corpus[i].lower())\n",
        "    text = [t for t in text if len(t) > 2]\n",
        "    text = [lemmatizer.lemmatize(y) for y in text if y not in stuff_to_be_removed]\n",
        "    sent = \" \".join(text)\n",
        "    sent = \" \".join(w for w in nltk.wordpunct_tokenize(sent) \\\n",
        "         if w.lower() in words or not w.isalpha())\n",
        "    \n",
        "    final_corpus.append(sent)\n",
        "new_df = pd.DataFrame(final_corpus)\n",
        "dfs = dfs.reset_index(drop=True)\n",
        "new_df[\"Product\"] = dfs[\"Product\"]\n",
        "new_df.columns = [\"Consumer complaint narrative\", \"Product\"]\n"
      ],
      "execution_count": 7,
      "outputs": [
        {
          "output_type": "stream",
          "text": [
            "NLTK Downloader\n",
            "---------------------------------------------------------------------------\n",
            "    d) Download   l) List    u) Update   c) Config   h) Help   q) Quit\n",
            "---------------------------------------------------------------------------\n",
            "Downloader> d\n",
            "\n",
            "Download which package (l=list; x=cancel)?\n",
            "  Identifier> all\n",
            "    Downloading collection 'all'\n",
            "       | \n",
            "       | Downloading package abc to /root/nltk_data...\n",
            "       |   Unzipping corpora/abc.zip.\n",
            "       | Downloading package alpino to /root/nltk_data...\n",
            "       |   Unzipping corpora/alpino.zip.\n",
            "       | Downloading package biocreative_ppi to /root/nltk_data...\n",
            "       |   Unzipping corpora/biocreative_ppi.zip.\n",
            "       | Downloading package brown to /root/nltk_data...\n",
            "       |   Unzipping corpora/brown.zip.\n",
            "       | Downloading package brown_tei to /root/nltk_data...\n",
            "       |   Unzipping corpora/brown_tei.zip.\n",
            "       | Downloading package cess_cat to /root/nltk_data...\n",
            "       |   Unzipping corpora/cess_cat.zip.\n",
            "       | Downloading package cess_esp to /root/nltk_data...\n",
            "       |   Unzipping corpora/cess_esp.zip.\n",
            "       | Downloading package chat80 to /root/nltk_data...\n",
            "       |   Unzipping corpora/chat80.zip.\n",
            "       | Downloading package city_database to /root/nltk_data...\n",
            "       |   Unzipping corpora/city_database.zip.\n",
            "       | Downloading package cmudict to /root/nltk_data...\n",
            "       |   Unzipping corpora/cmudict.zip.\n",
            "       | Downloading package comparative_sentences to\n",
            "       |     /root/nltk_data...\n",
            "       |   Unzipping corpora/comparative_sentences.zip.\n",
            "       | Downloading package comtrans to /root/nltk_data...\n",
            "       | Downloading package conll2000 to /root/nltk_data...\n",
            "       |   Unzipping corpora/conll2000.zip.\n",
            "       | Downloading package conll2002 to /root/nltk_data...\n",
            "       |   Unzipping corpora/conll2002.zip.\n",
            "       | Downloading package conll2007 to /root/nltk_data...\n",
            "       | Downloading package crubadan to /root/nltk_data...\n",
            "       |   Unzipping corpora/crubadan.zip.\n",
            "       | Downloading package dependency_treebank to /root/nltk_data...\n",
            "       |   Unzipping corpora/dependency_treebank.zip.\n",
            "       | Downloading package dolch to /root/nltk_data...\n",
            "       |   Unzipping corpora/dolch.zip.\n",
            "       | Downloading package europarl_raw to /root/nltk_data...\n",
            "       |   Unzipping corpora/europarl_raw.zip.\n",
            "       | Downloading package floresta to /root/nltk_data...\n",
            "       |   Unzipping corpora/floresta.zip.\n",
            "       | Downloading package framenet_v15 to /root/nltk_data...\n",
            "       |   Unzipping corpora/framenet_v15.zip.\n",
            "       | Downloading package framenet_v17 to /root/nltk_data...\n",
            "       |   Unzipping corpora/framenet_v17.zip.\n",
            "       | Downloading package gazetteers to /root/nltk_data...\n",
            "       |   Unzipping corpora/gazetteers.zip.\n",
            "       | Downloading package genesis to /root/nltk_data...\n",
            "       |   Unzipping corpora/genesis.zip.\n",
            "       | Downloading package gutenberg to /root/nltk_data...\n",
            "       |   Unzipping corpora/gutenberg.zip.\n",
            "       | Downloading package ieer to /root/nltk_data...\n",
            "       |   Unzipping corpora/ieer.zip.\n",
            "       | Downloading package inaugural to /root/nltk_data...\n",
            "       |   Unzipping corpora/inaugural.zip.\n",
            "       | Downloading package indian to /root/nltk_data...\n",
            "       |   Unzipping corpora/indian.zip.\n",
            "       | Downloading package jeita to /root/nltk_data...\n",
            "       | Downloading package kimmo to /root/nltk_data...\n",
            "       |   Unzipping corpora/kimmo.zip.\n",
            "       | Downloading package knbc to /root/nltk_data...\n",
            "       | Downloading package lin_thesaurus to /root/nltk_data...\n",
            "       |   Unzipping corpora/lin_thesaurus.zip.\n",
            "       | Downloading package mac_morpho to /root/nltk_data...\n",
            "       |   Unzipping corpora/mac_morpho.zip.\n",
            "       | Downloading package machado to /root/nltk_data...\n",
            "       | Downloading package masc_tagged to /root/nltk_data...\n",
            "       | Downloading package moses_sample to /root/nltk_data...\n",
            "       |   Unzipping models/moses_sample.zip.\n",
            "       | Downloading package movie_reviews to /root/nltk_data...\n",
            "       |   Unzipping corpora/movie_reviews.zip.\n",
            "       | Downloading package names to /root/nltk_data...\n",
            "       |   Unzipping corpora/names.zip.\n",
            "       | Downloading package nombank.1.0 to /root/nltk_data...\n",
            "       | Downloading package nps_chat to /root/nltk_data...\n",
            "       |   Unzipping corpora/nps_chat.zip.\n",
            "       | Downloading package omw to /root/nltk_data...\n",
            "       |   Unzipping corpora/omw.zip.\n",
            "       | Downloading package opinion_lexicon to /root/nltk_data...\n",
            "       |   Unzipping corpora/opinion_lexicon.zip.\n",
            "       | Downloading package paradigms to /root/nltk_data...\n",
            "       |   Unzipping corpora/paradigms.zip.\n",
            "       | Downloading package pil to /root/nltk_data...\n",
            "       |   Unzipping corpora/pil.zip.\n",
            "       | Downloading package pl196x to /root/nltk_data...\n",
            "       |   Unzipping corpora/pl196x.zip.\n",
            "       | Downloading package ppattach to /root/nltk_data...\n",
            "       |   Unzipping corpora/ppattach.zip.\n",
            "       | Downloading package problem_reports to /root/nltk_data...\n",
            "       |   Unzipping corpora/problem_reports.zip.\n",
            "       | Downloading package propbank to /root/nltk_data...\n",
            "       | Downloading package ptb to /root/nltk_data...\n",
            "       |   Unzipping corpora/ptb.zip.\n",
            "       | Downloading package product_reviews_1 to /root/nltk_data...\n",
            "       |   Unzipping corpora/product_reviews_1.zip.\n",
            "       | Downloading package product_reviews_2 to /root/nltk_data...\n",
            "       |   Unzipping corpora/product_reviews_2.zip.\n",
            "       | Downloading package pros_cons to /root/nltk_data...\n",
            "       |   Unzipping corpora/pros_cons.zip.\n",
            "       | Downloading package qc to /root/nltk_data...\n",
            "       |   Unzipping corpora/qc.zip.\n",
            "       | Downloading package reuters to /root/nltk_data...\n",
            "       | Downloading package rte to /root/nltk_data...\n",
            "       |   Unzipping corpora/rte.zip.\n",
            "       | Downloading package semcor to /root/nltk_data...\n",
            "       | Downloading package senseval to /root/nltk_data...\n",
            "       |   Unzipping corpora/senseval.zip.\n",
            "       | Downloading package sentiwordnet to /root/nltk_data...\n",
            "       |   Unzipping corpora/sentiwordnet.zip.\n",
            "       | Downloading package sentence_polarity to /root/nltk_data...\n",
            "       |   Unzipping corpora/sentence_polarity.zip.\n",
            "       | Downloading package shakespeare to /root/nltk_data...\n",
            "       |   Unzipping corpora/shakespeare.zip.\n",
            "       | Downloading package sinica_treebank to /root/nltk_data...\n",
            "       |   Unzipping corpora/sinica_treebank.zip.\n",
            "       | Downloading package smultron to /root/nltk_data...\n",
            "       |   Unzipping corpora/smultron.zip.\n",
            "       | Downloading package state_union to /root/nltk_data...\n",
            "       |   Unzipping corpora/state_union.zip.\n",
            "       | Downloading package stopwords to /root/nltk_data...\n",
            "       |   Unzipping corpora/stopwords.zip.\n",
            "       | Downloading package subjectivity to /root/nltk_data...\n",
            "       |   Unzipping corpora/subjectivity.zip.\n",
            "       | Downloading package swadesh to /root/nltk_data...\n",
            "       |   Unzipping corpora/swadesh.zip.\n",
            "       | Downloading package switchboard to /root/nltk_data...\n",
            "       |   Unzipping corpora/switchboard.zip.\n",
            "       | Downloading package timit to /root/nltk_data...\n",
            "       |   Unzipping corpora/timit.zip.\n",
            "       | Downloading package toolbox to /root/nltk_data...\n",
            "       |   Unzipping corpora/toolbox.zip.\n",
            "       | Downloading package treebank to /root/nltk_data...\n",
            "       |   Unzipping corpora/treebank.zip.\n",
            "       | Downloading package twitter_samples to /root/nltk_data...\n",
            "       |   Unzipping corpora/twitter_samples.zip.\n",
            "       | Downloading package udhr to /root/nltk_data...\n",
            "       |   Unzipping corpora/udhr.zip.\n",
            "       | Downloading package udhr2 to /root/nltk_data...\n",
            "       |   Unzipping corpora/udhr2.zip.\n",
            "       | Downloading package unicode_samples to /root/nltk_data...\n",
            "       |   Unzipping corpora/unicode_samples.zip.\n",
            "       | Downloading package universal_treebanks_v20 to\n",
            "       |     /root/nltk_data...\n",
            "       | Downloading package verbnet to /root/nltk_data...\n",
            "       |   Unzipping corpora/verbnet.zip.\n",
            "       | Downloading package verbnet3 to /root/nltk_data...\n",
            "       |   Unzipping corpora/verbnet3.zip.\n",
            "       | Downloading package webtext to /root/nltk_data...\n",
            "       |   Unzipping corpora/webtext.zip.\n",
            "       | Downloading package wordnet to /root/nltk_data...\n",
            "       |   Unzipping corpora/wordnet.zip.\n",
            "       | Downloading package wordnet_ic to /root/nltk_data...\n",
            "       |   Unzipping corpora/wordnet_ic.zip.\n",
            "       | Downloading package words to /root/nltk_data...\n",
            "       |   Unzipping corpora/words.zip.\n",
            "       | Downloading package ycoe to /root/nltk_data...\n",
            "       |   Unzipping corpora/ycoe.zip.\n",
            "       | Downloading package rslp to /root/nltk_data...\n",
            "       |   Unzipping stemmers/rslp.zip.\n",
            "       | Downloading package maxent_treebank_pos_tagger to\n",
            "       |     /root/nltk_data...\n",
            "       |   Unzipping taggers/maxent_treebank_pos_tagger.zip.\n",
            "       | Downloading package universal_tagset to /root/nltk_data...\n",
            "       |   Unzipping taggers/universal_tagset.zip.\n",
            "       | Downloading package maxent_ne_chunker to /root/nltk_data...\n",
            "       |   Unzipping chunkers/maxent_ne_chunker.zip.\n",
            "       | Downloading package punkt to /root/nltk_data...\n",
            "       |   Unzipping tokenizers/punkt.zip.\n",
            "       | Downloading package book_grammars to /root/nltk_data...\n",
            "       |   Unzipping grammars/book_grammars.zip.\n",
            "       | Downloading package sample_grammars to /root/nltk_data...\n",
            "       |   Unzipping grammars/sample_grammars.zip.\n",
            "       | Downloading package spanish_grammars to /root/nltk_data...\n",
            "       |   Unzipping grammars/spanish_grammars.zip.\n",
            "       | Downloading package basque_grammars to /root/nltk_data...\n",
            "       |   Unzipping grammars/basque_grammars.zip.\n",
            "       | Downloading package large_grammars to /root/nltk_data...\n",
            "       |   Unzipping grammars/large_grammars.zip.\n",
            "       | Downloading package tagsets to /root/nltk_data...\n",
            "       |   Unzipping help/tagsets.zip.\n",
            "       | Downloading package snowball_data to /root/nltk_data...\n",
            "       | Downloading package bllip_wsj_no_aux to /root/nltk_data...\n",
            "       |   Unzipping models/bllip_wsj_no_aux.zip.\n",
            "       | Downloading package word2vec_sample to /root/nltk_data...\n",
            "       |   Unzipping models/word2vec_sample.zip.\n",
            "       | Downloading package panlex_swadesh to /root/nltk_data...\n",
            "       | Downloading package mte_teip5 to /root/nltk_data...\n",
            "       |   Unzipping corpora/mte_teip5.zip.\n",
            "       | Downloading package averaged_perceptron_tagger to\n",
            "       |     /root/nltk_data...\n",
            "       |   Unzipping taggers/averaged_perceptron_tagger.zip.\n",
            "       | Downloading package averaged_perceptron_tagger_ru to\n",
            "       |     /root/nltk_data...\n",
            "       |   Unzipping taggers/averaged_perceptron_tagger_ru.zip.\n",
            "       | Downloading package perluniprops to /root/nltk_data...\n",
            "       |   Unzipping misc/perluniprops.zip.\n",
            "       | Downloading package nonbreaking_prefixes to\n",
            "       |     /root/nltk_data...\n",
            "       |   Unzipping corpora/nonbreaking_prefixes.zip.\n",
            "       | Downloading package vader_lexicon to /root/nltk_data...\n",
            "       | Downloading package porter_test to /root/nltk_data...\n",
            "       |   Unzipping stemmers/porter_test.zip.\n",
            "       | Downloading package wmt15_eval to /root/nltk_data...\n",
            "       |   Unzipping models/wmt15_eval.zip.\n",
            "       | Downloading package mwa_ppdb to /root/nltk_data...\n",
            "       |   Unzipping misc/mwa_ppdb.zip.\n",
            "       | \n",
            "     Done downloading collection all\n",
            "\n",
            "---------------------------------------------------------------------------\n",
            "    d) Download   l) List    u) Update   c) Config   h) Help   q) Quit\n",
            "---------------------------------------------------------------------------\n",
            "Downloader> d\n",
            "\n",
            "Download which package (l=list; x=cancel)?\n",
            "  Identifier> x\n",
            "\n",
            "---------------------------------------------------------------------------\n",
            "    d) Download   l) List    u) Update   c) Config   h) Help   q) Quit\n",
            "---------------------------------------------------------------------------\n",
            "Downloader> q\n",
            "[nltk_data] Downloading package words to /root/nltk_data...\n",
            "[nltk_data]   Package words is already up-to-date!\n"
          ],
          "name": "stdout"
        }
      ]
    },
    {
      "cell_type": "code",
      "metadata": {
        "id": "wB1K4_UswNPW",
        "colab_type": "code",
        "colab": {
          "base_uri": "https://localhost:8080/",
          "height": 419
        },
        "outputId": "653173de-9750-4a99-a717-5fbbbe949829"
      },
      "source": [
        "new_df"
      ],
      "execution_count": 8,
      "outputs": [
        {
          "output_type": "execute_result",
          "data": {
            "text/html": [
              "<div>\n",
              "<style scoped>\n",
              "    .dataframe tbody tr th:only-of-type {\n",
              "        vertical-align: middle;\n",
              "    }\n",
              "\n",
              "    .dataframe tbody tr th {\n",
              "        vertical-align: top;\n",
              "    }\n",
              "\n",
              "    .dataframe thead th {\n",
              "        text-align: right;\n",
              "    }\n",
              "</style>\n",
              "<table border=\"1\" class=\"dataframe\">\n",
              "  <thead>\n",
              "    <tr style=\"text-align: right;\">\n",
              "      <th></th>\n",
              "      <th>Consumer complaint narrative</th>\n",
              "      <th>Product</th>\n",
              "    </tr>\n",
              "  </thead>\n",
              "  <tbody>\n",
              "    <tr>\n",
              "      <th>0</th>\n",
              "      <td>parent plus loan ' re taken loan 8 . 25 repaym...</td>\n",
              "      <td>4</td>\n",
              "    </tr>\n",
              "    <tr>\n",
              "      <th>1</th>\n",
              "      <td>loan sold within day / / issue / / date statem...</td>\n",
              "      <td>5</td>\n",
              "    </tr>\n",
              "    <tr>\n",
              "      <th>2</th>\n",
              "      <td>credit card closed account lost job come find ...</td>\n",
              "      <td>3</td>\n",
              "    </tr>\n",
              "    <tr>\n",
              "      <th>3</th>\n",
              "      <td>- dollar late fee equity line credit bought na...</td>\n",
              "      <td>0</td>\n",
              "    </tr>\n",
              "    <tr>\n",
              "      <th>4</th>\n",
              "      <td>filing complaint express policy raising intere...</td>\n",
              "      <td>1</td>\n",
              "    </tr>\n",
              "    <tr>\n",
              "      <th>...</th>\n",
              "      <td>...</td>\n",
              "      <td>...</td>\n",
              "    </tr>\n",
              "    <tr>\n",
              "      <th>995</th>\n",
              "      <td>actually method contact file dispute currently...</td>\n",
              "      <td>2</td>\n",
              "    </tr>\n",
              "    <tr>\n",
              "      <th>996</th>\n",
              "      <td>recently service connected veteran time good e...</td>\n",
              "      <td>2</td>\n",
              "    </tr>\n",
              "    <tr>\n",
              "      <th>997</th>\n",
              "      <td>fifth time update chase letter / / 2018 compla...</td>\n",
              "      <td>1</td>\n",
              "    </tr>\n",
              "    <tr>\n",
              "      <th>998</th>\n",
              "      <td>2015 bill pay 2000 . 00 bluebird account accou...</td>\n",
              "      <td>0</td>\n",
              "    </tr>\n",
              "    <tr>\n",
              "      <th>999</th>\n",
              "      <td>debt apartment community invalid debt manageme...</td>\n",
              "      <td>3</td>\n",
              "    </tr>\n",
              "  </tbody>\n",
              "</table>\n",
              "<p>1000 rows × 2 columns</p>\n",
              "</div>"
            ],
            "text/plain": [
              "                          Consumer complaint narrative  Product\n",
              "0    parent plus loan ' re taken loan 8 . 25 repaym...        4\n",
              "1    loan sold within day / / issue / / date statem...        5\n",
              "2    credit card closed account lost job come find ...        3\n",
              "3    - dollar late fee equity line credit bought na...        0\n",
              "4    filing complaint express policy raising intere...        1\n",
              "..                                                 ...      ...\n",
              "995  actually method contact file dispute currently...        2\n",
              "996  recently service connected veteran time good e...        2\n",
              "997  fifth time update chase letter / / 2018 compla...        1\n",
              "998  2015 bill pay 2000 . 00 bluebird account accou...        0\n",
              "999  debt apartment community invalid debt manageme...        3\n",
              "\n",
              "[1000 rows x 2 columns]"
            ]
          },
          "metadata": {
            "tags": []
          },
          "execution_count": 8
        }
      ]
    },
    {
      "cell_type": "code",
      "metadata": {
        "id": "Ge31sHW3yBFX",
        "colab_type": "code",
        "colab": {
          "base_uri": "https://localhost:8080/",
          "height": 34
        },
        "outputId": "7db2222d-ebe7-4ce3-9105-cd399a50fcd2"
      },
      "source": [
        "from sklearn.feature_extraction.text import TfidfVectorizer\n",
        "tfidf = TfidfVectorizer(ngram_range=(2,3))\n",
        "vector= tfidf.fit_transform(new_df[\"Consumer complaint narrative\"])\n",
        "X = vector.toarray()\n",
        "y = new_df[\"Product\"]\n",
        "\n",
        "from sklearn.model_selection import train_test_split as tts\n",
        "X_train,X_test,y_train,y_test=tts(X,y,test_size=0.3,random_state=40)\n",
        "from sklearn.naive_bayes import MultinomialNB\n",
        "\n",
        "mnb = MultinomialNB()\n",
        "mnb.fit(X_train,y_train)\n",
        "y_pred=mnb.predict(X_test)\n",
        "mnb.score(X_test, y_test)"
      ],
      "execution_count": 9,
      "outputs": [
        {
          "output_type": "execute_result",
          "data": {
            "text/plain": [
              "0.38"
            ]
          },
          "metadata": {
            "tags": []
          },
          "execution_count": 9
        }
      ]
    },
    {
      "cell_type": "code",
      "metadata": {
        "id": "PlahUmpDyhnT",
        "colab_type": "code",
        "colab": {
          "base_uri": "https://localhost:8080/",
          "height": 105
        },
        "outputId": "0a4e80c1-4db3-407a-e3c9-4eb77416a6c9"
      },
      "source": [
        "from sklearn.metrics import precision_recall_fscore_support as score\n",
        "precision, recall, fscore, support = score(y_test, y_pred)\n",
        "\n",
        "print('precision: {}'.format(precision))\n",
        "print('recall: {}'.format(recall))"
      ],
      "execution_count": 10,
      "outputs": [
        {
          "output_type": "stream",
          "text": [
            "precision: [0.   0.   0.38 0.   0.   0.  ]\n",
            "recall: [0. 0. 1. 0. 0. 0.]\n"
          ],
          "name": "stdout"
        },
        {
          "output_type": "stream",
          "text": [
            "/usr/local/lib/python3.6/dist-packages/sklearn/metrics/classification.py:1437: UndefinedMetricWarning: Precision and F-score are ill-defined and being set to 0.0 in labels with no predicted samples.\n",
            "  'precision', 'predicted', average, warn_for)\n"
          ],
          "name": "stderr"
        }
      ]
    },
    {
      "cell_type": "markdown",
      "metadata": {
        "id": "qWjMiS_Az-yH",
        "colab_type": "text"
      },
      "source": [
        "##Web Scraping - Beautiful Soup"
      ]
    },
    {
      "cell_type": "code",
      "metadata": {
        "id": "0mfdO48_ylNE",
        "colab_type": "code",
        "colab": {
          "base_uri": "https://localhost:8080/",
          "height": 34
        },
        "outputId": "6d56849a-3c57-40a4-fe47-aaf0c804a070"
      },
      "source": [
        "!pip install beautifulsoup4\n",
        "from bs4 import BeautifulSoup"
      ],
      "execution_count": 11,
      "outputs": [
        {
          "output_type": "stream",
          "text": [
            "Requirement already satisfied: beautifulsoup4 in /usr/local/lib/python3.6/dist-packages (4.6.3)\n"
          ],
          "name": "stdout"
        }
      ]
    },
    {
      "cell_type": "code",
      "metadata": {
        "id": "lTCRF3sM08FJ",
        "colab_type": "code",
        "colab": {}
      },
      "source": [
        "news = \"https://www.news18.com/news/world/un-chief-urges-india-pak-to-exercise-maximum-restraint-on-kashmir-invokes-shimla-agreement-2263887.html\""
      ],
      "execution_count": 0,
      "outputs": []
    },
    {
      "cell_type": "code",
      "metadata": {
        "id": "bjDBoUX91JTf",
        "colab_type": "code",
        "colab": {}
      },
      "source": [
        "import urllib.request"
      ],
      "execution_count": 0,
      "outputs": []
    },
    {
      "cell_type": "code",
      "metadata": {
        "id": "lrNsXs0N1NCP",
        "colab_type": "code",
        "colab": {}
      },
      "source": [
        "request = urllib.request.Request(news)"
      ],
      "execution_count": 0,
      "outputs": []
    },
    {
      "cell_type": "code",
      "metadata": {
        "id": "YG3y22xh1hA0",
        "colab_type": "code",
        "colab": {}
      },
      "source": [
        "response = urllib.request.urlopen(request)"
      ],
      "execution_count": 0,
      "outputs": []
    },
    {
      "cell_type": "code",
      "metadata": {
        "id": "0AkeOygc1qVV",
        "colab_type": "code",
        "colab": {}
      },
      "source": [
        "content = response.read()"
      ],
      "execution_count": 0,
      "outputs": []
    },
    {
      "cell_type": "code",
      "metadata": {
        "id": "hQLnKmLR1yJE",
        "colab_type": "code",
        "colab": {
          "base_uri": "https://localhost:8080/",
          "height": 54
        },
        "outputId": "e1f680d8-2700-4055-e2c3-86e5894e6832"
      },
      "source": [
        "content"
      ],
      "execution_count": 17,
      "outputs": [
        {
          "output_type": "execute_result",
          "data": {
            "text/plain": [
              "b'<!doctype html>\\r\\n<html><head><meta charset=\"utf-8\"><link href=\\'https://fonts.googleapis.com/css?family=Roboto:400,300italic,400italic,500,700\\' rel=\\'stylesheet\\' type=\\'text/css\\'><title>UN Chief Urges India, Pak to Exercise \\'Maximum Restraint\\' on Kashmir, Invokes Simla Agreement - News18</title><meta name=\"description\" content=\"The Secretary General Antonio Guterres did not offer his good offices nor did he make any offer to mediate between India and Pakistan on Kashmir.\" /><meta  name=\"keywords\" content=\"Antonio Guterres, Article 370 revoked, J&amp;amp;K, jammu and kashmir, kashmir tensions, pakistan, shimla agreement, un, United nations\" /><meta name=\"news_keywords\" content=\"Antonio Guterres, Article 370 revoked, J&amp;amp;K, jammu and kashmir, kashmir tensions, pakistan, shimla agreement, un, United nations\">\\r\\n<meta name=\"msapplication-starturl\" content=\"https://www.news18.com/news/world/un-chief-urges-india-pak-to-exercise-maximum-restraint-on-kashmir-invokes-shimla-agreement-2263887.html?utm_source=ie9&utm_medium=web&utm_campaign=pinned-ie9\"/><meta name=\"atdlayout\" content=\"articlepage\" /><link rel=\"image_src\" href=\"https://images.news18.com/ibnlive/uploads/2019/03/India-Pakistan-flags.jpg\" /><meta property=\"fb:app_id\" content=\"283567585004547\" /><meta property=\"og:type\"   content=\"article\" /><meta property=\"og:title\" content=\"UN Chief Urges India, Pak to Exercise \\'Maximum Restraint\\' on Kashmir, Invokes Simla Agreement\" /><meta property=\"og:url\" content=\"https://www.news18.com/news/world/un-chief-urges-india-pak-to-exercise-maximum-restraint-on-kashmir-invokes-shimla-agreement-2263887.html\" /><meta property=\"og:site_name\" content=\"News18\"/><meta property=\"og:description\" content=\"The Secretary General Antonio Guterres did not offer his good offices nor did he make any offer to mediate between India and Pakistan on Kashmir.\" /><meta id=\"ibn:title\" content=\"UN Chief Urges India, Pak to Exercise \\'Maximum Restraint\\' on Kashmir, Invokes Simla Agreement\"/><meta id=\"ibn:image\" content=\"https://images.news18.com/ibnlive/uploads/2019/03/India-Pakistan-flags.jpg\"/><meta id=\"ibn:cid\" content=\"2263887\"/><meta id=\"ibn:link\" content=\"https://www.news18.com/news/world/un-chief-urges-india-pak-to-exercise-maximum-restraint-on-kashmir-invokes-shimla-agreement-2263887.html\"/><meta id=\"ibn:description\" content=\"The Secretary General Antonio Guterres did not offer his good offices nor did he make any offer to mediate between India and Pakistan on Kashmir.\"/><meta name=\"subsection\" content=\"India News\"/><meta itemprop=\"name\" content=\"UN Chief Urges India, Pak to Exercise \\'Maximum Restraint\\' on Kashmir, Invokes Simla Agreement\"><meta itemprop=\"description\" content=\"The Secretary General Antonio Guterres did not offer his good offices nor did he make any offer to mediate between India and Pakistan on Kashmir.\"><meta itemprop=\"image\" content=\"https://images.news18.com/ibnlive/uploads/2019/03/India-Pakistan-flags.jpg\"><meta itemprop=\"publisher\" content=\"News18\"/><meta itemprop=\"url\" content=\"https://www.news18.com/news/world/un-chief-urges-india-pak-to-exercise-maximum-restraint-on-kashmir-invokes-shimla-agreement-2263887.html\"/><meta itemprop=\"headline\" content=\"UN Chief Urges India, Pak to Exercise \\'Maximum Restraint\\' on Kashmir, Invokes Simla Agreement\"/><meta itemprop=\"inLanguage\" content=\"English\"/><meta itemprop=\"articleSection\" content=\"India\"/><meta name=\"tweetmeme-title\" content=\"UN Chief Urges India, Pak to Exercise \\'Maximum Restraint\\' on Kashmir, Invokes Simla Agreement\"/><meta property=\"og:image\" content=\"https://images.news18.com/ibnlive/uploads/2019/03/India-Pakistan-flags.jpg\" /><meta property=\"fb:admins\" content=\"503334673\"/><meta property=\"fb:pages\" content=\"31867849201\" /><meta property=\"fb:page_id\" content=\"31867849201\"/><meta name=\"twitter:card\" content=\"summary_large_image\" /><meta name=\"twitter:site\" content=\"@cnnnews18\" /><meta name=\"twitter:title\" content=\"UN Chief Urges India, Pak to Exercise \\'Maximum Restraint\\' on Kashmir, Invokes Simla Agreement\" /><meta name=\"twitter:description\" content=\"The Secretary General Antonio Guterres did not offer his good offices nor did he make any offer to mediate between India and Pakistan on Kashmir.\" /><meta name=\"twitter:image\" content=\"https://images.news18.com/ibnlive/uploads/2019/03/India-Pakistan-flags.jpg\" /><meta property=\"article:modified_time\" content=\"2019-08-09T08:24:08+05:30\" /><meta property=\"og:updated_time\" content=\"2019-08-09T08:24:08+05:30\" /><meta http-equiv=\"Last-Modified\" content=\"2019-08-09T08:24:08+05:30\"/><link rel=\"canonical\" href=\"https://www.news18.com/news/world/un-chief-urges-india-pak-to-exercise-maximum-restraint-on-kashmir-invokes-shimla-agreement-2263887.html\" /><meta name=\\'dailymotion-domain-verification\\' content=\\'dmjw7mzp9scpuuwjf\\' />\\r\\n\\r\\n<!---Restrict AMP creation for News18 English before October 1, 2016-------->\\r\\n<link rel=\"amphtml\" href=\"https://www.news18.com/amp/news/world/un-chief-urges-india-pak-to-exercise-maximum-restraint-on-kashmir-invokes-shimla-agreement-2263887.html\"><!---Restrict AMP creation for News18 English before October 1, 2016-------->\\r\\n\\r\\n\\r\\n<script type=\"application/ld+json\">{ \"@context\": \"https://schema.org\",\"@type\": \"WebPage\",\"name\": \"UN Chief Urges India, Pak to Exercise \\'Maximum Restraint\\' on Kashmir, Invokes Simla Agreement\",\"description\": \"The Secretary General Antonio Guterres did not offer his good offices nor did he make any offer to mediate between India and Pakistan on Kashmir.\",\"keywords\":\"Antonio Guterres, Article 370 revoked, J&amp;amp;K, jammu and kashmir, kashmir tensions, pakistan, shimla agreement, un, United nations\",\"url\" : \"https://www.news18.com/news/world/un-chief-urges-india-pak-to-exercise-maximum-restraint-on-kashmir-invokes-shimla-agreement-2263887.html\"}</script><script type=\"application/ld+json\">{\"@context\": \"https://schema.org\",\"@type\": \"NewsArticle\",\"mainEntityOfPage\":{\"@type\":\"WebPage\",\"@id\":\"https://www.news18.com/news/world/un-chief-urges-india-pak-to-exercise-maximum-restraint-on-kashmir-invokes-shimla-agreement-2263887.html\",\"description\": \"The Secretary General Antonio Guterres did not offer his good offices nor did he make any offer to mediate between India and Pakistan on Kashmir.\",\"thumbnailUrl\": \"https://images.news18.com/ibnlive/uploads/2019/03/India-Pakistan-flags.jpg\"},\"headline\": \"UN Chief Urges India, Pak to Exercise \\'Maximum Restraint\\' on Kashmir, Invokes Simla Agreement\",\"articleBody\":\"United Nations: UN chief Antonio Guterres on Thursday urged India and Pakistan to exercise &quot;maximum restraint&quot; and refrain from taking steps that could affect the status of Jammu and Kashmir, as he highlighted the Simla Agreement which rejects any third-party mediation on the issue.   The Secretary-General&#039;s remarks came after India on Monday revoked Article 370 to withdraw the special status to Jammu and Kashmir and bifurcated the state into two Union Territories - Jammu and Kashmir and Ladakh.  Pakistan termed the Indian action as &quot;unilateral and illegal&quot;, and said it will take the matter to the UN Security Council.  &quot;The Secretary-General has been following the situation in Jammu and Kashmir with concern and makes an appeal for maximum restraint,&quot; Guterres&#039; spokesman Stephane Dujarric said here.  Dujarric specifically said that the Secretary-General &quot;also recalls the 1972 Agreement on bilateral relations between India and Pakistan, also known as the Simla Agreement, which states that the final status of Jammu and Kashmir is to be settled by peaceful means&quot; in accordance with the Charter of the United Nations.  The Secretary General did not offer his good offices nor did he make any offer to mediate between India and Pakistan on Kashmir. Instead, he referred to the Simla Agreement, which is a bilateral agreement between India and Pakistan and rejects any third-party mediation in the issue.  Guterres also called &quot;on all parties to refrain from taking steps&quot; that could affect the status of Jammu and Kashmir. He said the position of the United Nations on the region was governed by the Charter of the United Nations and is applicable to Security Council resolutions.  When asked to be more specific about reference to the UNSC resolutions on Kashmir in the statement, Dujarric said &quot;I&#039;m not going to go into any more specifics of the statement which also refers to our concern&quot; about reports of restrictions in Kashmir in India. &quot;So I&#039;ll refer you to the statement,&quot; he said.  Dujarric reiterated that Guterres and the UN Secretariat were following the situation &quot;very closely&quot;.  He said there had been contacts from the UN Secretariat both with the Indian and Pakistani authorities and with the Permanent Missions of India and Pakistan. He said there is no plan for the Secretary-General to brief the Security Council on Kashmir.  Reacting to India&#039;s move, Pakistan expelled the Indian envoy and downgraded its diplomatic ties with New Delhi.  India has said that Jammu and Kashmir is an integral part of India and the issue was strictly internal to the country.  (With PTI inputs)\",\"articleSection\": \"India\",\"image\": {\"@type\": \"ImageObject\",\"url\": \"https://images.news18.com/ibnlive/uploads/2019/03/India-Pakistan-flags.jpg\",\"height\": 522,\"width\": 696}, \"datePublished\": \"2019-08-09T08:24:08+05:30\",\"dateModified\": \"2019-08-09T08:24:08+05:30\",\"author\": {\"@type\": \"Person\",\"name\": \"News18.com\"},\"publisher\": {\"@type\": \"Organization\",\"name\": \"News18\",\"logo\": {\"@type\": \"ImageObject\",\"url\": \"https://www.news18.com/images/Logo.png\",\"width\": 154,\"height\": 40}},\"description\": \"The Secretary General Antonio Guterres did not offer his good offices nor did he make any offer to mediate between India and Pakistan on Kashmir.\",\"keywords\":\"Antonio Guterres, Article 370 revoked, J&amp;amp;K, jammu and kashmir, kashmir tensions, pakistan, shimla agreement, un, United nations\"}</script><script type=\"application/ld+json\">{\"@context\": \"https://schema.org\",\"@type\": \"ImageObject\", \"author\": \"News18.com\",\"contentUrl\": \"https://images.news18.com/ibnlive/uploads/2019/03/India-Pakistan-flags.jpg\",\"datePublished\": \"2019-08-09T08:24:08+05:30\",\"description\": \"The Secretary General Antonio Guterres did not offer his good offices nor did he make any offer to mediate between India and Pakistan on Kashmir.\",\"name\": \"UN Chief Urges India, Pak to Exercise \\'Maximum Restraint\\' on Kashmir, Invokes Simla Agreement\"}</script>\\t\\t<!--arjun function start-->\\r\\n\\t<script>\\r\\n\\t\\r\\n\\t function _w18gcon (wg) {\\tvar i, x, y, cl = document.cookie.split(\";\");\\tvar out = {};\\tvar c = 0;\\tfor (i = 0; i < cl.length; i++) {\\t\\tx = cl[i].substr(0, cl[i].indexOf(\"=\"));\\ty = cl[i].substr(cl[i].indexOf(\"=\") + 1);\\tx = x.replace(/^\\\\s+|\\\\s+$/g, \"\");\\t\\tif (x == \"nnmc\") {\\t\\tout.nnmc = unescape(y);\\t\\tc = c + 1\\t} else if (x == \"_w18g\") {\\tout._w18g = unescape(y); c = c + 1\\t} else if (x == \"_w18s\") {\\t\\tout._w18s = unescape(y);\\tc = c + 1\\t}\\tif (c == 3) {\\t\\treturn out\\t\\t}\\t}\\treturn out\\t}\\t\\r\\n\\t \\r\\n\\t function hitGaview(){\\r\\n\\t\\t (function(i,s,o,g,r,a,m){i[\\'GoogleAnalyticsObject\\']=r;i[r]=i[r]||function(){\\t  (i[r].q=i[r].q||[]).push(arguments)},i[r].l=1*new Date();a=s.createElement(o),\\t  m=s.getElementsByTagName(o)[0];a.async=1;a.src=g;m.parentNode.insertBefore(a,m)\\t  })(window,document,\\'script\\',\\'https://www.google-analytics.com/analytics.js\\',\\'ga\\');\\tga(\\'provide\\', \\'adblockTracker\\', function(tracker, opts) {\\tvar ad = document.createElement(\\'ins\\');\\tad.className = \\'AdSense\\';\\tad.style.display = \\'block\\';\\t\\tad.style.position = \\'absolute\\';\\tad.style.top = \\'-1px\\';\\t\\tad.style.height = \\'1px\\';\\tdocument.body.appendChild(ad);\\t\\ttracker.set(\\'dimension\\' + opts.dimensionIndex, !ad.clientHeight);\\tdocument.body.removeChild(ad);\\t});\\tga(\\'create\\', \\'UA-156703-3\\', \\'auto\\');\\tga(\\'require\\', \\'adblockTracker\\', {dimensionIndex: 2});\\t\\r\\n\\t\\t\\r\\n\\t\\t//Arjun code\\r\\n\\t\\tvar _w18_uni_id = _w18gcon(\\'_w18g\\');  \\r\\n\\t\\t\\t\\r\\n\\t\\t\\t\\t\\tga(\\'set\\', \\'dimension5\\', \\'{\"_w18g\":\"\\'+_w18_uni_id._w18g+\\'\",\"sections\":\"India\",\"language\":\"english\",\"data\":{\"post_type\":\"news\",\"attributes\":[{\"c1\":\"India\"},{\"c1\":\"World\"}],\"post_id\":\"2263887\",\"object_type\":\"news and media\"}}\\');\\r\\n\\t\\t\\t\\tga(\\'set\\',\\'dimension7\\',\\'News18.com | unassigned | News18 English\\');\\r\\n\\t\\tga(\\'send\\', \\'pageview\\', {\\'dimension1\\':\\'\\'});  \\r\\n\\t\\r\\n\\t}\\r\\n\\t\\r\\n\\thitGaview();\\r\\n\\t\\r\\n\\tvar _comscore;  function hitComscore(){  \\t  _comscore = _comscore || [];\\t  _comscore.push({ c1: \"2\", c2: \"6683813\" });\\t  (function() {\\t\\tvar s = document.createElement(\"script\"), el = document.getElementsByTagName(\"script\")[0]; s.async = true;\\t\\ts.src = (document.location.protocol == \"https:\" ? \"https://sb\" : \"http://b\") + \".scorecardresearch.com/beacon.js\";\\tel.parentNode.insertBefore(s, el);  })();}\\r\\n\\t\\r\\n\\thitComscore();\\r\\n\\t</script>\\r\\n\\t<noscript><img src=\"https://sb.scorecardresearch.com/p?c1=2&c2=6683813&cv=2.0&cj=1\" /></noscript>\\r\\n\\t\\r\\n\\t<script>  (function() { window._w18hn = \"News18\";var w18 = document.createElement(\\'script\\'); w18.type = \\'text/javascript\\'; w18.async = true; w18.src = \\'https://s.in.com/common/script_catch.js\\';var s = document.getElementsByTagName(\\'script\\')[0]; s.parentNode.insertBefore(w18, s);})();</script>\\r\\n\\t\\r\\n\\t\\t\\r\\n\\t<link rel=\"stylesheet\" href=\"https://images.news18.com/ibnlive/uploads/assets//js/news18/css/news18-style-minified-new-https.css\" /><link rel=\"stylesheet\" href=\"https://images.news18.com/ibnlive/uploads/assets/js/news18/css/responsive.css\" /><script type=\"text/javascript\" src=\"https://images.news18.com/ibnlive/uploads/assets/js/news18/js/jquery-1.11.3.min.js\"></script><script type=\"text/javascript\" src=\"https://images.news18.com/ibnlive/uploads/assets/js/news18/js/jquery.bxslider.js\"></script><meta name=\"viewport\" content=\"width=1024\"/> <meta name=\"viewport\" content=\"width=device-width, initial-scale=1.0\"><link rel=\"icon\" href=\"https://images.news18.com/static_news18/pix/ibnhome/news18/favicon.ico\" /><link href=\"//b.scorecardresearch.com\" rel=\"dns-prefetch\"><link href=\"//b.scorecardresearch.com\" rel=\"preconnect\"><link href=\"//securepubads.g.doubleclick.net\" rel=\"dns-prefetch\" /><link href=\"https://securepubads.g.doubleclick.net\" rel=\"preconnect\" /><link href=\"//pubads.g.doubleclick.net\" rel=\"dns-prefetch\" /><link href=\"//pubads.g.doubleclick.net\" rel=\"preconnect\" /><link href=\"//www.google-analytics.com\" rel=\"dns-prefetch\" /><link href=\"//www.google-analytics.com\" rel=\"preconnect\" /><link href=\"//www.googletagservices.com\" rel=\"dns-prefetch\" /><link href=\"//tpc.googlesyndication.com\" rel=\"dns-prefetch\" /><link href=\"https://fonts.gstatic.com\" rel=\"preconnect\"><link href=\"https://fonts.gstatic.com\" rel=\"dns-prefetch\"><link href=\"//www.news18.com\" rel=\"dns-prefetch\" /><link href=\"//www.news18.com\" rel=\"preconnect\" /><link rel=\"dns-prefetch\" href=\"//www.google-analytics.com\"> <link rel=\"dns-prefetch\" href=\"//fonts.googleapis.com\"> <link rel=\"dns-prefetch\" href=\"//ajax.googleapis.com\"> <link rel=\"dns-prefetch\" href=\"//www.google.com\"><link rel=\"dns-prefetch\" href=\"//googleads.g.doubleclick.net\"> <link rel=\"dns-prefetch\" href=\"//sb.scorecardresearch.com\"> <link rel=\"dns-prefetch\" href=\"//pagead2.googlesyndication.com\"> <link rel=\"dns-prefetch\" href=\"//www.googletagmanager.com\"><link rel=\"dns-prefetch\" href=\"//tt.onthe.io\"> <link rel=\"dns-prefetch\" href=\"//s.in.com\"><link rel=\"dns-prefetch\" href=\"//api.accuweather.com\"> <link rel=\"dns-prefetch\" href=\"//static.criteo.net\"><link rel=\"dns-prefetch\" href=\"//ecdn.firstimpression.io\" /><link rel=\"dns-prefetch\" href=\"//cse.google.com/\" /><link rel=\"dns-prefetch\" href=\"//connect.facebook.net/\" /><link rel=\"dns-prefetch\" href=\"//www.googleadservices.com/\" /><link rel=\"dns-prefetch\" href=\"//fonts.gstatic.com\" /><link rel=\"dns-prefetch\" href=\"//adservice.google.co.in\" /><script  async src=\"//player.h-cdn.com/loader.js?customer=network18\"></script><meta name=\\'dailymotion-domain-verification\\' content=\\'dm0njrxcv1osfkah2\\' /><!-- Google Tag Manager -->\\r\\n<script>(function(w,d,s,l,i){w[l]=w[l]||[];w[l].push({\\'gtm.start\\':\\r\\nnew Date().getTime(),event:\\'gtm.js\\'});var f=d.getElementsByTagName(s)[0],\\r\\nj=d.createElement(s),dl=l!=\\'dataLayer\\'?\\'&l=\\'+l:\\'\\';j.async=true;j.src=\\r\\n\\'https://www.googletagmanager.com/gtm.js?id=\\'+i+dl;f.parentNode.insertBefore(j,f);\\r\\n})(window,document,\\'script\\',\\'dataLayer\\',\\'GTM-PBM75F9\\');</script><!-- End Google Tag Manager --><script>$(document).ready(function(){winW=$(window).width(),$(\".nav_bar\").click(function(){$(this).toggleClass(\"open\"),$(\".navigation_responsive\").hasClass(\"slidenav\")?($(\".navigation_responsive\").removeClass(\"slidenav\"),$(\".navigation_responsive\").animate({left:\"-220\"},400),$(\".navwrap ul li span\").removeClass(\"showmenu\"),$(\".navwrap ul li ul\").hide()):($(\".navigation_responsive\").addClass(\"slidenav\"),$(\".navigation_responsive\").animate({left:\"0\"},400))}),$(\".sroll-hide\").hide(),$(window).width()>=1024&&$(window).scroll(function(){$(window).scrollTop()>=157?($(\"nav\").addClass(\"fixed-header\"),$(\".sroll-hide\").fadeIn(\"1000\")):$(window).scrollTop()<157&&($(\"nav\").removeClass(\"fixed-header\"),$(\".sroll-hide\").fadeOut(\"1000\"))})});</script><script type=\\'text/javascript\\'> var crtg_nid = \\'6347\\';var crtg_cookiename = \\'crtg_rta\\';var crtg_varname = \\'crtg_content\\';function crtg_getCookie(c_name){ var i,x,y,ARRCookies=document.cookie.split(\";\");for(i=0;i<ARRCookies.length;i++){x=ARRCookies[i].substr(0,ARRCookies[i].indexOf(\"=\"));y=ARRCookies[i].substr(ARRCookies[i].indexOf(\"=\")+1);x=x.replace(/^\\\\s+|\\\\s+$/g,\"\");if(x==c_name){return unescape(y);} }return\\'\\';}var crtg_content = crtg_getCookie(crtg_cookiename);var crtg_rnd=Math.floor(Math.random()*99999999999);(function(){\\tvar crtg_url=location.protocol+\\'//rtax.criteo.com/delivery/rta/rta.js?netId=\\'+escape(crtg_nid);crtg_url +=\\'&cookieName=\\'+escape(crtg_cookiename);crtg_url +=\\'&rnd=\\'+crtg_rnd;crtg_url +=\\'&varName=\\' + escape(crtg_varname);var crtg_script=document.createElement(\\'script\\');crtg_script.type=\\'text/javascript\\';crtg_script.src=crtg_url;crtg_script.async=true;if(document.getElementsByTagName(\"head\").length>0)document.getElementsByTagName(\"head\")[0].appendChild(crtg_script);else if(document.getElementsByTagName(\"body\").length>0)document.getElementsByTagName(\"body\")[0].appendChild(crtg_script);})();</script><script type=\\'text/javascript\\'>\\tvar googletag=googletag||{};googletag.cmd=googletag.cmd||[],googletag.cmd.push(function(){for(var g=(crtg_content||\"\").split(\";\"),o={},t=1;t<g.length;t++){var a=g[t-1].split(\"=\")[0],e=g[t-1].split(\"=\")[1];o[a]=o[a]||[],o[a].push(\"\"+e)}for(var t in o)o.hasOwnProperty(t)&&googletag.pubads().setTargeting(\"\"+t,\"\"+o[t])});</script><script data-cfasync=\"false\" type=\"text/javascript\">(function(w, d) { var s = d.createElement(\\'script\\'); s.src = \\'//delivery.adrecover.com/17519/adRecover.js\\'; s.type = \\'text/javascript\\'; s.async = true; (d.getElementsByTagName(\\'head\\')[0] || d.getElementsByTagName(\\'body\\')[0]).appendChild(s); })(window, document);</script><!-- Facebook Pixel Code -->\\r\\n<script>!function(f,b,e,v,n,t,s){if(f.fbq)return;n=f.fbq=function(){n.callMethod?n.callMethod.apply(n,arguments):n.queue.push(arguments)};if(!f._fbq)f._fbq=n;n.push=n;n.loaded=!0;n.version=\\'2.0\\';n.queue=[];t=b.createElement(e);t.async=!0;t.src=v;s=b.getElementsByTagName(e)[0];s.parentNode.insertBefore(t,s)}(window,document,\\'script\\',\\'https://connect.facebook.net/en_US/fbevents.js\\');fbq(\\'init\\', \\'482038382136514\\');fbq(\\'track\\', \\'PageView\\');</script><!-- End Facebook Pixel Code --><!--BEGIN FIRSTIMPRESSION TAG \\r\\n<script data-cfasync=\\'false\\' type=\\'text/javascript\\'>\\r\\n\\twindow.apd_options = { \\'websiteId\\': 5895, \\'runFromFrame\\': false };\\r\\n\\t(function() {\\r\\n\\t\\tvar w = window.apd_options.runFromFrame ? window.top : window;\\r\\n\\t\\tif(window.apd_options.runFromFrame && w!=window.parent) w=window.parent;\\r\\n\\t\\tif (w.location.hash.indexOf(\\'apdAdmin\\') != -1){if(typeof(Storage) !== \\'undefined\\') {w.localStorage.apdAdmin = 1;}}\\r\\n\\t\\tvar adminMode = ((typeof(Storage) == \\'undefined\\') || (w.localStorage.apdAdmin == 1));\\r\\n\\t\\tw.apd_options=window.apd_options;\\r\\n\\t\\tvar apd = w.document.createElement(\\'script\\'); apd.type = \\'text/javascript\\'; apd.async = true;\\r\\n\\t\\tapd.src = \\'//\\' + (adminMode ? \\'cdn\\' : \\'ecdn\\') + \\'.firstimpression.io/\\' + (adminMode ? \\'fi.js?id=\\' + window.apd_options.websiteId : \\'fi_client.js\\') ;\\r\\n\\t\\tvar s = w.document.getElementsByTagName(\\'head\\')[0]; s.appendChild(apd);\\r\\n\\t})();</script>\\r\\n<!-- END FIRSTIMPRESSION TAG -->\\r\\n<script>\\r\\nvar googletag = googletag || {};\\r\\ngoogletag.cmd = googletag.cmd || [];\\r\\n</script>\\r\\n<!-- script for onthe IO-->\\r\\n<script async src=\"https://cdn.onthe.io/io.js/EpyJYkkJnF4O\"></script><script type=\"text/javascript\">\\tvar googletag = googletag || {};\\r\\n\\t\\t\\t\\tgoogletag.cmd = googletag.cmd || [];\\r\\n\\t\\t\\t\\tgoogletag.cmd.push(function() {\\r\\n\\t    \\t\\t\\r\\n\\t\\t\\t});googletag.cmd = googletag.cmd || [];\\t(function() {\\tvar gads = document.createElement(\"script\");\\tgads.async = true;\\t\\t\\t\\t\\tgads.type = \"text/javascript\";\\t\\tvar useSSL = \"https:\" == document.location.protocol;\\tgads.src = (useSSL ? \"https:\" : \"http:\") + \"//securepubads.g.doubleclick.net/tag/js/gpt.js\";\\tvar node = document.getElementsByTagName(\"script\")[0];\\t\\t\\t\\t\\tnode.parentNode.insertBefore(gads, node);\\t})();\\t</script><!-- xarg start code, updated on 13th Feb on 3:28PM --><script type=\"text/javascript\">(function(){var e=this;var t=this.document;function n(e,n,o,i){var a=new Date;a.setTime((new Date).getTime()+(o||1)*24*60*60*1e3);t.cookie=e+\"=\"+encodeURIComponent(n)+\";expires=\"+a.toGMTString()+\";path=\"+(i||\"/\")}function o(e){var n=\"; \"+t.cookie;var o=n.split(\"; \"+e+\"=\");if(o.length==2){return o.pop().split(\";\").shift()}}try{e[\"GoogleAnalyticsObject\"]=\"ga\";e[\"ga\"]=e[\"ga\"]||function(){(e[\"ga\"].q=e[\"ga\"].q||[]).push(arguments)};var i=o(\"ocp_news\");ga(\"set\",\"dimension2\",!(!i||i===\"0\"))}catch(e){}function a(t,o){var i=r();if(t){n(\"ocp_news\",i)}else{n(\"ocp_news\",\"0\")}o=o||\"adblocker\";var a=e.ga||e[e.GoogleAnalyticsObject];if(!a||!a.getByName||a.getByName===null){n(\"ocp_news_gid\",r())}else{n(\"ocp_news_gid\",\"0\");var c=a.getAll()[0];try{c.send(\"event\",{dimension2:t,eventCategory:o,eventAction:o,eventLabel:o,eventValue:t,nonInteraction:1})}catch(e){n(\"ocp_news_gid\",r())}}}function r(){return\"xxxxxxxx-xxxx-4xxx-yxxx-xxxxxxxxxxxx\".replace(/[xy]/g,function(e){var t=Math.random()*16|0,n=e==\"x\"?t:t&3|8;return n.toString(16)})}var c=false;function l(n){if(c){return}c=true;var o=t.querySelectorAll(\"[id^=\\'div-gpt-ad-\\' i],[id^=\\'News18/\\' i],[id^=\\'News18_Wap_1/\\' i],[id^=\\'News18_Wap/\\' i],[id^=\\'CricketNext_Wap_1/\\' i]\");if(o.length){for(var i=0;i<o.length;++i){var r=o[i];var l=e.getComputedStyle(r,null);if(l.getPropertyValue(\"display\")===\"none\"){continue}var s=r.querySelector(\"div\");if(!s){var g=r.querySelector(\"iframe\");if(g){var u=g.contentDocument||g.contentWindow.document;var d=u.bodyC.querySelector(\"div,ins\");if(u.body.clientHeight>=10&&d&&d.clientHeight>=10){break}else{continue}}}if(s){var x=e.getComputedStyle(s,null).getPropertyValue(\"height\");x=+x.replace(/[^\\\\d\\\\.]/g,\"\");if(x>=10){break}}}if(i===o.length){a(1);(new Image).src=\"http://www.aapsis.com/pc.gif?idsite=21&rec=1\";console.log(\"adblock\")}else{a(0);console.log(\"non-adblock\")}}else{a(0);console.log(\"non-adblock\")}}function s(){setTimeout(l,1e4)}e.addEventListener(\"load\",s);if(t.readyState===\"interactive\"||t.readyState===\"complete\"){s()}})();</script><!-- xarg end code --><script> \\r\\n\\t\\t\\t// arjun ppid passing in dfp, added on 6th sep 2018\\r\\n\\t\\t\\tgoogletag.cmd.push(function(){ \\r\\n\\t\\t\\t\\tvar _w18_pp_uni_id = _w18gcon(\\'_w18g\\');\\t\\t \\r\\n\\t\\t\\t\\tif(_w18_pp_uni_id.hasOwnProperty(\\'_w18g\\')){\\t\\t\\r\\n\\t\\t\\t\\t\\t_w18_pp_uni_id= _w18_pp_uni_id._w18g;\\t\\t\\r\\n\\t\\t\\t\\t\\tgoogletag.pubads().setPublisherProvidedId(_w18_pp_uni_id);\\r\\n\\t\\t\\t\\t\\tconsole.log(\"new ad id complete done:\"+_w18_pp_uni_id);\\r\\n\\t\\t\\t\\t};\\r\\n\\t\\t\\t});\\r\\n\\t\\twindow._w18_config={\"uid\":20831,\"domain\":\"news18.com\",\"autono\":\"2263887\",\"sections\":\"news,world,india\",\"tags\":\"Antonio Guterres,Article 370 revoked,J&amp;K,jammu and kashmir,kashmir tensions,pakistan,shimla agreement,un,United nations\",\"byline\":\"\",\"language\":\"english\",\"data\":{\"post_type\":\"news\",\"attributes\":[{\"c1\":\"India\"},{\"c1\":\"World\"}],\"post_id\":\"2263887\",\"object_type\":\"news and media\"}};\\r\\n\\t\\t\\r\\n\\t\\t</script>\\r\\n\\t\\t\\t\\t\\t\\t\\t\\t<script type=\\'text/javascript\\'>\\r\\n\\t\\t\\t\\t\\tfunction _w18setuserbehaviour(){\\r\\n\\t\\t\\t\\t\\t\\tvar e,s,r,i=document.cookie.split(\";\"),n={},o=0;\\r\\n\\t\\t\\t\\t\\t\\tfor(e=0 ; e<i.length && ( s = i[e].substr(0, i[e].indexOf(\"=\") ), r = i[e].substr(i[e].indexOf(\"=\")+1), s=s.replace(/^\\\\s+|\\\\s+$/g,\"\"),\"_w18userinfo\"==s&&(n._w18userinfo=unescape(r),o+=1),1!=o) ; e++ );if(1==o){var u=JSON.parse(n._w18userinfo);for(var a in u)googletag.pubads().setTargeting(a,u[a])}}var adsId728x90 = \\'\\';var adsId1242x600 = \\'\\';var adsId300x250_1 = \\'\\';var adsId300x250_2 =\\'\\';var adsId300x250_3 =\\'\\';var adsId300x600_1 = \\'\\';var adsId300x600_2 = \\'\\';var adsId728x90_Footer =\\'\\';var ads1x1_Special_ros=\\'\\';var ads1245x60_ros=\\'\\';var ads920x130_ros=\\'\\';var wapAdsId300x250 =\\'\\';var wapAdsId300x250_2 =\\'\\';var wapAdsId300x250_ROS =\\'\\';var wapAdsidoop1x1 =\\'\\';var adsId1x1_ros = \\'\\';var wapAdsidSticky320x50=\\'\\';var wapAdsid320x50_1 =\\'\\';var wapAdsINTERSTITIAL = \\'\\';var wapAdsnative320x340 =\\'\\';var adsId1x1hovver = \\'\\';var adsId875x35=\\'\\';var adsId1x1special=\\'\\';var wapAds320x285_Native=\\'\\';var wapAds3D_Banner=\\'\\';var wapAds300x100 = \\'\\';var adsId148x33=\\'\\';var adsId728x90_inarticle=\\'\\';var adsId728x90_inarticle_2=\\'\\';var adsId_internal_interstitial=\\'\\';var wapadros320x50=\\'\\';var budget_ros_78x30_1=\\'\\';var budget_ros_78x30_2=\\'\\';var budget_ros_78x30_3=\\'\\';var budget_ros_78x30_4=\\'\\';var budget_ros_78x30_5=\\'\\';var adsId728x90_ROS = \\'\\';var adsIdnative_ROS = \\'\\';var adsId300x50_ROS = \\'\\';var adsIdRos_300x50 = \\'\\';var adsid2x2ros=\\'\\';if(navigator.userAgent.match(/iPad|iPod/i)){googletag.cmd.push(function() {\\r\\n\\t\\t\\t\\t\\t\\t\\tgoogletag.pubads().enableSingleRequest();\\t\\t\\tgoogletag.pubads().collapseEmptyDivs(true); googletag.pubads().setTargeting(\\'article_id\\',\\'2263887\\');googletag.pubads().setTargeting(\\'section_name\\',\\'India\\');googletag.pubads().setTargeting(\\'meta_keywords\\', [\\'Antonio\\', \\'Guterres\\', \\'Article\\', \\'370\\', \\'revoked\\', \\'J&amp;K\\', \\'jammu\\', \\'kashmir\\', \\'tensions\\', \\'pakistan\\', \\'shimla\\', \\'agreement\\', \\'un\\', \\'United\\', \\'nations\\' ]);googletag.pubads().setTargeting(\\'title_name\\', [\\'UN\\', \\'Chief\\', \\'Urges\\', \\'India\\', \\'Pak\\', \\'to\\', \\'Exercise\\', \\'Maximum\\', \\'Restraint\\', \\'Kashmir\\', \\'Invokes\\', \\'Simla\\', \\'Agreement\\' ]);\\tgoogletag.enableServices();\\t } );adsId728x90 = \\'\\';adsId300x250_1 = \\'\\';\\tadsId300x600_1 = \\'\\';adsId1x1special = \\'\\';}else if (navigator.userAgent.match(/Android|iPhone/i)){googletag.cmd.push(function() {googletag.defineSlot(\\'/1039154/News18_Wap_1/News18_Wap_World/News18_Wap_World_Sticky\\', [320,50], \\'News18_Wap_1/News18_Wap_World/News18_Wap_World_Sticky\\').addService(googletag.pubads()); googletag.defineSlot(\\'/1039154/News18_Wap_1/News18_Wap_World/News18_Wap_World_Top\\', [[320,50],[300,50],[300,75]], \\'News18_Wap_1/News18_Wap_World/News18_Wap_World_Top\\').addService(googletag.pubads()); googletag.defineSlot(\\'/1039154/News18_Wap_1/News18_Wap_World/News18_Wap_World_300x250\\', [[336,280],[300,250],[250,250]], \\'News18_Wap_1/News18_Wap_World/News18_Wap_World_300x250\\').addService(googletag.pubads()); googletag.defineSlot(\\'/1039154/News18_Wap_1/News18_Wap_World/News18_Wap_World_1x1_Interstitial\\', [1,1], \\'News18_Wap_1/News18_Wap_World/News18_Wap_World_1x1_Interstitial\\').addService(googletag.pubads()); googletag.defineSlot(\\'/1039154/News18_Wap_1/News18_Wap_World/News18_Wap_World_320x50_Centre\\', [320,50], \\'News18_Wap_1/News18_Wap_World/News18_Wap_World_320x50_Centre\\').addService(googletag.pubads()); googletag.defineSlot(\\'/1039154/News18_Wap_1/News18_Wap_ROS/News18_Wap_ROS_320x50_Top\\', [[320,50],[300,50],[300,75]], \\'News18_Wap_1/News18_Wap_ROS/News18_Wap_ROS_320x50_Top\\').addService(googletag.pubads()); googletag.defineSlot(\\'/1039154/News18_Wap_1/News18_Wap_ROS/News18_Wap_ROS_320x50_Sticky\\', [320,50], \\'News18_Wap_1/News18_Wap_ROS/News18_Wap_ROS_320x50_Sticky\\').addService(googletag.pubads()); googletag.defineSlot(\\'/1039154/News18_Wap_1/News18_Wap_ROS/News18_WAP_ROS_300x600_FlyingCarpet_1\\', [300,600], \\'News18_Wap_1/News18_Wap_ROS/News18_WAP_ROS_300x600_FlyingCarpet_1\\').addService(googletag.pubads()); googletag.defineSlot(\\'/1039154/News18_Wap_1/News18_Wap_ROS/News18_WAP_ROS_300x600_FlyingCarpet_2\\', [300,600], \\'News18_Wap_1/News18_Wap_ROS/News18_WAP_ROS_300x600_FlyingCarpet_2\\').addService(googletag.pubads()); googletag.pubads().enableSingleRequest();\\t\\t\\tgoogletag.pubads().collapseEmptyDivs(true); googletag.pubads().setTargeting(\\'article_id\\',\\'2263887\\');googletag.pubads().setTargeting(\\'section_name\\',\\'India\\');googletag.pubads().setTargeting(\\'meta_keywords\\', [\\'Antonio\\', \\'Guterres\\', \\'Article\\', \\'370\\', \\'revoked\\', \\'J&amp;K\\', \\'jammu\\', \\'kashmir\\', \\'tensions\\', \\'pakistan\\', \\'shimla\\', \\'agreement\\', \\'un\\', \\'United\\', \\'nations\\' ]);googletag.pubads().setTargeting(\\'title_name\\', [\\'UN\\', \\'Chief\\', \\'Urges\\', \\'India\\', \\'Pak\\', \\'to\\', \\'Exercise\\', \\'Maximum\\', \\'Restraint\\', \\'Kashmir\\', \\'Invokes\\', \\'Simla\\', \\'Agreement\\' ]);\\tgoogletag.enableServices();\\t\\t});wapAdsId300x250 =\\'News18_Wap_1/News18_Wap_World/News18_Wap_World_300x250\\';\\twapAdsidSticky320x50 =\\'News18_Wap_1/News18_Wap_World/News18_Wap_World_Sticky\\';\\twapAdsId300x250_2 =\\'\\';\\twapAdsId300x250_ROS =\\'\\';wapAdsidoop1x1 =\\'\\';\\twapAdsid320x50_1 =\\'News18_Wap_1/News18_Wap_World/News18_Wap_World_Top\\';\\twapAdsINTERSTITIAL = \\'News18_Wap_1/News18_Wap_World/News18_Wap_World_1x1_Interstitial\\';\\twapAdsnative320x340 = \\'\\';\\tadsId1x1special = \\'\\';\\twapAds300x100 = \\'\\';\\twapAds3D_Banner =\\'\\';\\twapAds320x285_Native =\\'\\';\\twapadros320x50 =\\'\\';}else if(navigator.userAgent.match(/Android|Tablet/i) && window.innerWidth <= 1280 && window.innerHeight <= 800){ googletag.cmd.push(function() {\\t\\tgoogletag.pubads().enableSingleRequest();\\t\\t\\tgoogletag.pubads().collapseEmptyDivs(true); googletag.pubads().setTargeting(\\'article_id\\',\\'2263887\\');googletag.pubads().setTargeting(\\'section_name\\',\\'India\\');googletag.pubads().setTargeting(\\'meta_keywords\\', [\\'Antonio\\', \\'Guterres\\', \\'Article\\', \\'370\\', \\'revoked\\', \\'J&amp;K\\', \\'jammu\\', \\'kashmir\\', \\'tensions\\', \\'pakistan\\', \\'shimla\\', \\'agreement\\', \\'un\\', \\'United\\', \\'nations\\' ]);googletag.pubads().setTargeting(\\'title_name\\', [\\'UN\\', \\'Chief\\', \\'Urges\\', \\'India\\', \\'Pak\\', \\'to\\', \\'Exercise\\', \\'Maximum\\', \\'Restraint\\', \\'Kashmir\\', \\'Invokes\\', \\'Simla\\', \\'Agreement\\' ]);\\tgoogletag.enableServices();\\t\\t});\\tadsId728x90 = \\'\\';\\tadsId300x250_1 = \\'\\';\\tadsId300x600_1 = \\'\\';\\tadsId1x1special = \\'\\';\\t}else{\\t\\tgoogletag.cmd.push(function() {\\t\\tgoogletag.defineSlot(\\'/1039154/News18/News18_World/News18_World_Internal/News18_World_Internal_300x250\\', [300,250], \\'News18/News18_World/News18_World_Internal/News18_World_Internal_300x250\\').addService(googletag.pubads()); googletag.defineSlot(\\'/1039154/News18/News18_World/News18_World_Internal/News18_World_Internal_300x600\\', [300,600], \\'News18/News18_World/News18_World_Internal/News18_World_Internal_300x600\\').addService(googletag.pubads()); googletag.defineSlot(\\'/1039154/News18/News18_World/News18_World_Internal/News18_World_Internal_728x90\\', [728,90], \\'News18/News18_World/News18_World_Internal/News18_World_Internal_728x90\\').addService(googletag.pubads()); googletag.defineSlot(\\'/1039154/News18/News18_World/News18_World_Internal/News18_World_Internal_300x250_2\\', [300,250], \\'News18/News18_World/News18_World_Internal/News18_World_Internal_300x250_2\\').addService(googletag.pubads()); googletag.defineSlot(\\'/1039154/News18/News18_World/News18_World_Internal/News18_World_Internal_1x1_Hovver\\', [1,1], \\'News18/News18_World/News18_World_Internal/News18_World_Internal_1x1_Hovver\\').addService(googletag.pubads()); googletag.defineSlot(\\'/1039154/News18/News18_World/News18_World_Internal/News18_World_Internal_Scr1_300x250_1\\', [300,250], \\'News18/News18_World/News18_World_Internal/News18_World_Internal_Scr1_300x250_1\\').addService(googletag.pubads()); googletag.defineSlot(\\'/1039154/News18/News18_World/News18_World_Internal/News18_World_Internal_Scr1_300x250_2\\', [300,250], \\'News18/News18_World/News18_World_Internal/News18_World_Internal_Scr1_300x250_2\\').addService(googletag.pubads()); googletag.defineSlot(\\'/1039154/News18/News18_World/News18_World_Internal/News18_World_Internal_Scr1_300x600\\', [300,600], \\'News18/News18_World/News18_World_Internal/News18_World_Internal_Scr1_300x600\\').addService(googletag.pubads()); googletag.defineSlot(\\'/1039154/News18/News18_World/News18_World_Internal/News18_World_Internal_Scr2_300x250_1\\', [300,250], \\'News18/News18_World/News18_World_Internal/News18_World_Internal_Scr2_300x250_1\\').addService(googletag.pubads()); googletag.defineSlot(\\'/1039154/News18/News18_World/News18_World_Internal/News18_World_Internal_Scr2_300x250_2\\', [300,250], \\'News18/News18_World/News18_World_Internal/News18_World_Internal_Scr2_300x250_2\\').addService(googletag.pubads()); googletag.defineSlot(\\'/1039154/News18/News18_World/News18_World_Internal/News18_World_Internal_Scr2_300x600\\', [300,600], \\'News18/News18_World/News18_World_Internal/News18_World_Internal_Scr2_300x600\\').addService(googletag.pubads()); googletag.defineSlot(\\'/1039154/News18/News18_World/News18_World_Internal/News18_World_Internal_Scr3_300x250_1\\', [300,250], \\'News18/News18_World/News18_World_Internal/News18_World_Internal_Scr3_300x250_1\\').addService(googletag.pubads()); googletag.defineSlot(\\'/1039154/News18/News18_World/News18_World_Internal/News18_World_Internal_Scr3_300x250_2\\', [300,250], \\'News18/News18_World/News18_World_Internal/News18_World_Internal_Scr3_300x250_2\\').addService(googletag.pubads()); googletag.defineSlot(\\'/1039154/News18/News18_World/News18_World_Internal/News18_World_Internal_Scr3_300x600\\', [300,600], \\'News18/News18_World/News18_World_Internal/News18_World_Internal_Scr3_300x600\\').addService(googletag.pubads()); googletag.defineSlot(\\'/1039154/News18/News18_World/News18_World_Internal/News18_World_Internal_300x600_2\\', [300,600], \\'News18/News18_World/News18_World_Internal/News18_World_Internal_300x600_2\\').addService(googletag.pubads()); googletag.defineSlot(\\'/1039154/News18/News18_Ros/News18_Ros_728x90\\', [728,90], \\'News18/News18_Ros/News18_Ros_728x90\\').addService(googletag.pubads()); googletag.defineSlot(\\'/1039154/News18/News18_Ros/News18_Ros_300x250\\', [300,250], \\'News18/News18_Ros/News18_Ros_300x250\\').addService(googletag.pubads()); googletag.defineSlot(\\'/1039154/News18/News18_Ros/News18_ROS_728x90_Inarticle\\', [728,90], \\'News18/News18_Ros/News18_ROS_728x90_Inarticle\\').addService(googletag.pubads()); googletag.defineSlot(\\'/1039154/News18/News18_Ros/News18_Ros_728x90_InfiniteScroll_1\\', [728,90], \\'News18/News18_Ros/News18_Ros_728x90_InfiniteScroll_1\\').addService(googletag.pubads()); googletag.defineSlot(\\'/1039154/News18/News18_Ros/News18_Ros_728x90_InfiniteScroll_2\\', [728,90], \\'News18/News18_Ros/News18_Ros_728x90_InfiniteScroll_2\\').addService(googletag.pubads()); googletag.defineSlot(\\'/1039154/News18/News18_Ros/News18_Ros_728x90_InfiniteScroll_3\\', [728,90], \\'News18/News18_Ros/News18_Ros_728x90_InfiniteScroll_3\\').addService(googletag.pubads()); googletag.defineSlot(\\'/1039154/News18/News18_Ros/News18_Ros_Flying\\', [300,250], \\'News18/News18_Ros/News18_Ros_Flying\\').addService(googletag.pubads()); googletag.defineSlot(\\'/1039154/News18/News18_Ros/News18_Ros_2X2_PG\\', [2,2], \\'News18/News18_Ros/News18_Ros_2X2_PG\\').addService(googletag.pubads()); googletag.pubads().enableSingleRequest();\\t\\t\\tgoogletag.pubads().collapseEmptyDivs(true); googletag.pubads().setTargeting(\\'article_id\\',\\'2263887\\');googletag.pubads().setTargeting(\\'section_name\\',\\'India\\');googletag.pubads().setTargeting(\\'meta_keywords\\', [\\'Antonio\\', \\'Guterres\\', \\'Article\\', \\'370\\', \\'revoked\\', \\'J&amp;K\\', \\'jammu\\', \\'kashmir\\', \\'tensions\\', \\'pakistan\\', \\'shimla\\', \\'agreement\\', \\'un\\', \\'United\\', \\'nations\\' ]);googletag.pubads().setTargeting(\\'title_name\\', [\\'UN\\', \\'Chief\\', \\'Urges\\', \\'India\\', \\'Pak\\', \\'to\\', \\'Exercise\\', \\'Maximum\\', \\'Restraint\\', \\'Kashmir\\', \\'Invokes\\', \\'Simla\\', \\'Agreement\\' ]);\\tgoogletag.enableServices();\\t\\t});\\tadsId728x90 = \\'News18/News18_World/News18_World_Internal/News18_World_Internal_728x90\\';\\tadsId1242x600 = \\'\\';\\tadsId300x250_1 = \\'News18/News18_World/News18_World_Internal/News18_World_Internal_300x250\\';\\tadsId300x250_2 = \\'News18/News18_World/News18_World_Internal/News18_World_Internal_300x250_2\\';\\tadsId300x250_3 = \\'\\';\\tadsId300x600_1 = \\'News18/News18_World/News18_World_Internal/News18_World_Internal_300x600\\';adsId300x600_2 = \\'News18/News18_World/News18_World_Internal/News18_World_Internal_300x600_2\\';adsId300x250_2 = \\'News18/News18_World/News18_World_Internal/News18_World_Internal_300x250_2\\';\\tadsId728x90_Footer =\\'\\';\\tadsId1x1hovver =\\'News18/News18_World/News18_World_Internal/News18_World_Internal_1x1_Hovver\\';\\tadsId875x35 =\\'\\';\\tadsId148x33 = \\'\\'; adsId728x90_inarticle = \\'\\';\\tadsId728x90_inarticle_2 = \\'News18/News18_Ros/News18_ROS_728x90_Inarticle\\';  adsId1x1_ros            = \\'\\'; ads1x1_Special_ros = \\'\\';\\tadsId_internal_interstitial = \\'\\';ads1245x60_ros            = \\'\\';budget_ros_78x30_1= \\'\\';\\r\\n    budget_ros_78x30_2 = \\'\\';budget_ros_78x30_3 = \\'\\';\\r\\nbudget_ros_78x30_4 = \\'\\';budget_ros_78x30_5            = \\'\\';ads920x130_ros            = \\'\\';adsId728x90_ROS            = \\'News18/News18_Ros/News18_Ros_728x90\\';adsIdnative_ROS            = \\'\\';\\r\\nadsId300x50_ROS = \\'\\';adsIdRos_300x50 = \\'\\';\\r\\nadsid2x2ros = \\'News18/News18_Ros/News18_Ros_2X2_PG\\';\\r\\n}\\t// variable to check if scrolled add to show or not \\r\\nvar availableTags=new Array();\\r\\navailableTags[0]= \\'News18/News18_World/News18_World_Internal/News18_World_Internal_300x250\\';\\r\\navailableTags[1]= \\'News18/News18_World/News18_World_Internal/News18_World_Internal_300x600\\';\\r\\navailableTags[2]= \\'News18/News18_World/News18_World_Internal/News18_World_Internal_728x90\\';\\r\\navailableTags[3]= \\'News18/News18_World/News18_World_Internal/News18_World_Internal_300x250_2\\';\\r\\navailableTags[4]= \\'News18/News18_World/News18_World_Internal/News18_World_Internal_1x1_Hovver\\';\\r\\navailableTags[5]= \\'News18/News18_World/News18_World_Internal/News18_World_Internal_Scr1_300x250_1\\';\\r\\navailableTags[6]= \\'News18/News18_World/News18_World_Internal/News18_World_Internal_Scr1_300x250_2\\';\\r\\navailableTags[7]= \\'News18/News18_World/News18_World_Internal/News18_World_Internal_Scr1_300x600\\';\\r\\navailableTags[8]= \\'News18/News18_World/News18_World_Internal/News18_World_Internal_Scr2_300x250_1\\';\\r\\navailableTags[9]= \\'News18/News18_World/News18_World_Internal/News18_World_Internal_Scr2_300x250_2\\';\\r\\navailableTags[10]= \\'News18/News18_World/News18_World_Internal/News18_World_Internal_Scr2_300x600\\';\\r\\navailableTags[11]= \\'News18/News18_World/News18_World_Internal/News18_World_Internal_Scr3_300x250_1\\';\\r\\navailableTags[12]= \\'News18/News18_World/News18_World_Internal/News18_World_Internal_Scr3_300x250_2\\';\\r\\navailableTags[13]= \\'News18/News18_World/News18_World_Internal/News18_World_Internal_Scr3_300x600\\';\\r\\navailableTags[14]= \\'News18/News18_World/News18_World_Internal/News18_World_Internal_300x600_2\\';\\r\\n// function getAdsScripts(adsDivId, adsId){\\tvar adsIdG=\\'\\';\\tif(navigator.userAgent.match(/iPad|iPod/i)){adsIdG = adsId;\\tvar scriptG = \"<s\"+\"cript type=\\'text/javas\"+\"cript\\'>googletag.cmd.push(function() { googletag.display(\\'\"+adsIdG+\"\\'); });</s\"+\"cript>\";\\t\\tvar adsDivSG = \"<div id=\\'\"+adsIdG+\"\\'>\"+scriptG+\"</div>\";\\t$(\\'#\\'+adsDivId).html(adsDivSG);\\t}else if (navigator.userAgent.match(/Android|iPhone/i)){adsIdG = adsId;\\tvar scriptG = \"<s\"+\"cript type=\\'text/javas\"+\"cript\\'>googletag.cmd.push(function() { googletag.display(\\'\"+adsIdG+\"\\'); });</s\"+\"cript>\";var adsDivSG = \"<div id=\\'\"+adsIdG+\"\\' style=\\'width:320px; margin:0 auto;\\'>\"+scriptG+\"</div>\";$(\\'#\\'+adsDivId).html(adsDivSG);}else if(navigator.userAgent.match(/Android|Tablet/i) && window.innerWidth <= 1280 && window.innerHeight <= 800){\\tadsIdG = adsId;\\tvar scriptG = \"<s\"+\"cript type=\\'text/javas\"+\"cript\\'>googletag.cmd.push(function() { googletag.display(\\'\"+adsIdG+\"\\'); });</s\"+\"cript>\";var adsDivSG = \"<div id=\\'\"+adsIdG+\"\\'>\"+scriptG+\"</div>\";$(\\'#\\'+adsDivId).html(adsDivSG);}else{adsIdG = adsId;var scriptG = \"<s\"+\"cript type=\\'text/javas\"+\"cript\\'>googletag.cmd.push(function() { googletag.display(\\'\"+adsIdG+\"\\'); });</s\"+\"cript>\";var adsDivSG = \"<div id=\\'\"+adsIdG+\"\\'>\"+scriptG+\"</div>\";$(\\'#\\'+adsDivId).html(adsDivSG);}}\\r\\nfunction getAdsScripts(adsDivId, adsId) {\\r\\n    var adsIdG = \\'\\';\\r\\n\\t\\r\\n    if (navigator.userAgent.match(/iPad|iPod/i)) {\\r\\n        adsIdG = adsId;\\r\\n        var scriptG = \"<s\" + \"cript type=\\'text/javas\" + \"cript\\'>googletag.cmd.push(function() {   googletag.display(\\'\" + adsIdG + \"\\');  });</s\" + \"cript>\";\\r\\n        var adsDivSG = \"<div id=\\'\" + adsIdG + \"\\'>\" + scriptG + \"</div>\";\\r\\n        $(\\'#\\' + adsDivId).html(adsDivSG);\\r\\n    } else if (navigator.userAgent.match(/Android|iPhone/i)) {\\r\\n        adsIdG = adsId;\\r\\n        var scriptG = \"<s\" + \"cript type=\\'text/javas\" + \"cript\\'>googletag.cmd.push(function() {   googletag.display(\\'\" + adsIdG + \"\\');  });</s\" + \"cript>\";\\r\\n        var adsDivSG = \"<div id=\\'\" + adsIdG + \"\\' style=\\'width:320px; margin:0 auto;\\'>\" + scriptG + \"</div>\";\\r\\n        $(\\'#\\' + adsDivId).html(adsDivSG);\\r\\n    } else if (navigator.userAgent.match(/Android|Tablet/i) && window.innerWidth <= 1280 && window.innerHeight <= 800) {\\r\\n        adsIdG = adsId;\\r\\n        var scriptG = \"<s\" + \"cript type=\\'text/javas\" + \"cript\\'>googletag.cmd.push(function() {   googletag.display(\\'\" + adsIdG + \"\\');  });</s\" + \"cript>\";\\r\\n        var adsDivSG = \"<div id=\\'\" + adsIdG + \"\\'>\" + scriptG + \"</div>\";\\r\\n        $(\\'#\\' + adsDivId).html(adsDivSG);\\r\\n    } else {\\r\\n        adsIdG = adsId;\\r\\n        var scriptG = \"<s\" + \"cript type=\\'text/javas\" + \"cript\\'>googletag.cmd.push(function() {   googletag.display(\\'\" + adsIdG + \"\\');  });</s\" + \"cript>\";\\r\\n        var adsDivSG = \"<div id=\\'\" + adsIdG + \"\\'>\" + scriptG + \"</div>\";\\r\\n        $(\\'#\\' + adsDivId).html(adsDivSG);\\r\\n    }\\r\\n}\\r\\n</script>\\r\\n\\t\\t<!--<<script type=\"text/javascript\" src=\"https://go.automatad.com/geo/V2QN1G/afihbs.js\" async></script>script data-cfasync=\\'false\\' type=\\'text/javascript\\'>(function (a, c, s, u){\\'Insticator\\'in a || (a.Insticator={ad:{loadAd: function (b){Insticator.ad.q.push(b)}, q: []}, helper:{}, embed:{}, version: \"3.0\", q: [], load: function (t, o){Insticator.q.push({t: t, o: o})}}); var b=c.createElement(s); b.src=u; b.async=!0; var d=c.getElementsByTagName(s)[0]; d.parentNode.insertBefore(b, d)})(window, document, \\'script\\', \\'//d2na2p72vtqyok.cloudfront.net/client-embed/a7743321-1b4a-41c9-b813-1ee070694b22.js\\');</script>--> <style>.disnon{display:none;}.section-blog-left-aricle{padding:0px;}.section-blog-left-aricle h1{margin:10px 0 8px;}.section-blog-left-aricle h2{padding-bottom: 10px}.section-blog-left-aricle .author p{display: inline; padding-right:10px; margin-right: 10px; border-right: 1px solid #ccc}.secont-lnav{margin-bottom:0;}.section-blog-left-aricle .author{margin:0; padding-bottom:10px; width:auto}.reelbanner{margin-top:10px; display:block}</style><script>function setCookie(e,t,a){domain=\"news18.com\",secure=\"\",path=\"/\";var i=new Date;i.setTime(i.getTime()),a&&(a=1e3*a*60*60*24);var o=new Date(i.getTime()+a);document.cookie=e+\"=\"+escape(t)+(a?\";expires=\"+o.toGMTString():\"\")+(path?\";path=\"+path:\"\")+(domain?\";domain=\"+domain:\"\")+(secure?\";secure\":\"\")} function getCookie(e){var n=document.cookie.indexOf(e+\"=\"),o=n+e.length+1;if(!n&&e!=document.cookie.substring(0,e.length))return null;if(-1==n)return null;var t=document.cookie.indexOf(\";\",o);return-1==t&&(t=document.cookie.length),unescape(document.cookie.substring(o,t))} $(\\'.disnon\\').hide();</script><script type=\"text/javascript\">  var related_Ids =[\"2381633\",\"2381601\",\"2381387\"];  var ua=\"web\",isMobile={Android:function(){return navigator.userAgent.match(/Android/i)},BlackBerry:function(){return navigator.userAgent.match(/BlackBerry/i)},iOS:function(){return navigator.userAgent.match(/iPhone|iPad|iPod/i)},Opera:function(){return navigator.userAgent.match(/Opera Mini/i)},Windows:function(){return navigator.userAgent.match(/IEMobile/i)},any:function(){return isMobile.Android()||isMobile.BlackBerry()||isMobile.iOS()||isMobile.Opera()||isMobile.Windows()}};</script><script>$(document).ready(function(){$(\".shareIconDiv\").click(function(){$(\".sociaIconsHidden\").toggle(),$(\".grayBgs\").toggle(),$(\".shareRight\").toggleClass(\"shareRightz\")})});$(document).on(\"click\",\"a.readMore\",function(event){event.preventDefault(),$(\".hideCont\").css(\"height\",\"auto\"),$(\".hideCont\").show(),$(\"#crowdynews\").show(),$(\"#vuukle_div2263887\").removeClass(\"mnone\"),$(\"a.readMore\").hide(),$(\".fadeout\").css(\"display\",\"none\"),ga(\"send\",\"event\",\"read_more\",\"click\",\"read_more_button\",1,{nonInteraction:1})});</script><script type=\"text/javascript\" src=\"https://images.news18.com/ibnlive/uploads/assets/js/news18/js/jquery.bxslider.js\"></script><script src=\"/js/scroll.js?v=7.11\"></script>\\r\\n\\t\\t<script src=\"https://images.news18.com/static_news18/js/youtube/yt-player.min.js?v=1.0\"></script>\\r\\n     \\r\\n<script>self.COMSCORE && COMSCORE.beacon({c1: \"2\", c2: \"6683813\"});</script>\\r\\n<style>\\r\\n.bx-next,.bx-prev{position:absolute;top:6px;width:29px;height:36px;z-index:2;text-indent:-9999px}.bx-next{right:0;background:url(https://images.news18.com/ibnlive/uploads/2016/07/ifsrarrow.png) no-repeat}.bx-prev{left:0;background:url(https://images.news18.com/ibnlive/uploads/2016/07/ifslarrow.png) no-repeat}.lghtact{background:#ddd}#infinite-scroll{position:fixed;left:0;width:100%;background:#fff;border-top:1px solid #ebebeb;overflow:hidden;bottom:-50px;z-index:1}#infinite-scroll .ifslarrow,#infinite-scroll .ifsrarrow{top:6px;width:29px;height:36px;z-index:2;display:none;pofsition:absolute}#infinite-scroll .ifslarrow{left:0;background:url(https://images.news18.com/ibnlive/uploads/2016/07/ifslarrow.png) no-repeat}#infinite-scroll .ifsrarrow{right:0;background:url(https://images.news18.com/ibnlive/uploads/2016/07/ifsrarrow.png) no-repeat}#infinite-scroll:hover .ifslarrow,#infinite-scroll:hover .ifsrarrow{display:block}#infinite-scroll ul li{font-size:14px;color:#000;padding:16px 10px;border-left:8px solid #ee1b24;float:left;position:relative;overflow:hidden;text-overflow:ellipsis;width:2%;white-space:nowrap;box-sizing:border-box}#infinite-scroll ul li.act{background:#ccc}#infinite-scroll ul li.dact{opacity:.4}#infinite-scroll ul li span{width:0;display:inline-block;background:rgba(00,00,00,.2);position:absolute;top:0;left:0;height:100%}@media only screen and (max-width:600px){#infinite-scroll{display:none!important}#infinite-scroll .ifslarrow,#infinite-scroll .ifsrarrow{display:block;width:24px;height:29px;background-size:24px;top:11px}}.vspace-top{margin-top:69px;}</style>\\r\\n    <!---<script src=\"https://images.news18.com/static_news18/pix/ibnhome/news18/js/jwplayer-8.1.11/jwplayer.js\"></script> --->\\r\\n<script src=\"https://images.news18.com/static_news18/pix/ibnhome/news18/hola_player.js?customer=network18\"></script>\\r\\n<script>\\r\\nvar site_ad_display=\"yes\";\\r\\n</script>\\r\\n<style>\\r\\n#article_body p iframe{\\r\\n\\theight: 520px;\\r\\n\\twidth: 100%\\r\\n}\\r\\n\\r\\n@media only screen and (max-width:480px){\\r\\n\\t#article_body p iframe{\\r\\n\\t\\theight: 220px;\\r\\n\\t\\twidth:100px;\\r\\n\\t}\\r\\n}\\r\\n</style>\\r\\n</head><body>\\r\\n\\r\\n\\r\\n<!-- pledge to vote -->\\r\\n<style type=\"text/css\"> \\r\\n\\t.epwidget-box{background: rgba(00, 00, 00, 0.8); position: absolute; top:0; left: 0; width:100%; height: 100vh; display: none;z-index: 99999999;}\\r\\n\\t.epwidget-box.adcls{display: block;}\\r\\n\\t.epwidget-box .epwinner{width:602px; height:550px; background: url(https://images.hindi.news18.com/ibnkhabar/uploads/2019/04/hdfc-wbg.jpg) repeat 0 0; margin:auto; position:absolute; top:50%; left:50%; transform:translate(-50%, -50%); border-radius: 10px}\\r\\n\\t.epwidget-box .epwinner .mapimg{position: absolute; left:20px; top:100px;}\\r\\n\\t.epw-closebtn{background: #ed1c24; width:36px; position: absolute; height: 36px; border-radius: 50%; top:-18px; right:-18px}\\r\\n\\t.epw-closebtn:before{width:1px; height:20px; background: #fff; transform:rotate(45deg); position: absolute; top:6px; left:18px; content: \\'\\'}\\r\\n\\t.epw-closebtn:after{width:1px; height:20px; background: #fff; transform:rotate(-45deg); position: absolute; top:6px; left:18px; content: \\'\\'}\\r\\n\\t.epwhline{text-align: center; padding-top:20px; position: absolute; top:5px; left:0; width:100%;}\\r\\n\\t.epwhline span{font-size:24px; display: block; color: #000; text-align: center; padding:10px 0;}\\r\\n\\t.epwhline h2{font-size:35px; color: #000; font-weight: normal; line-height:20px}\\r\\n\\t.epwhline a{display: inline-block; padding:6px 12px; background: #ec2027; font-size:16px; color: #fff; text-decoration: none; font-family: sans-serif; border-radius:5px}\\r\\n\\t.epwform{width:304px; position: absolute; top:130px; right:20px;}\\r\\n\\t.epwform ul li{padding-top:8px; list-style: none;}\\r\\n\\t.epwform ul li input[type=\\'text\\']{width:100%; box-sizing:border-box; padding:6px; color: #222; font-size:14px; background: #fff; border:1px solid #ccc}\\r\\n\\t.epwform ul li input[type=\\'text\\'].act{border-color: #ed1c24}\\r\\n\\t.epwform ul li span{font-size:10px; color: #383838; display: block; padding-top: 5px}\\r\\n\\t.epwform ul li{font-size:14px; color: #005f9d; font-weight: bold}\\r\\n\\t.epwform ul li p{font-size:11px; color: #ed1c24; padding-bottom: 10px}\\r\\n\\t.epwform ul li .submitbtn{background:#005f9d; padding:10px 20px; display: inline-block; color: #fff; font-weight: bold; border-radius: 5px}\\r\\n\\t.epwform ul li input[type=\\'checkbox\\']{border:2px solid #ccc; width:17px; height: 17px; background: #fff; vertical-align: middle; margin:2px 8px 18px 0; float: left }\\r\\n\\t.epwform ul li a{text-decoration: none}\\r\\n\\t.thankyou{position: absolute; top:-2px; right:10px; display: none;}\\r\\n\\t.epw-footer{background: #fff; position: absolute; bottom:0; left:0; width:100%; padding:10px; box-sizing:border-box; text-align: right; font-size:12px; color: #222}\\r\\n\\t.epw-footer img{vertical-align: middle; padding:0 10px;}\\r\\n\\t.epw-disclemer{font-size:10px; color: #555; background:#e2e2e2; position: absolute; bottom:65px; right: 10px; width:94%; line-height: 13px}\\r\\n\\t.epw-disclemer h3{font-size: 12px}\\r\\n\\t.thankyou{width:310px; height: 314px; border-radius: 50%; background: rgba(255, 255, 255, 0.3); position: absolute; top:52px; \\r\\n\\tright:30px; display: none; text-align: center}\\r\\n\\t.thankyou h2{font-size: 25px;\\r\\n    color: #21418a;\\r\\n    padding-top: 50px;\\r\\n    line-height: 30px;}\\r\\n\\t.thankyou h3{font-size: 12px; color: #eb382e; font-weight: normal; padding:2px 0 10px;}\\r\\n\\t.thankyou a{background:#76a1d5; color: #fff; font-size:11px; text-decoration: none; padding:5px 10px; border-radius: 6px; display: inline-block; padding:;}\\r\\n\\t.thankyou .strbox{text-align: center;}\\r\\n\\r\\n\\t@media(max-width : 600px) {\\r\\n\\r\\n\\t\\t.epwhline {\\r\\n\\t\\t\\tpadding-top: 12px;\\r\\n\\t\\t}\\r\\n\\r\\n\\t\\t.epwidget-box .epwinner {\\r\\n\\t\\t\\twidth: 300px;\\r\\n\\t\\t}\\r\\n\\r\\n\\t\\t.epwhline h2 {\\r\\n\\t\\t\\tfont-size: 25px;\\r\\n\\t\\t}\\r\\n\\r\\n\\t\\t.epwhline span {\\r\\n\\t\\t\\tfont-size: 19px;\\r\\n\\t\\t\\tpadding: 6px 0;\\r\\n\\t\\t}\\r\\n\\r\\n\\t\\t.epwform {\\r\\n\\t\\t\\twidth: 262px;\\r\\n\\t\\t\\ttop: 95px;\\r\\n\\t\\t}\\r\\n\\r\\n\\t\\t.epw-disclemer {\\r\\n\\t\\t\\ttext-align: justify;\\r\\n\\t\\t}\\r\\n\\r\\n\\t\\t.thankyou {\\r\\n\\t\\t\\twidth: 284px;\\r\\n\\t\\t\\ttop: 52px;\\r\\n\\t\\t\\tright: -9px;\\r\\n\\t\\t}\\r\\n\\r\\n\\t\\t.epwform ul li {\\r\\n\\t\\t\\tfont-size: 13px;\\r\\n\\t\\t\\tcolor: #023556;\\r\\n\\t\\t}\\r\\n\\r\\n\\t\\t.epwform ul li {\\r\\n\\t\\t\\tpadding-top: 9px;\\r\\n\\t\\t}\\r\\n\\r\\n\\t\\t.epclick span{\\r\\n\\t\\t\\tleft: 22px!important;\\r\\n\\t\\t}\\r\\n\\t}\\r\\n</style>\\r\\n\\r\\n\\r\\n<div class=\"epwidget-box\">\\r\\n\\t<div class=\"epwinner\">\\r\\n\\t\\t<a href=\"#\" class=\"epw-closebtn\"></a>\\r\\n\\t\\t<img src=\"https://images.hindi.news18.com/ibnkhabar/uploads/2019/04/epw-map.png\" class=\"mapimg\" />\\r\\n\\t\\t<div class=\"epwhline\">\\r\\n\\t\\t\\t<h2>Take the pledge to vote</h2>\\r\\n\\t\\t\\t<span>For a better tommorow</span><a href=\"#\">#AajSawaroApnaKal</a>\\r\\n\\t\\t</div>\\r\\n\\t\\t<div class=\"epwform\">\\r\\n\\t\\t\\t<ul id=\"ulbox\">\\r\\n\\t\\t\\t\\t<form name=\"myform\" id=\"myform\" method=\"post\">\\r\\n\\t\\t\\t\\t\\t<li>\\r\\n\\t\\t\\t\\t\\t\\t<input type=\"text\" name=\"plg_name\" id=\"plg_name\" placeholder=\"Enter Your Name\">\\r\\n\\t\\t\\t\\t\\t\\t<p class=\"pldg-error\" style=\"margin-top:0px;\" name=\"plg_name_error\" id=\"plg_name_error\"></p>\\r\\n\\t\\t\\t\\t\\t</li>\\r\\n\\t\\t\\t\\t\\t<li><input type=\"text\" placeholder=\"Enter Email ID\"  name=\"plg_emailId\" id=\"plg_emailId\"><span>I agree to receive emails from News18</span>\\r\\n\\t\\t\\t\\t\\t\\t<p class=\"pldg-error\" style=\"margin-top:0px;\" name=\"plg_emailId_error\" id=\"plg_emailId_error\"></p>\\r\\n\\t\\t\\t\\t\\t</li>\\r\\n\\t\\t\\t\\t\\t<li><input type=\"checkbox\"  name=\"email\" id=\"check\">I promise to vote in this year\\'s elections no matter what the odds are.</li>\\r\\n\\t\\t\\t\\t\\t<li>\\r\\n\\t\\t\\t\\t\\t\\t<p id=\"txtpop\">Please check above checkbox.</p>\\r\\n\\t\\t\\t\\t\\t\\t<a href=\"#\" class=\"submitbtn\" name=\"plgSubmit\" id=\"plgSubmit\">SUBMIT</a>\\r\\n\\t\\t\\t\\t\\t</li>\\r\\n\\t\\t\\t\\t</form>\\r\\n\\t\\t\\t</ul>\\r\\n\\t\\t\\t<div class=\"thankyou\">\\r\\n\\t\\t\\t\\t<h2>Thank you for <br />taking the pledge</h2>\\r\\n\\t\\t\\t\\t<div class=\"strbox\"><img src=\"https://images.hindi.news18.com/ibnkhabar/uploads/2019/04/strimg.png\"></div>\\r\\n\\t\\t\\t\\t<h3>Vote responsibly as each vote counts<br />\\r\\n\\t\\t\\t\\t\\tand makes a diffrence\\r\\n\\t\\t\\t\\t</h3>\\r\\n\\t\\t\\t</div>\\r\\n\\t\\t</div>\\r\\n\\t\\t<div class=\"epw-disclemer\">\\r\\n\\t\\t\\t<h3>Disclaimer:</h3>\\r\\n\\t\\t\\tIssued in public interest by HDFC Life. HDFC Life Insurance Company Limited (Formerly HDFC Standard Life Insurance Company Limited) (\\xe2\\x80\\x9cHDFC Life\\xe2\\x80\\x9d). CIN: L65110MH2000PLC128245, IRDAI Reg. No. 101 . The name/letters \"HDFC\" in the name/logo of the company belongs to Housing Development Finance Corporation Limited (\"HDFC Limited\") and is used by HDFC Life under an agreement entered into with HDFC Limited. ARN EU/04/19/13618\\r\\n\\t\\t</div>\\r\\n\\t\\t<div class=\"epw-footer\">\\r\\n\\t\\t\\tAn initiative by <a href=\"#\"><img src=\"https://images.hindi.news18.com/ibnkhabar/uploads/2019/04/hdfc-n18-logo.jpg\"></a> & <a href=\"#\"><img src=\"https://images.hindi.news18.com/ibnkhabar/uploads/2019/04/hdfc-live-logo.jpg\" /></a>\\r\\n\\t\\t</div>\\r\\n\\t</div>\\r\\n</div>\\r\\n\\r\\n<script type=\"text/javascript\">\\r\\n    $(\".pldg-btn\").on(\"click\",function(){\\r\\n        $(\"#plgform\").show();\\r\\n        $(\".thankyou\").hide();\\r\\n        $(\"#plg_name_error\").html(\\'\\');\\r\\n        $(\"#plg_emailId_error\").html(\\'\\');\\r\\n        $(\"#plg_name\").val(\\'\\');\\r\\n        $(\"#plg_emailId\").val(\\'\\');\\r\\n        $(\"#check\").prop(\"checked\", false);\\r\\n        $(\".checkhide\").show();\\r\\n    });\\r\\n    $(\".checkhide\").hide();\\r\\n    $(\"#plg_name\").on(\"keyup\",function(){\\r\\n        $(\"#plg_name_error\").html(\\'\\');\\r\\n        return false;\\r\\n    });\\r\\n    $(\"#plg_emailId\").on(\"keyup\",function(){\\r\\n        $(\"#plg_emailId_error\").html(\\'\\');\\r\\n        return false;\\r\\n    });\\r\\n    $(\"#check\").on(\"change\",function(){\\r\\n       var check = $(this).prop(\"checked\");\\r\\n       if(check == true){\\r\\n        $(\".checkhide\").hide();\\r\\n       }else{\\r\\n       \\t$(\".checkhide\").show();\\r\\n       }\\r\\n       return false;\\r\\n    });\\r\\n\\r\\n    function validateEmail(emailText) {\\r\\n        \\r\\n        var pattern = /^[a-zA-Z0-9\\\\-_]+(\\\\.[a-zA-Z0-9\\\\-_]+)*@[a-z0-9]+(\\\\-[a-z0-9]+)*(\\\\.[a-z0-9]+(\\\\-[a-z0-9]+)*)*\\\\.[a-z]{2,4}$/;\\r\\n        if (pattern.test(emailText)) {\\r\\n            return true;\\r\\n        } else {\\r\\n            \\r\\n            return false;\\r\\n        }\\r\\n    }\\r\\n    $(\"#plgSubmit\").on(\"click\",function(){\\r\\n        var plg_name = $(\"#plg_name\").val();\\r\\n        var plg_emailId = $(\"#plg_emailId\").val();\\r\\n       var check = $(\"#check\").prop(\"checked\");\\r\\n        //alert(check); \\r\\n        if(plg_name == \\'\\'){\\r\\n            $(\"#plg_name_error\").html(\"Please enter your name\");\\r\\n            $(\"#plg_name\").focus();\\r\\n            return false;\\r\\n        }\\r\\n        if(plg_emailId == \"\"){\\r\\n            $(\"#plg_emailId_error\").html(\"Please enter email id\");\\r\\n            $(\"#plg_emailId\").focus();\\r\\n            return false;\\r\\n        }else{\\r\\n            var emailCheck  = validateEmail(plg_emailId);\\r\\n            if(emailCheck == false){\\r\\n                $(\"#plg_emailId_error\").html(\"Please enter valid email id\");\\r\\n                $(\"#plg_emailId\").focus();\\r\\n                return false;\\r\\n            }\\r\\n        }\\r\\n        if(check == false){\\r\\n            $(\"#check\").focus();\\r\\n            return false;\\r\\n        }\\r\\n       $.ajax({\\r\\n            \\r\\n            url : \"https://api.firstpost.com/hdfc-pledge-to-vote/hdfc_main.php\",\\r\\n\\t\\t\\tcrossDomain: true,\\r\\n            type : \"POST\",\\r\\n\\t\\t\\theaders: {  \\'Access-Control-Allow-Origin\\': \\'https://api.firstpost.com\\' },\\r\\n\\t\\t\\tdataType: \\'jsonp\\',\\r\\n            data : { \\'name\\' : plg_name , \\'email\\' : plg_emailId , \\'source\\' : \\'firstpost\\' , \\'action\\' : \\'insert\\' },\\r\\n        })\\r\\n\\r\\n        .done (function(response) { \\r\\n            var data = JSON.parse(response);\\r\\n            console.log(data);\\r\\n            $(\"#myform\").hide();\\r\\n            $(\".thankyou\").show();\\r\\n         })\\r\\n        .fail   (function(xmlhttprequest, textstatus, message){ \\r\\n          console.log(\\'xmlhttprequest\\',xmlhttprequest);\\r\\n\\t\\t\\t\\t\\t\\tconsole.log(\\'textstatus\\',textstatus);\\r\\n\\t\\t\\t\\t\\t\\tconsole.log(\\'message\\',message);\\r\\n\\r\\n            $(\"#myform\").hide();\\r\\n\\r\\n            $(\".thankyou\").show(); \\r\\n\\r\\n        });\\r\\n});\\r\\n\\r\\n</script><!-- pledge to vote end -->\\r\\n\\r\\n<!--top sponser start-->\\r\\n        <script src=\"//images.hindi.news18.com/ibnkhabar/uploads/assests/js/glide.min.js\"></script>\\r\\n        <style>\\r\\n            #el-sponsrs-all{\\r\\n                position: relative;\\r\\n                overflow: hidden;\\r\\n                width: 100%;\\r\\n            }\\r\\n\\r\\n            .as-sponser-wrapper{max-width:1284px;margin:0 auto;position:relative;padding:0 20px;box-sizing:border-box;}\\r\\n            .lsmain-as-top-banner{background:url(//images.news18.com/static_news18/pix/ibnhome/news18/assembly-election-2019/img/loksabha_headerbg1.jpg) no-repeat bottom;}\\r\\n            .lsmain-as-top-banner .as-sponser-wrapper{display:flex;justify-content:space-between;}\\r\\n            .as-sponser-wrapper .ls-logo-wrapper{display:flex;margin-left:115px;padding-top:13px!important;height:65px!important;}\\r\\n            .as-sponser-wrapper .ls-logobox:first-child{margin-right:10px;border-right:1px solid #bababa;padding-right:10px;}\\r\\n            .as-sponser-wrapper .ls-logobox:last-child{border:0;}\\r\\n            .as-sponser-wrapper .ls-logobox .ls-electionlogo{margin-top:-5px;}\\r\\n            .as-sponser-wrapper .ls-logobox .ls-electionlogo a{display:block;margin-bottom:6px;}\\r\\n            .as-sponser-wrapper .ls-logobox .ls-electionlogo a img{display:block;}\\r\\n            .as-sponser-wrapper .topheader{margin:0 auto;display:table;height:66px;margin-bottom:10px;}\\r\\n            .as-sponser-wrapper .adv_cnt{margin-top:5px;float:left;}\\r\\n            .as-sponser-wrapper .el-sponsrs{display:flex;float:left;}\\r\\n            .as-sponser-wrapper .el-sponsrs #el-sponsrs-all .items{width:100px;margin-right:5px;float:left;background:transparent!important;}\\r\\n            .as-sponser-wrapper .el-sponsrs .items span{color:#717171;font-size:10px;text-align:center;display:block;margin-bottom:0px;text-transform:uppercase;line-height:14px;}\\r\\n            .as-sponser-wrapper .el-sponsrs .items a{border:1px solid #d1d1d1;display:block;background: #fff;}\\r\\n            .as-sponser-wrapper .el-sponsrs .items img{width:100%;display:block;}\\r\\n        </style>\\r\\n\\r\\n        <div class=\"lsmain-as-top-banner\">\\r\\n            <div class=\"as-sponser-wrapper\">\\r\\n                <div class=\"ls-logo-wrapper\">\\r\\n                    <div class=\"ls-logobox\"><a href=\"https://www.news18.com/assembly-elections-2019/\"><img src=\"//images.news18.com/static_news18/pix/ibnhome/news18/assembly-election-2019/img/battleForImg.png\" alt=\"Maharashtra & Haryana Assembly Elections 2019 Latest News\"></a></div>\\r\\n                    <div class=\"ls-logobox\">\\r\\n                        <div class=\"ls-electionlogo\">\\r\\n                            <a href=\"/\">\\r\\n                                <img src=\"//images.news18.com/static_news18/pix/ibnhome/news18/assembly-election-2019/img/new18_logo.png\" alt=\"NEWS18 Elections\" title=\"NEWS18 Elections\">\\r\\n                            </a>\\r\\n                            <a href=\"/assembly-elections-2019/\">\\r\\n                                <img src=\"//images.news18.com/static_news18/pix/ibnhome/news18/assembly-election-2019/img/election_text.jpg\" alt=\"NEWS18 Elections\" title=\"NEWS18 Elections\">\\r\\n                            </a>\\r\\n                        </div>\\r\\n                    </div>\\r\\n                </div>\\r\\n                <div class=\"spons\">\\r\\n                    <div class=\"topheader\">\\r\\n                        <div class=\"adv_cnt\">\\r\\n                            <!-- <div class=\"ls_sponsered\">\\r\\n                                <span>SPONSORED BY</span>\\r\\n                                </div> -->\\r\\n                            <div class=\"el-sponsrs\">\\r\\n                                <div id=\"el-sponsrs-all\">\\r\\n                                    <div data-glide-el=\"track\">\\r\\n                                        <div style=\"clear:both; overflow:hidden\">\\r\\n                                            <div class=\\'items\\'><span>Associate Partner</span><a href=\\'http://pubads.g.doubleclick.net/gampad/clk?id=5201812740&iu=/1039154/News18/News18_ClickTracker/News18_ClickTracker_Godrej\\' target=\\'_blank\\'><img src=\\'https://images.news18.com/ibnlive/uploads/2019/10/Sponsor-logo-1.jpg\\' alt=\\'Associate Partner\\' title=\\'Associate Partner\\'></a></div><div class=\\'items\\'><span>\\xc2\\xa0</span><a href=\\' http://pubads.g.doubleclick.net/gampad/clk?id=5204372579&iu=/1039154/News18/News18_ClickTracker/News18_ClickTracker_Amazon_FIFA\\' target=\\'_blank\\'><img src=\\'https://images.news18.com/ibnlive/uploads/2019/10/Amazn_100x47-1.jpg\\' alt=\\'\\xc2\\xa0\\' title=\\'\\xc2\\xa0\\'></a></div>                                        </div>\\r\\n                                    </div>\\r\\n                                </div>\\r\\n                            </div>\\r\\n                        </div>\\r\\n                    </div>\\r\\n                </div>\\r\\n            </div>\\r\\n        </div>\\r\\n        \\r\\n            \\r\\n                                <script async src=\\'https://securepubads.g.doubleclick.net/tag/js/gpt.js\\'></script>\\r\\n<script>\\r\\n  window.googletag = window.googletag || {cmd: []};\\r\\n  googletag.cmd.push(function() {\\r\\n    googletag.defineSlot(\\'/1039154/News18/News18_ImpressionTracker/News18_ImpressionTracker_Godrej\\', [1, 1], \\'div-gpt-ad-1571659136432-0\\').addService(googletag.pubads());\\r\\n    googletag.pubads().enableSingleRequest();\\r\\n    googletag.enableServices();\\r\\n  });\\r\\n</script>\\r\\n\\r\\n<!-- /1039154/News18/News18_ImpressionTracker/News18_ImpressionTracker_Godrej -->\\r\\n<div id=\\'div-gpt-ad-1571659136432-0\\' style=\\'width: 1px; height: 1px;\\'>\\r\\n  <script>\\r\\n    googletag.cmd.push(function() { googletag.display(\\'div-gpt-ad-1571659136432-0\\'); });\\r\\n  </script>\\r\\n</div>\\r\\n\\r\\n\\r\\n<script async src=\\'https://securepubads.g.doubleclick.net/tag/js/gpt.js\\'></script>\\r\\n<script>\\r\\n  window.googletag = window.googletag || {cmd: []};\\r\\n  googletag.cmd.push(function() {\\r\\n    googletag.defineSlot(\\'/1039154/News18/News18_ImpressionTracker/News18_ImpressionTracker_Amazon_FIFA\\', [1, 1], \\'div-gpt-ad-1571815666693-0\\').addService(googletag.pubads());\\r\\n    googletag.pubads().enableSingleRequest();\\r\\n    googletag.enableServices();\\r\\n  });\\r\\n</script>\\r\\n\\r\\n\\r\\n<!-- /1039154/News18/News18_ImpressionTracker/News18_ImpressionTracker_Amazon_FIFA -->\\r\\n<div id=\\'div-gpt-ad-1571815666693-0\\' style=\\'width: 1px; height: 1px;\\'>\\r\\n  <script>\\r\\n    googletag.cmd.push(function() { googletag.display(\\'div-gpt-ad-1571815666693-0\\'); });\\r\\n  </script>\\r\\n</div>        <!--top sponser end--> \\r\\n\\r\\n<!-- Google Tag Manager (noscript) -->\\r\\n<noscript><iframe src=\"https://www.googletagmanager.com/ns.html?id=GTM-PBM75F9\"\\r\\nheight=\"0\" width=\"0\" style=\"display:none;visibility:hidden\"></iframe></noscript>\\r\\n<!-- End Google Tag Manager (noscript) -->\\r\\n<div id=\"main\"><div id=\"webinternal_interstitial\"></div><div class=\"grayBgs\" style=\"display: none;\"></div>\\r\\n<div class=\"top-ad\" id=\"topad1000x50\"></div><script>\\t$(document).ready(function(){$(\".sbtn\").on(\"click\",function(){$(\".exp-search\").slideToggle()}),$(\".sclose\").on(\"click\",function(){$(\".exp-search\").slideUp()}),$(\"ul.subnav li:first-child\").click(function(){$(this).find(\"span\").toggleClass(\"close\")}),$(\"ul.subnav li:first-child\").click(function(){$(\"ul.subnav li em\").toggleClass(\"addcls\"),$(\".nav-rgt-inside-links\").slideToggle(\"fast\")}),$(\".mbl-nav\").click(function(){$(\".mobile-bg\").toggle(),$(\".mbl-nav\").addClass(\"afterclick\"),$(\".mobile-navigation\").animate({width:\"toggle\"},\"slow\"),$(\"body\").addClass(\"ovrflhdn\"),$(\".mbl-nav-clbx\").css({display:\"block\"})}),$(\".mbl-nav-clbx\").click(function(){$(\".mbl-nav-clbx\").css({display:\"none\"}),$(\".mbl-nav\").removeClass(\"afterclick\"),$(\".mobile-bg\").toggle(),$(\".mobile-navigation\").animate({width:\"toggle\"},\"slow\"),$(\"body\").removeClass(\"ovrflhdn\")}),$(\".mobile-bg\").click(function(){$(\".mbl-nav-clbx\").css({display:\"none\"}),$(\".mbl-nav\").removeClass(\"afterclick\"),$(\".mobile-bg\").toggle(),$(\".mobile-navigation\").animate({width:\"toggle\"},\"slow\")}),$(\".srch-for-mbl\").on(\"click\",function(){$(\".exp-search-formobile\").slideToggle()});var l=getMobileOperatingSystem(),i=\"\";\"Android\"==l?(i=\"https://play.google.com/store/apps/details?id=com.divum.ibn&hl=en\",$(\"#news18_app_store\").attr(\"href\",i)):\"iOS\"==l?(i=\"https://itunes.apple.com/in/app/news18/id395194912?mt=8\",$(\"#news18_app_store\").attr(\"href\",i)):$(\"#news18_app_store\").hide()}); function getMobileOperatingSystem(){var n=navigator.userAgent||navigator.vendor||window.opera;return/android/i.test(n)?\"Android\":/iPad|iPhone|iPod/.test(n)&&!window.MSStream?\"iOS\":\"unknown\"}</script><style>.logo-for-mbl{left:16%;margin-left:0}.getapp{position:absolute;top:9px;right:50px;border:1px solid #cfcfcf;height:27px;width:74px;background:#ececec;font-size:11px; text-transform: uppercase; line-height: 12px; font-weight:700;color:#e4271c;border-radius:10px;padding:4px 8px 0}.getapp span{color: #000}.getapp img{position:absolute;top:11px;right:10px}</style><aside class=\"mbl-nav\"></aside><aside class=\"mbl-nav-clbx\"></aside><div class=\"mobile-header\"><aside class=\"srch-for-mbl\"><a href=\"javascript:void(0);\"><img src=\"https://images.news18.com/static_news18/pix/ibnhome/news18/megamenu/search-icon.png\" alt=\"Search\"/></a></aside><aside class=\"logo-for-mbl\">\\r\\n\\r\\n\\r\\n\\t<a href=\"/\"><img src=\"https://images.news18.com/static_news18/pix/ibnhome/news18/megamenu/news18-main.png\" alt=\"News18 English\" title=\"News18 English\"></a>\\r\\n\\r\\n</aside>\\r\\n<style>\\r\\n.bgtlive-tv{position: absolute; right:40px; top:10px; line-height:13px; text-align: center;}\\r\\n.bgtlive-tv span{font-size:10px; color:#ca0606; display: block}\\r\\n.geta-app{font-size:10px; height:33px; width:98px; box-sizing: border-box; background: #ececec; border:1px solid #c8c8c8;border-radius:6px; color: #000; text-transform: uppercase; position: absolute; padding:3px 5px; top:8px; right:85px; line-height: 13px}\\r\\n.geta-app span{color: #e1261c; display: block}\\r\\n.geta-app img{float: left; padding-right:7px}\\r\\n.secont-lnav ul li:nth-child(9) a {color:#e1261c}\\r\\n</style>    \\r\\n    <!--<a href=\"https://www.news18.com/stocks/indian-stocks-market-live/?utm_campaign=Get_stock_quotes\" class=\"getapp\">GET Stock <span> Quotes</span><img src=\"https://images.news18.com/static_news18/pix/ibnhome/news18/stock-hp-icon.png\" alt=\"News18 APP\"></a>-->\\r\\n    \\r\\n     <a href=\"/livetv/\" class=\"bgtlive-tv\"><img src=\"https://images.news18.com/static_news18/pix/ibnhome/news18/images/mobile/livetv-icon-mobile.png\" alt=\"\" /><span>LIVE TV</span></a>\\r\\n            \\r\\n<a href=\"https://play.google.com/store/apps/details?id=com.divum.ibn&amp;hl=en\" class=\"geta-app\" onclick=\"ga(\\'send\\', \\'event\\', \\'App_download\\', \\'Click\\', \\'English\\');\" target=\"_blank\"><img src=\"https://images.news18.com/ibnlive/uploads/2019/01/app-darrow3.png\" alt=\"\"><span>Download</span>News18 App</a>\\t\\t\\t\\r\\n\\r\\n\\r\\n\\r\\n</div><div class=\"mobile-bg\"></div><div class=\"mobile-navigation\"><div class=\"mbl-arrow-switch\"></div><div class=\"mobile-navigation-list\"><div class=\"mbl-nav-list\"><div class=\"language-box\"> \\r\\n\\r\\n                                <a href=\"https://www.news18.com/\" class=\"act\">English</a>\\r\\n                                \\r\\n\\t\\t\\t\\t<a href=\"https://hindi.news18.com/\" onClick=\"ga(\\'send\\', \\'event\\', \\'Hindi\\', \\'Click\\', \\'https://www.news18.com/\\');\" target=\"_blank\">\\xe0\\xa4\\xb9\\xe0\\xa4\\xbf\\xe0\\xa4\\xa8\\xe0\\xa5\\x8d\\xe0\\xa4\\xa6\\xe0\\xa5\\x80</a>\\r\\n\\t\\t\\t\\t<a href=\"https://bengali.news18.com/\" onClick=\"ga(\\'send\\', \\'event\\', \\'Bengali\\', \\'Click\\', \\'http://www.news18.com/\\');\" target=\"_blank\">\\xe0\\xa6\\xac\\xe0\\xa6\\xbe\\xe0\\xa6\\x82\\xe0\\xa6\\xb2\\xe0\\xa6\\xbe</a>\\r\\n\\t\\t\\t\\t<a href=\"https://lokmat.news18.com/\" onClick=\"ga(\\'send\\', \\'event\\', \\'Marathi\\', \\'Click\\', \\'http://www.news18.com/\\');\" target=\"_blank\">\\xe0\\xa4\\xae\\xe0\\xa4\\xb0\\xe0\\xa4\\xbe\\xe0\\xa4\\xa0\\xe0\\xa5\\x80</a>\\r\\n\\t\\t\\t\\t<a href=\"https://gujarati.news18.com/\" onClick=\"ga(\\'send\\', \\'event\\', \\'Gujarati\\', \\'Click\\', \\'https://www.news18.com/\\');\" target=\"_blank\">\\xe0\\xaa\\x97\\xe0\\xab\\x81\\xe0\\xaa\\x9c\\xe0\\xaa\\xb0\\xe0\\xaa\\xbe\\xe0\\xaa\\xa4\\xe0\\xab\\x80</a>\\r\\n\\t\\t\\t\\t\\r\\n\\t\\t\\t\\t<a href=\"https://kannada.news18.com/\" onClick=\"ga(\\'send\\', \\'event\\', \\'Kannada\\', \\'Click\\', \\'https://www.news18.com/\\');\" target=\"_blank\">\\xe0\\xb2\\x95\\xe0\\xb2\\xa8\\xe0\\xb3\\x8d\\xe0\\xb2\\xa8\\xe0\\xb2\\xa1</a>\\r\\n\\t\\t\\t\\t<a href=\"https://tamil.news18.com/\" onClick=\"ga(\\'send\\', \\'event\\', \\'Tamil\\', \\'Click\\', \\'https://www.news18.com/\\');\" target=\"_blank\">\\xe0\\xae\\xa4\\xe0\\xae\\xae\\xe0\\xae\\xbf\\xe0\\xae\\xb4\\xe0\\xaf\\x8d</a>\\r\\n                                <a href=\"https://malayalam.news18.com/\" onClick=\"ga(\\'send\\', \\'event\\', \\'Malayalam\\', \\'Click\\', \\'https://www.news18.com/\\');\" target=\"_blank\">\\xe0\\xb4\\xae\\xe0\\xb4\\xb2\\xe0\\xb4\\xaf\\xe0\\xb4\\xbe\\xe0\\xb4\\xb3\\xe0\\xb4\\x82</a>\\r\\n\\t\\t\\t\\t\\r\\n                                <a href=\"https://telugu.news18.com/\" onClick=\"ga(\\'send\\', \\'event\\', \\'Telugu\\', \\'Click\\', \\'https://www.news18.com/\\');\" target=\"_blank\">\\xe0\\xb0\\xa4\\xe0\\xb1\\x86\\xe0\\xb0\\xb2\\xe0\\xb1\\x81\\xe0\\xb0\\x97\\xe0\\xb1\\x81</a>\\r\\n\\t\\t\\t\\t\\r\\n\\t\\t\\t\\t<a href=\"https://punjab.news18.com/\" onClick=\"ga(\\'send\\', \\'event\\', \\'Punjabi\\', \\'Click\\', \\'https://www.news18.com/\\');\" target=\"_blank\">\\xe0\\xa8\\xaa\\xe0\\xa9\\xb0\\xe0\\xa8\\x9c\\xe0\\xa8\\xbe\\xe0\\xa8\\xac\\xe0\\xa9\\x80</a>\\r\\n\\t\\t\\t\\t<a href=\"https://urdu.news18.com/\" onClick=\"ga(\\'send\\', \\'event\\', \\'Urdu\\', \\'Click\\', \\'http://www.news18.com/\\');\" target=\"_blank\">\\xd8\\xa7\\xd8\\xb1\\xd8\\xaf\\xd9\\x88</a>\\r\\n\\t\\t\\t\\t\\r\\n\\t\\t\\t\\t<a href=\"https://assam.news18.com/\" onClick=\"ga(\\'send\\', \\'event\\', \\'Assamese\\', \\'Click\\', \\'http://www.news18.com/\\');\" target=\"_blank\">\\xe0\\xa6\\x85\\xe0\\xa6\\xb8\\xe0\\xa6\\xae\\xe0\\xa7\\x80\\xe0\\xa6\\xaf\\xe0\\xa6\\xbc\\xe0\\xa6\\xbe</a>\\r\\n\\t\\t\\t\\r\\n\\t\\t\\t</div>\\r\\n\\t\\t\\t<ul>\\r\\n\\t\\t\\t<li><a href=\"/\">Home</a></li><li><a href=\"/assembly-elections-2019/\">Elections</a></li><li><a href=\"/politics/\">Politics</a></li><li><a href=\"/india/\">India</a></li><li><a href=\"/opinion/\">Opinion</a></li><li><a href=\"/entertainment/\">Entertainment</a></li><li><a href=\"/tech/\">Tech</a></li><li><a href=\"/auto/\">Auto</a></li><li><a href=\"/buzz/\">Buzz</a></li><li><a href=\"/videos/\">Videos</a></li> </ul>\\r\\n\\t\\t</div><ul class=\"mbl-subnav-list\">    <li><a href=\"/cricketnext/\">Cricket</a></li><li><a href=\"/shows/\">TV Shows</a></li><li><a href=\"/videos/\">TV Videos</a></li><li><a href=\"/travel/\">Travel</a></li><li><a href=\"/business/\">Business</a></li><li><a href=\"/health-and-fitness/\">Health and Fitness</a></li><li><a href=\"/blogs/\">Blogs</a></li><li><a href=\"/podcast/\">Podcast</a></li><li><a href=\"/immersives/\">Immersives</a></li><li><a href=\"/football/\">Football</a></li><li><a href=\"/food/\">Food</a></li><li><a href=\"/stocks/indian-stocks-market-live/\">Stocks</a></li><li><a href=\"/lok-sabha-elections-2019/\">Lok Sabha Elections 2019</a></li><li><a href=\"/assembly-elections-2018/\">Assembly Elections 2018</a></li><li><a href=\"/services/\">Services</a></li><li><a href=\"/world/\">World</a></li><li><a href=\"/lifestyle/\">Lifestyle</a></li><li><a href=\"/mission-paani/\">Mission Paani</a></li><li><a href=\"/budget-2019/\">Budget</a></li><li><a href=\"/sports/\">Sports</a></li><li><a href=\"/i-reel-awards/\">iReel Awards</a></li><li><a href=\"/news/\"  class=\"slnav\">Latest</a></li><li><a href=\"/newstopics/ayodhya-verdict.html\"  class=\"slnav\">Ayodhya Verdict</a></li><li><a href=\"/photogallery/\"  class=\"slnav\">Photos</a></li><li><a href=\"/lifestyle/\"  class=\"slnav\">Lifestyle</a></li><li><a href=\"/immersives/\" target=\"_blank\" class=\"slnav\">Immersives</a></li><li><a href=\"https://www.in.com/vanity-diaries.html\" target=\"_blank\" class=\"slnav\">Vanity Diaries</a></li><li><a href=\"/isl-2019-20/\"  class=\"slnav\">ISL 2019</a></li><li><a href=\"/sbi-lifestyle-banking/\"  class=\"slnav\">Lifestyle & Banking</a></li><li><a href=\"/swasthimmunisedindia/\"  class=\"slnav\">Swasth India</a></li><li><a href=\"https://www.news18.com/privacy_policy.html\" target=\"_blank\" class=\"slnav\">Privacy Policy</a></li></ul></div></div><div class=\"exp-search-formobile exp-formobile\">\\t<div class=\"expinner\"><script>(function() {\\tvar cx = \\'017500531210951933434:xmqutf8eyba\\'; var gcse = document.createElement(\\'script\\');gcse.type = \\'\\';gcse.async = true;gcse.src = \\'https://cse.google.com/cse.js?cx=\\' + cx;var s = document.getElementsByTagName(\\'script\\')[0];s.parentNode.insertBefore(gcse, s);})();</script><div class=\"gcse-search\"></div></div></div><style>.header-add{float:right;position:relative;}\\t.glbl-nav{background:#f5f5f5;height:30px;line-height:30px;border-top:3px solid #e1261d;width:100%}.language{padding-top:0}.language li{padding:0 12px;float:left}.language li:first-child{padding-left:0}.language li.act{background:#e1261d}.language li:first-child.act{background:#e1261d;padding:0 12px}.lng-sprite_img{background:url(https://images.news18.com/static_news18/pix/ibnhome/news18/top-nav/lng-sprite_img.png) no-repeat;display:inline-block;height:17px!important}.lenglish{background-position:0 4px;width:44px}.lenglish.act{background-position:0 -12px}.lhindi{background-position:-47px 4px;width:22px}.lgujrati{background-position:-71px 2px;width:42px}.lgujrati.act{background-position:-71px -15px}.lurdu{background-position:-115px 2px;width:20px}.lurdu.act{background-position:-115px -15px}.lbangla{background-position:-136px 3px;width:35px}.lbangla.act{background-position:-136px -12px}.glbl-nav-r img{vertical-align:middle;margin-left:25px;position:relative;top:-2px}header{border-top:none}.language-box{padding:10px}.language-box a{margin:0 10px 10px 0;width:82px;text-align:center;padding:6px 0 7px;background:#e2e2e2;display:inline-block}.language-box a.act{background:#ee1b24;color:#fff;}.language-box a:hover{background:#e2e2e2;color:#282828;}.language-sprite{background:url(https://images.news18.com/static_news18/pix/ibnhome/news18/top-nav/language-sprite.png) no-repeat;display:inline-block}.lang-eng{background-position:-7px -8px;width:59px;height:11px}.lang-eng:hover,.language-box a.act span.lang-eng{background-position:-82px -8px}.lang-hind{background-position:-7px -28px;width:31px;height:20px}.lang-hind:hover,.language-box a.act span.lang-hind{background-position:-82px -28px;width:31px;height:20px}.lang-bangla{background-position:-7px -56px;width:40px;height:15px}.lang-bangla:hover,.language-box a.act span.lang-bangla{background-position:-82px -56px;width:40px;height:15px}.lang-urdu{background-position:-7px -75px;width:33px;height:17px}.lang-urdu:hover,.language-box a.act span.lang-urdu{background-position:-82px -75px;width:33px;height:17px}.lang-gujrati{background-position:-7px -95px;width:45px;height:20px}.lang-gujrati:hover,.language-box a.act span.lang-gujrati{background-position:-82px -95px;width:45px;height:20px}.auto-header{background:url(https://images.news18.com/static_news18/pix/ibnhome/news18/autoheader-bg.jpg) no-repeat;height:90px}.auto-lbox{padding-top:20px}.autologo{border-right:1px solid #6b6b6b;padding-right:12px;margin-right:12px}.news18slogo{position:relative;top:-6px}.automheader{display:none}@media only screen and (max-width:600px){.glbl-nav{display:none!important}.automheader{display:block;background:url(https://images.news18.com/static_news18/pix/ibnhome/news18/autoheader-bg.jpg) no-repeat;height:53px;position:fixed;top:0;left:0;width:100%;z-index:9;border-top:3px solid #e1261c}.autoslogo{width:98px!important}.logo-for-mbl.tclgnew{top:8px}}.top-nav{background:#f5f5f5; border-top:3px solid #e1261d; height:30px} .language{height:29px; display:flex; justify-content:space-between} .language a{background:#ececec; height:27px; margin-right:1px; flex:1; font-size:12px; line-height:27px; display:flex; padding:0 12px; color:#444; text-transform:uppercase; position:relative} .language a.act{background:#e1261d; color:#fff; font-weight:bold} .language a span{height:17px; margin:auto} .language a strong{display:none; z-index:3;  background:#414141; height:20px; line-height:20px; font-size:11px; color:#fff; padding:2px 10px; border-radius:3px; position:absolute;top:30px;left:0px} .language a strong:before{content: \"\"; border-top: 6px solid #414141; border-left: 6px solid transparent; display: block; position: absolute; top: -3px; left:45%; transform: rotate(-45deg)} .language a:hover strong{display:block;} .fllow-us{display:flex; width:420px;height:26px;} .fllow-us .fuinner{background:#fff; padding:0 10px; margin-left:2px} .fllow-us .fuinner a:last-child{margin-right:0} .fllow-us .fuinner span{font-size:13px; color:#8a8a8a; padding-right:10px; margin-right:6px; font-style:italic; position:relative} .fllow-us .fuinner span::after{content:\\'\\'; border-top:4px solid transparent; border-bottom:4px solid transparent; border-left:4px solid #898989; position:absolute; top:6px; right:-4px} .fllow-us .fuinner a{margin:0 6px; vertical-align:middle; margin-top : 3px; } .sprite-img{background:url(https://images.news18.com/static_news18/pix/ibnhome/news18/images/desktop/news18/sprite-img.png);display:inline-block} .fbicon{background-position: -57px -33px; width: 10px; height:18px} .twicon{background-position: -82px -34px; width: 20px; height:15px}.utube{background-position: -113px -56px; width: 22px; height:16px} .ipicon{background-position: -114px -34px; width:16px; height:19px} .gpicon{background-position: -145px -34px; width: 18px; height:19px} .dfnjsb{display: flex; justify-content: space-between;} nav.fixed-header ul.nav-box li{margin-right:25px;} @media only screen and (max-width:600px){.top-nav{display:none!important}}</style><div class=\"mnone\"></div><div class=\"top-nav\"> <div class=\"outer dfnjsb\"> <div class=\"language\"> \\r\\n                                                                                                                                                                                                        \\r\\n                        <a href=\"https://www.news18.com/\" class=\"act\">English <strong>English</strong></a>\\r\\n\\t\\t\\t\\r\\n\\t\\t\\t<a href=\"https://hindi.news18.com/\" onClick=\"ga(\\'send\\', \\'event\\', \\'Hindi\\', \\'Click\\', \\'https://www.news18.com/\\');\" target=\"_blank\">\\xe0\\xa4\\xb9\\xe0\\xa4\\xbf\\xe0\\xa4\\xa8\\xe0\\xa5\\x8d\\xe0\\xa4\\xa6\\xe0\\xa5\\x80 <strong>Hindi</strong></a>\\r\\n\\t\\t\\t<a href=\"https://bengali.news18.com/\" onClick=\"ga(\\'send\\', \\'event\\', \\'Bengali\\', \\'Click\\', \\'https://www.news18.com/\\');\" target=\"_blank\">\\xe0\\xa6\\xac\\xe0\\xa6\\xbe\\xe0\\xa6\\x82\\xe0\\xa6\\xb2\\xe0\\xa6\\xbe <strong>Bengali</strong></a>\\r\\n\\t\\t\\t<a href=\"https://lokmat.news18.com/\" onClick=\"ga(\\'send\\', \\'event\\', \\'Marathi\\', \\'Click\\', \\'https://www.news18.com/\\');\" target=\"_blank\">\\xe0\\xa4\\xae\\xe0\\xa4\\xb0\\xe0\\xa4\\xbe\\xe0\\xa4\\xa0\\xe0\\xa5\\x80 <strong>Marathi</strong></a>\\r\\n\\t\\t\\t<a href=\"https://gujarati.news18.com/\" onClick=\"ga(\\'send\\', \\'event\\', \\'Gujarati\\', \\'Click\\', \\'https://www.news18.com/\\');\" target=\"_blank\">\\xe0\\xaa\\x97\\xe0\\xab\\x81\\xe0\\xaa\\x9c\\xe0\\xaa\\xb0\\xe0\\xaa\\xbe\\xe0\\xaa\\xa4\\xe0\\xab\\x80 <strong>Gujarati</strong></a>\\r\\n\\t\\t\\t<a href=\"https://kannada.news18.com/\" onClick=\"ga(\\'send\\', \\'event\\', \\'Kannada\\', \\'Click\\', \\'https://www.news18.com/\\');\" target=\"_blank\">\\xe0\\xb2\\x95\\xe0\\xb2\\xa8\\xe0\\xb3\\x8d\\xe0\\xb2\\xa8\\xe0\\xb2\\xa1 <strong>Kannada</strong></a>\\r\\n\\t\\t\\t<a href=\"https://tamil.news18.com/\" onClick=\"ga(\\'send\\', \\'event\\', \\'Tamil\\', \\'Click\\', \\'https://www.news18.com/\\');\" target=\"_blank\">\\xe0\\xae\\xa4\\xe0\\xae\\xae\\xe0\\xae\\xbf\\xe0\\xae\\xb4\\xe0\\xaf\\x8d <strong>Tamil</strong></a>\\r\\n\\t\\t\\t<a href=\"https://malayalam.news18.com/\" onClick=\"ga(\\'send\\', \\'event\\', \\'Malayalam\\', \\'Click\\', \\'https://www.news18.com/\\');\" target=\"_blank\">\\xe0\\xb4\\xae\\xe0\\xb4\\xb2\\xe0\\xb4\\xaf\\xe0\\xb4\\xbe\\xe0\\xb4\\xb3\\xe0\\xb4\\x82<strong>Malayalam</strong></a>\\r\\n\\t\\t\\t<a href=\"https://telugu.news18.com/\" onClick=\"ga(\\'send\\', \\'event\\', \\'Telugu\\', \\'Click\\', \\'https://www.news18.com/\\');\" target=\"_blank\">\\xe0\\xb0\\xa4\\xe0\\xb1\\x86\\xe0\\xb0\\xb2\\xe0\\xb1\\x81\\xe0\\xb0\\x97\\xe0\\xb1\\x81<strong>TELUGU</strong></a>\\r\\n\\t\\t\\t\\r\\n\\t\\t\\t<a href=\"https://punjab.news18.com/\" onClick=\"ga(\\'send\\', \\'event\\', \\'Punjabi\\', \\'Click\\', \\'https://www.news18.com/\\');\" target=\"_blank\">\\xe0\\xa8\\xaa\\xe0\\xa9\\xb0\\xe0\\xa8\\x9c\\xe0\\xa8\\xbe\\xe0\\xa8\\xac\\xe0\\xa9\\x80<strong>Punjabi</strong></a>\\r\\n\\t\\t\\t<a href=\"https://urdu.news18.com/\" onClick=\"ga(\\'send\\', \\'event\\', \\'Urdu\\', \\'Click\\', \\'http://www.news18.com/\\');\" target=\"_blank\">\\xd8\\xa7\\xd8\\xb1\\xd8\\xaf\\xd9\\x88 <strong>Urdu</strong></a>\\r\\n                        \\r\\n\\t\\t\\t\\t\\r\\n\\t\\t\\t\\t</div> <div class=\"fllow-us\"> <div class=\"fuinner\"><span>follow us on</span><a href=\"https://www.facebook.com/cnnnews18/\" target=\"_blank\" class=\"sprite-img fbicon\"></a> <a href=\"https://twitter.com/CNNnews18\" target=\"_blank\" class=\"sprite-img twicon\"></a><a href=\"https://www.youtube.com/user/ibnlive\" target=\"_blank\" class=\"sprite-img utube\"></a></div> <div class=\"fuinner\"><span>reach us on app store</span><a href=\"https://itunes.apple.com/in/app/news18-for-iphone/id395194912?mt=8\" target=\"_blank\" class=\"sprite-img ipicon\"></a> <a href=\"https://play.google.com/store/apps/details?id=com.divum.ibn&amp;hl=en\" target=\"_blank\" class=\"sprite-img gpicon\"></a></div> </div> </div> </div><header>\\t<div class=\"clearfix outer\">\\r\\n\\t\\t\\t\\r\\n\\t\\t\\t\\t\\t\\t\\t\\t<a href=\"/\"><img src=\"https://images.news18.com/static_news18/pix/ibnhome/news18/megamenu/news18-main.png\" alt=\"News18 English\" title=\"News18 English\"></a>\\r\\n\\t\\t\\t\\t\\r\\n\\t\\t\\t\\r\\n\\t\\t\\t\\r\\n\\t\\t\\t<div class=\"fright topad\">\\r\\n\\t\\t\\t<div class=\"header-add\" id=\"headerAds728x90\"></div>\\t\\t\\t</div>\\r\\n\\t\\t\\t</div></header><nav><div class=\"outer clearfix\"><a href=\"/\" class=\"stky-logo fleft sroll-hide\"><img src=\"https://images.news18.com/static_news18/pix/ibnhome/news18/megamenu/news18-sticky.png\" alt=\"News18 Logo\" /></a><ul class=\"fleft nav-box\"><li><a class=\"pleft\" href=\"/\" onclick=\"ga(\\'send\\', \\'event\\', \\'Navigation\\', \\'Click\\', \\'Top Nav - Home\\');\">Home</a></li><li><a href=\"/assembly-elections-2019/\" onclick=\"ga(\\'send\\', \\'event\\', \\'Navigation\\', \\'Click\\', \\'Top Nav - Elections\\');\">Elections</a></li><li><a href=\"/politics/\" onclick=\"ga(\\'send\\', \\'event\\', \\'Navigation\\', \\'Click\\', \\'Top Nav - Politics\\');\">Politics</a></li><li><a href=\"/india/\" onclick=\"ga(\\'send\\', \\'event\\', \\'Navigation\\', \\'Click\\', \\'Top Nav - India\\');\">India</a></li><li><a href=\"/opinion/\" onclick=\"ga(\\'send\\', \\'event\\', \\'Navigation\\', \\'Click\\', \\'Top Nav - Opinion\\');\">Opinion</a></li><li><a href=\"/entertainment/\" onclick=\"ga(\\'send\\', \\'event\\', \\'Navigation\\', \\'Click\\', \\'Top Nav - Entertainment\\');\">Entertainment</a></li><li><a href=\"/tech/\" onclick=\"ga(\\'send\\', \\'event\\', \\'Navigation\\', \\'Click\\', \\'Top Nav - Tech\\');\">Tech</a></li><li><a href=\"/auto/\" onclick=\"ga(\\'send\\', \\'event\\', \\'Navigation\\', \\'Click\\', \\'Top Nav - Auto\\');\">Auto</a></li><li><a href=\"/buzz/\" onclick=\"ga(\\'send\\', \\'event\\', \\'Navigation\\', \\'Click\\', \\'Top Nav - Buzz\\');\">Buzz</a></li><li><a href=\"/videos/\" onclick=\"ga(\\'send\\', \\'event\\', \\'Navigation\\', \\'Click\\', \\'Top Nav - Videos\\');\">Videos</a></li><li><a href=\"/cricketnext/\" onclick=\"ga(\\'send\\', \\'event\\', \\'Navigation\\', \\'Click\\', \\'Top Nav - Cricket\\');\">Cricket</a></li></ul><div class=\"gsearch-box\"><div class=\"exp-search exp\">\\r\\n\\t\\t\\t\\t<div class=\"expinner\"><script>(function() {var cx = \"017500531210951933434:xmqutf8eyba\";var gcse = document.createElement(\"script\");\\t\\t\\t\\t\\t\\t\\tgcse.type = \"text/javascript\";\\t\\t\\t\\t\\t\\t\\tgcse.async = true; gcse.src = \"https://cse.google.com/cse.js?cx=\" + cx;\\tvar s = document.getElementsByTagName(\"script\")[0];\\t\\t\\t\\t\\t\\t\\ts.parentNode.insertBefore(gcse, s);\\t})();\\t\\t\\t\\t\\t</script><div class=\"gcse-search\"></div></div></div></div><ul class=\"subnav fright clearfix\"><li><a href=\"javascript:void(0);\">All Sections <em></em></a></li><li><a href=\"javascript:void(0);\" class=\"search-icon spriteimage sbtn\"></a></li><li><a href=\"/livetv/\" onclick=\"ga(\\'send\\', \\'event\\', \\'Navigation\\', \\'Click\\', \\'Top Nav - LIVE TV\\');\"><span class=\"spriteimage livetv\"></span><br /> LIVE TV</a> </li></ul><div class=\"nav-rgt-inside-links\"><div class=\"social-links\"><a href=\"https://www.facebook.com/cnnnews18/\" target=\"_blank\" class=\"social-sprite hfb-icon\"></a><a href=\"https://twitter.com/CNNnews18\" target=\"_blank\" class=\"social-sprite htw-icon\"></a><a href=\"https://www.instagram.com/cnnnews18/\" target=\"_blank\" class=\"social-sprite hins-icon\"></a><a href=\"https://www.youtube.com/channel/UCef1-8eOpJgud7szVPlZQAQ?sub_confirmation=1\" target=\"_blank\" class=\"social-sprite hu-icon\"></a></div><div class=\"sub-nav clearfix\"><ul class=\"h-links clearfix\"><li><a href=\"/\" onclick=\"ga(\\'send\\', \\'event\\', \\'Navigation\\', \\'Click\\', \\'Top Drop Nav - Home\\');\">Home</a></li><li><a href=\"/assembly-elections-2019/\" onclick=\"ga(\\'send\\', \\'event\\', \\'Navigation\\', \\'Click\\', \\'Top Drop Nav - Elections\\');\">Elections</a></li><li><a href=\"/politics/\" onclick=\"ga(\\'send\\', \\'event\\', \\'Navigation\\', \\'Click\\', \\'Top Drop Nav - Politics\\');\">Politics</a></li><li><a href=\"/india/\" onclick=\"ga(\\'send\\', \\'event\\', \\'Navigation\\', \\'Click\\', \\'Top Drop Nav - India\\');\">India</a></li><li><a href=\"/opinion/\" onclick=\"ga(\\'send\\', \\'event\\', \\'Navigation\\', \\'Click\\', \\'Top Drop Nav - Opinion\\');\">Opinion</a></li><li><a href=\"/entertainment/\" onclick=\"ga(\\'send\\', \\'event\\', \\'Navigation\\', \\'Click\\', \\'Top Drop Nav - Entertainment\\');\">Entertainment</a></li><li><a href=\"/tech/\" onclick=\"ga(\\'send\\', \\'event\\', \\'Navigation\\', \\'Click\\', \\'Top Drop Nav - Tech\\');\">Tech</a></li><li><a href=\"/auto/\" onclick=\"ga(\\'send\\', \\'event\\', \\'Navigation\\', \\'Click\\', \\'Top Drop Nav - Auto\\');\">Auto</a></li><li><a href=\"/buzz/\" onclick=\"ga(\\'send\\', \\'event\\', \\'Navigation\\', \\'Click\\', \\'Top Drop Nav - Buzz\\');\">Buzz</a></li><li><a href=\"/videos/\" onclick=\"ga(\\'send\\', \\'event\\', \\'Navigation\\', \\'Click\\', \\'Top Drop Nav - Videos\\');\">Videos</a></li><li><a href=\"/cricketnext/\" onclick=\"ga(\\'send\\', \\'event\\', \\'Navigation\\', \\'Click\\', \\'Top Drop Nav - Cricket\\');\">Cricket</a></li><li><a href=\"/shows/\" onclick=\"ga(\\'send\\', \\'event\\', \\'Navigation\\', \\'Click\\', \\'Top Drop Nav - TV Shows\\');\">TV Shows</a></li><li><a href=\"/videos/\" onclick=\"ga(\\'send\\', \\'event\\', \\'Navigation\\', \\'Click\\', \\'Top Drop Nav - TV Videos\\');\">TV Videos</a></li><li><a href=\"/travel/\" onclick=\"ga(\\'send\\', \\'event\\', \\'Navigation\\', \\'Click\\', \\'Top Drop Nav - Travel\\');\">Travel</a></li><li><a href=\"/business/\" onclick=\"ga(\\'send\\', \\'event\\', \\'Navigation\\', \\'Click\\', \\'Top Drop Nav - Business\\');\">Business</a></li><li><a href=\"/health-and-fitness/\" onclick=\"ga(\\'send\\', \\'event\\', \\'Navigation\\', \\'Click\\', \\'Top Drop Nav - Health and Fitness\\');\">Health and Fitness</a></li><li><a href=\"/blogs/\" onclick=\"ga(\\'send\\', \\'event\\', \\'Navigation\\', \\'Click\\', \\'Top Drop Nav - Blogs\\');\">Blogs</a></li><li><a href=\"/podcast/\" onclick=\"ga(\\'send\\', \\'event\\', \\'Navigation\\', \\'Click\\', \\'Top Drop Nav - Podcast\\');\">Podcast</a></li><li><a href=\"/immersives/\" onclick=\"ga(\\'send\\', \\'event\\', \\'Navigation\\', \\'Click\\', \\'Top Drop Nav - Immersives\\');\">Immersives</a></li><li><a href=\"/football/\" onclick=\"ga(\\'send\\', \\'event\\', \\'Navigation\\', \\'Click\\', \\'Top Drop Nav - Football\\');\">Football</a></li><li><a href=\"/food/\" onclick=\"ga(\\'send\\', \\'event\\', \\'Navigation\\', \\'Click\\', \\'Top Drop Nav - Food\\');\">Food</a></li><li><a href=\"/stocks/indian-stocks-market-live/\" onclick=\"ga(\\'send\\', \\'event\\', \\'Navigation\\', \\'Click\\', \\'Top Drop Nav - Stocks\\');\">Stocks</a></li><li><a href=\"/lok-sabha-elections-2019/\" onclick=\"ga(\\'send\\', \\'event\\', \\'Navigation\\', \\'Click\\', \\'Top Drop Nav - Lok Sabha Elections 2019\\');\">Lok Sabha Elections 2019</a></li><li><a href=\"/assembly-elections-2018/\" onclick=\"ga(\\'send\\', \\'event\\', \\'Navigation\\', \\'Click\\', \\'Top Drop Nav - Assembly Elections 2018\\');\">Assembly Elections 2018</a></li><li><a href=\"/services/\" onclick=\"ga(\\'send\\', \\'event\\', \\'Navigation\\', \\'Click\\', \\'Top Drop Nav - Services\\');\">Services</a></li><li><a href=\"/world/\" onclick=\"ga(\\'send\\', \\'event\\', \\'Navigation\\', \\'Click\\', \\'Top Drop Nav - World\\');\">World</a></li><li><a href=\"/lifestyle/\" onclick=\"ga(\\'send\\', \\'event\\', \\'Navigation\\', \\'Click\\', \\'Top Drop Nav - Lifestyle\\');\">Lifestyle</a></li><li><a href=\"/mission-paani/\" onclick=\"ga(\\'send\\', \\'event\\', \\'Navigation\\', \\'Click\\', \\'Top Drop Nav - Mission Paani\\');\">Mission Paani</a></li><li><a href=\"/budget-2019/\" onclick=\"ga(\\'send\\', \\'event\\', \\'Navigation\\', \\'Click\\', \\'Top Drop Nav - Budget\\');\">Budget</a></li><li><a href=\"/sports/\" onclick=\"ga(\\'send\\', \\'event\\', \\'Navigation\\', \\'Click\\', \\'Top Drop Nav - Sports\\');\">Sports</a></li><li><a href=\"/i-reel-awards/\" onclick=\"ga(\\'send\\', \\'event\\', \\'Navigation\\', \\'Click\\', \\'Top Drop Nav - iReel Awards\\');\">iReel Awards</a></li></ul><div class=\"b-link clearfix\"><a href=\"/news/\" onclick=\"ga(\\'send\\', \\'event\\', \\'Navigation\\', \\'Click\\', \\'Top Drop Nav - Latest\\');\" >Latest</a><a href=\"/newstopics/ayodhya-verdict.html\" onclick=\"ga(\\'send\\', \\'event\\', \\'Navigation\\', \\'Click\\', \\'Top Drop Nav - Ayodhya Verdict\\');\" >Ayodhya Verdict</a><a href=\"/photogallery/\" onclick=\"ga(\\'send\\', \\'event\\', \\'Navigation\\', \\'Click\\', \\'Top Drop Nav - Photos\\');\" >Photos</a><a href=\"/lifestyle/\" onclick=\"ga(\\'send\\', \\'event\\', \\'Navigation\\', \\'Click\\', \\'Top Drop Nav - Lifestyle\\');\" >Lifestyle</a><a href=\"/immersives/\" onclick=\"ga(\\'send\\', \\'event\\', \\'Navigation\\', \\'Click\\', \\'Top Drop Nav - Immersives\\');\" target=\"_blank\">Immersives</a><a href=\"https://www.in.com/vanity-diaries.html\" onclick=\"ga(\\'send\\', \\'event\\', \\'Navigation\\', \\'Click\\', \\'Top Drop Nav - Vanity Diaries\\');\" target=\"_blank\">Vanity Diaries</a><a href=\"/isl-2019-20/\" onclick=\"ga(\\'send\\', \\'event\\', \\'Navigation\\', \\'Click\\', \\'Top Drop Nav - ISL 2019\\');\" >ISL 2019</a><a href=\"/sbi-lifestyle-banking/\" onclick=\"ga(\\'send\\', \\'event\\', \\'Navigation\\', \\'Click\\', \\'Top Drop Nav - Lifestyle & Banking\\');\" >Lifestyle & Banking</a><a href=\"/swasthimmunisedindia/\" onclick=\"ga(\\'send\\', \\'event\\', \\'Navigation\\', \\'Click\\', \\'Top Drop Nav - Swasth India\\');\" >Swasth India</a>\\t</div></div></div></div></nav><div class=\"secont-lnav\">\\t<div class=\"clearfix outer\">    \\t<ul class=\"fleft clearfix\"> <li><a href=\"/news/\"  onclick=\"ga(\\'send\\', \\'event\\', \\'Navigation\\', \\'Click\\', \\'Top Sub Nav - Latest\\')\" >Latest</a></li><li><a href=\"/newstopics/ayodhya-verdict.html\"  onclick=\"ga(\\'send\\', \\'event\\', \\'Navigation\\', \\'Click\\', \\'Top Sub Nav - Ayodhya Verdict\\')\" >Ayodhya Verdict</a></li><li><a href=\"/photogallery/\"  onclick=\"ga(\\'send\\', \\'event\\', \\'Navigation\\', \\'Click\\', \\'Top Sub Nav - Photos\\')\" >Photos</a></li><li><a href=\"/lifestyle/\"  onclick=\"ga(\\'send\\', \\'event\\', \\'Navigation\\', \\'Click\\', \\'Top Sub Nav - Lifestyle\\')\" >Lifestyle</a></li><li><a href=\"/immersives/\"  onclick=\"ga(\\'send\\', \\'event\\', \\'Navigation\\', \\'Click\\', \\'Top Sub Nav - Immersives\\')\" target=\"_blank\">Immersives</a></li><li><a href=\"https://www.in.com/vanity-diaries.html\"  onclick=\"ga(\\'send\\', \\'event\\', \\'Navigation\\', \\'Click\\', \\'Top Sub Nav - Vanity Diaries\\')\" target=\"_blank\">Vanity Diaries</a></li><li><a href=\"/isl-2019-20/\"  onclick=\"ga(\\'send\\', \\'event\\', \\'Navigation\\', \\'Click\\', \\'Top Sub Nav - ISL 2019\\')\" >ISL 2019</a></li><li><a href=\"/sbi-lifestyle-banking/\"  onclick=\"ga(\\'send\\', \\'event\\', \\'Navigation\\', \\'Click\\', \\'Top Sub Nav - Lifestyle & Banking\\')\" >Lifestyle & Banking</a></li><li><a href=\"/swasthimmunisedindia/\"  onclick=\"ga(\\'send\\', \\'event\\', \\'Navigation\\', \\'Click\\', \\'Top Sub Nav - Swasth India\\')\" >Swasth India</a></li>  <li class=\"paani\"><a href=\"/mission-paani/\" onclick=\"ga(\\'send\\', \\'event\\', \\'Navigation\\', \\'Click\\', \\'Top Sub Nav - Mission Pani\\');\" ><img src=\"//images.news18.com/ibnlive/uploads/2019/07/mission-pani.gif\" alt=\"Mission Paani\" /></a></li> \\r\\n\\r\\n\\t\\t</ul> </div></div>\\r\\n<style>\\r\\n\\tli.paani{padding-top:8px;}\\r\\n</style>\\r\\n\\r\\n<style>/*.budget-header{ display:none; } .smlogo{float:left; margin-right:10px;} @media only screen and (max-width:600px){.budget-header{height:50px;border-bottom:2px solid #868686;position:relative;display:flex;justify-content:space-between;margin-top:15px;} .budget-header .spsdiv{padding:2px;height:41px;width:180px;margin:0px 4px 0 0} .budget-header .spsdiv h2{font-size:9px;text-transform:uppercase;color:#6a6a6a;text-align:center;height:5px;margin-bottom:4px;border-bottom:1px solid #dbdbdb} .budget-header .spsdiv h2 span{background:#fff;padding:0 3px} .budget-header .spsdiv .slinner{display:flex;justify-content:space-between} .budget-header .budgetlogo{padding-top:3px} }*/\\r\\n\\t\\t\\t</style>\\r\\n<!--<div class=\"budget-header\"> <a href=\"https://www.news18.com/union-budget-2018/\"> <img src=\"https://images.news18.com/static_news18/pix/ibnhome/news18/images/mobile/budget-2018-images/budget-logo-New.png\" alt=\"\" class=\"budgetlogo\" /> </a> <div class=\"spsdiv\"> <h2><span>SPONSORS</span></h2> <div class=\"slinner slider responsive3\"  style=\"overflow:hidden;\"><div class=\"smlogo\"><a href=\"http://pubads.g.doubleclick.net/gampad/clk?id=4555009846&iu=/1039154/News18_Wap_1/News18_Wap_Budget/News18_Wap_Budget_ClickTrackers/News18_Wap_Budget_ClickTrackers_85x36_Indiabulls\" target=\"_blank\"><img src=\"https://images.news18.com/static_news18/pix/ibnhome/news18/budget_mobile/Indiabulls_REV_80x30_1.jpg\"></a></div><div class=\"smlogo\"><a href=\" http://bbzr.co/2hJG0Rr\" target=\"_blank\"><img src=\"https://images.news18.com/static_news18/pix/ibnhome/news18/budget_mobile/bank_azar_new_80x30.jpg\"></a></div><div class=\"smlogo\"><a href=\"http://www.licindia.in/\" target=\"_blank\"><img src=\"https://images.news18.com/static_news18/pix/ibnhome/news18/budget_mobile/LIC_80x30-n.jpg\"></a></div><div class=\"smlogo\"><a href=\"https://ad.doubleclick.net/ddm/clk/412361457;213281841;y\" target=\"_blank\"><img src=\"https://images.news18.com/static_news18/pix/ibnhome/news18/budget_mobile/Qualcomm_85x36.jpg\"></a></div><div class=\"smlogo\"><a href=\"http://pubads.g.doubleclick.net/gampad/clk?id=4564771895&iu=/1039154/News18/News18_ClickTracker/News18_ClickTracker_BudgetLogo_Vistara\" target=\"_blank\"><img src=\"https://images.news18.com/static_news18/pix/ibnhome/news18/budget_mobile/Vistara_80x30.png\"></a></div>\\r\\n</div> </div> </div>--> \\r\\n\\r\\n<div class=\"mobile_ad\">\\r\\n\\t<style type=\"text/css\">\\r\\n\\t\\t.budget_divider{margin-top:0px;}\\r\\n\\t\\t.mobheader { border-bottom:1px solid #b6b6b6;padding:0px 10px; }\\r\\n\\t\\t.mobheader ul {overflow-x: scroll;-webkit-overflow-scrolling: touch;display: flex;line-height: 1.3;font-size: 13px;height: 30px;}\\r\\n\\t\\t.mobheader li { margin: auto;flex:none;border-right:1px solid #b6b6b6;padding-right:5px;padding-left:5px; }\\r\\n\\t\\t.mobheader li:last-child{border-right:0px;padding-right:0;}\\r\\n\\t\\t.mobheader li.active a { background:#ed3a4f;font-weight: 400;color:#fff;font-weight:400; }\\r\\n\\t\\t.mobheader a { color: #000; display: block;}\\r\\n\\t\\t@media(max-width:740px){\\r\\n\\t\\t\\t#main {padding-top:56px;}\\r\\n\\t\\t\\t#outer{padding-top:52px;}\\r\\n\\t\\t}\\r\\n\\t</style>\\r\\n\\t<div class=\"mobheader\">\\r\\n\\t<ul>\\r\\n\\t\\t<li><a href=\"/politics/\" >Politics </a></li><li><a href=\"/movies/\" >Movies</a></li><li><a href=\"/photogallery/\" >Photos    </a></li><li><a href=\"/newstopics/ayodhya-verdict.html\" >Ayodhya Verdict</a></li>\\t</ul>\\r\\n\\t</div>\\r\\n</div>\\r\\n\\r\\n\\r\\n\\r\\n<script>function hitGaFBLightbox(){!function(e,t,n,c,a,o,s){e.GoogleAnalyticsObject=a,e[a]=e[a]||function(){(e[a].q=e[a].q||[]).push(arguments)},e[a].l=1*new Date,o=t.createElement(n),s=t.getElementsByTagName(n)[0],o.async=1,o.src=c,s.parentNode.insertBefore(o,s)}(window,document,\"script\",\"https://www.google-analytics.com/analytics.js\",\"ga\"),ga(\"send\",\"event\",\"FB Lightbox\",\"click\",\"close\")}</script><div id=\"mobilTop300x50\" style=\"padding-top:20px;\"></div><div class=\"outer artouter\"><div id=\"1245x60_ros\" style=\"margin-bottom:20px;\"></div><div class=\"section-blog\" id=\"content_2263887\"><div id=\"infinite-scroll\" class=\"scroll-paginate\">\\t<ul id=\"relatedarticles\" class=\"bxslider\">\\t<li id=\"paginav1\" data-id=\"2263887\" data-order=\"1\" class=\"paginate-section-nav active\"><a href=\"javascript:void(0);\" onclick=\"scrollToPage(1)\" >UN Chief Urges India, Pak to Exercise \\'Maximum Restraint\\' on Kashmir, Invokes Simla Agreement</a><span class=\"scroll_progress\"></span></li><li id=\"paginav2\" data-id=\"2381633\" data-order=\"3\" class=\"paginate-section-nav\"><a href=\"javascript:void(0);\" onclick=\"scrollToPage(2)\">Delhi Odd-even Rule: Police to Intensify Checks this Week After 297 violators Fined on Saturday</a><span class=\"scroll_progress\"></span></li><li id=\"paginav3\" data-id=\"2381601\" data-order=\"4\" class=\"paginate-section-nav\"><a href=\"javascript:void(0);\" onclick=\"scrollToPage(3)\">National Education Day: Remembering Free India\\'s First HRD Minister Maulana Abul Kalam Azad</a><span class=\"scroll_progress\"></span></li><li id=\"paginav4\" data-id=\"2381387\" data-order=\"5\" class=\"paginate-section-nav\"><a href=\"javascript:void(0);\" onclick=\"scrollToPage(4)\">Guruparb 2019: Date, Significance and History Behind Guru Nanak Jayanti</a><span class=\"scroll_progress\"></span></li>\\t</ul></div><div class=\"section-blog-left resLiftSideFull\">\\r\\n\\r\\n<!-- <div><a href=\"/cricketnext/series/ipl-2018.html\" target=\"_blank\"><img src=\"http://images.news18.com/static_news18/pix/ibnhome/news18/IPL-banner-917x50.jpg\" alt=\"\"></a></div> -->\\r\\n<!--<a href=\"http://pubads.g.doubleclick.net/gampad/clk?id=4593031562&iu=/1039154/News18/News18_ClickTracker/News18_ClickTracker_RelianceDigital\" class=\"reelbanner\" target=\"_blank\"><img src=\"https://images.news18.com/static_news18/pix/ibnhome/news18/reel-movie-awards-2018/reel-movie-awards-2018-917x50-1-(1) 970by50.jpg\" /></a>\\r\\n<script>googletag.cmd.push(function() {googletag.defineSlot(\\'/1039154/News18/News18_ImpressionTracker/News18_ImpressionTracker_RelianceDigital\\', [1, 1], \\'div-gpt-ad-1520512791547-0\\').addService(googletag.pubads());googletag.pubads().enableSingleRequest();googletag.enableServices();});</script><div id=\\'div-gpt-ad-1520512791547-0\\' style=\\'height:1px; width:1px;\\'>\\r\\n<script>googletag.cmd.push(function() { googletag.display(\\'div-gpt-ad-1520512791547-0\\'); });</script></div>\\r\\n<a href=\"https://www.news18.com/rising-india-summit/\" class=\"reelbanner\" target=\"_blank\"><img src=\"https://images.news18.com/static_news18/pix/ibnhome/news18/rising-india/news18-rising-india-banner-2.jpg\" /></a>-->\\r\\n\\r\\n\\r\\n\\r\\n<div class=\"article-sbox\" id=\"content_2263887\"> \\r\\n <div class=\"iotrue section-blog-left-aricle article_page clearfix\" id=\"page1\" data-io-article-url=\"https://www.news18.com/news/world/un-chief-urges-india-pak-to-exercise-maximum-restraint-on-kashmir-invokes-shimla-agreement-2263887.html\" data-url=\"/news/world/un-chief-urges-india-pak-to-exercise-maximum-restraint-on-kashmir-invokes-shimla-agreement-2263887.html\" data-title=\"UN Chief Urges India, Pak to Exercise \\'Maximum Restraint\\' on Kashmir, Invokes Simla Agreement\" data-id=\"2263887\" data-next=\"https://www.news18.com/news/india/delhi-odd-even-rule-police-to-intensify-checks-this-week-after-297-violators-fined-on-saturday-2381633.html\" data-article-no=\"1\">\\t\\r\\n\\t \\t <div class=\"brade_crum abrdacrum\" >\\t\\t\\r\\n         <a href=\"https://www.news18.com/\"><span >News18</span></a> &raquo;\\t\\r\\n             <a href=\"https://www.news18.com/india/\">\\r\\n\\t\\t\\t\\t\\t\\t<span >India</span>\\r\\n\\t\\t\\t\\t\\t</a>         <div class=\"read-story\"><img src=\"https://images.news18.com/static_news18/pix/ibnhome/news18/clock.png\">2-min read</div>\\r\\n     </div>\\r\\n\\t <script type=\"application/ld+json\">{\"@context\":\"http:\\\\/\\\\/schema.org\",\"@type\":\"BreadcrumbList\",\"itemListElement\":[{\"@type\":\"ListItem\",\"position\":1,\"item\":{\"@id\":\"https:\\\\/\\\\/www.news18.com\\\\/\",\"name\":\"News18\"}},{\"@type\":\"ListItem\",\"position\":2,\"item\":{\"@id\":\"https:\\\\/\\\\/www.news18.com\\\\/india\\\\/\",\"name\":\"India\"}}]}</script>\\t \\r\\n\\t\\t \\t\\t\\t\\t\\t\\t\\t\\t\\t<style>.adclass{font-style: italic;}</style>\\r\\n\\t\\t\\t\\t\\t\\t\\t\\t\\t<h1 >UN Chief Urges India, Pak to Exercise \\'Maximum Restraint\\' on Kashmir, Invokes Simla Agreement</h1>                         \\t\\r\\n<style>.story-intro{font-size:18px !important; font-weight:normal !important; color:#999 !important; line-height: 24px} @media(max-width:620px){.story-intro{font-size:16px !important; padding:0 10px; line-height: 22px}}</style><h2 class=\"story-intro\">The Secretary General Antonio Guterres did not offer his good offices nor did he make any offer to mediate between India and Pakistan on Kashmir.</h2> <div class=\"clearfix\"><div class=\"author fleft\"><p><a href=\"/agency/news18.com.html\">News18.com</a></p><span><strong>Updated:</strong>August 9, 2019, 8:24 AM IST</span> </div><div class=\"fright shre-icon\">\\t\\t\\t<a href=\"https://www.facebook.com/sharer.php?u=https://www.news18.com/news/world/un-chief-urges-india-pak-to-exercise-maximum-restraint-on-kashmir-invokes-shimla-agreement-2263887.html&t=UN Chief Urges India, Pak to Exercise \\'Maximum Restraint\\' on Kashmir, Invokes Simla Agreement\" target=\"_blank\"><img src=\"https://images.news18.com/static_news18/pix/ibnhome/news18/sficon.gif\" alt=\"facebook\" title=\"facebook\"/></a><a href=\"https://twitter.com/share?text=UN+Chief+Urges+India%2C+Pak+to+Exercise+%27Maximum+Restraint%27+on+Kashmir%2C+Invokes+Simla+Agreement&url=https://www.news18.com/news/world/un-chief-urges-india-pak-to-exercise-maximum-restraint-on-kashmir-invokes-shimla-agreement-2263887.html\" target=\"_blank\"><img src=\"https://images.news18.com/static_news18/pix/ibnhome/news18/sticon.gif\" alt=\"Twitter\" title=\"Twitter\" /></a>\\r\\n\\t\\t\\t\\t<!-- <a target=\"_blank\" class=\"spy\" onclick=\"window.open(\\'https://web.skype.com/share?url=https://www.news18.com/news/world/un-chief-urges-india-pak-to-exercise-maximum-restraint-on-kashmir-invokes-shimla-agreement-2263887.html&lang=en-US&flow_id=e67bffb7-d317-4577-8528-e9cc76e80b38&source=button\\',\\'_blank\\',\\'toolbar=no,scrollbars=yes,resizable=yes,width=305,height=665\\');\" href=\"javascript: void(0)\"><img src=\"https://images.news18.com/static_news18/pix/ibnhome/news18/ssicon.gif\" alt=\"skype\" title=\"skype\" /></a> -->\\r\\n\\t\\t\\t\\t<a target=\"_blank\" class=\"spy\" onclick=\"window.open(\\'https://getpocket.com/edit?url=https://www.news18.com/news/world/un-chief-urges-india-pak-to-exercise-maximum-restraint-on-kashmir-invokes-shimla-agreement-2263887.html&lang=en-US&source=button\\',\\'_blank\\');\" href=\"javascript: void(0)\"><img src=\"https://images.news18.com/static_news18/pix/ibnhome/news18/Pocket.svg\" alt=\"Pocket\" title=\"Pocket\" /></a>\\r\\n\\t\\t\\t\\t<a href=\"whatsapp://send?text=UN Chief Urges India, Pak to Exercise \\'Maximum Restraint\\' on Kashmir, Invokes Simla Agreement - https://www.news18.com/news/world/un-chief-urges-india-pak-to-exercise-maximum-restraint-on-kashmir-invokes-shimla-agreement-2263887.html\" target=\"_blank\" class=\"wapp\"><img src=\"https://images.news18.com/static_news18/pix/ibnhome/news18/wappicon.gif\" alt=\"whatsapp\" title=\"whatsapp\"/></a></div></div>\\r\\n\\t\\t\\t\\t\\t\\t\\t\\t<div class=\"articleimg\">\\t\\t<style>.nxStory,.shareIconDiv,.sociaIconsHidden,.topAdds{display:none}@media(max-width:600px){.grayBgs,.shre-icon{display:none}.nxStory,.shareIconDiv{display:block}.shareIconDiv{position:absolute;top:-13px;right:-20px}.shareIconDiv img{width:50%!important}.articleimg{position:relative}.hideCont{height:200px;overflow:hidden;border:1px solid #fff}a.nxStory,a.readMore{color:#fff;line-height:30px;height:30px;text-align:center;background:#117ab1}.resRightSide{display:none}a.nxStory{font-size:14px;display:block;margin:10px 0 20px}a.readMore{width:150px;margin:0 auto 20px;display:block;border-radius:5px;font-size:16px}.articleimg h5{position:absolute;height:auto;bottom:0}.sociaIconsHidden{position:relative;display:block;z-index:999999}.sociaIconsHidden a{position:absolute;right:0}.sociaIconsHidden a img{width:50%!important}.sociaIconsHidden a.d1{top:-90px;right:-13px}.sociaIconsHidden a.d2{top:-40px;right:40px}.sociaIconsHidden a.d3{top:20px;right:40px}.sociaIconsHidden a.d4{top:70px;right:-15px}.shareRight{position:relative;z-index:999}.shareRightz{position:relative;z-index:999999}.grayBgs{background:rgba(0,0,0,.8);display:none;width:100%;height:100%;position:fixed;top:0;z-index:99999}.tag ul li{border:none}.fadeout{position:absolute;margin-top:-100px;width:100%;height:100px;background:-webkit-linear-gradient(rgba(255,255,255,0) 0,rgba(255,255,255,1) 100%);background-image:-moz-linear-gradient(rgba(255,255,255,0) 0,rgba(255,255,255,1) 100%);background-image:-o-linear-gradient(rgba(255,255,255,0) 0,rgba(255,255,255,1) 100%);background-image:linear-gradient(rgba(255,255,255,0) 0,rgba(255,255,255,1) 100%);background-image:-ms-linear-gradient(rgba(255,255,255,0) 0,rgba(255,255,255,1) 100%)}}\\t\\t</style><div class=\"shareRight\">\\t\\t\\t<div class=\"shareIconDiv\"><a href=\"javascript:void(0);\"><img src=\"https://images.news18.com/static_news18/pix/ibnhome/news18/share-img.png\" /></a></div><div class=\"sociaIconsHidden\" style=\"display:none;\">\\t\\t\\t<a href=\"https://www.facebook.com/sharer.php?u=https://www.news18.com/news/world/un-chief-urges-india-pak-to-exercise-maximum-restraint-on-kashmir-invokes-shimla-agreement-2263887.html&t=UN Chief Urges India, Pak to Exercise \\'Maximum Restraint\\' on Kashmir, Invokes Simla Agreement\" target=\"_blank\"  class=\"d1\"><img src=\"https://images.news18.com/static_news18/pix/ibnhome/news18/facebook-m-icon.png\"/></a><a href=\"https://twitter.com/share?text=UN+Chief+Urges+India%2C+Pak+to+Exercise+%27Maximum+Restraint%27+on+Kashmir%2C+Invokes+Simla+Agreement&url=https://www.news18.com/news/world/un-chief-urges-india-pak-to-exercise-maximum-restraint-on-kashmir-invokes-shimla-agreement-2263887.html\" target=\"_blank\"  class=\"d2\"><img src=\"https://images.news18.com/static_news18/pix/ibnhome/news18/tw-icons.png\"/></a><a href=\"whatsapp://send?text=UN Chief Urges India, Pak to Exercise \\'Maximum Restraint\\' on Kashmir, Invokes Simla Agreement - https://www.news18.com/news/world/un-chief-urges-india-pak-to-exercise-maximum-restraint-on-kashmir-invokes-shimla-agreement-2263887.html\" target=\"_blank\"  class=\"d3\"><img src=\"https://images.news18.com/static_news18/pix/ibnhome/news18/whats.png\"/></a> <a target=\"_blank\" class=\"d4\" onclick=\"window.open(\\'https://getpocket.com/edit?url=https://www.news18.com/news/world/un-chief-urges-india-pak-to-exercise-maximum-restraint-on-kashmir-invokes-shimla-agreement-2263887.html&lang=en-US&source=button\\',\\'_blank\\');\" href=\"javascript: void(0)\"><img src=\"https://images.news18.com/static_news18/pix/ibnhome/news18/pocket_m.png\" alt=\"Pocket\" title=\"Pocket\" /></a></div>\\t\\t</div>\\t\\t<picture><source srcset=\"https://images.news18.com/ibnlive/uploads/2019/03/India-Pakistan-flags.jpg\" media=\"(min-width: 1280px)\"><source srcset=\"https://images.news18.com/optimize/AwxCxFB5zcjBPb6kVw8KS6s1WwI=/290x192/images.news18.com/ibnlive/uploads/290x192/jpg/2019/03/India-Pakistan-flags.jpg\" media=\"(min-width: 320px)\"><img srcset=\"https://images.news18.com/ibnlive/uploads/2019/03/India-Pakistan-flags.jpg\" alt=\"UN Chief Urges India, Pak to Exercise \\'Maximum Restraint\\' on Kashmir, Invokes Simla Agreement\" title=\"UN Chief Urges India, Pak to Exercise \\'Maximum Restraint\\' on Kashmir, Invokes Simla Agreement\"></picture><h5>\\t\\tImage for representation.</h5></div>\\r\\n\\t\\t\\r\\n\\t\\t<div id=\"M349311ScriptRootC258791\"> <div id=\"M349311PreloadC258791\"></div> \\r\\n<script> function loadinImageMgid(){ var D=new Date(),d=document,b=\\'body\\',ce=\\'createElement\\',ac=\\'appendChild\\',st=\\'style\\',ds=\\'display\\',n=\\'none\\',gi=\\'getElementById\\',lp=d.location.protocol,wp=lp.indexOf(\\'http\\')==0?lp:\\'https:\\'; var i=d[ce](\\'iframe\\');i[st][ds]=n;d[gi](\"M349311ScriptRootC258791\")[ac](i);try{var iw=i.contentWindow.document;iw.open();iw.writeln(\"<ht\"+\"ml><bo\"+\"dy></bo\"+\"dy></ht\"+\"ml>\");iw.close();var c=iw[b];} catch(e){var iw=d;var c=d[gi](\"M349311ScriptRootC258791\");}var dv=iw[ce](\\'div\\');dv.id=\"MG_ID\";dv[st][ds]=n;dv.innerHTML=258791;c[ac](dv); var s=iw[ce](\\'script\\');s.async=\\'async\\';s.defer=\\'defer\\';s.charset=\\'utf-8\\';s.src=wp+\"//jsc.mgid.com/n/e/news18.com.258791.js?t=\"+D.getYear()+D.getMonth()+D.getUTCDate()+D.getUTCHours();c[ac](s);\\r\\n} \\r\\ndocument.addEventListener(\\'scroll\\', function(e) {\\r\\n\\t\\t element = document.getElementById(\"M349311PreloadC258791\");\\r\\n    if(element && element.innerHTML.length == 0){\\r\\n\\t\\tloadinImageMgid()\\r\\n\\t}\\r\\n    \\r\\n});\\r\\n\\r\\n</script> </div>\\t\\t\\r\\n\\t\\t\\r\\n\\t\\t<div class=\"mnone\" id=\"webad1x1hovver\"></div>\\t<script>\\tfunction collapse(){$(\\'.qr\\').toggle(500, function() {if ($(\\'.qr\\').is(\\':visible\\')) {$(\".expup\").css(\"background\", \"url(https://images.news18.com/static_news18/pix/ibnhome/news18/exp-uparrow.gif)\");\\t\\t} else {$(\".expup\").css(\"background\", \"url(https://images.news18.com/static_news18/pix/ibnhome/news18/exp-downarrow.gif)\");}});\\t}</script>\\t<div id=\"article_body\" class=\"hideCont clearfix paragraph\" style=\"margin-top:10px;\">\\r\\n\\t<p><strong>United Nations</strong>: UN chief Antonio Guterres on Thursday urged India and Pakistan to exercise \"maximum restraint\" and refrain from taking steps that could affect the status of Jammu and Kashmir, as he highlighted the Simla Agreement which rejects any third-party mediation on the issue.\\r</p><p>The Secretary-General\\'s remarks came after India on Monday revoked Article 370 to withdraw the special status to Jammu and Kashmir and bifurcated the state into two Union Territories - Jammu and Kashmir and Ladakh.\\r</p><div id=\"web728x90_inarticle\" class=\"mnone\" style=\"text-align:center;margin-top:20px;\"></div><div id=\\'div-D-728x90-InArticle\\'></div><div id=\"web728x90_inarticle_2\" class=\"mnone\" style=\"text-align:center;margin-top:20px;margin-bottom:10px\"></div><div id=\"wapoop1x1\" class=\"mobile_ad\"></div><div id=\"wapoop1x1\" class=\"mobile_ad\"></div>\\r\\n\\t\\t\\t<p>Pakistan termed the Indian action as \"unilateral and illegal\", and said it will take the matter to the UN Security Council.\\r</p><p>\"The Secretary-General has been following the situation in Jammu and Kashmir with concern and makes an appeal for maximum restraint,\" Guterres\\' spokesman Stephane Dujarric said here.\\r</p><p>Dujarric specifically said that the Secretary-General \"also recalls the 1972 Agreement on bilateral relations between India and Pakistan, also known as the Simla Agreement, which states that the final status of Jammu and Kashmir is to be settled by peaceful means\" in accordance with the Charter of the United Nations.\\r</p><p>The Secretary General did not offer his good offices nor did he make any offer to mediate between India and Pakistan on Kashmir. Instead, he referred to the Simla Agreement, which is a bilateral agreement between India and Pakistan and rejects any third-party mediation in the issue.\\r</p><p>Guterres also called \"on all parties to refrain from taking steps\" that could affect the status of Jammu and Kashmir. He said the position of the United Nations on the region was governed by the Charter of the United Nations and is applicable to Security Council resolutions.\\r</p><p>When asked to be more specific about reference to the UNSC resolutions on Kashmir in the statement, Dujarric said \"I\\'m not going to go into any more specifics of the statement which also refers to our concern\" about reports of restrictions in Kashmir in India. \"So I\\'ll refer you to the statement,\" he said.\\r</p><p>Dujarric reiterated that Guterres and the UN Secretariat were following the situation \"very closely\".\\r</p><p>He said there had been contacts from the UN Secretariat both with the Indian and Pakistani authorities and with the Permanent Missions of India and Pakistan. He said there is no plan for the Secretary-General to brief the Security Council on Kashmir.\\r</p><p>Reacting to India\\'s move, Pakistan expelled the Indian envoy and downgraded its diplomatic ties with New Delhi.\\r</p><p>India has said that Jammu and Kashmir is an integral part of India and the issue was strictly internal to the country.\\r</p><p><strong><em>(With PTI inputs)</em></strong></p>\\t \\t<style>.update_date{font-size:12px;color:#666;display:block;text-align:left}.update_date strong{font-weight:700}.update_date{font-size:12px;color:#666;display:block;text-align:left}.update_date strong{font-weight:700}.related-storybox{padding:10px 0;border-top:1px solid #eee;border-bottom:1px solid #eee;margin:14px 0}.related-storybox h2{font-size:20px;padding-bottom:6px;color:#222}.related-storybox ul{display:flex;justify-content:space-between}.related-storybox ul li{background:#f0f0f0;margin-right:10px;flex:1;padding:10px;box-sizing:border-box;font-size:15px;line-height:21px}.related-storybox ul li:last-child{margin-right:0}.related-storybox ul li a{color:#222}.related-storybox ul li img{float:left;padding-right:10px}@media(max-width:600px){.related-storybox ul li{flex-basis:100%;margin-bottom:10px;height:92px;margin-right:0}.related-storybox ul{display:block}}</style>\\t\\t<style>\\r\\n\\t\\t.video-sicon{top:25px;}\\r\\n\\t\\tul.opinion-listing{border-bottom:1px solid #ccc; display:flex; margin-bottom:10px; justify-content:space-between}\\r\\n\\t\\tul.opinion-listing li{border-bottom: 0; max-width:216px; width:100%; font-size:15px; padding:15px 0 12px; position:relative; line-height:22px; font-weight:bold}\\r\\n\\t\\tul.opinion-listing li a{color:#282828}\\r\\n\\t\\t.alsowatch{font-size:20px; font-weight:bold; padding-top:10px; color:#444; border-bottom:1px solid #ccc; padding-bottom:4px;}\\r\\n\\t\\tul.opinion-listing li .vodeoiconb{width:35px; height:35px; background-size:35px; top:25px; left:170px}\\r\\n\\t\\t.section-blog-left-aricle em p  {\\r\\n\\t\\t\\tmargin:20px 0 !important;\\r\\n\\t\\t\\tpadding-bottom:0px; \\r\\n\\t\\t\\t}\\r\\n\\r\\n\\t\\t</style>\\r\\n\\t\\t<div id=\"web920x130_ros\"></div>\\r\\n\\t\\t\\t\\t\\t\\t\\r\\n\\t\\t<div style=\"border-top: solid 1px #000; margin-top:30px;\"></div>\\r\\n\\r\\n\\t\\t\\r\\n\\t\\t<em><p>Get the best of News18 delivered to your inbox - <a href=\"https://www.news18.com/daybreak/\">subscribe to News18 Daybreak</a>. Follow News18.com on <a href=\"https://twitter.com/news18dotcom\" target=\"_blank\">Twitter</a>, <a href=\"https://www.instagram.com/cnnnews18/\" target=\"_blank\">Instagram</a>, <a href=\"https://www.facebook.com/cnnnews18\" target=\"_blank\">Facebook</a>,  <a href=\"https://telegram.me/news18dotcom\" target=\"_blank\">Telegram</a>, <a href=\"https://www.tiktok.com/@cnnnews18\" target=\"_blank\">TikTok</a> and on <a href=\"https://www.youtube.com/cnnnews18\" target=\"_blank\">YouTube</a>, and stay in the know with what\\'s happening in the world around you \\xe2\\x80\\x93 in real time.</p>\\r\\n\\t\\t</em>\\r\\n\\r\\n\\t\\t<div class=\"tag\">\\t<ul><li><a href=\"https://www.news18.com/newstopics/antonio-guterres.html\">Antonio Guterres</a></li><li><a href=\"https://www.news18.com/newstopics/article-370-revoked.html\">Article 370 revoked</a></li><li><a href=\"https://www.news18.com/newstopics/j&amp;k.html\">J&amp;K</a></li><li><a href=\"https://www.news18.com/newstopics/jammu-and-kashmir.html\">jammu and kashmir</a></li></ul>\\t\\t<span id=\"pub_date\" class=\"update_date\">\\t\\t\\t\\t<script>var pub_art_date = \\'<strong>First Published:</strong> August 9, 2019, 7:21 AM IST\\';$(\\'#pub_date\\').html(pub_art_date);\\t</script></div>\\t</div>\\t</div><div class=\"fadeout\"></div><a href=\"javascript:void(0);\" class=\"readMore mobile_ad\">Read full article</a>\\r\\n\\t<!--2x2 web ad-->\\r\\n\\t\\t<div id=\"webadros2x2\"></div> \\t\\r\\n<div id=\"M349311ScriptRootC256241\"> <div id=\"M349311PreloadC256241\"></div> <script>\\r\\n function loadMgidHorizontal(){ var D=new Date(),d=document,b=\\'body\\',ce=\\'createElement\\',ac=\\'appendChild\\',st=\\'style\\',ds=\\'display\\',n=\\'none\\',gi=\\'getElementById\\',lp=d.location.protocol,wp=lp.indexOf(\\'http\\')==0?lp:\\'https:\\'; var i=d[ce](\\'iframe\\');i[st][ds]=n;d[gi](\"M349311ScriptRootC256241\")[ac](i);try{var iw=i.contentWindow.document;iw.open();iw.writeln(\"<ht\"+\"ml><bo\"+\"dy></bo\"+\"dy></ht\"+\"ml>\");iw.close();var c=iw[b];} catch(e){var iw=d;var c=d[gi](\"M349311ScriptRootC256241\");}var dv=iw[ce](\\'div\\');dv.id=\"MG_ID\";dv[st][ds]=n;dv.innerHTML=256241;c[ac](dv); var s=iw[ce](\\'script\\');s.async=\\'async\\';s.defer=\\'defer\\';s.charset=\\'utf-8\\';s.src=wp+\"//jsc.mgid.com/n/e/news18.com.256241.js?t=\"+D.getYear()+D.getMonth()+D.getUTCDate()+D.getUTCHours();c[ac](s);} \\r\\n document.addEventListener(\\'scroll\\', function(e) {\\r\\n\\t element = document.getElementById(\"M349311PreloadC256241\");\\r\\n    if(element && element.innerHTML.length == 0){\\r\\n\\t\\tloadMgidHorizontal()\\r\\n\\t}\\r\\n    \\r\\n })\\r\\n \\r\\n </script> </div><div style=\"clear:both\"></div>                    \\t<div class=\"wrapper\">\\t<a href=\"javascript:void(0);\" class=\"nxStory\">Next Story</a>\\t<div id=\"wapadros320x50\" class=\"mobile_ad\"></div><a href=\"javascript:void(0);\" class=\"nxStory\">Next Story</a>\\r\\n\\t\\t\\t\\t\\t   <div id=\"wapadros320x50\" class=\"mobile_ad\"></div>\\r\\n\\t\\t\\t\\t\\t   \\r\\n\\r\\n\\t\\t\\t\\t\\t\\t\\t\\t\\t\\t\\t\\t\\r\\n\\t\\t\\t\\t\\t\\t<style>\\r\\n.update_date{font-size:12px;color:#666;display:block;text-align:left}.update_date strong{font-weight:700}.update_date{font-size:12px;color:#666;display:block;text-align:left}.update_date strong{font-weight:700}.related-storybox{padding:10px 0;border-top:1px solid #eee;border-bottom:1px solid #eee;margin:14px 0}.related-storybox h2{font-size:20px;padding-bottom:6px;color:#222}.related-storybox ul{display:flex;justify-content:space-between}.related-storybox ul li{background:#f0f0f0;margin-right:10px;flex:1;padding:10px;box-sizing:border-box;font-size:15px;line-height:21px}.related-storybox ul li:last-child{margin-right:0}.related-storybox ul li a{color:#222}.related-storybox ul li img{float:left;padding-right:10px}@media(max-width:600px){.related-storybox ul li{flex-basis:100%;margin-bottom:10px;height:92px;margin-right:0}.related-storybox ul{display:block}}\\r\\n</style>\\r\\n<style>\\r\\nul.opinion-listing{border-bottom:1px solid #ccc; display:flex; display: -webkit-flex; margin-bottom:10px; -webkit-flex-wrap: wrap; justify-content:space-between}\\r\\nul.opinion-listing li{border-bottom: 0; max-width:216px; width:100%; font-size:15px; padding:15px 0 12px; position:relative; line-height:22px; font-weight:bold}\\r\\nul.opinion-listing li a{color:#282828}\\r\\n.alsowatch{font-size:20px; font-weight:bold; padding-top:10px; color:#444; border-bottom:1px solid #ccc; padding-bottom:4px;}\\r\\nul.opinion-listing li .vodeoiconb{width:35px; height:35px; background-size:35px; top:25px; left:170px}\\r\\n.video-sicon{top:25px;}\\r\\nul.opinion-listing li.big-video{max-width:920px; background:#fff;}\\r\\nul.opinion-listing li.big-video img{width:100%;}\\r\\nul.opinion-listing li h3{position:absolute; bottom:0; font-size:20px; text-align:center;background: -webkit-linear-gradient(top, transparent 10%, #000 60%);padding-top:100px;line-height:28px; font-weight:normal;bottom:0;left:0;width:100%;text-align: center; color:#fff; padding-bottom:5px;}\\r\\n.bottom-cont{background:#f5f5f5; padding:10px; position:relative; top:-4px;}\\r\\n.dats-div{color:#999999; font-size:11px; display:block;}\\r\\nul.opinion-listing{border-bottom:none;}\\r\\nul.opinion-listing li{padding-top:0; margin-top:15px; background:#f5f5f5;}\\r\\n</style>\\r\\n<h3 class=\"alsowatch\"></h3>\\r\\n<!--<script src=\"https://images.news18.com/static_news18/js/youtube/yt-player.min.js?v=1.0\"></script>-->\\r\\n<span id=\"youtube-smart-widget-container\" data-property=\"news18-english\"></span>\\r\\n<ul class=\"opinion-listing\">\\r\\n\\t\\t<li class=\"other-watch-videos\" data-post-date=\"\" data-story-id=\"2380073\" data-first-id=\"2380079\" data-img-thumb=\"https://images.news18.com/optimize/PFyCEdaVuY-R4isj6OejKonFETw=/218x144/images.news18.com/ibnlive/uploads/218x144/jpg/\" data-ads-timecount=\"0\"><a href=\"\"><span class=\"vodeoiconb\"></span><img src=\"https://images.news18.com/optimize/PFyCEdaVuY-R4isj6OejKonFETw=/218x144/images.news18.com/ibnlive/uploads/218x144/jpg/\" alt=\"\" title=\"\" class=\"watch-img-thumb\">\\r\\n\\t\\t\\t<div class=\"bottom-cont\">\\r\\n\\t\\t\\t\\t<span class=\"dats-div create-date\"></span>\\r\\n\\t\\t\\t\\t<span class=\"txt-bottom ivideo-title\"></span>\\r\\n\\t\\t\\t</div>\\r\\n\\t</a></li><li class=\"other-watch-videos\" data-post-date=\"Saturday 09 November , 2019\" data-story-id=\"2380089\" data-first-id=\"2380079\" data-img-thumb=\"https://images.news18.com/optimize/prFXHLnr_yytL22-5_L2f9_vZk4=/218x144/images.news18.com/ibnlive/uploads/218x144/jpg/2019/11/Kartarpur-TN.jpg\" data-ads-timecount=\"0\"><a href=\"https://www.news18.com/news/india/launch-of-kartarpur-corridor-amidst-indo-pak-strife-crux-2380089.html\"><span class=\"vodeoiconb\"></span><img src=\"https://images.news18.com/optimize/prFXHLnr_yytL22-5_L2f9_vZk4=/218x144/images.news18.com/ibnlive/uploads/218x144/jpg/2019/11/Kartarpur-TN.jpg\" alt=\"Launch of Kartarpur Corridor Amidst Indo-Pak Strife | Crux+\" title=\"Launch of Kartarpur Corridor Amidst Indo-Pak Strife | Crux+\" class=\"watch-img-thumb\">\\r\\n\\t\\t\\t<div class=\"bottom-cont\">\\r\\n\\t\\t\\t\\t<span class=\"dats-div create-date\">Saturday 09 November , 2019</span>\\r\\n\\t\\t\\t\\t<span class=\"txt-bottom ivideo-title\">Launch of Kartarpur Corridor Amidst Indo-Pak Strife | Crux+</span>\\r\\n\\t\\t\\t</div>\\r\\n\\t</a></li><li class=\"other-watch-videos\" data-post-date=\"Wednesday 06 November , 2019\" data-story-id=\"2375843\" data-first-id=\"2380079\" data-img-thumb=\"https://images.news18.com/optimize/pI1hh737SGFUmfMtaE2x_7NFghA=/218x144/images.news18.com/ibnlive/uploads/218x144/jpg/2019/11/Babri-Thumbnail_New_Final.jpg\" data-ads-timecount=\"0\"><a href=\"https://www.news18.com/videos/india/babri-masjid-ram-mandir-case-history-rare-interviews-crux-files-2375843.html\"><span class=\"vodeoiconb\"></span><img src=\"https://images.news18.com/optimize/pI1hh737SGFUmfMtaE2x_7NFghA=/218x144/images.news18.com/ibnlive/uploads/218x144/jpg/2019/11/Babri-Thumbnail_New_Final.jpg\" alt=\"Babri Masjid-Ram Mandir Case History | Rare Interviews | Crux Files\" title=\"Babri Masjid-Ram Mandir Case History | Rare Interviews | Crux Files\" class=\"watch-img-thumb\">\\r\\n\\t\\t\\t<div class=\"bottom-cont\">\\r\\n\\t\\t\\t\\t<span class=\"dats-div create-date\">Wednesday 06 November , 2019</span>\\r\\n\\t\\t\\t\\t<span class=\"txt-bottom ivideo-title\">Babri Masjid-Ram Mandir Case History | Rare Interviews | Crux Files</span>\\r\\n\\t\\t\\t</div>\\r\\n\\t</a></li><li class=\"other-watch-videos\" data-post-date=\"Friday 08 November , 2019\" data-story-id=\"2378545\" data-first-id=\"2380079\" data-img-thumb=\"https://images.news18.com/optimize/zfoMoAndeg00GZtGnn8IH2kIBkQ=/218x144/images.news18.com/ibnlive/uploads/218x144/jpg/2019/11/ADVANI-Thumb-Recovered.jpg\" data-ads-timecount=\"0\"><a href=\"https://www.news18.com/videos/ivideos/lk-advani-the-architect-of-hindutva-politics-rare-interviews-2378545.html\"><span class=\"vodeoiconb\"></span><img src=\"https://images.news18.com/optimize/zfoMoAndeg00GZtGnn8IH2kIBkQ=/218x144/images.news18.com/ibnlive/uploads/218x144/jpg/2019/11/ADVANI-Thumb-Recovered.jpg\" alt=\"LK Advani: The Architect of Hindutva Politics | Rare Interviews\" title=\"LK Advani: The Architect of Hindutva Politics | Rare Interviews\" class=\"watch-img-thumb\">\\r\\n\\t\\t\\t<div class=\"bottom-cont\">\\r\\n\\t\\t\\t\\t<span class=\"dats-div create-date\">Friday 08 November , 2019</span>\\r\\n\\t\\t\\t\\t<span class=\"txt-bottom ivideo-title\">LK Advani: The Architect of Hindutva Politics | Rare Interviews</span>\\r\\n\\t\\t\\t</div>\\r\\n\\t</a></li></ul>\\r\\n<!--<div id=\"also-watch-end\"></div>-->\\r\\n<script>\\r\\nvar countVideoPosition=0;\\r\\n$(document).ready(function(){\\r\\n\\t// Youtube Smart widget-container\\r\\n\\tvar seeVideo = setInterval(checkYoutube, 1000);\\r\\n\\tvar seeVideoText = 0;\\r\\n\\tfunction checkYoutube(){\\r\\n\\t\\tif(seeVideoText == 0){\\r\\n\\t\\t\\tif( $(\\'#youtube-smart-widget-container > .youTubeVideoPlayer\\').length ){\\r\\n\\t\\t\\t\\t$(\".alsowatch\").text(\"Also Watch\");\\r\\n\\t\\t\\t\\tseeVideoText++;\\r\\n\\t\\t\\t}\\r\\n\\t\\t}else{\\r\\n\\t\\t\\tclearInterval(seeVideo);\\r\\n\\t\\t}\\r\\n\\t}\\r\\n\\t//End\\r\\n\\t\\r\\n\\t\\r\\n\\tvar counterSeconds = 0;\\r\\n\\tvar countSeconds =0;\\r\\n\\tvar intervalSeconds = setInterval(function() {\\r\\n\\t\\tcounterSeconds++;\\r\\n\\t\\t\\r\\n\\t\\tif (counterSeconds == 10) {\\r\\n\\t\\t\\r\\n\\t\\t\\tcountSeconds = counterSeconds;\\t\\t\\t\\r\\n\\t\\t\\tclearInterval(intervalSeconds);\\r\\n\\t\\t}\\r\\n\\t}, 1000);\\r\\n\\t\\r\\n\\t var firstAlsoWatch=setTimeout(function(){\\t\\t\\r\\n\\t\\t getWatchVideoLoad(\\'2380079\\', \\'no\\', \"Ayodhya Verdict | Meet Five Supreme Court Judges Who Delivered The Landmark Judgement\");\\r\\n\\t },3000);\\r\\n\\t\\r\\n\\t\\r\\n\\t// Live Tv Stop:\\r\\n\\t/* if($(\\'#playerContainer\\').length) {\\r\\n\\t\\tjwplayer(\\'playerContainer\\').stop();\\r\\n\\t} */\\r\\n\\tvar countAdsTime=0;\\r\\n\\t$(\\'.other-watch-videos\\').on(\\'click\\', function(e){\\r\\n\\t\\te.preventDefault();\\t\\t\\r\\n\\t\\t$(this).attr(\\'data-ads-timecount\\', countAdsTime);\\t\\t\\r\\n\\t\\tif(countSeconds<10) {\\r\\n\\t\\t\\treturn false;\\r\\n\\t\\t}\\t\\t\\r\\n\\t\\tvar firstStoryId=\\'\\', firstImgThumb=\\'\\', firstCreateDate=\\'\\', firstTitle=\\'\\';\\r\\n\\t\\tvar storyId = $(this).attr(\\'data-story-id\\');\\r\\n\\t\\tvar videoUrl = $(this).attr(\\'data-videos\\');\\r\\n\\t\\tvar thumbUrl = $(this).attr(\\'data-img-thumb\\');\\r\\n\\t\\tvar createDate = $(this).find(\\'.create-date\\').html();\\r\\n\\t\\tvar title = $(this).find(\\'.ivideo-title\\').html();\\r\\n\\t\\t\\t\\t\\r\\n\\t\\tfirstStoryId = $(\\'#first-watch-box\\').attr(\\'data-first-id\\');\\t\\t\\r\\n\\t\\tfirstImgThumb = $(\\'#first-watch-box\\').attr(\\'data-first-thumb\\');\\r\\n\\t\\tfirstCreateDate = $(\\'#first-watch-box\\').attr(\\'data-post-date\\');\\r\\n\\t\\tfirstTitle = $(\\'#first-watch-heading\\').html();\\r\\n\\t\\t\\r\\n\\t\\t\\r\\n\\t\\t\\r\\n\\t\\t$(this).attr(\\'data-story-id\\', firstStoryId);\\r\\n\\t\\t$(this).find(\\'.create-date\\').html(firstCreateDate);\\r\\n\\t\\t$(this).find(\\'.ivideo-title\\').html(firstTitle);\\r\\n\\t\\t$(this).attr(\\'data-img-thumb\\', firstImgThumb);\\r\\n\\t\\t$(\\'.other-watch-videos\\').attr(\\'data-first-id\\', storyId);\\r\\n\\t\\t$(this).find(\\'.watch-img-thumb\\').attr(\\'src\\', firstImgThumb);\\r\\n\\t\\t$(this).attr(\\'data-ads-timecount\\', 0);\\r\\n\\t\\t\\r\\n\\t\\t$(\\'#first-watch-box\\').attr(\\'data-first-thumb\\', thumbUrl);\\r\\n\\t\\t$(\\'#first-watch-box\\').attr(\\'data-post-date\\', createDate);\\r\\n\\t\\t$(\\'#first-watch-heading\\').html(title);\\r\\n\\t\\t$(\\'#first-watch-box\\').attr(\\'data-first-id\\', storyId);\\r\\n\\t\\t\\r\\n\\t\\tgetWatchVideoLoad(storyId, \\'yes\\', title);\\r\\n\\t\\t\\r\\n\\t});\\r\\n});\\r\\n\\r\\n\\r\\nvar alsowatchObj=\\'\\';\\r\\n\\r\\nfunction getWatchVideoLoad(videoId, autoPlay, title) {\\r\\n\\t//alert(\"viideo called\");\\r\\n\\t$.ajax({\\r\\n\\t\\turl:\\'https://www.news18.com/also-watch-videos/ajax.html\\',\\r\\n\\t\\ttype : \\'GET\\',\\r\\n\\t\\tdata : { \\'video_id\\' : videoId, \\'auto_play\\':autoPlay,\\'SITE_AD\\':\\'yes\\' },\\r\\n\\t\\tcache : true,\\r\\n\\t\\tsuccess: function(response) {\\r\\n\\t\\t\\tif(response!=\\'\\') {\\r\\n\\t\\t\\t\\tvar titleHeading = \\'<div class=\"txt-bottom\" id=\"first-watch-heading\">\\'+title+\\'</div>\\';\\r\\n\\t\\t\\t\\t$(\\'#first-watch-box\\').html(response+titleHeading);\\r\\n\\t\\t\\t}\\r\\n\\t\\t},\\r\\n\\t\\terror: function(xhr, ajaxOptions, thrownError) {\\r\\n\\t\\t\\tconsole.log(\\'Something went wrong..\\');\\r\\n\\t\\t}\\r\\n\\t});\\r\\n}\\r\\n\\r\\n\\r\\n\\r\\n\\r\\n var playWatchVideos = false;\\r\\n$(window).scroll(function() {\\r\\n\\tvar ividFirstScroll = $(\\'.alsowatch\\').offset().top - 100;\\r\\n\\tvar tagsScroll = $(\\'.tag\\').offset().top;\\r\\n\\tvar topOffsetIvid = $(window).scrollTop();\\r\\n\\tvar topIviddistance = topOffsetIvid - ividFirstScroll;\\t\\r\\n\\tvar finalScrollEnd = ividFirstScroll + 650;\\r\\n\\tvar holaPlayDivId = $(\\'div.video-js\\').attr(\\'id\\');\\t\\r\\n    var holaPlayerObj = videojs(holaPlayDivId);\\r\\n\\tif(topOffsetIvid>ividFirstScroll && topOffsetIvid<finalScrollEnd && playWatchVideos==false) {\\r\\n\\t\\t\\r\\n\\t\\tholaPlayerObj.play();\\t\\t\\r\\n\\t\\tplayWatchVideos=true;\\r\\n\\t}else if( topOffsetIvid<ividFirstScroll || topOffsetIvid>finalScrollEnd && playWatchVideos==true) {\\r\\n\\t\\tholaPlayerObj.pause();\\r\\n\\t\\tplayWatchVideos=false;\\r\\n\\t}\\t\\r\\n\\t\\r\\n});\\r\\n</script>\\t\\r\\n\\t\\t\\t\\t\\t\\t<div class=\"edas-box shre-icon\"><a href=\"https://www.facebook.com/sharer.php?u=https://www.news18.com/news/world/un-chief-urges-india-pak-to-exercise-maximum-restraint-on-kashmir-invokes-shimla-agreement-2263887.html&t=UN Chief Urges India, Pak to Exercise \\'Maximum Restraint\\' on Kashmir, Invokes Simla Agreement\" target=\"_blank\"><img src=\"https://images.news18.com/static_news18/pix/ibnhome/news18/sficon.gif\" alt=\"facebook\" title=\"facebook\"/></a><a href=\"https://twitter.com/share?text=UN+Chief+Urges+India%2C+Pak+to+Exercise+%27Maximum+Restraint%27+on+Kashmir%2C+Invokes+Simla+Agreement&url=https://www.news18.com/news/world/un-chief-urges-india-pak-to-exercise-maximum-restraint-on-kashmir-invokes-shimla-agreement-2263887.html\" target=\"_blank\"><img src=\"https://images.news18.com/static_news18/pix/ibnhome/news18/sticon.gif\" alt=\"Twitter\" title=\"Twitter\" /></a>\\r\\n\\t\\t\\t\\t\\t\\t<!-- <a target=\"_blank\" class=\"spy\" onclick=\"window.open(\\'https://web.skype.com/share?url=https://www.news18.com/news/world/un-chief-urges-india-pak-to-exercise-maximum-restraint-on-kashmir-invokes-shimla-agreement-2263887.html&lang=en-US&flow_id=e67bffb7-d317-4577-8528-e9cc76e80b38&source=button\\',\\'_blank\\',\\'toolbar=no,scrollbars=yes,resizable=yes,width=305,height=665\\');\" href=\"javascript: void(0)\"><img src=\"https://images.news18.com/static_news18/pix/ibnhome/news18/ssicon.gif\" alt=\"skype\" title=\"skype\" /></a> -->\\r\\n\\t\\t\\t\\t\\t\\t<a target=\"_blank\" class=\"spy\" onclick=\"window.open(\\'https://getpocket.com/edit?url=https://www.news18.com/news/world/un-chief-urges-india-pak-to-exercise-maximum-restraint-on-kashmir-invokes-shimla-agreement-2263887.html&lang=en-US&source=button\\',\\'_blank\\');\" href=\"javascript: void(0)\"><img src=\"https://images.news18.com/static_news18/pix/ibnhome/news18/Pocket.svg\" alt=\"Pocket\" title=\"Pocket\" /></a>\\r\\n\\t\\t\\t\\t\\t\\t<a href=\"whatsapp://send?text=UN Chief Urges India, Pak to Exercise \\'Maximum Restraint\\' on Kashmir, Invokes Simla Agreement - https://www.news18.com/news/world/un-chief-urges-india-pak-to-exercise-maximum-restraint-on-kashmir-invokes-shimla-agreement-2263887.html\" target=\"_blank\" class=\"wapp\"><img src=\"https://images.news18.com/static_news18/pix/ibnhome/news18/wappicon.gif\" alt=\"whatsapp\" title=\"whatsapp\"/></a></div></div><div class=\"reaction_wrap mnone\" style=\"height:300px; overflow-x:hidden; margin-top:10px; display:none\"></div></div></div>\\t<script async src=\"https://securepubads.g.doubleclick.net/tag/js/gpt.js\"></script>\\r\\n<script>\\r\\n  window.googletag = window.googletag || {cmd: []};\\r\\n  googletag.cmd.push(function() {\\r\\n    googletag.defineSlot(\\'/1039154/News18/News18_Microsite/News18_Microsite_HDFCLife/News18_Microsite_HDFCLife_300x600\\', [300, 600], \\'div-gpt-ad-1562308794555-0\\').addService(googletag.pubads());\\r\\n\\tgoogletag.defineSlot(\\'/1039154/News18/News18_Microsite/News18_Microsite_HDFCLife/News18_Microsite_HDFCLife_300x250\\', [300, 250], \\'div-gpt-ad-1562308839533-0\\').addService(googletag.pubads());\\r\\n    googletag.pubads().enableSingleRequest();\\r\\n    googletag.enableServices();\\r\\n  });\\r\\n</script>\\r\\n<div class=\"section-blog-right resRightSide\">\\r\\n<div style=\"margin-top:10px\"></div>\\r\\n<div class=\"add expandoad\" id=\"rightad300x600\"></div>\\r\\n<style>\\r\\n@media only screen and (max-width:600px){\\r\\n.whatsappbutton{text-align:center;}\\r\\n}\\r\\n@media(min-width:768px){\\r\\n\\t.whatsappbutton{margin:20px 0;}\\r\\n\\t.whatsappbutton a{display:block;}\\r\\n\\t.expandoad:before,\\r\\n\\t.expandoad:after,\\r\\n\\t.mnone:before,\\r\\n\\t.mnone:after,\\r\\n\\t.whatsappbutton:after,\\t.whatsappbutton:before{content:\\'\\';display:block;clear:both;overflow:hidden;visibility:hidden;opacity:0;line-height:0;font-size:0;}\\r\\n}\\r\\n</style>\\r\\n<!--<div class=\"whatsappbutton\">\\r\\n\\t<a href=\"whatsapp_broadcast.html\" target=\"_blank\">\\r\\n\\t\\t<img src=\"images/desktop/whats-up-news18.jpg\" alt=\"\">\\r\\n\\t</a>\\r\\n</div> -->\\r\\n\\r\\n<div class=\"whatsappbutton\">\\r\\n\\t\\t\\t<a href=\"https://telegram.me/news18dotcom\" target=\"_blank\">\\r\\n\\t\\t\\t<img src=\"https://images.news18.com/static_news18/pix/ibnhome/news18/News18_newsletter_subscription.jpg\" alt=\"\">\\r\\n\\t\\t</a>\\r\\n\\t</div>\\r\\n\\r\\n\\r\\n<div id=\\'div-D-300x600-RHS\\'></div><div style=\"clear:both\"></div>\\r\\n\\t<!--video wall starts here-->\\t\\t\\t\\t\\t\\t\\r\\n\\t\\t\\t\\t\\t\\t<!--<div class=\"vwal-rhs\" style=\"margin-bottom:10px;\">\\t\\t\\t\\t\\t\\t\\t\\r\\n\\t\\t\\t\\t\\t\\t\\t<h2 class=\"title vspacer10\">Video Wall</h2>\\t\\r\\n\\t\\t\\t\\t\\t\\t\\t\\t\\t\\t\\t\\t\\t</div>-->\\r\\n\\t\\t\\t\\t\\t\\t\\t\\t\\t\\t\\t\\t\\t\\t\\t\\t\\t\\t<div id=\"rightad300x250_3\" class=\"add-small\"></div> \\r\\n\\t\\t\\t\\t\\t\\t<div id=\\'div-D-300x250-RHS\\'></div><div style=\"clear:both\"></div><div class=\"live-tv\"><div class=\"cls\"></div><div id=\"livetv\"><style>\\r\\n\\t.no-player{background:black;height:500px;width:100%; align:center; font-size:24px; color:#fff; padding-top:240px; box-sizing:border-box;}\\r\\n\\t.ltvbox{background:#8f0100; padding:10px 8px 5px;}\\r\\n\\t.ltvbox h2{font-size:18px; font-weight: bold; color:#fff; padding-bottom:6px;}\\r\\n\\t.ltvbox h2 img{vertical-align: middle; padding-right:8px;}\\r\\n\\t.ltvbox h3{color:#fff; font-size:16px; font-weight: normal; padding:5px 0;}\\r\\n\\t@media only screen and (max-width:600px){\\r\\n\\t\\t.no-player{height:300px; padding-top:140px;}\\r\\n\\t}\\r\\n</style>\\r\\n<div class=\"ltvbox\">\\r\\n\\t<h2><img src=\"https://images.news18.com/static_news18/pix/ibnhome/news18/ltvicon.png\" alt=\"\" />Live TV</h2>\\r\\n\\t\\t<figure>\\r\\n\\t\\t<div id=\"playerContainer\" style=\"background:black;height:250px;width:100%\"></div>\\r\\n\\t</figure>\\r\\n\\t</div>\\r\\n<!--<script type=\"text/javascript\" src=\"http://vidgyor.com/live/vidgyor_midroll_cnn_news18.min.js\"></script>\\t-->\\r\\n<script type=\"text/javascript\" src=\"https://content.vidgyor.com/live/midroll/js/vidgyor_livemidroll_n18.min.js\"></script>\\r\\n\\r\\n<script type=\"text/javascript\">\\r\\n\\tif(typeof VIDGYOR!==\\'undefined\\'){\\r\\n\\t\\t        var posterImage = \"\";\\r\\n                var videoUrl = \"\";\\r\\n                var channelName = \"cnnibn\";\\r\\n\\t\\t\\t\\t//var channelName = \"betacnnibn\";\\r\\n\\t\\t\\t\\t\\r\\n\\t\\t\\t\\tvar isMute = true;  \\r\\n\\t\\t\\t\\tvar isAutoplay = true;  \\r\\n\\t\\t\\t\\tVIDGYOR.loadPlayer(posterImage,videoUrl,channelName,isMute,isAutoplay); \\r\\n\\r\\n\\t//\\tVIDGYOR.loadPlayer(true,true);\\r\\n\\t//\\tVIDGYOR.loadPlayer(\\'CNNIBN\\',true,true);\\t\\r\\n\\t}\\r\\n</script>\\r\\n</div><div class=\"cls\"></div></div><div class=\"mobile_ad\"><div id=\"mobileAdsnative320x340\"></div></div><div style=\"clear:both\"></div>\\t<style>.fon-box{padding:20px 0}.fon-box h2{padding-bottom:10px;font-size:22px;color:#101010;font-weight:700}.fon-box ul{border:1px solid #eee;padding-bottom:0 10px;list-style:none}.fon-box ul li{padding-bottom:12px;font-size:14px;line-height:20px;border-bottom:0;position:relative}.fon-box ul li:first-child{padding-top:5px}.fon-box ul li img{float:left;padding:4px 10px 0 0}.fon-box ul li a{color:#000}.fon-box ul li span a{color:#787878;font-size:12px}* html .clearfix{height:1%}.clearfix:after{content:\".\";display:block;clear:both;visibility:hidden;line-height:0;height:0}.fon-box ul li a span.hnt-vicon{background:url(https://images.news18.com/static_news18/pix/ibnhome/news18/video-ss.png) no-repeat;position:absolute;top:55px;left:10px;width:20px;height:20px}.fon-box ul li a span.hnt-vicon:hover{background:url(https://images.news18.com/static_news18/pix/ibnhome/news18/video-ss-hover.png) no-repeat;position:absolute;top:55px;left:10px;width:20px;height:20px}.vwall-icon-rhs,.vwall-icon-rhs:hover{position:absolute;top:35%;left:40%;width:65px;height:65px}.vwall-icon-rhs{background:url(https://images.news18.com/static_news18/pix/ibnhome/news18/video-icon.png) no-repeat;background-size:65px}.vwall-icon-rhs:hover{background:url(https://images.news18.com/static_news18/pix/ibnhome/news18/video-icon-hover.png) no-repeat;background-size:65px}.vwal-rhs{position:relative;width:100%}\\t\\t\\t\\t\\t</style>\\t\\t\\t\\t\\t<div style=\"clear:both\"></div>  <div id=\"rightad300x250\" class=\"add-small\"></div> <div style=\"clear:both\"></div><!--<div class=\"vwal-rhs\"><h2 class=\"title vspacer10\">Video Wall</h2></div>-->\\r\\n\\t\\t\\t\\t\\t<div style=\"clear:both\"></div>\\r\\n\\t\\t\\t\\t\\t<div class=\"mnone\"></div>\\r\\n\\t\\t\\t\\t\\t<div style=\"clear:both\"></div>\\r\\n\\t\\t\\t\\t\\t<div class=\"mnone\"><div class=\"fon-box\"><h2>Recommended For You</h2><ul><li class=\"clearfix\"><a href=\"https://www.news18.com/news/sports/atp-finals-roger-federer-up-against-it-after-shocking-dominc-thiem-defeat-2381355.html?pfrom=rhs-recom-foru\" onclick=\"ga(\\'send\\', \\'event\\', \\'Recommended For You\\', \\'Click\\', \\'1 - Sports - Image\\')\"><img src=\"https://images.news18.com/optimize/gpFiBxJLMtfyrbM32vGXKEljnN8=/92x60/images.news18.com/ibnlive/uploads/92x60/jpg/2019/11/Sports-2019-11-11T071541.842.png\" alt=\"ATP Finals: Roger Federer Up Against It after Shocking Dominc Thiem Defeat\" title=\"ATP Finals: Roger Federer Up Against It after Shocking Dominc Thiem Defeat\"/> </a><a href=\"https://www.news18.com/news/sports/atp-finals-roger-federer-up-against-it-after-shocking-dominc-thiem-defeat-2381355.html?pfrom=rhs-recom-foru\" onclick=\"ga(\\'send\\', \\'event\\', \\'Recommended For You\\', \\'Click\\', \\'1 - Sports - Text\\')\">ATP Finals: Roger Federer Up Against It after Shocking Dominc Thiem Defeat</a></li><li class=\"clearfix\"><a href=\"https://www.news18.com/news/football/cristiano-ronaldo-leaves-stadium-before-final-whistle-after-being-substituted-2381389.html?pfrom=rhs-recom-foru\" onclick=\"ga(\\'send\\', \\'event\\', \\'Recommended For You\\', \\'Click\\', \\'2 - Football - Image\\')\"><img src=\"https://images.news18.com/optimize/UpJLwZYIhY364soPwsSHODGl3Gs=/92x60/images.news18.com/ibnlive/uploads/92x60/jpg/2019/11/Sports-2019-11-11T074547.820.png\" alt=\"Cristiano Ronaldo Leaves Stadium Before Final Whistle after Being Substituted\" title=\"Cristiano Ronaldo Leaves Stadium Before Final Whistle after Being Substituted\"/> </a><a href=\"https://www.news18.com/news/football/cristiano-ronaldo-leaves-stadium-before-final-whistle-after-being-substituted-2381389.html?pfrom=rhs-recom-foru\" onclick=\"ga(\\'send\\', \\'event\\', \\'Recommended For You\\', \\'Click\\', \\'2 - Football - Text\\')\">Cristiano Ronaldo Leaves Stadium Before Final Whistle after Being Substituted</a></li><li class=\"clearfix\"><a href=\"https://www.news18.com/news/auto/this-modified-hero-splendor-costs-rs-2-lakh-and-is-hard-to-recognize-2379305.html?pfrom=rhs-recom-foru\" onclick=\"ga(\\'send\\', \\'event\\', \\'Recommended For You\\', \\'Click\\', \\'3 - Auto - Video\\')\"><span class=\"hnt-vicon\"></span><img src=\"https://images.news18.com/optimize/-hif2iGPyHleuONuyc1myXOGaYQ=/92x60/images.news18.com/ibnlive/uploads/92x60/jpg/2019/11/Modified-Hero-Splendor.png\" alt=\"This Modified Hero Splendor Costs Rs 2 Lakh and Is Hard to Recognize\" title=\"This Modified Hero Splendor Costs Rs 2 Lakh and Is Hard to Recognize\"/> </a><a href=\"https://www.news18.com/news/auto/this-modified-hero-splendor-costs-rs-2-lakh-and-is-hard-to-recognize-2379305.html?pfrom=rhs-recom-foru\" onclick=\"ga(\\'send\\', \\'event\\', \\'Recommended For You\\', \\'Click\\', \\'3 - Auto - Text\\')\">This Modified Hero Splendor Costs Rs 2 Lakh and Is Hard to Recognize</a></li><li class=\"clearfix\"><a href=\"https://www.news18.com/news/buzz/brave-goat-who-had-befriended-tiger-it-was-meal-for-passes-away-2380047.html?pfrom=rhs-recom-foru\" onclick=\"ga(\\'send\\', \\'event\\', \\'Recommended For You\\', \\'Click\\', \\'4 - Buzz - Image\\')\"><img src=\"https://images.news18.com/optimize/xRKrqRZmOf3iX9RgBY0AcweENuU=/92x60/images.news18.com/ibnlive/uploads/92x60/jpg/2019/11/Untitled-design-110.png\" alt=\"\\'Brave\\' Goat Who Had Befriended Tiger it Was \\'Meal\\' For, Passes Away\" title=\"\\'Brave\\' Goat Who Had Befriended Tiger it Was \\'Meal\\' For, Passes Away\"/> </a><a href=\"https://www.news18.com/news/buzz/brave-goat-who-had-befriended-tiger-it-was-meal-for-passes-away-2380047.html?pfrom=rhs-recom-foru\" onclick=\"ga(\\'send\\', \\'event\\', \\'Recommended For You\\', \\'Click\\', \\'4 - Buzz - Text\\')\">\\'Brave\\' Goat Who Had Befriended Tiger it Was \\'Meal\\' For, Passes Away</a></li><li class=\"clearfix\"><a href=\"https://www.news18.com/news/buzz/ayodhya-verdict-message-of-love-and-peace-takes-over-twitter-as-hindumuslimbhaibhai-trends-2379711.html?pfrom=rhs-recom-foru\" onclick=\"ga(\\'send\\', \\'event\\', \\'Recommended For You\\', \\'Click\\', \\'5 - Buzz - Image\\')\"><img src=\"https://images.news18.com/optimize/gGSWPwZ9PiEGMm9XxbFvXFsnFGM=/92x60/images.news18.com/ibnlive/uploads/92x60/jpg/2019/11/Untitled-design-2019-11-09T114650.960.png\" alt=\"Ayodhya Verdict: Message of Love and Peace Takes Over Twitter as #HinduMuslimBhaiBhai Trends\" title=\"Ayodhya Verdict: Message of Love and Peace Takes Over Twitter as #HinduMuslimBhaiBhai Trends\"/> </a><a href=\"https://www.news18.com/news/buzz/ayodhya-verdict-message-of-love-and-peace-takes-over-twitter-as-hindumuslimbhaibhai-trends-2379711.html?pfrom=rhs-recom-foru\" onclick=\"ga(\\'send\\', \\'event\\', \\'Recommended For You\\', \\'Click\\', \\'5 - Buzz - Text\\')\">Ayodhya Verdict: Message of Love and Peace Takes Over Twitter as #HinduMuslimBhaiBhai Trends</a></li></ul></div></div><div style=\"clear:both;\"></div>\\r\\n\\t\\t\\t\\t\\t<div id=\"web300x50_ROS\"></div><div style=\"clear:both;\"></div>\\r\\n\\t\\t\\t\\t\\t<style>.cls{clear:both; height:0;}#livetv { margin-top:10px;}</style><div style=\"clear:both\"></div><div class=\"add-small\">\\r\\n\\t\\t\\t\\t\\t\\t\\t\\t\\t\\t\\t\\t\\t\\t\\t\\r\\n\\t\\t\\t\\t\\t<div id=\"rightad300x250_2\" class=\"add-small\"></div> \\r\\n\\t\\t\\t\\t\\t\\r\\n\\t\\t\\t\\t\\t\\t\\t\\t\\t\\t\\r\\n\\t\\t\\t\\t\\t<div style=\"clear:both;\"></div></div><div style=\"clear:both\"></div><div style=\"clear:both\"></div>\\t\\t\\t\\t\\t\\t\\t\\t\\t\\t\\t\\t\\t<div><iframe src=\"https://www.news18.com/amazon-associate/search/nw18eng-21/o7jjfnf7/multi_right_vertical/\" scrolling=\"no\" frameborder=\"0\" allowfullscreen style=\"width:100%; height: 550px;\"></iframe></div>\\r\\n\\t\\t\\t\\t\\t\\t\\t\\t\\t\\t\\t\\t\\t<style>\\r\\n\\tul.photo-listing{}\\r\\n\\tul.photo-listing li{ margin-bottom:0px; padding:0; border:none;}\\r\\n\\t.ph-icon-left{ float:left; width:10%; border-right:1px solid #393939; padding:10px;}\\r\\n\\t.bot-div{background:#171717; color:#fff; position:relative; top:-7px;}\\r\\n\\t.cn-right{font-size:14px; line-height:18px; padding:10px; float:left; width:75%;}\\r\\n\\t.ph-icon-left img{}\\r\\n\\t.ph-icon-left span{display:block; color:#fecb00; font-size:12px; line-height:10px;}\\r\\n</style>\\r\\n<div class=\"photo-listing\">\\r\\n\\t<h2 class=\"title vspacer10\">Photogallery</h2>\\r\\n\\t<ul class=\"photo-listing\">\\r\\n\\t\\t<li>\\r\\n\\t\\t\\t\\t\\t\\t<a href=\"https://www.news18.com/photogallery/india/abul-kalam-azad-birth-anniversary-9-rare-photos-you-must-see-2381523.html\">\\r\\n\\t\\t\\t\\t\\t\\t\\t<img src=\"https://images.news18.com/optimize/LUpZimbOqMhbyYlYrHxJPypwdDM=/302x200/images.news18.com/ibnlive/uploads/302x200/jpg/2018/10/Mahatma-Gandhi-and-Maulana-Abul-Kalam-Azad.jpg\" alt=\"Abul Kalam Azad Birth Anniversary: 9 Must See Pics\" title=\"Abul Kalam Azad Birth Anniversary: 9 Must See Pics\" />\\r\\n\\t\\t\\t\\t\\t\\t\\t<div class=\" bot-div clearfix\">\\r\\n\\t\\t\\t\\t\\t\\t\\t\\t<div class=\"ph-icon-left\">\\r\\n\\t\\t\\t\\t\\t\\t\\t\\t\\t<img src=\"https://images.news18.com/static_news18/pix/ibnhome/news18/ph-iconimg.png\" />\\r\\n\\t\\t\\t\\t\\t\\t\\t\\t\\t<span>+9</span>\\r\\n\\t\\t\\t\\t\\t\\t\\t\\t</div>\\r\\n\\t\\t\\t\\t\\t\\t\\t\\t<div class=\"cn-right\">Abul Kalam Azad Birth Anniversary: 9 Must See Pics</div>\\r\\n\\t\\t\\t\\t\\t\\t\\t</div>\\r\\n\\t\\t\\t\\t\\t\\t</a>\\r\\n\\t\\t\\t\\t\\t</li><li>\\r\\n\\t\\t\\t\\t\\t\\t<a href=\"https://www.news18.com/photogallery/movies/ranveer-singh-aces-haryana-hurricane-kapil-devs-iconic-natraj-shot-in-83-2089731.html\">\\r\\n\\t\\t\\t\\t\\t\\t\\t<img src=\"https://images.news18.com/optimize/ijEkXbfpLPpW0u-Th5TjHl22uC4=/302x200/images.news18.com/ibnlive/uploads/302x200/jpg/2019/07/Feature38.jpg\" alt=\"Ranveer Singh aces Kapil Dev\\xe2\\x80\\x99s Iconic Natraj Shot in \\'83\" title=\"Ranveer Singh aces Kapil Dev\\xe2\\x80\\x99s Iconic Natraj Shot in \\'83\" />\\r\\n\\t\\t\\t\\t\\t\\t\\t<div class=\" bot-div clearfix\">\\r\\n\\t\\t\\t\\t\\t\\t\\t\\t<div class=\"ph-icon-left\">\\r\\n\\t\\t\\t\\t\\t\\t\\t\\t\\t<img src=\"https://images.news18.com/static_news18/pix/ibnhome/news18/ph-iconimg.png\" />\\r\\n\\t\\t\\t\\t\\t\\t\\t\\t\\t<span>+30</span>\\r\\n\\t\\t\\t\\t\\t\\t\\t\\t</div>\\r\\n\\t\\t\\t\\t\\t\\t\\t\\t<div class=\"cn-right\">Ranveer Singh aces Kapil Dev\\xe2\\x80\\x99s Iconic Natraj Shot in \\'83</div>\\r\\n\\t\\t\\t\\t\\t\\t\\t</div>\\r\\n\\t\\t\\t\\t\\t\\t</a>\\r\\n\\t\\t\\t\\t\\t</li>\\t</ul>\\r\\n</div>\\t\\t\\t\\t\\t\\r\\n\\t\\t\\t\\t\\t<div id=\"rightad300x600_2\" class=\"add-small\"></div>\\r\\n\\t\\t\\t\\t\\t<div id=\"M349311ScriptRootC256240\"> <div id=\"M349311PreloadC256240\"></div> <script> \\r\\nfunction loadMGIDVertical(){ var D=new Date(),d=document,b=\\'body\\',ce=\\'createElement\\',ac=\\'appendChild\\',st=\\'style\\',ds=\\'display\\',n=\\'none\\',gi=\\'getElementById\\',lp=d.location.protocol,wp=lp.indexOf(\\'http\\')==0?lp:\\'https:\\'; var i=d[ce](\\'iframe\\');i[st][ds]=n;d[gi](\"M349311ScriptRootC256240\")[ac](i);try{var iw=i.contentWindow.document;iw.open();iw.writeln(\"<ht\"+\"ml><bo\"+\"dy></bo\"+\"dy></ht\"+\"ml>\");iw.close();var c=iw[b];} catch(e){var iw=d;var c=d[gi](\"M349311ScriptRootC256240\");}var dv=iw[ce](\\'div\\');dv.id=\"MG_ID\";dv[st][ds]=n;dv.innerHTML=256240;c[ac](dv); var s=iw[ce](\\'script\\');s.async=\\'async\\';s.defer=\\'defer\\';s.charset=\\'utf-8\\';s.src=wp+\"//jsc.mgid.com/n/e/news18.com.256240.js?t=\"+D.getYear()+D.getMonth()+D.getUTCDate()+D.getUTCHours();c[ac](s);} \\r\\ndocument.addEventListener(\\'scroll\\', function(e) {\\r\\n\\t element = document.getElementById(\"M349311PreloadC256240\");\\r\\n    if(element && element.innerHTML.length == 0){\\r\\n\\t\\tloadMGIDVertical()\\r\\n\\t}\\r\\n},false);\\r\\n</script> </div>\\t\\t\\t\\t\\t<style>\\r\\n\\t\\t\\t\\t    .f-add-div-tt{position:fixed;bottom:0px;width:320px; z-index:99999;}\\r\\n\\t\\t\\t\\t\\t</style>\\r\\n\\t\\t\\t\\t\\t<div class=\"f-add-div-tt\" id=\"webRos_300x50\"></div> </div><div class=\"section-blog\" id=\"content_2381633\"></div><div class=\"section-blog\" id=\"content_2381601\"></div><div class=\"section-blog\" id=\"content_2381387\"></div></div><div class=\"content-add vspacer\" id=\"ads728x90_Footer\"></div><div id=\"1x1_Special_ros\"></div></div><script>\\tfunction responsive1(){var i=jQuery(window).width();768>i&&(jQuery(\"#reactions-top ul\").addClass(\"slider\"),jQuery(\".boottom-list ul\").addClass(\"promoted\")),$(\".slider\").bxSlider({mode:\"vertical\",startSlide:0,pager:!0,controls:!1}),$(\".promoted\").bxSlider({minSlides:2,maxSlides:4,startSlide:0,slideWidth:140,slideMargin:5,moveSlides:2,infiniteLoop:!1,hideControlOnEnd:!0,auto:!1})}$(window).load(function(){}),$(window).one().resize(function(){});\\t$(document).keydown(function(e){\\tif (e.keyCode == 39) { \\t\\t$(\\'span.article_nxtarrow\\').trigger(\\'click\\');\\t}\\telse if (e.keyCode == 37) {\\t\\t$(\\'span.article_pvrarrow\\').trigger(\\'click\\');\\t}});$(\"#diqusWid\").click(function() {\\t$(\\'html,body\\').animate({\\tscrollTop: $(\".reaction_wrap\").offset().top},\\t\\'slow\\');});</script><script>$(document).ready(function(){$(window).scroll(function(){var o=$(\".tag\").position().top,n=$(window).scrollTop();o-=400,n>=o?$(\".fly-ad\").hide():$(\".fly-ad\").show()})});</script><script> if(adsId728x90_ROS){\\r\\n\\tgetAdsScripts(\\'web728x90_ROS\\', adsId728x90_ROS);\\r\\n}  if(adsId300x600_2){getAdsScripts(\\'rightad300x600_2\\', adsId300x600_2);}if(ads1245x60_ros){\\r\\n\\tgetAdsScripts(\\'1245x60_ros\\', ads1245x60_ros);}else{$(\\'#1245x60_ros\\').hide();}if(ads920x130_ros){\\r\\n\\tgetAdsScripts(\\'web920x130_ros\\', ads920x130_ros);\\r\\n} if(budget_ros_78x30_1){getAdsScripts(\\'budget_78x30_1\\', budget_ros_78x30_1);}if(budget_ros_78x30_2){getAdsScripts(\\'budget_78x30_2\\', budget_ros_78x30_2);}if(budget_ros_78x30_3){getAdsScripts(\\'budget_78x30_3\\', budget_ros_78x30_3);}if(budget_ros_78x30_4){getAdsScripts(\\'budget_78x30_4\\', budget_ros_78x30_4);}if(budget_ros_78x30_5){getAdsScripts(\\'budget_78x30_5\\', budget_ros_78x30_5);}if(ads1x1_Special_ros){getAdsScripts(\\'1x1_Special_ros\\', ads1x1_Special_ros);}if(adsId300x600_1){\\tgetAdsScripts(\\'rightad300x600\\', adsId300x600_1);}if(adsId1242x600){\\tgetAdsScripts(\\'expando\\', adsId1242x600);}if(adsId728x90_Footer){\\tgetAdsScripts(\\'ads728x90_Footer\\', adsId728x90_Footer);}if(adsId728x90){\\tgetAdsScripts(\\'headerAds728x90\\', adsId728x90);} if(adsId300x250_1){\\tgetAdsScripts(\\'rightad300x250\\', adsId300x250_1);} if(adsId300x250_2){\\tgetAdsScripts(\\'rightad300x250_2\\', adsId300x250_2);}if(adsId300x250_3){\\tgetAdsScripts(\\'rightad300x250_3\\', adsId300x250_3);}if(wapAdsnative320x340){\\tgetAdsScripts(\\'mobileAdsnative320x340\\', wapAdsnative320x340);}if(adsId875x35){\\tgetAdsScripts(\\'adsdiv875x35\\', adsId875x35);}if(adsId1x1hovver){\\tgetAdsScripts(\\'webad1x1hovver\\', adsId1x1hovver);}if(wapAds3D_Banner){\\tgetAdsScripts(\\'3d_ads\\', wapAds3D_Banner);}if(wapAdsId300x250_2){\\t\\tgetAdsScripts(\\'wap300x250_2\\', wapAdsId300x250_2);}if(wapAdsId300x250_ROS){\\t\\tgetAdsScripts(\\'wap300x250_Ros\\', wapAdsId300x250_ROS);}if(wapAdsidoop1x1){getAdsScripts(\\'wapoop1x1\\', wapAdsidoop1x1);}if(wapAds320x285_Native){\\t\\tgetAdsScripts(\\'wapAds320x285_Native\\', wapAds320x285_Native);}if(adsId148x33){\\tgetAdsScripts(\\'web148x33\\', adsId148x33);}if(adsId728x90_inarticle){\\tgetAdsScripts(\\'web728x90_inarticle\\', adsId728x90_inarticle);}if(adsId728x90_inarticle_2){\\tgetAdsScripts(\\'web728x90_inarticle_2\\', adsId728x90_inarticle_2);}if(adsId_internal_interstitial){\\tgetAdsScripts(\\'webinternal_interstitial\\', adsId_internal_interstitial);}if(wapadros320x50){\\tgetAdsScripts(\\'wapadros320x50\\', wapadros320x50);}if(adsIdnative_ROS){\\tgetAdsScripts(\\'webnative_ROS\\', adsIdnative_ROS);}if(adsId300x50_ROS){\\tgetAdsScripts(\\'web300x50_ROS\\', adsId300x50_ROS);}if(adsIdRos_300x50){\\tgetAdsScripts(\\'webRos_300x50\\', adsIdRos_300x50);}if(adsid2x2ros){\\tgetAdsScripts(\\'webadros2x2\\', adsid2x2ros);}</script><script type=\\'text/javascript\\'>window.__ITGS_started = Date.now();</script>\\r\\n<!-- FH Analytics -->\\r\\n<script type=\"text/javascript\">\\r\\n                var _paq = _paq || [];\\r\\n                var _w18_uni_id = _w18gc(\\'_w18g\\');\\r\\n\\t\\t\\t\\t_w18_uni_id=_w18_uni_id._w18g;\\r\\n                _paq.push([\\'setCustomVariable\\', 3, \\'ArjunID\\', _w18_uni_id, \\'visit\\']);\\r\\n                _paq.push([\"setDomains\", [\"*.www.firstpost.com\",\"*.www.moneycontrol.com\",\"*.www.news18.com\"]]);\\r\\n                _paq.push([\"enableCrossDomainLinking\"]);\\r\\n                _paq.push([\\'trackEvent\\', \\'Viewed\\', \\'CategoryViewed\\', \\'Category\\', \\'Viewed\\',{dimension6:\\'null\\',dimension7:\\'null\\',dimension8:\"movies\",dimension9:\\'null\\'}]);\\r\\n                _paq.push([\\'trackPageView\\']);\\r\\n                _paq.push([\\'enableLinkTracking\\']);\\r\\n                (function() {\\r\\n                                var u=\"//www.fhpro.in/piwik/\";\\r\\n                                _paq.push([\\'setTrackerUrl\\', u+\\'piwik.php\\']);\\r\\n                                _paq.push([\\'setSiteId\\', \\'88\\']);\\r\\n                                var d=document, g=d.createElement(\\'script\\'), s=d.getElementsByTagName(\\'script\\')[0];\\r\\n                                g.type=\\'text/javascript\\'; g.async=true; g.defer=true; g.src=u+\\'piwik.js\\'; s.parentNode.insertBefore(g,s);\\r\\n                })();\\r\\n</script>\\r\\n<noscript><img src=\"//www.fhpro.in/piwik/piwik.php?idsite=88&rec=1\" style=\"border:0\" alt=\"\" /></noscript>\\r\\n<!-- End FH Analytics Code -->\\r\\n<!-- Begin Kiosked\\r\\n<script type=\"text/javascript\" async=\"async\" src=\"//scripts.kiosked.com/loader/kiosked-loader.js?pub=11959&site=13518\"></script> \\r\\n<script type=\"text/javascript\" async=\"async\" src=\"//anonymousdemographics.com/u?pub=11959&site=13518&ts=1500430693&_response_content_type=js\"></script> -->\\r\\n <!-- End Kiosked --> \\r\\n\\r\\n\\r\\n\\r\\n<!-- <script async defer src=\"https://chat.amplify.ai/plugin/chat_plugin.js?pluginId=5b47291788b70239da5c07f6\"></script> -->\\r\\n\\r\\n\\r\\n<!-- <script async defer src=\"https://chat.amplify.ai/plugin/chat_plugin.js?pluginId=5b47291788b70239da5c07f6\"></script> -->\\r\\n\\r\\n\\t</div>\\r\\n\\r\\n\\r\\n\\r\\n<!--Mobile ad bottom banner 300x250-->\\r\\n<div id=\"mobil300x250\" style=\"text-align:center; margin-top:10px;\"></div>\\r\\n<!--Mobile ad sticky footer-->\\r\\n<style>\\r\\n.f-add-div{position:fixed;bottom:0;left:0px;width:100%; z-index:99999;background:#fff;justify-content: center;left:0;\"}\\r\\n</style>\\r\\n <style>\\r\\n\\t.aecountdown{background: #ed1c24; z-index:999999; position: fixed; width:100%;line-height: 1;height: 50px;bottom:0; left: 0; font-size:20px; color: #fff; text-transform: uppercase;}\\r\\n\\t.aecountdown .aecinner{width:1280px; margin:0 auto; display: flex;height: 100%;align-items: center;}\\r\\n\\t.aecountdown .aecinner ul.assembly_countdown{background: #001d42; height: 100%;  display: flex; margin:0 10px; padding:0 10px;align-items: center;}\\r\\n\\t.aecountdown .aecinner ul.assembly_countdown li{font-size:30px; color: #ffba00; padding:0 10px; font-weight:bold; text-transform: none;}\\r\\n\\t.aecountdown .aecinner ul.assembly_countdown li span{font-size:16px; color: #ffba00; padding:0 2px; font-weight: normal;}\\r\\n\\t.aecountdown .aecinner .slink{font-size: 12px; color: #fff; padding-left: 10px}\\r\\n\\t.aecountdown .aecinner .slink a{font-size: 12px; color: #fff; text-transform: none; padding:0 6px;}\\r\\n\\t.assebly_coun_text > span{display: none;}\\r\\n\\t.aecountdown{display: none;}\\r\\n\\t@media(max-width:768px){\\r\\n\\t\\t.slink,\\r\\n\\t\\t.assebly_text_hide{display: none;}\\r\\n\\t\\t.assebly_coun_text{padding-right: 12px;}\\r\\n\\t\\t.assebly_coun_text > span{display: block;margin-top: 3px;}\\r\\n\\t\\t.assebly_coun_text{font-size: 12px;}\\r\\n\\t\\t.aecinner{padding: 0 10px;}\\r\\n\\t\\t.aecountdown .aecinner ul.assembly_countdown{margin: 0;padding: 0;align-items: center;font-size: 15px;flex: 1;}\\r\\n\\t\\t.aecountdown .aecinner ul.assembly_countdown li{font-size:20px;}\\r\\n\\t\\t.aecountdown{bottom: 50px;}\\r\\n\\r\\n\\t}\\r\\n</style>\\r\\n\\r\\n<div class=\"aecountdown\" id=\"assembly_countdown\">\\r\\n\\t<div class=\"aecinner\">\\r\\n\\t\\t<div class=\"assebly_coun_text\">\\r\\n\\t\\t\\tCountdown To\\r\\n\\t\\t\\t<span>Elections Results</span>\\r\\n\\t\\t </div>\\r\\n\\r\\n\\t\\t<ul class=\"assembly_countdown\">\\r\\n\\t\\t\\t<li style=\"display: none;\"><strong id=\"d\">01</strong> <span>d</span></li>\\r\\n\\t\\t\\t<li><strong id=\"h\">12</strong> <span>h</span></li>\\r\\n\\t\\t\\t<li><strong id=\"m\">38</strong> <span>m</span></li>\\r\\n\\t\\t\\t<li><strong id=\"s\">09</strong> <span>s</span></li>\\r\\n\\t\\t</ul>\\r\\n\\t\\t<div class=\"assebly_text_hide\">To Assembly Elections 2018 Results</div>\\r\\n\\t\\t<div class=\"slink\">\\r\\n\\t\\t\\t<a href=\"/assembly-elections-2018/madhya-pradesh/\">Madhya Pradesh</a>  |  <a href=\"/assembly-elections-2018/rajasthan/\"> Rajasthan</a>  | <a href=\"/assembly-elections-2018/telangana/\"> Telangana</a>  | <a href=\"/assembly-elections-2018/chhattisgarh/\"> Chhattisgarh</a>  | <a href=\"/assembly-elections-2018/mizoram/\">  Mizoram</a>\\r\\n\\t\\t</div>\\r\\n\\t</div>\\r\\n</div>\\r\\n\\r\\n<script>\\r\\nvar countDownDate = new Date(\"Dec 11, 2018 08:00:00\").getTime();\\r\\nvar assembly_x = setInterval(function() {\\r\\n  var now = new Date().getTime();\\r\\n  var distance = countDownDate - now;\\r\\n  var days = Math.floor(distance / (1000 * 60 * 60 * 24));\\r\\n  var hours = Math.floor((distance % (1000 * 60 * 60 * 24)) / (1000 * 60 * 60));\\r\\n  var minutes = Math.floor((distance % (1000 * 60 * 60)) / (1000 * 60));\\r\\n  var seconds = Math.floor((distance % (1000 * 60)) / 1000);\\r\\n\\r\\n  document.getElementById(\"d\").innerHTML = days;\\r\\n  document.getElementById(\"h\").innerHTML = hours;\\r\\n  document.getElementById(\"m\").innerHTML = minutes;\\r\\n  document.getElementById(\"s\").innerHTML = seconds;\\r\\n  document.getElementById(\"assembly_countdown\").style.display=\\'block\\';\\r\\n  if (distance < 0) {\\r\\n    clearInterval(assembly_x);\\r\\n    document.getElementById(\"assembly_countdown\").style.display=\\'none\\';\\r\\n  }\\r\\n}, 1000);\\r\\n\\r\\n$(document).ready(function(){\\r\\n\\tif( $(window).width() < 768 ){\\r\\n\\t\\t$(\\'#assembly_countdown\\').click(function(){\\r\\n\\t\\t\\twindow.location.href = \"/assembly-elections-2018/\";\\r\\n\\t\\t});\\r\\n\\t}\\r\\n});\\r\\n</script>\\r\\n<div id=\"mobilSticky300x50\" class=\"f-add-div\" ></div>\\r\\n<div class=\"mobile_ad\" id=\"special_1x1\"></div>\\r\\n<div class=\"clearfix\"></div>\\r\\n<footer>\\t\\r\\n<script src=\"https://images.news18.com/ibnlive/uploads/2019/04/jquery.highlight.js\"></script>\\r\\n<script>\\r\\njQuery.fn.removeHighlight = function() {\\r\\n\\treturn this.find(\"span.power-text-highlight\").each(function() {\\r\\n\\t\\tthis.parentNode.firstChild.nodeName;\\r\\n\\t\\twith(this.parentNode) {\\r\\n\\t\\t\\treplaceChild(this.firstChild, this);\\r\\n\\t\\t\\tnormalize();\\r\\n\\t\\t}\\r\\n\\t}).end();\\r\\n};\\r\\n\\r\\n$(document).ready(function(){\\r\\n\\t\\t\\t\\t\\r\\n\\t//$(\\'body\\').highlight(\\'power\\', {className: \\'power-text-highlight\\', wordsOnly: true });\\r\\n\\t$(\\'#article_body\\').highlight(\\'game of thrones\\', {className: \\'power-text-highlight\\', wordsOnly: true });\\r\\n\\t$(\\'#article_body\\').highlight(\\'game of thrones season 8\\', {className: \\'power-text-highlight\\', wordsOnly: true });\\r\\n\\t\\t$(\\'body a\\').removeHighlight();\\r\\n\\t\\t$(\\'body h1\\').removeHighlight();\\r\\n\\t\\t$(\\'body h2\\').removeHighlight();\\r\\n\\t\\t$(\\'body h3\\').removeHighlight();\\r\\n\\t\\t\\r\\n\\t// $(\\'.power-text-highlight\\').hover(function () {\\r\\n\\t   // var title = \\'Introducing the new powerful 1.5L engines.\\';\\r\\n\\r\\n\\t   // $(this).data(\\'tipText\\', title);\\r\\n\\r\\n\\t   // if(title == \\'\\'){\\r\\n\\t\\t   \\r\\n\\t   // } else{\\r\\n\\t\\t  // $(\\'<p class=\"tooltip\"></p>\\').fadeIn(200).text(title).appendTo(\\'body\\');\\r\\n\\t   // }\\r\\n\\t// }, function () {\\r\\n\\t   // $(this).attr(\\'data-tooltip\\', $(this).data(\\'tipText\\'));\\r\\n\\t   // $(\\'.tooltip\\').fadeOut(200);\\r\\n\\t// }).mousemove(function (e) {\\r\\n\\t   // var mousex = e.pageX;\\r\\n\\t   // var mousey = e.pageY;\\r\\n\\t   // $(\\'.tooltip\\').css({\\r\\n\\t\\t   // top: mousey+50,\\r\\n\\t\\t   // left: mousex\\r\\n\\t   // })\\r\\n\\t// });\\r\\n\\t\\r\\n\\t\\r\\n\\t$(\\'.power-text-highlight\\').on(\\'click\\' ,function (event) {\\r\\n\\t\\t//window.location.href = \"https://www.google.com\";\\r\\n\\t\\t\\r\\n\\t\\tevent.preventDefault();\\r\\n\\t\\tevent.stopPropagation();\\r\\n\\t\\t//window.open(\"https://www.nexaexperience.com/ciaz.html?utm_source=firstpost&utm_medium=cpm&utm_campaign=firstpost_ciaz_diesel_poweridea_keyword_text&utm_content=firstpost_ciaz_diesel_poweridea_keyword_text_apr19\", \\'_blank\\');\\r\\n\\t\\twindow.open(\"https://ad.doubleclick.net/ddm/trackclk/N420004.2554303NEWS18/B22568611.244731331;dc_trk_aid=441546758;dc_trk_cid=114921813;dc_lat=;dc_rdid=;tag_for_child_directed_treatment=;tfua=\", \\'_blank\\');\\r\\n\\t});\\r\\n});\\r\\n</script>\\r\\n<div class=\"outer ftbox\">\\t\\r\\n\\r\\n\\t<script>\\r\\n\\t\\t\\t\\r\\n\\t$(document).ready(function() {\\r\\n\\t\\t$(\\'.ftrchnl-in\\').slick({\\r\\n\\t\\t\\tdots: true,\\r\\n\\t\\t\\tinfinite: false,\\r\\n\\t\\t\\tspeed: 500,\\r\\n\\t\\t\\tslidesToShow: 7,\\r\\n\\t\\t\\tautoplay: true,\\r\\n\\t\\t\\tnextArrow: \\'.chnlarr\\',\\r\\n\\t\\t\\tprevArrow: \\'.chnlarl\\',\\r\\n\\t\\t\\tappendDots : \\'.sliderBullets2\\',\\r\\n\\t\\t});\\r\\n\\t});\\r\\n\\t</script>\\r\\n\\t\\r\\n\\r\\n\\t<style>\\r\\n\\t.power-text-highlight{\\r\\n\\t\\t\\tbackground: red;\\r\\n\\t\\t\\tdisplay: inline-block;\\r\\n\\t\\t\\tcolor: #fff;\\r\\n\\t\\t\\tpadding: 0 5px;\\r\\n\\t\\t\\tcursor: pointer;\\r\\n\\t\\t}\\r\\n\\t\\t\\r\\n\\t\\tfooter .ftbox { padding: 18px 0;}\\r\\n\\t\\t.ftrchnl{ position: relative; margin: 0 0 0 92px}\\r\\n\\t\\t.ftrchnl-in{overflow:hidden; margin: 0 70px 0 60px}\\r\\n\\t\\t.ftrchnl-in .lick-list{width:100%; overflow:hidden}\\r\\n\\t\\t.ftrchnl-in .slick-slide{ padding:0 30px;     display: inline-block; width: auto !Important; border-left:1px solid #3e3e3e; }\\r\\n\\t\\t.ftrchnl-in .slick-slide img{ display: inline-block; vertical-align: middle; outline: none}\\r\\n\\t\\t.ftrchnl-in .slick-slide:first-child{ border: none; padding-left: 0px}\\r\\n\\t\\t.ftrchnl-ar{ position: absolute; top:7px;width:60px; height: 45px;background:#212121;}\\r\\n\\t\\t.ftrchnl-ar:before{ content: \"\"; position: absolute; top:50%;   width:15px; height: 15px; border-top:3px solid #393939; border-left:3px solid #393939;     transform: rotate(-45deg); display: block; left: 50%;\\r\\n\\t\\tmargin: -7px 0 0 -7px;}\\r\\n\\t\\t.ftrchnl-ar.chnlarl{left:0px}\\r\\n\\t\\t.ftrchnl-ar.chnlarr{    right: 0px;  transform: rotate(180deg);}\\r\\n\\t\\t.ftrlvlt-hd {font-size: 20px; color: #fff; font-weight: 400; line-height: 60px; border-right: 1px solid #818181; padding-right: 16px; position: absolute;    height: 60px; text-transform: uppercase}\\r\\n\\t\\t.ftrlvlt-hd img {position: absolute;top: 42%;right: -6px;}\\r\\n\\t\\t.fornwftr{margin-left: 25px;width: 280px !important;padding: 20px 0 0 0 !important;}\\r\\n\\t\\t.fmid .topic ul li { font-size: 13px;}\\r\\n\\t\\t.df { display: flex; justify-content: space-between; }\\r\\n\\t\\t.from-network ul { display: flex; flex-wrap: wrap; }\\r\\n\\t</style>\\r\\n\\t<h3 class=\"ftrlvlt-hd\">Live TV<img src=\"https://images.news18.com/static_news18/pix/ibnhome/news18/images/desktop/farrow.png\" alt=\"\"></h3>\\t\\r\\n\\t<div class=\"clearfix ftrchnl\">\\r\\n\\t\\t<div class=\"ftrchnl-in clearfix\">\\r\\n\\t\\t<div><a href=\"/livetv/\"><img class=\"lazy\" src=\"https://images.news18.com/optimize/r3eu9IpNXMOv2ZQguB4i9MU4FTo=/66x45/images.news18.com/ibnlive/uploads/66x45/jpg/2019/08/news18.gif\" data-src=\"https://images.news18.com/static_news18/pix/ibnhome/news18/footer-images/cnnnews18.png\" data-srcset=\"https://images.news18.com/static_news18/pix/ibnhome/news18/footer-images/cnnnews18.png 1x\" alt=\"CNN News18 Live TV\" title=\"CNN News18 Live TV\"/></a></div>\\r\\n\\t\\t\\t<div><a href=\"https://hindi.news18.com/livetv/\"><img class=\"lazy\" src=\"https://images.news18.com/optimize/r3eu9IpNXMOv2ZQguB4i9MU4FTo=/66x45/images.news18.com/ibnlive/uploads/66x45/jpg/2019/08/news18.gif\" data-src=\"https://images.news18.com/static_news18/pix/ibnhome/news18/footer-images/news18india.png\" data-srcset=\"https://images.news18.com/static_news18/pix/ibnhome/news18/footer-images/news18india.png 1x\" alt=\"News18 India Live TV\" title=\"News18 India Live TV\"/></a></div>\\r\\n\\t\\t\\t<div><a href=\"https://bengali.news18.com/live-tv/news18-bangla/\"><img class=\"lazy\" src=\"https://images.news18.com/optimize/r3eu9IpNXMOv2ZQguB4i9MU4FTo=/66x45/images.news18.com/ibnlive/uploads/66x45/jpg/2019/08/news18.gif\" data-src=\"https://images.news18.com/static_news18/pix/ibnhome/news18/footer-images/news18bengla.png\" data-srcset=\"https://images.news18.com/static_news18/pix/ibnhome/news18/footer-images/news18bengla.png 1x\" alt=\"News18 Bangla Live TV\" title=\"News18 Bangla Live TV\"/></a></div>\\r\\n\\t\\t\\t<div><a href=\"https://hindi.news18.com/livetv/news18-rajasthan/\"><img class=\"lazy\" src=\"https://images.news18.com/optimize/r3eu9IpNXMOv2ZQguB4i9MU4FTo=/66x45/images.news18.com/ibnlive/uploads/66x45/jpg/2019/08/news18.gif\" data-src=\"https://images.news18.com/static_news18/pix/ibnhome/news18/footer-images/news18rajasthan.png\" \\r\\n\\t\\t\\tdata-srcset=\"https://images.news18.com/static_news18/pix/ibnhome/news18/footer-images/news18rajasthan.png 1x\" alt=\"News18 Rajasthan Live TV\" title=\"News18 Rajasthan Live TV\"/></a></div>\\r\\n\\t\\t\\t<div><a href=\"https://gujarati.news18.com/live-tv/\"><img class=\"lazy\" src=\"https://images.news18.com/optimize/r3eu9IpNXMOv2ZQguB4i9MU4FTo=/66x45/images.news18.com/ibnlive/uploads/66x45/jpg/2019/08/news18.gif\" data-src=\"https://images.news18.com/static_news18/pix/ibnhome/news18/footer-images/news18gujarati.png\" data-srcset=\"https://images.news18.com/static_news18/pix/ibnhome/news18/footer-images/news18gujarati.png 1x\" alt=\"News18 Gujarati Live TV\" title=\"News18 Gujarati Live TV\"/></a></div>\\r\\n\\t\\t\\t<div><a href=\"http://www.news18kerala.com/\"><img class=\"lazy\" src=\"https://images.news18.com/optimize/r3eu9IpNXMOv2ZQguB4i9MU4FTo=/66x45/images.news18.com/ibnlive/uploads/66x45/jpg/2019/08/news18.gif\" data-src=\"https://images.news18.com/static_news18/pix/ibnhome/news18/footer-images/news18kerala.png\" data-srcset=\"https://images.news18.com/static_news18/pix/ibnhome/news18/footer-images/news18kerala.png 1x\" alt=\"News18 Kerala Live TV\" title=\"News18 Kerala Live TV\"/></a></div>\\r\\n\\t\\t\\t<div><a href=\"http://www.news18odia.com/\"><img class=\"lazy\" src=\"https://images.news18.com/optimize/r3eu9IpNXMOv2ZQguB4i9MU4FTo=/66x45/images.news18.com/ibnlive/uploads/66x45/jpg/2019/08/news18.gif\" data-src=\"https://images.news18.com/static_news18/pix/ibnhome/news18/footer-images/news18oria.png\" data-srcset=\"https://images.news18.com/static_news18/pix/ibnhome/news18/footer-images/news18oria.png 1x\" alt=\"News18 Odia Live TV\" title=\"News18 Odia Live TV\"/></a></div>\\r\\n\\t\\t\\t<div><a href=\"https://tamil.news18.com/live-tv/\"><img class=\"lazy\" src=\"https://images.news18.com/optimize/r3eu9IpNXMOv2ZQguB4i9MU4FTo=/66x45/images.news18.com/ibnlive/uploads/66x45/jpg/2019/08/news18.gif\" data-src=\"https://images.news18.com/static_news18/pix/ibnhome/news18/footer-images/news18tamil.png\" data-srcset=\"https://images.news18.com/static_news18/pix/ibnhome/news18/footer-images/news18tamil.png 1x\" alt=\"News18 Tamil Live TV\" title=\"News18 Tamil Live TV\"/></a></div>\\r\\n\\t\\t\\t<div><a href=\"https://urdu.news18.com/live-tv/\"><img class=\"lazy\" src=\"https://images.news18.com/optimize/r3eu9IpNXMOv2ZQguB4i9MU4FTo=/66x45/images.news18.com/ibnlive/uploads/66x45/jpg/2019/08/news18.gif\" data-src=\"https://images.news18.com/static_news18/pix/ibnhome/news18/footer-images/news18urdu.png\" data-srcset=\"https://images.news18.com/static_news18/pix/ibnhome/news18/footer-images/news18urdu.png 1x\" alt=\"News18 Urdu Live TV\" title=\"News18 Urdu Live TV\"/></a></div>\\t\\r\\n\\t\\t\\t<div><a href=\"https://hindi.news18.com/livetv/news18-uttar-pradesh-uttarakhand/\"><img class=\"lazy\" src=\"https://images.news18.com/optimize/r3eu9IpNXMOv2ZQguB4i9MU4FTo=/66x45/images.news18.com/ibnlive/uploads/66x45/jpg/2019/08/news18.gif\" data-src=\"https://images.news18.com/static_news18/pix/ibnhome/news18/footer-images/up-uk.gif\" data-srcset=\"https://images.news18.com/static_news18/pix/ibnhome/news18/footer-images/up-uk.gif 1x\" alt=\"News18 Uttar Pradesh, Uttarakhand Live TV\" title=\"News18 Uttar Pradesh, Uttarakhand Live TV\"/></a></div>\\r\\n\\t\\t\\t<div><a href=\"https://hindi.news18.com/livetv/news18-madhya-pradesh-chhattisgarh/\"><img class=\"lazy\" src=\"https://images.news18.com/optimize/r3eu9IpNXMOv2ZQguB4i9MU4FTo=/66x45/images.news18.com/ibnlive/uploads/66x45/jpg/2019/08/news18.gif\" data-src=\"https://images.news18.com/static_news18/pix/ibnhome/news18/footer-images/mp-ch.gif\" data-srcset=\"https://images.news18.com/static_news18/pix/ibnhome/news18/footer-images/mp-ch.gif 1x\"  alt=\"News18 Madhya Pradesh, Chattisgarh Live TV\" title=\"News18 Madhya Pradesh, Chattisgarh Live TV\"/></a></div>\\r\\n\\t\\t\\t<div><a href=\"https://hindi.news18.com/livetv/news18-bihar-jharkhand/\"><img class=\"lazy\" src=\"https://images.news18.com/optimize/r3eu9IpNXMOv2ZQguB4i9MU4FTo=/66x45/images.news18.com/ibnlive/uploads/66x45/jpg/2019/08/news18.gif\" data-src=\"https://images.news18.com/static_news18/pix/ibnhome/news18/footer-images/bh-jk.gif\"  data-srcset=\"https://images.news18.com/static_news18/pix/ibnhome/news18/footer-images/bh-jk.gif 1x\" alt=\"News18 Bihar, Jharkhand Live TV\" title=\"News18 Bihar Jharkhand Live TV\"/></a></div>\\r\\n\\t\\t\\t<div><a href=\"http://www.news18assam.com/\"><img class=\"lazy\" src=\"https://images.news18.com/optimize/r3eu9IpNXMOv2ZQguB4i9MU4FTo=/66x45/images.news18.com/ibnlive/uploads/66x45/jpg/2019/08/news18.gif\" data-src=\"https://images.news18.com/static_news18/pix/ibnhome/news18/footer-images/news18-assam-north-east.gif\" data-srcset=\"https://images.news18.com/static_news18/pix/ibnhome/news18/footer-images/news18-assam-north-east.gif 1x\" alt=\"News18 Assam Live TV\" title=\"News18 Assam Live TV\"/></a></div>\\t\\r\\n\\t\\t\\t<div><a href=\"https://punjab.news18.com/live-tv/\"><img class=\"lazy\" src=\"https://images.news18.com/optimize/r3eu9IpNXMOv2ZQguB4i9MU4FTo=/66x45/images.news18.com/ibnlive/uploads/66x45/jpg/2019/08/news18.gif\" data-src=\"https://images.news18.com/static_news18/pix/ibnhome/news18/footer-images/news18-punjab-haryana-himachal.gif\"  data-srcset=\"https://images.news18.com/static_news18/pix/ibnhome/news18/footer-images/news18-punjab-haryana-himachal.gif 1x\" alt=\"News18 Punjab, Haryana Live TV\" title=\"News18 Punjab, Haryana Live TV\"/></a></div>\\t\\r\\n\\t\\t\\t\\r\\n\\t\\t</div>\\r\\n\\t\\t<a href=\"#\" class=\"ftrchnl-ar chnlarl\" ></a>\\r\\n\\t\\t<a href=\"#\" class=\"ftrchnl-ar chnlarr\" > </a>  \\r\\n\\t</div>\\r\\n\\t<script src=\"https://images.news18.com/static_news18/pix/ibnhome/news18/js/desktop/slick_min.js\"></script>\\r\\n</div>\\t\\r\\n<div class=\"fmid\">\\r\\n   \\t<div class=\"outer df\">       \\r\\n\\t\\t<div class=\"topic\">     \\r\\n\\t\\t\\t<h2>sections</h2>     \\r\\n\\t\\t\\t<ul><li><a href=\"/india/\">India</a></li>\\r\\n\\t\\t\\t\\t<li><a href=\"/lifestyle/\">Lifestyle</a></li>\\t\\t\\t\\t\\r\\n\\t\\t\\t\\t<li><a href=\"/tech/\">Tech</a></li>\\r\\n\\t\\t\\t\\t<li><a href=\"/politics/\">Politics</a></li>\\r\\n\\t\\t\\t\\t<li><a href=\"/auto/\">Auto</a></li>\\r\\n\\t\\t\\t\\t<li><a href=\"/sports/\">Sports</a></li>\\r\\n\\t\\t\\t\\t<li><a href=\"/ivideos/\">iVideos</a></li>\\r\\n\\t\\t\\t\\t<li><a href=\"/football/\">Football</a></li>\\t\\t\\t\\t   \\r\\n\\t\\t\\t</ul>            \\r\\n\\t\\t</div>\\r\\n\\t\\t<div class=\"fletest-news\">   \\r\\n\\t\\t\\t<h2>Latest News</h2>        \\r\\n\\t\\t\\t<ul>\\r\\n\\t\\t\\t\\t<li><a href=https://www.news18.com/news/india/delhi-odd-even-rule-police-to-intensify-checks-this-week-after-297-violators-fined-on-saturday-2381633.html>Delhi Odd-even Rule: Police to Intensify Checks this Week After 297 violators Fined on Saturday</a></li><li><a href=https://www.news18.com/photogallery/movies/movies-first-look-tanhaji-new-poster-celebrating-the-100th-film-of-ajay-devgn-1801717.html>Tanhaji New Poster: Celebrating the 100th Film of Ajay Devgn</a></li><li><a href=https://www.news18.com/news/india/national-education-day-2019-remembering-free-indias-first-education-minister-maulana-abul-kalam-azad-2381601.html>National Education Day: Remembering Free India\\'s First HRD Minister Maulana Abul Kalam Azad</a></li><li><a href=https://www.news18.com/footballnext/news/premier-league-title-race-done-unless-injuries-strike-liverpool-jose-mourinho-2381613.html>Premier League Title Race Done Unless Injuries Strike Liverpool: Jose Mourinho</a></li><li><a href=https://www.news18.com/cricketnext/news/india-vs-bangladesh-we-have-a-long-way-to-go-in-t20-cricket-mahmudullah-2381605.html>India vs Bangladesh | We Have a Long Way to Go in T20 Cricket: Mahmudullah</a></li>\\t\\t\\t</ul>     \\r\\n\\t\\t</div> \\r\\n\\t\\t<div class=\"topic fleft fornwftr\"> <ul> \\r\\n\\t\\t\\t<li><a href=\"/about_us.php\">About Us </a></li> \\r\\n\\t\\t\\t<li><a href=\"/privacy_policy.html\">Privacy Policy </a></li>\\r\\n                          <li><a href=\"/cookie_policy.html\">Cookie Policy </a></li>\\r\\n\\t\\t\\t<li><a href=\"/disclaimer.php\">Disclaimer </a></li>\\r\\n\\t\\t\\t<li><a href=\"/contact_us.php\">Contact Us  </a></li>\\r\\n\\t\\t\\t<li><a href=\"/rss/\">Sitemap </a></li>\\r\\n\\t\\t\\t<li><a href=\"/complaint.php\">Complaint Redressal </a></li>\\r\\n\\t\\t\\t<li><a href=\"/advertisement_with_us.php\">Advertise With Us</a>\\r\\n\\t\\t\\t</ul> \\r\\n\\t\\t</div>\\t\\t\\r\\n\\t</div> \\r\\n\\t<div class=\"from-network\">\\r\\n\\t\\t<div class=\"outer\">      \\r\\n\\t\\t\\t<h3>Network 18 Sites</h3>  \\r\\n\\t\\t\\t<ul>         \\r\\n\\t\\t\\t\\t<li><a href=\"https://hindi.news18.com\" target=\"_blank\">News18 India </a></li>\\r\\n\\t\\t\\t\\t<li><a href=\"/cricketnext/\">CricketNext  </a></li>\\r\\n\\t\\t\\t\\t<li><a href=\"https://bengali.news18.com/\" target=\"_blank\">Bangla News </a></li>\\r\\n\\t\\t\\t\\t<li><a href=\"https://gujarati.news18.com/\" target=\"_blank\">Gujarati News </a></li>\\r\\n\\t\\t\\t\\t<li><a href=\"https://urdu.news18.com/\" target=\"_blank\">Urdu News </a></li>\\r\\n\\t\\t\\t\\t<li><a href=\"https://lokmat.news18.com/\" target=\"_blank\">Marathi News </a></li>\\r\\n\\t\\t\\t\\t<li><a href=\"https://www.topperlearning.com/\" target=\"_blank\">TopperLearning </a></li>\\r\\n\\t\\t\\t\\t<li><a href=\"https://www.moneycontrol.com/\" target=\"_blank\">Moneycontrol  </a></li>\\r\\n\\t\\t\\t\\t<li><a href=\"https://www.firstpost.com/\" target=\"_blank\">Firstpost  </a></li>\\r\\n\\t\\t\\t\\t<li><a href=\"http://compareindia.news18.com/\" target=\"_blank\">CompareIndia </a></li>\\r\\n\\t\\t\\t\\t<li><a href=\"https://www.cnbctv18.com/\" target=\"_blank\">CNBCTV18 </a></li>\\r\\n\\t\\t\\t\\t<li><a href=\"https://www.historyindia.com/\" target=\"_blank\">History India </a></li>\\r\\n\\t\\t\\t\\t<li><a href=\"https://www.mtvindia.com/\" target=\"_blank\">MTV India </a></li>\\r\\n\\t\\t\\t\\t<li><a href=\"https://www.in.com/\" target=\"_blank\">In.com </a></li>\\r\\n\\t\\t\\t\\t<li><a href=\"https://www.topperlearning.com/doubts-solutions/all-questions/\" target=\"_blank\">Clear Study Doubts</a></li>\\r\\n\\t\\t\\t\\t<li><a href=\"https://www.topperlearning.com/become-partner\" target=\"_blank\">Education Franchisee Opportunity</a></li>\\r\\n\\t\\t\\t\\t<li><a href=\"https://www.caprep18.com/\" target=\"_blank\">CAprep18</a></li>\\r\\n\\t\\t\\t</ul>          \\r\\n\\t\\t</div>      \\r\\n\\t</div>\\r\\n\\t<div class=\"fbottom-txt\">\\r\\n\\t<div class=\"outer\">CNN name, logo and all associated elements \\xc2\\xae and \\xc2\\xa9 2019 Cable News Network LP, LLLP. A Time Warner Company. All rights reserved. CNN and the CNN logo are registered marks of Cable News Network, LP LLLP, displayed with permission. Use of the CNN name and/or logo on or as part of NEWS18.com does not derogate from the intellectual property rights of Cable News Network in respect of them. \\xc2\\xa9 Copyright Network18 Media and Investments Ltd 2019. All rights reserved.</div>\\r\\n\\t</div>   \\r\\n</div>\\r\\n</footer> \\r\\n<!--mobile interstitial-->\\r\\n<div id=\"mobileInterstetial\"></div>\\r\\n<!-- web interstitial -->\\r\\n<script type=\"text/javascript\" src=\"https://images.news18.com/ibnlive/uploads/assets/js/news18//js/jquery.awesomeCloud-0.2.min.js\"></script>\\r\\n<script type=\"text/javascript\" src=\"https://images.news18.com/ibnlive/uploads/assets/js/news18/js/jquery.auto-complete.js\"></script>\\r\\n<script type=\"text/javascript\">\\r\\n$( document ).ready(function() {\\t\\r\\n\\tvar winWidth = jQuery(window).width();\\r\\n\\tif(winWidth > 600){\\t\\t\\r\\n\\t\\t$(\"#tagcloud\").awesomeCloud({\\r\\n\\t\\t\\t\"size\" : {\\r\\n\\t\\t\\t\\t\"grid\" : 9,\\r\\n\\t\\t\\t\\t\"factor\" : 1\\r\\n\\t\\t\\t},\\r\\n\\t\\t\\t\"options\" : {\\r\\n\\t\\t\\t\\t\"color\" : \"random-dark\",\\r\\n\\t\\t\\t\\t\"rotationRatio\" : 0.35\\r\\n\\t\\t\\t},\\r\\n\\t\\t\\t\"shape\" : \"square\"\\r\\n\\t\\t});\\t\\t\\t\\r\\n\\t}\\r\\n});\\r\\n</script>\\r\\n<!-- flying ads code starts here -->\\r\\n<script>\\r\\nfunction setCookie( name, value, expires) {\\r\\n\\t\\t\\tdomain = \\'news18.com\\';\\r\\n\\t\\t\\tsecure = \\'\\';\\r\\n\\t\\t\\tpath = \\'/\\';\\r\\n\\t\\t\\tvar today = new Date();\\r\\n\\t\\t\\ttoday.setTime( today.getTime() );\\r\\n\\t\\t\\tif ( expires ) {\\r\\n\\t\\t\\t\\texpires = expires * 1000 * 60 * 60 * 24;\\r\\n\\t\\t\\t}\\r\\n\\t\\t\\tvar expires_date = new Date( today.getTime() + (expires) );\\r\\n\\t\\t\\tdocument.cookie = name+\\'=\\'+escape( value ) +\\r\\n\\t\\t\\t\\t( ( expires ) ? \\';expires=\\'+expires_date.toGMTString() : \\'\\' ) + //expires.toGMTString()\\r\\n\\t\\t\\t\\t( ( path ) ? \\';path=\\' + path : \\'\\' ) + \\r\\n\\t\\t\\t\\t( ( domain ) ? \\';domain=\\' + domain : \\'\\' ) +\\r\\n\\t\\t\\t\\t( ( secure ) ? \\';secure\\' : \\'\\' );\\r\\n\\t}\\r\\n        \\r\\nfunction getCookie( name ) {\\t\\r\\n        var start = document.cookie.indexOf( name + \"=\" );\\r\\n        var len = start + name.length + 1;\\r\\n        if ( ( !start ) && ( name != document.cookie.substring( 0, name.length ) ) ) {\\r\\n                return null;\\r\\n        }\\r\\n        if ( start == -1 ) return null;\\r\\n        var end = document.cookie.indexOf( \\';\\', len );\\r\\n        if ( end == -1 ) end = document.cookie.length;\\r\\n        return unescape( document.cookie.substring( len, end ) );\\r\\n}\\r\\n\\t\\t\\t\\r\\nif ( navigator.appName.indexOf(\"Microsoft\")==-1 )\\r\\n{\\r\\n         var per_day_cap=0;\\r\\n          if(getCookie(\\'IBNFlyingAd_300x250\\')){\\r\\n            var per_day_cap =getCookie(\\'IBNFlyingAd_300x250\\');\\r\\n        }\\r\\n            if(per_day_cap < 4){\\r\\n\\t\\t\\t\\t  \\r\\n\\t\\t        per_day_cap=parseInt(parseInt(per_day_cap)+1);\\r\\n                \\r\\n                setCookie(\\'IBNFlyingAd_300x250\\',per_day_cap,1);\\r\\n            }\\r\\n} \\r\\n</script>\\r\\n<!-- flying ads code ends here -->\\r\\n<!--Mobile ad script-->\\r\\n<script type=\"text/javascript\">\\r\\nif(wapAdsidSticky320x50){\\r\\n\\tgetAdsScripts(\\'mobilSticky300x50\\', wapAdsidSticky320x50);\\r\\n}\\r\\nif(wapAdsINTERSTITIAL){\\t\\r\\n\\tsetTimeout(function() {\\r\\n      // Do something after 15 seconds\\r\\n\\t  console.log(\"INTERSTITIAL After 10 Seconds\");\\r\\n\\t  getAdsScripts(\\'mobileInterstetial\\', wapAdsINTERSTITIAL);\\r\\n\\t}, 10000);\\r\\n}\\r\\nif(wapAdsid320x50_1){\\r\\n\\tgetAdsScripts(\\'mobilTop300x50\\', wapAdsid320x50_1);\\r\\n}\\r\\nif(adsId1x1special){\\r\\n\\t\\tgetAdsScripts(\\'special_1x1\\', adsId1x1special);\\r\\n}\\r\\nif(wapAdsId300x250){\\r\\n\\t\\tgetAdsScripts(\\'mobil300x250_1\\', wapAdsId300x250);\\r\\n\\t}\\r\\n</script>\\r\\n<!-- Google Code for Remarketing Tag -->\\r\\n<script type=\"text/javascript\">\\r\\n/* <![CDATA[ */\\r\\nvar google_conversion_id = 879569914;\\r\\nvar google_custom_params = window.google_tag_params;\\r\\nvar google_remarketing_only = true;\\r\\n/* ]]> */\\r\\n</script>\\r\\n<script type=\"text/javascript\" src=\"//www.googleadservices.com/pagead/conversion.js\">\\r\\n</script>\\r\\n<noscript>\\r\\n<div style=\"display:inline;\">\\r\\n<img height=\"0\" width=\"0\" style=\"border-style:none;\" alt=\"\" src=\"//googleads.g.doubleclick.net/pagead/viewthroughconversion/879569914/?value=0&amp;guid=ON&amp;script=0\"/>\\r\\n</div>\\r\\n</noscript>\\r\\n\\r\\n<!--<div id=\"InterstitialWEB\"></div>-->\\r\\n\\r\\n<script>\\r\\nif(adsId1x1_ros){\\r\\n\\tgetAdsScripts(\\'web1x1_ros\\', adsId1x1_ros);\\r\\n}\\r\\n</script>\\r\\n\\t<!--<div id=\"zfef3932c-b708-468e-a2e2-24de773ab53a\" style=\\'display:none\\' ></div>\\r\\n<script>!function(a,n,e,t,r){tagsync=e;var c=window[a];if(tagsync){var d=document.createElement(\"script\");d.src=\"https://1656.tm.zedo.com/v1/e5cc3368-0b94-4fee-b0ad-e157a1a08ced/atm.js\",d.async=!0;var i=document.getElementById(n);if(null==i||\"undefined\"==i)return;i.parentNode.appendChild(d,i),d.onload=d.onreadystatechange=function(){var a=new zTagManager(n);a.initTagManager(n,c,this.aync,t,r)}}else document.write(\"<script src=\\'https://1656.tm.zedo.com/v1/e5cc3368-0b94-4fee-b0ad-e157a1a08ced/tm.js?data=\"+a+\"\\'><\"+\"/script>\")}(\"datalayer\",\"zfef3932c-b708-468e-a2e2-24de773ab53a\",true, 1 , 1);</script>-->\\r\\n<!--<div id=\"M349311ScriptRootC256239\"> <div id=\"M349311PreloadC256239\"> Loading... </div> <script> (function(){ var D=new Date(),d=document,b=\\'body\\',ce=\\'createElement\\',ac=\\'appendChild\\',st=\\'style\\',ds=\\'display\\',n=\\'none\\',gi=\\'getElementById\\',lp=d.location.protocol,wp=lp.indexOf(\\'http\\')==0?lp:\\'https:\\'; var i=d[ce](\\'iframe\\');i[st][ds]=n;d[gi](\"M349311ScriptRootC256239\")[ac](i);try{var iw=i.contentWindow.document;iw.open();iw.writeln(\"<ht\"+\"ml><bo\"+\"dy></bo\"+\"dy></ht\"+\"ml>\");iw.close();var c=iw[b];} catch(e){var iw=d;var c=d[gi](\"M349311ScriptRootC256239\");}var dv=iw[ce](\\'div\\');dv.id=\"MG_ID\";dv[st][ds]=n;dv.innerHTML=256239;c[ac](dv); var s=iw[ce](\\'script\\');s.async=\\'async\\';s.defer=\\'defer\\';s.charset=\\'utf-8\\';s.src=wp+\"//jsc.mgid.com/n/e/news18.com.256239.js?t=\"+D.getYear()+D.getMonth()+D.getUTCDate()+D.getUTCHours();c[ac](s);})(); </script> </div> -->\\r\\n\\r\\n<!-- script for onthe IO-->\\r\\n<!----Commented IO for Election only Added by Umesh: 23-10-2019--->\\r\\n\\t<script>\\r\\n\\tgetontheIo();\\r\\n\\tfunction getontheIo(){\\r\\n\\t\\twindow._io_config = window._io_config || {};\\r\\n\\t\\twindow._io_config[\"0.2.0\"] = window._io_config[\"0.2.0\"] || [];\\r\\n\\t\\twindow._io_config[\"0.2.0\"].push({\\r\\n\\t\\t\\tpage_url: \"https://www.news18.com/news/world/un-chief-urges-india-pak-to-exercise-maximum-restraint-on-kashmir-invokes-shimla-agreement-2263887.html\",\\r\\n\\t\\t\\tpage_url_canonical: \"https://www.news18.com/news/world/un-chief-urges-india-pak-to-exercise-maximum-restraint-on-kashmir-invokes-shimla-agreement-2263887.html\",\\r\\n\\t\\t\\tpage_title: \"UN Chief Urges India, Pak to Exercise \\'Maximum Restraint\\' on Kashmir, Invokes Simla Agreement - News18\",\\r\\n\\t\\t\\tpage_type: \"article\",\\r\\n\\t\\t\\tpage_language: \"en\",\\r\\n\\t\\t\\tarticle_authors: [\"News18.com\"],\\r\\n\\t\\t\\tarticle_categories: [\"INDIA\"],\\r\\n\\t\\t\\tarticle_subcategories: [\"\"],\\r\\n\\t\\t\\tarticle_type: \"longread\",\\r\\n\\t\\t\\tarticle_word_count: \"449\",\\r\\n\\t\\t\\tarticle_publication_date: \"Fri, 09 Aug 2019 07:21:24 +0530\"\\r\\n\\t\\t});\\r\\n\\t}\\r\\n\\r\\n\\t</script>\\r\\n\\r\\n<script>\\r\\n// Lazy Load Images Js Starts\\r\\ndocument.addEventListener(\"DOMContentLoaded\", function() {\\r\\n  let lazyImages = [].slice.call(document.querySelectorAll(\"img.lazy\"));\\r\\n  let active = false;\\r\\n\\r\\n  const lazyLoad = function() {\\r\\n    if (active === false) {\\r\\n      active = true;\\r\\n\\r\\n      setTimeout(function() {\\r\\n        lazyImages.forEach(function(lazyImage) {\\r\\n          if ((lazyImage.getBoundingClientRect().top <= window.innerHeight && lazyImage.getBoundingClientRect().bottom >= 0) && getComputedStyle(lazyImage).display !== \"none\") {\\r\\n            lazyImage.src = lazyImage.dataset.src;\\r\\n            lazyImage.srcset = lazyImage.dataset.srcset;\\r\\n            lazyImage.classList.remove(\"lazy\");\\r\\n\\r\\n            lazyImages = lazyImages.filter(function(image) {\\r\\n              return image !== lazyImage;\\r\\n            });\\r\\n\\r\\n            if (lazyImages.length === 0) {\\r\\n              document.removeEventListener(\"scroll\", lazyLoad);\\r\\n              window.removeEventListener(\"resize\", lazyLoad);\\r\\n              window.removeEventListener(\"orientationchange\", lazyLoad);\\r\\n            }\\r\\n          }\\r\\n        });\\r\\n\\r\\n        active = false;\\r\\n      }, 200);\\r\\n    }\\r\\n  };\\r\\n\\r\\n  document.addEventListener(\"scroll\", lazyLoad);\\r\\n  window.addEventListener(\"resize\", lazyLoad);\\r\\n  window.addEventListener(\"orientationchange\", lazyLoad);\\r\\n});\\r\\n// Lazy Load Images Js Ends\\r\\n</script>\\r\\n</body>\\r\\n\\r\\n </html> \\r\\n\\r\\n'"
            ]
          },
          "metadata": {
            "tags": []
          },
          "execution_count": 17
        }
      ]
    },
    {
      "cell_type": "code",
      "metadata": {
        "id": "UBRNKqC62CI3",
        "colab_type": "code",
        "colab": {}
      },
      "source": [
        "soup = BeautifulSoup(content,'lxml')\n"
      ],
      "execution_count": 0,
      "outputs": []
    },
    {
      "cell_type": "code",
      "metadata": {
        "id": "9hY5AAK12rT1",
        "colab_type": "code",
        "colab": {
          "base_uri": "https://localhost:8080/",
          "height": 343
        },
        "outputId": "c33b3715-78f1-4c10-9b5e-94eeedba560a"
      },
      "source": [
        "data = soup.find_all(\"p\")\n",
        "for i in data:\n",
        "  print(i.text)"
      ],
      "execution_count": 19,
      "outputs": [
        {
          "output_type": "stream",
          "text": [
            "\n",
            "\n",
            "Please check above checkbox.\n",
            "News18.com\n",
            "United Nations: UN chief Antonio Guterres on Thursday urged India and Pakistan to exercise \"maximum restraint\" and refrain from taking steps that could affect the status of Jammu and Kashmir, as he highlighted the Simla Agreement which rejects any third-party mediation on the issue.\r\n",
            "The Secretary-General's remarks came after India on Monday revoked Article 370 to withdraw the special status to Jammu and Kashmir and bifurcated the state into two Union Territories - Jammu and Kashmir and Ladakh.\r\n",
            "Pakistan termed the Indian action as \"unilateral and illegal\", and said it will take the matter to the UN Security Council.\r\n",
            "\"The Secretary-General has been following the situation in Jammu and Kashmir with concern and makes an appeal for maximum restraint,\" Guterres' spokesman Stephane Dujarric said here.\r\n",
            "Dujarric specifically said that the Secretary-General \"also recalls the 1972 Agreement on bilateral relations between India and Pakistan, also known as the Simla Agreement, which states that the final status of Jammu and Kashmir is to be settled by peaceful means\" in accordance with the Charter of the United Nations.\r\n",
            "The Secretary General did not offer his good offices nor did he make any offer to mediate between India and Pakistan on Kashmir. Instead, he referred to the Simla Agreement, which is a bilateral agreement between India and Pakistan and rejects any third-party mediation in the issue.\r\n",
            "Guterres also called \"on all parties to refrain from taking steps\" that could affect the status of Jammu and Kashmir. He said the position of the United Nations on the region was governed by the Charter of the United Nations and is applicable to Security Council resolutions.\r\n",
            "When asked to be more specific about reference to the UNSC resolutions on Kashmir in the statement, Dujarric said \"I'm not going to go into any more specifics of the statement which also refers to our concern\" about reports of restrictions in Kashmir in India. \"So I'll refer you to the statement,\" he said.\r\n",
            "Dujarric reiterated that Guterres and the UN Secretariat were following the situation \"very closely\".\r\n",
            "He said there had been contacts from the UN Secretariat both with the Indian and Pakistani authorities and with the Permanent Missions of India and Pakistan. He said there is no plan for the Secretary-General to brief the Security Council on Kashmir.\r\n",
            "Reacting to India's move, Pakistan expelled the Indian envoy and downgraded its diplomatic ties with New Delhi.\r\n",
            "India has said that Jammu and Kashmir is an integral part of India and the issue was strictly internal to the country.\r\n",
            "(With PTI inputs)\n",
            "Get the best of News18 delivered to your inbox - subscribe to News18 Daybreak. Follow News18.com on Twitter, Instagram, Facebook,  Telegram, TikTok and on YouTube, and stay in the know with what's happening in the world around you – in real time.\n"
          ],
          "name": "stdout"
        }
      ]
    },
    {
      "cell_type": "code",
      "metadata": {
        "id": "zhsPxaIb2zAs",
        "colab_type": "code",
        "colab": {
          "base_uri": "https://localhost:8080/",
          "height": 54
        },
        "outputId": "48306272-a9ad-4113-81bd-8bb4486cfd32"
      },
      "source": [
        "text = data[5:-1]\n",
        "text = [text[i].text for i in range(len(text))]\n",
        "finalnews = \" \".join(text)\n",
        "finalnews\n"
      ],
      "execution_count": 20,
      "outputs": [
        {
          "output_type": "execute_result",
          "data": {
            "text/plain": [
              "'The Secretary-General\\'s remarks came after India on Monday revoked Article 370 to withdraw the special status to Jammu and Kashmir and bifurcated the state into two Union Territories - Jammu and Kashmir and Ladakh.\\r Pakistan termed the Indian action as \"unilateral and illegal\", and said it will take the matter to the UN Security Council.\\r \"The Secretary-General has been following the situation in Jammu and Kashmir with concern and makes an appeal for maximum restraint,\" Guterres\\' spokesman Stephane Dujarric said here.\\r Dujarric specifically said that the Secretary-General \"also recalls the 1972 Agreement on bilateral relations between India and Pakistan, also known as the Simla Agreement, which states that the final status of Jammu and Kashmir is to be settled by peaceful means\" in accordance with the Charter of the United Nations.\\r The Secretary General did not offer his good offices nor did he make any offer to mediate between India and Pakistan on Kashmir. Instead, he referred to the Simla Agreement, which is a bilateral agreement between India and Pakistan and rejects any third-party mediation in the issue.\\r Guterres also called \"on all parties to refrain from taking steps\" that could affect the status of Jammu and Kashmir. He said the position of the United Nations on the region was governed by the Charter of the United Nations and is applicable to Security Council resolutions.\\r When asked to be more specific about reference to the UNSC resolutions on Kashmir in the statement, Dujarric said \"I\\'m not going to go into any more specifics of the statement which also refers to our concern\" about reports of restrictions in Kashmir in India. \"So I\\'ll refer you to the statement,\" he said.\\r Dujarric reiterated that Guterres and the UN Secretariat were following the situation \"very closely\".\\r He said there had been contacts from the UN Secretariat both with the Indian and Pakistani authorities and with the Permanent Missions of India and Pakistan. He said there is no plan for the Secretary-General to brief the Security Council on Kashmir.\\r Reacting to India\\'s move, Pakistan expelled the Indian envoy and downgraded its diplomatic ties with New Delhi.\\r India has said that Jammu and Kashmir is an integral part of India and the issue was strictly internal to the country.\\r (With PTI inputs)'"
            ]
          },
          "metadata": {
            "tags": []
          },
          "execution_count": 20
        }
      ]
    },
    {
      "cell_type": "code",
      "metadata": {
        "id": "paqTAicg3bF9",
        "colab_type": "code",
        "colab": {}
      },
      "source": [
        "link2 = \"https://timesofindia.indiatimes.com/india/article-370-did-nothing-but-encourage-separatism-terrorism-dynastic-rule-corruption-pm-modi/articleshow/70596459.cms\""
      ],
      "execution_count": 0,
      "outputs": []
    },
    {
      "cell_type": "code",
      "metadata": {
        "id": "Qp1woFyZ4WqT",
        "colab_type": "code",
        "colab": {}
      },
      "source": [
        "import requests\n",
        "res=requests.get(link2)\n",
        "soup = BeautifulSoup(res.text,\"html.parser\")"
      ],
      "execution_count": 0,
      "outputs": []
    },
    {
      "cell_type": "code",
      "metadata": {
        "id": "nAfMjA9f4Ztu",
        "colab_type": "code",
        "colab": {
          "base_uri": "https://localhost:8080/",
          "height": 1000
        },
        "outputId": "8b2c400d-7336-4b21-d65c-0f45f6ef884c"
      },
      "source": [
        "soup.findAll('a')"
      ],
      "execution_count": 23,
      "outputs": [
        {
          "output_type": "execute_result",
          "data": {
            "text/plain": [
              "[<a href=\"https://navbharattimes.indiatimes.com/\" rel=\"nofollow noopener noreferrer\" target=\"_blank\">à¤¹à¤¿à¤¨à¥à¤¦à¥</a>,\n",
              " <a href=\"https://maharashtratimes.indiatimes.com\" rel=\"nofollow noopener noreferrer\" target=\"_blank\">à¤®à¤°à¤¾à¤ à¥</a>,\n",
              " <a href=\"https://eisamay.indiatimes.com\" rel=\"nofollow noopener noreferrer\" target=\"_blank\">à¦¬à¦¾à¦à¦²à¦¾<!-- --> </a>,\n",
              " <a href=\"https://www.iamgujarat.com/\" rel=\"nofollow noopener noreferrer\" target=\"_blank\">àªà«àªàª°àª¾àª¤à«</a>,\n",
              " <a href=\"https://vijaykarnataka.indiatimes.com/\" rel=\"nofollow noopener noreferrer\" target=\"_blank\">à²à²¨à³à²¨à²¡</a>,\n",
              " <a href=\"https://tamil.samayam.com\" rel=\"nofollow noopener noreferrer\" target=\"_blank\">à®¤à®®à®¿à®´à¯</a>,\n",
              " <a href=\"https://telugu.samayam.com\" rel=\"nofollow noopener noreferrer\" target=\"_blank\">à°¤à±à°²à±à°à±</a>,\n",
              " <a href=\"https://malayalam.samayam.com\" rel=\"nofollow noopener noreferrer\" target=\"_blank\">à´®à´²à´¯à´¾à´³à´</a>,\n",
              " <a href=\"http://epaperbeta.timesofindia.com/\" rel=\"nofollow noopener noreferrer\" target=\"_blank\">Epaper</a>,\n",
              " <a href=\"https://www.gadgetsnow.com/\" pg=\"TbPos2\" rel=\"nofollow noopener noreferrer\" target=\"_blank\">GadgetsNow</a>,\n",
              " <a class=\"_2NIwb\" data-newga=\"Header-Social#Click-twitter-1\" href=\"https://twitter.com/timesofindia\" rel=\"nofollow\" target=\"_blank\"></a>,\n",
              " <a class=\"_2NIwb\" data-newga=\"Header-Social#Click-fb-2\" href=\"https://www.facebook.com/TimesofIndia\" rel=\"nofollow\" target=\"_blank\"></a>,\n",
              " <a class=\"_2NIwb\" data-newga=\"Header-Social#Click-rss-5\" href=\"https://timesofindia.indiatimes.com/rss.cms\"></a>,\n",
              " <a class=\"_2NIwb\" data-newga=\"Header-Social#Click-youtube-4\" href=\"https://www.youtube.com/user/TimesOfIndiaChannel\" rel=\"nofollow\" target=\"_blank\"></a>,\n",
              " <a class=\"_1-TOO\" href=\"https://timesofindia.indiatimes.com/\"><span class=\"_162t7\">TOI</span></a>,\n",
              " <a class=\"_1AtfL\" href=\"https://timesofindia.indiatimes.com\">TOI</a>,\n",
              " <a data-msid=\"home\" data-newga=\"NavBar-level0-Home#Section_View-0\" href=\"https://timesofindia.indiatimes.com/\"></a>,\n",
              " <a class=\"_3fytb\" data-ga=\"NavBar-level1-Briefs#Section_View-1|undefined\" data-msid=\"48986328\" href=\"https://timesofindia.indiatimes.com/briefs\">Briefs</a>,\n",
              " <a class=\"\" data-ga=\"NavBar-level1-World#Section_View-2|undefined\" data-msid=\"296589292\" href=\"https://timesofindia.indiatimes.com/world\">World</a>,\n",
              " <a class=\"\" data-ga=\"NavBar-level1-Business#Section_View-3|undefined\" data-msid=\"1898055\" href=\"https://timesofindia.indiatimes.com/business\">Business</a>,\n",
              " <a class=\"\" data-ga=\"NavBar-level1-Sports#Section_View-4|undefined\" data-msid=\"4719148\" href=\"https://timesofindia.indiatimes.com/sports\">Sports</a>,\n",
              " <a class=\"\" data-ga=\"NavBar-level1-Entertainment#Section_View-5|undefined\" data-msid=\"1081479906\" href=\"https://timesofindia.indiatimes.com/etimes\">Entertainment</a>,\n",
              " <a class=\"\" data-ga=\"NavBar-level1-TV#Section_View-6|undefined\" data-msid=\"17781976\" href=\"https://timesofindia.indiatimes.com/tv/hindi\">TV</a>,\n",
              " <a class=\"\" data-ga=\"NavBar-level1-Life_&amp;_Style#Section_View-7|undefined\" data-msid=\"2886704\" href=\"https://timesofindia.indiatimes.com/life-style\">Life &amp; Style</a>,\n",
              " <a class=\"\" data-ga=\"NavBar-level1-Photos#Section_View-8|undefined\" data-msid=\"17584223\" href=\"http://photogallery.indiatimes.com\" rel=\"noopener nofollow\">Photos</a>,\n",
              " <a class=\"\" data-ga=\"NavBar-level1-Education#Section_View-9|undefined\" data-msid=\"913168846\" href=\"https://timesofindia.indiatimes.com/education\">Education</a>,\n",
              " <a class=\"\" data-ga=\"NavBar-level1-Politics#Section_View-10|undefined\" data-msid=\"66274811\" href=\"https://timesofindia.indiatimes.com/politics\">Politics</a>,\n",
              " <a class=\"\" data-ga=\"NavBar-level1-Elections#Section_View-11|undefined\" data-msid=\"55110838\" href=\"https://timesofindia.indiatimes.com/elections\">Elections</a>,\n",
              " <a data-msid=\"4440100\" data-newga=\"NavBar-level0-India#Section_View-1\" href=\"https://timesofindia.indiatimes.com/india\">India</a>,\n",
              " <a data-msid=\"71840212\" data-newga=\"NavBar-level0-Ayodhya_Verdict#Section_View-1\" href=\"https://timesofindia.indiatimes.com/india/ayodhya-verdict\">Ayodhya Verdict</a>,\n",
              " <a data-msid=\"query-Maharashtra\" data-newga=\"NavBar-level0-Maharashtra#Section_View-2\" href=\"https://timesofindia.indiatimes.com/india/maharashtra\">Maharashtra</a>,\n",
              " <a data-msid=\"query-Delhi\" data-newga=\"NavBar-level0-Delhi#Section_View-3\" href=\"https://timesofindia.indiatimes.com/india/delhi\">Delhi</a>,\n",
              " <a data-msid=\"query-Karnataka\" data-newga=\"NavBar-level0-Karnataka#Section_View-4\" href=\"https://timesofindia.indiatimes.com/india/karnataka\">Karnataka</a>,\n",
              " <a data-msid=\"query-Tamil-Nadu\" data-newga=\"NavBar-level0-Tamil_Nadu#Section_View-5\" href=\"https://timesofindia.indiatimes.com/india/tamil-nadu\">Tamil Nadu</a>,\n",
              " <a data-msid=\"query-telangana\" data-newga=\"NavBar-level0-Telangana#Section_View-6\" href=\"https://timesofindia.indiatimes.com/india/telangana\">Telangana</a>,\n",
              " <a data-msid=\"query-Uttar-Pradesh\" data-newga=\"NavBar-level0-Uttar_Pradesh#Section_View-7\" href=\"https://timesofindia.indiatimes.com/india/uttar-pradesh\">Uttar Pradesh</a>,\n",
              " <a data-msid=\"query-West-Bengal\" data-newga=\"NavBar-level0-West_Bengal#Section_View-8\" href=\"https://timesofindia.indiatimes.com/india/west-bengal\">West Bengal</a>,\n",
              " <a data-msid=\"query-Gujarat\" data-newga=\"NavBar-level0-Gujarat#Section_View-9\" href=\"https://timesofindia.indiatimes.com/india/gujarat\">Gujarat</a>,\n",
              " <a data-msid=\"query-Madhya-Pradesh\" data-newga=\"NavBar-level0-Madhya_Pradesh#Section_View-10\" href=\"https://timesofindia.indiatimes.com/india/madhya-pradesh\">Madhya Pradesh</a>,\n",
              " <a data-msid=\"query-Bihar\" data-newga=\"NavBar-level0-Bihar#Section_View-11\" href=\"https://timesofindia.indiatimes.com/india/bihar\">Bihar</a>,\n",
              " <a data-msid=\"query-Chandigarh\" data-newga=\"NavBar-level0-Chandigarh#Section_View-12\" href=\"https://timesofindia.indiatimes.com/india/chandigarh\">Chandigarh</a>,\n",
              " <a data-msid=\"query-Rajasthan\" data-newga=\"NavBar-level0-Rajasthan#Section_View-13\" href=\"https://timesofindia.indiatimes.com/india/rajasthan\">Rajasthan</a>,\n",
              " <a data-msid=\"query-Arunachal-Pradesh\" data-newga=\"NavBar-level0-Arunachal_Pradesh#Section_View-14\" href=\"https://timesofindia.indiatimes.com/india/arunachal-pradesh\">Arunachal Pradesh</a>,\n",
              " <a data-msid=\"query-Andhra-Pradesh\" data-newga=\"NavBar-level0-Andhra_Pradesh#Section_View-15\" href=\"https://timesofindia.indiatimes.com/india/andhra-pradesh\">Andhra Pradesh</a>,\n",
              " <a data-msid=\"query-Assam\" data-newga=\"NavBar-level0-Assam#Section_View-16\" href=\"https://timesofindia.indiatimes.com/india/assam\">Assam</a>,\n",
              " <a data-msid=\"query-Chhattisgarh\" data-newga=\"NavBar-level0-Chhattisgarh#Section_View-17\" href=\"https://timesofindia.indiatimes.com/india/chhattisgarh\">Chhattisgarh</a>,\n",
              " <a data-msid=\"query-Goa\" data-newga=\"NavBar-level0-Goa#Section_View-18\" href=\"https://timesofindia.indiatimes.com/india/goa\">Goa</a>,\n",
              " <a data-msid=\"query-Haryana\" data-newga=\"NavBar-level0-Haryana#Section_View-19\" href=\"https://timesofindia.indiatimes.com/india/haryana\">Haryana</a>,\n",
              " <a data-msid=\"query-Himachal-Pradesh\" data-newga=\"NavBar-level0-Himachal_Pradesh#Section_View-20\" href=\"https://timesofindia.indiatimes.com/india/himachal-pradesh\">Himachal Pradesh</a>,\n",
              " <a data-msid=\"query-Jammu-Kashmir\" data-newga=\"NavBar-level0-Jammu_and_Kashmir#Section_View-21\" href=\"https://timesofindia.indiatimes.com/india/jammu-and-kashmir\">Jammu and Kashmir</a>,\n",
              " <a data-msid=\"query-Jharkhand\" data-newga=\"NavBar-level0-Jharkhand#Section_View-22\" href=\"https://timesofindia.indiatimes.com/india/jharkhand\">Jharkhand</a>,\n",
              " <a data-msid=\"query-Kerala\" data-newga=\"NavBar-level0-Kerala#Section_View-23\" href=\"https://timesofindia.indiatimes.com/india/kerala\">Kerala</a>,\n",
              " <a data-msid=\"query-Manipur\" data-newga=\"NavBar-level0-Manipur#Section_View-24\" href=\"https://timesofindia.indiatimes.com/india/manipur\">Manipur</a>,\n",
              " <a data-msid=\"query-Meghalaya\" data-newga=\"NavBar-level0-Meghalaya#Section_View-25\" href=\"https://timesofindia.indiatimes.com/india/meghalaya\">Meghalaya</a>,\n",
              " <a data-msid=\"query-Mizoram\" data-newga=\"NavBar-level0-Mizoram#Section_View-26\" href=\"https://timesofindia.indiatimes.com/india/mizoram\">Mizoram</a>,\n",
              " <a data-msid=\"query-Nagaland\" data-newga=\"NavBar-level0-Nagaland#Section_View-27\" href=\"https://timesofindia.indiatimes.com/india/nagaland\">Nagaland</a>,\n",
              " <a data-msid=\"query-Orissa\" data-newga=\"NavBar-level0-Odisha#Section_View-28\" href=\"https://timesofindia.indiatimes.com/india/orissa\">Odisha</a>,\n",
              " <a data-msid=\"query-Punjab\" data-newga=\"NavBar-level0-Punjab#Section_View-29\" href=\"https://timesofindia.indiatimes.com/india/punjab\">Punjab</a>,\n",
              " <a data-msid=\"query-Sikkim\" data-newga=\"NavBar-level0-Sikkim#Section_View-30\" href=\"https://timesofindia.indiatimes.com/india/sikkim\">Sikkim</a>,\n",
              " <a data-msid=\"query-Tripura\" data-newga=\"NavBar-level0-Tripura#Section_View-31\" href=\"https://timesofindia.indiatimes.com/india/tripura\">Tripura</a>,\n",
              " <a data-msid=\"query-Uttarakhand\" data-newga=\"NavBar-level0-Uttarakhand#Section_View-32\" href=\"https://timesofindia.indiatimes.com/india/uttarakhand\">Uttarakhand</a>,\n",
              " <a data-msid=\"query-Andaman-Nicobar-Islands\" data-newga=\"NavBar-level0-Andaman_and_Nicobar_Islands#Section_View-33\" href=\"https://timesofindia.indiatimes.com/india/andaman-and-nicobar-islands\">Andaman and Nicobar Islands</a>,\n",
              " <a data-msid=\"query-Dadra-Nagar-Haveli\" data-newga=\"NavBar-level0-Dadra_and_Nagar_Haveli#Section_View-34\" href=\"https://timesofindia.indiatimes.com/india/dadra-and-nagar-haveli\">Dadra and Nagar Haveli</a>,\n",
              " <a data-msid=\"query-Daman-Diu\" data-newga=\"NavBar-level0-Daman_and_Diu#Section_View-35\" href=\"https://timesofindia.indiatimes.com/india/daman-and-diu\">Daman and Diu</a>,\n",
              " <a data-msid=\"query-Lakshadweep\" data-newga=\"NavBar-level0-Lakshadweep#Section_View-36\" href=\"https://timesofindia.indiatimes.com/india/lakshadweep\">Lakshadweep</a>,\n",
              " <a data-msid=\"query-Pondicherry\" data-newga=\"NavBar-level0-Pondicherry#Section_View-37\" href=\"https://timesofindia.indiatimes.com/india/pondicherry\">Pondicherry</a>,\n",
              " <a data-newga=\"NavBar-level0-All_Sections/level1-News_Home#Section_View-1\" href=\"https://timesofindia.indiatimes.com/\">News Home</a>,\n",
              " <a data-newga=\"NavBar-level0-All_Sections/level1-News_Home/level2-Brandwire#Section_View-2\" href=\"https://timesofindia.indiatimes.com/brandwire/55686662.cms\">Brandwire<sup>New</sup></a>,\n",
              " <a data-newga=\"NavBar-level0-All_Sections/level1-News_Home/level2-City#Section_View-3\" href=\"https://timesofindia.indiatimes.com/city\">City</a>,\n",
              " <a data-newga=\"NavBar-level0-All_Sections/level1-News_Home/level2-Elections#Section_View-4\" href=\"https://timesofindia.indiatimes.com/elections\">Elections<sup>New</sup></a>,\n",
              " <a data-newga=\"NavBar-level0-All_Sections/level1-News_Home/level2-Smart_Cities#Section_View-5\" href=\"https://timesofindia.indiatimes.com/smart-cities/smartcities.cms\">Smart Cities</a>,\n",
              " <a data-newga=\"NavBar-level0-All_Sections/level1-News_Home/level2-India#Section_View-6\" href=\"https://timesofindia.indiatimes.com/india\">India</a>,\n",
              " <a data-newga=\"NavBar-level0-All_Sections/level1-News_Home/level2-World#Section_View-7\" href=\"https://timesofindia.indiatimes.com/world\">World</a>,\n",
              " <a data-newga=\"NavBar-level0-All_Sections/level1-News_Home/level2-Citizen_Reporter#Section_View-8\" href=\"https://timesofindia.indiatimes.com/crstories.cms\">Citizen Reporter</a>,\n",
              " <a data-newga=\"NavBar-level0-All_Sections/level1-News_Home/level2-NRI#Section_View-9\" href=\"https://timesofindia.indiatimes.com/nrihome.cms\">NRI</a>,\n",
              " <a data-newga=\"NavBar-level0-All_Sections/level1-News_Home/level2-Uniform_Civil_Code#Section_View-10\" href=\"https://timesofindia.indiatimes.com/uniform-civil-code\">Uniform Civil Code</a>,\n",
              " <a data-newga=\"NavBar-level0-All_Sections/level1-News_Home/level2-Pollution#Section_View-11\" href=\"https://timesofindia.indiatimes.com/india/pollution-news\">Pollution</a>,\n",
              " <a data-newga=\"NavBar-level0-All_Sections/level1-News_Home/level2-Yoga_Day_2017#Section_View-12\" href=\"https://timesofindia.indiatimes.com/international-yoga-day\">Yoga Day 2017</a>,\n",
              " <a data-newga=\"NavBar-level0-All_Sections/level1-News_Home/level2-Headlines#Section_View-13\" href=\"https://timesofindia.indiatimes.com/home/headlines\">Headlines</a>,\n",
              " <a data-newga=\"NavBar-level0-All_Sections/level1-News_Home/level2-Sunday_Times#Section_View-14\" href=\"https://timesofindia.indiatimes.com/home/sundaytimes/articlelist/1945062111.cms\">Sunday Times</a>,\n",
              " <a data-newga=\"NavBar-level0-All_Sections/level1-News_Home/level2-Good_News#Section_View-15\" href=\"https://timesofindia.indiatimes.com/good-news/goodnews.cms\">Good News</a>,\n",
              " <a data-newga=\"NavBar-level0-All_Sections/level1-News_Home/level2-TOI_Features#Section_View-16\" href=\"https://timesofindia.indiatimes.com/toifeatures/50464604.cms\">TOI Features</a>,\n",
              " <a data-newga=\"NavBar-level0-All_Sections/level1-News_Home/level2-Specials#Section_View-17\" href=\"https://timesofindia.indiatimes.com/specials\">Specials</a>,\n",
              " <a data-newga=\"NavBar-level0-All_Sections/level1-News_Home/level2-Good_Governance#Section_View-18\" href=\"https://timesofindia.indiatimes.com/goodgovernance/47082088.cms\">Good Governance</a>,\n",
              " <a data-newga=\"NavBar-level0-All_Sections/level1-Editorials/level2-TOI_Editorials#Section_View-20\" href=\"http://blogs.timesofindia.indiatimes.com/toi-editorials/\">TOI Editorials</a>,\n",
              " <a data-newga=\"NavBar-level0-All_Sections/level1-Editorials/level2-ET_Editorials#Section_View-21\" href=\"http://blogs.economictimes.indiatimes.com/et-editorials/\" rel=\"noopener nofollow\">ET Editorials</a>,\n",
              " <a data-newga=\"NavBar-level0-All_Sections/level1-Entertainment#Section_View-22\" href=\"https://timesofindia.indiatimes.com/entertainment\">Entertainment</a>,\n",
              " <a data-newga=\"NavBar-level0-All_Sections/level1-Entertainment/level2-Movie_Reviews#Section_View-23\" href=\"https://timesofindia.indiatimes.com/entertainment/movie-reviews\">Movie Reviews</a>,\n",
              " <a data-newga=\"NavBar-level0-All_Sections/level1-Entertainment/level2-Photos#Section_View-24\" href=\"http://photogallery.indiatimes.com/\" rel=\"noopener nofollow\">Photos</a>,\n",
              " <a data-newga=\"NavBar-level0-All_Sections/level1-Entertainment/level2-Music#Section_View-25\" href=\"http://timesofindia.indiatimes.com/entertainment/music/articlelistls/27976150.cms\">Music</a>,\n",
              " <a data-newga=\"NavBar-level0-All_Sections/level1-Entertainment/level2-Beauty_Pageants#Section_View-26\" href=\"http://beautypageants.indiatimes.com/\" rel=\"noopener nofollow\">Beauty Pageants</a>,\n",
              " <a data-newga=\"NavBar-level0-All_Sections/level1-Entertainment/level2-Events#Section_View-27\" href=\"http://timesofindia.indiatimes.com/entertainment/events\">Events</a>,\n",
              " <a data-newga=\"NavBar-level0-All_Sections/level1-Entertainment/level2-Filmfare#Section_View-28\" href=\"http://www.filmfare.com\" rel=\"noopener nofollow\">Filmfare</a>,\n",
              " <a data-newga=\"NavBar-level0-All_Sections/level1-Videos#Section_View-29\" href=\"https://timesofindia.indiatimes.com/videos\">Videos</a>,\n",
              " <a data-newga=\"NavBar-level0-All_Sections/level1-Videos/level2-Live_TV#Section_View-30\" href=\"http://live.indiatimes.com/\" rel=\"noopener nofollow\">Live TV</a>,\n",
              " <a data-newga=\"NavBar-level0-All_Sections/level1-TV#Section_View-31\" href=\"https://timesofindia.indiatimes.com/tv/hindi/tvhome/17781976.cms\">TV</a>,\n",
              " <a data-newga=\"NavBar-level0-All_Sections/level1-TV/level2-TV_News#Section_View-32\" href=\"https://timesofindia.indiatimes.com/tv/news/hindi\">TV News</a>,\n",
              " <a data-newga=\"NavBar-level0-All_Sections/level1-TV/level2-TV_Listings#Section_View-33\" href=\"https://timesofindia.indiatimes.com/tv/tvlistings.cms\">TV Listings</a>,\n",
              " <a data-newga=\"NavBar-level0-All_Sections/level1-TV/level2-Times_Now#Section_View-34\" href=\"http://www.timesnow.tv/\" rel=\"noopener nofollow\">Times Now</a>,\n",
              " <a data-newga=\"NavBar-level0-All_Sections/level1-TV/level2-ET_Now#Section_View-35\" href=\"https://timesofindia.indiatimes.com/live-tv/et-now/video\">ET Now</a>,\n",
              " <a data-newga=\"NavBar-level0-All_Sections/level1-TV/level2-Zoom_TV#Section_View-36\" href=\"http://www.zoomtv.com/\" rel=\"noopener nofollow\">Zoom TV</a>,\n",
              " <a data-newga=\"NavBar-level0-All_Sections/level1-Business#Section_View-37\" href=\"https://timesofindia.indiatimes.com/business\">Business</a>,\n",
              " <a data-newga=\"NavBar-level0-All_Sections/level1-Business/level2-Budget_2019#Section_View-38\" href=\"https://timesofindia.indiatimes.com/business/india-business/budget\">Budget 2019<sup>New</sup></a>,\n",
              " <a data-newga=\"NavBar-level0-All_Sections/level1-Business/level2-Startups#Section_View-39\" href=\"https://timesofindia.indiatimes.com/startups\">Startups</a>,\n",
              " <a data-newga=\"NavBar-level0-All_Sections/level1-Life_&amp;_Style#Section_View-40\" href=\"https://timesofindia.indiatimes.com/life-style/articlelistls/2886704.cms\">Life &amp; Style</a>,\n",
              " <a data-newga=\"NavBar-level0-All_Sections/level1-Life_&amp;_Style/level2-Femina#Section_View-41\" href=\"http://www.femina.in\" rel=\"noopener nofollow\">Femina</a>,\n",
              " <a data-newga=\"NavBar-level0-All_Sections/level1-Life_&amp;_Style/level2-Women#Section_View-42\" href=\"http://idiva.com/indextoi.html\" rel=\"noopener nofollow\">Women</a>,\n",
              " <a data-newga=\"NavBar-level0-All_Sections/level1-Life_&amp;_Style/level2-Auto#Section_View-43\" href=\"https://timesofindia.indiatimes.com/auto/49896634.cms\">Auto</a>,\n",
              " <a data-newga=\"NavBar-level0-All_Sections/level1-Life_&amp;_Style/level2-Travel#Section_View-44\" href=\"http://www.happytrips.com/?utm_source=NavWidget&amp;utm_medium=referral&amp;utm_campaign=TOILinkbacks\" rel=\"noopener nofollow\">Travel</a>,\n",
              " <a data-newga=\"NavBar-level0-All_Sections/level1-Life_&amp;_Style/level2-Recipes#Section_View-45\" href=\"https://recipes.timesofindia.com/?utm_source=NavWidget&amp;utm_medium=referral&amp;utm_campaign=TOILinkbacks\" rel=\"noopener nofollow\">Recipes</a>,\n",
              " <a data-newga=\"NavBar-level0-All_Sections/level1-Life_&amp;_Style/level2-Zigwheels.com#Section_View-46\" href=\"http://zigwheels.com/index.php?host=TOI\">Zigwheels.com</a>,\n",
              " <a data-newga=\"NavBar-level0-All_Sections/level1-Sports#Section_View-47\" href=\"https://timesofindia.indiatimes.com/sports\">Sports</a>,\n",
              " <a data-newga=\"NavBar-level0-All_Sections/level1-Sports/level2-Cricket#Section_View-48\" href=\"http://www.gocricket.com/\" rel=\"noopener nofollow\">Cricket</a>,\n",
              " <a data-newga=\"NavBar-level0-All_Sections/level1-Sports/level2-IPL#Section_View-49\" href=\"https://timesofindia.indiatimes.com/sports/cricket/ipl\">IPL</a>,\n",
              " <a data-newga=\"NavBar-level0-All_Sections/level1-Sports/level2-Football#Section_View-50\" href=\"https://timesofindia.indiatimes.com/sports/football\">Football</a>,\n",
              " <a data-newga=\"NavBar-level0-All_Sections/level1-Sports/level2-TOISA#Section_View-51\" href=\"https://timesofindia.indiatimes.com/toisa/toisahome.cms\">TOISA<sup>New</sup></a>,\n",
              " <a data-newga=\"NavBar-level0-All_Sections/level1-Regional/level2-Hindi_News#Section_View-53\" href=\"https://timesofindia.indiatimes.com/hindi-news\">Hindi News</a>,\n",
              " <a data-newga=\"NavBar-level0-All_Sections/level1-Regional/level2-Marathi_News#Section_View-54\" href=\"https://timesofindia.indiatimes.com/marathi-news\">Marathi News</a>,\n",
              " <a data-newga=\"NavBar-level0-All_Sections/level1-Regional/level2-Bengali_News#Section_View-55\" href=\"https://timesofindia.indiatimes.com/bengali-news\">Bengali News</a>,\n",
              " <a data-newga=\"NavBar-level0-All_Sections/level1-Regional/level2-Tamil_News#Section_View-56\" href=\"https://timesofindia.indiatimes.com/tamil-news\">Tamil News</a>,\n",
              " <a data-newga=\"NavBar-level0-All_Sections/level1-Regional/level2-Telugu_News#Section_View-57\" href=\"https://timesofindia.indiatimes.com/telugu-news\">Telugu News</a>,\n",
              " <a data-newga=\"NavBar-level0-All_Sections/level1-Regional/level2-Malayalam_News#Section_View-58\" href=\"https://timesofindia.indiatimes.com/malayalam-news\">Malayalam News</a>,\n",
              " <a data-newga=\"NavBar-level0-All_Sections/level1-Regional/level2-Kannada_News#Section_View-59\" href=\"https://timesofindia.indiatimes.com/kannada-news\">Kannada News</a>,\n",
              " <a data-newga=\"NavBar-level0-All_Sections/level1-Opinion#Section_View-60\" href=\"http://blogs.timesofindia.indiatimes.com/?utm_source=TOInewHP_TILwidget&amp;utm_medium=NavLi&amp;utm_campaign=TOInewHP\">Opinion</a>,\n",
              " <a data-newga=\"NavBar-level0-All_Sections/level1-Opinion/level2-Infographics#Section_View-61\" href=\"https://timesofindia.indiatimes.com/infographics.cms\">Infographics</a>,\n",
              " <a data-newga=\"NavBar-level0-All_Sections/level1-Opinion/level2-Humour#Section_View-62\" href=\"https://timesofindia.indiatimes.com/humour/newslisting/50680967.cms\">Humour</a>,\n",
              " <a data-newga=\"NavBar-level0-All_Sections/level1-Opinion/level2-Cartoons#Section_View-63\" href=\"https://timesofindia.indiatimes.com/cartoons.cms\">Cartoons</a>,\n",
              " <a data-newga=\"NavBar-level0-All_Sections/level1-Opinion/level2-Campaigns#Section_View-64\" href=\"https://timesofindia.indiatimes.com/times-campaign\">Campaigns</a>,\n",
              " <a data-newga=\"NavBar-level0-All_Sections/level1-Opinion/level2-Speak_Out#Section_View-65\" href=\"https://timesofindia.indiatimes.com/debatelist/2138952.cms\">Speak Out</a>,\n",
              " <a data-newga=\"NavBar-level0-All_Sections/level1-Opinion/level2-Year_Ender_2017#Section_View-66\" href=\"https://timesofindia.indiatimes.com/year-ender-2017\">Year Ender 2017</a>,\n",
              " <a data-newga=\"NavBar-level0-All_Sections/level1-Opinion/level2-Blogs#Section_View-67\" href=\"https://blogs.timesofindia.indiatimes.com/?utm_source=TOInewHP_TILwidget&amp;utm_medium=NavLi&amp;utm_campaign=TOInewHP\">Blogs</a>,\n",
              " <a data-newga=\"NavBar-level0-All_Sections/level1-Social/level2-Viral_News#Section_View-69\" href=\"https://timesofindia.indiatimes.com/viral-news\">Viral News</a>,\n",
              " <a data-newga=\"NavBar-level0-All_Sections/level1-Social/level2-Trending_News#Section_View-70\" href=\"https://timesofindia.indiatimes.com/trending-news\">Trending News</a>,\n",
              " <a data-newga=\"NavBar-level0-All_Sections/level1-Education#Section_View-71\" href=\"https://timesofindia.indiatimes.com/education\">Education</a>,\n",
              " <a data-newga=\"NavBar-level0-All_Sections/level1-Education/level2-Education_Fest#Section_View-72\" href=\"http://timesofindia.indiatimes.com/unsw.cms\">Education Fest</a>,\n",
              " <a data-newga=\"NavBar-level0-All_Sections/level1-Education/level2-Environment#Section_View-73\" href=\"https://timesofindia.indiatimes.com/home/environment/articlelist/2647163.cms\">Environment</a>,\n",
              " <a data-newga=\"NavBar-level0-All_Sections/level1-Education/level2-Bennett_University#Section_View-74\" href=\"http://www.bennett.edu.in\" rel=\"noopener nofollow\">Bennett University</a>,\n",
              " <a data-newga=\"NavBar-level0-All_Sections/level1-Education/level2-TOI_Student#Section_View-75\" href=\"https://toistudent.timesofindia.indiatimes.com\">TOI Student</a>,\n",
              " <a data-newga=\"NavBar-level0-All_Sections/level1-Technology#Section_View-76\" href=\"http://www.gadgetsnow.com?utm_source=toiweb&amp;utm_medium=referral&amp;utm_campaign=toiweb_hptopnav\" rel=\"noopener nofollow\">Technology</a>,\n",
              " <a data-newga=\"NavBar-level0-All_Sections/level1-Technology/level2-Latest_News#Section_View-77\" href=\"http://www.gadgetsnow.com/latest-news?utm_source=toiweb&amp;utm_medium=referral&amp;utm_campaign=toiweb_hptopnav\" rel=\"noopener nofollow\">Latest News</a>,\n",
              " <a data-newga=\"NavBar-level0-All_Sections/level1-Technology/level2-Tech_Photos#Section_View-78\" href=\"http://www.gadgetsnow.com/slideshows?utm_source=toiweb&amp;utm_medium=referral&amp;utm_campaign=toiweb_hptopnav\" rel=\"noopener nofollow\">Tech Photos</a>,\n",
              " <a data-newga=\"NavBar-level0-All_Sections/level1-Technology/level2-Latest_Gadgets#Section_View-79\" href=\"http://www.gadgetsnow.com/mobile-phones?utm_source=toiweb&amp;utm_medium=referral&amp;utm_campaign=toiweb_hptopnav\" rel=\"noopener nofollow\">Latest Gadgets</a>,\n",
              " <a data-newga=\"NavBar-level0-All_Sections/level1-Technology/level2-Reviews#Section_View-80\" href=\"http://www.gadgetsnow.com/reviews?utm_source=toiweb&amp;utm_medium=referral&amp;utm_campaign=toiweb_hptopnav\" rel=\"noopener nofollow\">Reviews</a>,\n",
              " <a data-newga=\"NavBar-level0-All_Sections/level1-Technology/level2-Compare_Gadgets#Section_View-81\" href=\"http://www.gadgetsnow.com/compare-mobile-phones?utm_source=toiweb&amp;utm_medium=referral&amp;utm_campaign=toiweb_hptopnav\" rel=\"noopener nofollow\">Compare Gadgets</a>,\n",
              " <a data-newga=\"NavBar-level0-All_Sections/level1-Spirituality#Section_View-82\" href=\"http://timesofindia.speakingtree.in\" rel=\"noopener nofollow\">Spirituality</a>,\n",
              " <a data-newga=\"NavBar-level0-All_Sections/level1-Spirituality/level2-Astrology#Section_View-83\" href=\"http://www.astrospeak.com/astrology-services\" rel=\"noopener nofollow\">Astrology</a>,\n",
              " <a data-newga=\"NavBar-level0-All_Sections/level1-Spirituality/level2-epooja#Section_View-84\" href=\"http://www.astrospeak.com/online-puja\" rel=\"noopener nofollow\">epooja</a>,\n",
              " <a data-newga=\"NavBar-level0-All_Sections/level1-Services/level2-Epaper#Section_View-86\" href=\"http://epaper.timesofindia.com/\" rel=\"noopener nofollow\">Epaper</a>,\n",
              " <a data-newga=\"NavBar-level0-All_Sections/level1-Services/level2-Real_Estate#Section_View-87\" href=\"http://content.magicbricks.com/?fromSite=toi&amp;utm_source=toi&amp;utm_medium=referral&amp;utm_campaign=toi-mb-navbar\" rel=\"noopener nofollow\">Real Estate</a>,\n",
              " <a data-newga=\"NavBar-level0-All_Sections/level1-Services/level2-Launchpad#Section_View-88\" href=\"http://timesofindia.indiatimes.com/property/launchpad/launchpadlist.cms\">Launchpad</a>,\n",
              " <a data-newga=\"NavBar-level0-All_Sections/level1-Services/level2-Classifieds#Section_View-89\" href=\"https://timesofindia.indiatimes.com/classifieds/764057.cms\">Classifieds</a>,\n",
              " <a data-newga=\"NavBar-level0-All_Sections/level1-Services/level2-Archives#Section_View-90\" href=\"https://timesofindia.indiatimes.com/archive.cms\">Archives</a>,\n",
              " <a data-newga=\"NavBar-level0-All_Sections/level1-Services/level2-Property#Section_View-91\" href=\"http://www.magicbricks.com/?fromSite=TOI-Alliance&amp;mbtracker=TOI-Alliance&amp;utm_source=TOI-Alliance&amp;utm_medium=Display&amp;utm_campaign=TOI-HP\" rel=\"noopener nofollow\">Property</a>,\n",
              " <a data-newga=\"NavBar-level0-All_Sections/level1-Services/level2-Be_Swatantra#Section_View-92\" href=\"https://timesofindia.indiatimes.com/beswatantra.cms\">Be Swatantra</a>,\n",
              " <a data-newga=\"NavBar-level0-All_Sections/level1-Services/level2-Coupons#Section_View-93\" href=\"http://www.coupondunia.in/?utm_source=toi&amp;utm_medium=nav_link\" rel=\"noopener nofollow\">Coupons</a>,\n",
              " <a data-ga=\"breadcrumbs-click|level_1-link_https://timesofindia.indiatimes.com/\" href=\"https://timesofindia.indiatimes.com/\" itemprop=\"item\"><span itemprop=\"name\">News</span></a>,\n",
              " <a data-ga=\"breadcrumbs-click|level_2-link_https://timesofindia.indiatimes.com/india\" href=\"https://timesofindia.indiatimes.com/india\" itemprop=\"item\"><span itemprop=\"name\">India News</span></a>,\n",
              " <a data-ga=\"top_searches-topic_link|topic_/india/ayodhya-verdict-live-updates-supreme-court-verdict-on-ram-mandir-babri-masjid-dispute/liveblog/71978224.cms-position_1\" href=\"https://timesofindia.indiatimes.com/india/ayodhya-verdict-live-updates-supreme-court-verdict-on-ram-mandir-babri-masjid-dispute/liveblog/71978224.cms\">Ayodhya verdict</a>,\n",
              " <a data-ga=\"top_searches-topic_link|topic_/india/will-declare-strategy-if-no-one-else-forms-government-sanjay-raut/articleshow/71991025.cms-position_2\" href=\"https://timesofindia.indiatimes.com/india/will-declare-strategy-if-no-one-else-forms-government-sanjay-raut/articleshow/71991025.cms\">Sanjay Raut</a>,\n",
              " <a data-ga=\"top_searches-topic_link|topic_/india/hindus-made-a-better-case-waqf-board-couldnt-prove-exclusive-possession-of-ayodhya-site-sc/articleshow/71989387.cms-position_3\" href=\"https://timesofindia.indiatimes.com/india/hindus-made-a-better-case-waqf-board-couldnt-prove-exclusive-possession-of-ayodhya-site-sc/articleshow/71989387.cms\">Supreme Court</a>,\n",
              " <a data-ga=\"top_searches-topic_link|topic_/india/hindus-made-a-better-case-waqf-board-couldnt-prove-exclusive-possession-of-ayodhya-site-sc/articleshow/71989387.cms-position_4\" href=\"https://timesofindia.indiatimes.com/india/hindus-made-a-better-case-waqf-board-couldnt-prove-exclusive-possession-of-ayodhya-site-sc/articleshow/71989387.cms\">Cyclone Bulbul</a>,\n",
              " <a data-ga=\"top_searches-topic_link|topic_/india/kartarpur-corridor-gets-the-thumbs-up-from-indian-pilgrims/articleshow/71989120.cms-position_5\" href=\"https://timesofindia.indiatimes.com/india/kartarpur-corridor-gets-the-thumbs-up-from-indian-pilgrims/articleshow/71989120.cms\">Kartarpur Corridor</a>,\n",
              " <a data-ga=\"top_searches-topic_link|topic_/india/five-acre-plot-for-mosque-may-be-across-river-saryu/articleshow/71990123.cms-position_6\" href=\"https://timesofindia.indiatimes.com/india/five-acre-plot-for-mosque-may-be-across-river-saryu/articleshow/71990123.cms\">Babri Masjid</a>,\n",
              " <a class=\"print-article\" data-ga=\"extra_controls-print|msid_70596459\" href=\"/articleshowprint/70596459.cms\" rel=\"noopener\" target=\"_blank\" title=\"print article\"><span class=\"C3Hvt\" data-ga=\"extra_controls-print|msid_70596459\"></span></a>,\n",
              " <a class=\"\" data-ga=\"within_article-topic_link|topic_http://timesofindia.indiatimes.com/topic/Narendra-Modi\" href=\"http://timesofindia.indiatimes.com/topic/Narendra-Modi\" styleobj=\"[object Object]\">Narendra Modi</a>,\n",
              " <a class=\"\" data-ga=\"within_article-topic_link|topic_article-370\" href=\"https://timesofindia.indiatimes.com/topic/article-370\" styleobj=\"[object Object]\">Article 370</a>,\n",
              " <a class=\"_2xp-d\" data-ga=\"live_blog_insert|widget_title| \" data-setgacategory=\"true\" href=\"https://timesofindia.indiatimes.com/india/ayodhya-verdict-live-updates-supreme-court-verdict-on-ram-mandir-babri-masjid-dispute/liveblog/71978224.cms\">Ayodhya Verdict </a>,\n",
              " <a class=\"_2xp-d\" data-ga=\"live_blog_insert|more_live_updates| \" data-setgacategory=\"true\" href=\"https://timesofindia.indiatimes.com/india/ayodhya-verdict-live-updates-supreme-court-verdict-on-ram-mandir-babri-masjid-dispute/liveblog/71978224.cms\">live updates</a>,\n",
              " <a class=\"_1HLOP\" data-ga=\"live_blog_insert|widget_click| \" data-setgacategory=\"true\" href=\"https://timesofindia.indiatimes.com/india/ayodhya-verdict-live-updates-supreme-court-verdict-on-ram-mandir-babri-masjid-dispute/liveblog/71978224.cms\"></a>,\n",
              " <a data-setgacategory=\"false\" href=\"https://timesofindia.indiatimes.com/india/passage-of-jk-bill-momentous-occasion-new-dawn-awaits-pm-modi/articleshow/70557691.cms\"><h4>Passage of J&amp;K bill momentous occasion, new dawn awaits: PM Modi</h4></a>,\n",
              " <a class=\"\" data-ga=\"within_article-topic_link|topic_http://www.speakingtree.in/topics/life/democracy\" href=\"http://www.speakingtree.in/topics/life/democracy\" rel=\"noopener nofollow\" styleobj=\"[object Object]\">democracy</a>,\n",
              " <a href=\"https://timesofindia.indiatimes.com/videos/news/article-370-and-35a-gave-separatism-terrorism-dynasty-rule-and-corruption-to-valley-pm-modi/videoshow/70592356.cms\">Article 370 and 35A gave separatism, terrorism, dynasty rule and corruption to Valley: PM Modi</a>,\n",
              " <a data-ga=\"more_from_toi-Latest News|position_1\" href=\"https://timesofindia.indiatimes.com/home/headlines\">Latest News</a>,\n",
              " <a data-ga=\"more_from_toi-US Presidential Election|position_2\" href=\"https://timesofindia.indiatimes.com/world/us/us-presidential-elections\">US Presidential Election</a>,\n",
              " <a data-ga=\"more_from_toi-US News|position_3\" href=\"https://timesofindia.indiatimes.com/world/us\">US News</a>,\n",
              " <a data-ga=\"more_from_toi-Pakistan News|position_4\" href=\"https://timesofindia.indiatimes.com/world/pakistan\">Pakistan News</a>,\n",
              " <a data-ga=\"more_from_toi-Donald Trump|position_5\" href=\"https://timesofindia.indiatimes.com/topic/Donald-Trump\">Donald Trump</a>,\n",
              " <a data-ga=\"more_from_toi-China News|position_6\" href=\"https://timesofindia.indiatimes.com/world/china\">China News</a>,\n",
              " <a data-ga=\"more_from_toi-South Asia News|position_7\" href=\"https://timesofindia.indiatimes.com/world/south-asia\">South Asia News</a>,\n",
              " <a data-ga=\"more_from_toi-World News|position_8\" href=\"https://timesofindia.indiatimes.com/world\">World News</a>,\n",
              " <a data-ga=\"more_from_toi-Narendra Modi|position_9\" href=\"https://timesofindia.indiatimes.com/topics/Narendra-Modi\">Narendra Modi</a>,\n",
              " <a data-ga=\"rhs-Trending_Topics|show_template_https://timesofindia.indiatimes.com/india/cyclone-bulbul-kills-man-in-kolkata-brings-heavy-rain-to-odisha/articleshow/71989407.cms-position_1\" href=\"https://timesofindia.indiatimes.com/india/cyclone-bulbul-kills-man-in-kolkata-brings-heavy-rain-to-odisha/articleshow/71989407.cms\" title=\"Bulbul cyclone\"><span class=\"_3ckWJ\">Bulbul cyclone</span></a>,\n",
              " <a data-ga=\"rhs-Trending_Topics|show_template_https://timesofindia.indiatimes.com/india/feel-vindicated-blessed-says-lk-advani-after-ayodhya-verdict/articleshow/71989602.cms-position_2\" href=\"https://timesofindia.indiatimes.com/india/feel-vindicated-blessed-says-lk-advani-after-ayodhya-verdict/articleshow/71989602.cms\" title=\"LK Advani\"><span class=\"_3ckWJ\">LK Advani</span></a>,\n",
              " <a data-ga=\"rhs-Trending_Topics|show_template_https://timesofindia.indiatimes.com/india/scs-verdict-on-ayodhya-land-dispute-key-takeaways/articleshow/71980491.cms-position_3\" href=\"https://timesofindia.indiatimes.com/india/scs-verdict-on-ayodhya-land-dispute-key-takeaways/articleshow/71980491.cms\" title=\"Supreme Court\"><span class=\"_3ckWJ\">Supreme Court</span></a>,\n",
              " <a data-ga=\"rhs-Trending_Topics|show_template_https://timesofindia.indiatimes.com/india/if-vhp-design-is-followed-temple-may-take-at-least-five-years-to-build/articleshow/71989286.cms-position_4\" href=\"https://timesofindia.indiatimes.com/india/if-vhp-design-is-followed-temple-may-take-at-least-five-years-to-build/articleshow/71989286.cms\" title=\"Ram Mandir\"><span class=\"_3ckWJ\">Ram Mandir</span></a>,\n",
              " <a data-ga=\"rhs-Trending_Topics|show_template_https://timesofindia.indiatimes.com/india/kartarpur-corridor-inauguration-november-9/liveblog/71978754.cms-position_5\" href=\"https://timesofindia.indiatimes.com/india/kartarpur-corridor-inauguration-november-9/liveblog/71978754.cms\" title=\"Kartarpur Corridor\"><span class=\"_3ckWJ\">Kartarpur Corridor</span></a>,\n",
              " <a data-ga=\"rhs-Trending_Topics|show_template_https://timesofindia.indiatimes.com/india/ayodhya-verdict-live-updates-supreme-court-verdict-on-ram-mandir-babri-masjid-dispute/liveblog/71978224.cms-position_6\" href=\"https://timesofindia.indiatimes.com/india/ayodhya-verdict-live-updates-supreme-court-verdict-on-ram-mandir-babri-masjid-dispute/liveblog/71978224.cms\" title=\"Ayodhya verdict\"><span class=\"_3ckWJ\">Ayodhya verdict</span></a>,\n",
              " <a data-ga=\"rhs-Trending_Topics|show_template_https://timesofindia.indiatimes.com/india/cyclone-bulbul-pm-modi-speaks-with-west-bengal-cm-mamata-banerjee-on-situation/articleshow/71990867.cms-position_7\" href=\"https://timesofindia.indiatimes.com/india/cyclone-bulbul-pm-modi-speaks-with-west-bengal-cm-mamata-banerjee-on-situation/articleshow/71990867.cms\" title=\"Narendra Modi\"><span class=\"_3ckWJ\">Narendra Modi</span></a>,\n",
              " <a data-ga=\"rhs-Trending_Topics|show_template_https://timesofindia.indiatimes.com/sports/cricket/bangladesh-in-india/rohit-sharma-is-in-the-form-of-his-life-mohinder-amarnath/articleshow/71990947.cms-position_8\" href=\"https://timesofindia.indiatimes.com/sports/cricket/bangladesh-in-india/rohit-sharma-is-in-the-form-of-his-life-mohinder-amarnath/articleshow/71990947.cms\" title=\"Rohit Sharma\"><span class=\"_3ckWJ\">Rohit Sharma</span></a>,\n",
              " <a data-ga=\"rhs-Trending_Topics|show_template_https://timesofindia.indiatimes.com/home/education/news/ap-grama-2nd-phase-registration-2019-to-end-today-check-details-here/articleshow/71992706.cms-position_9\" href=\"https://timesofindia.indiatimes.com/home/education/news/ap-grama-2nd-phase-registration-2019-to-end-today-check-details-here/articleshow/71992706.cms\" title=\"AP Grama Volunteer\"><span class=\"_3ckWJ\">AP Grama Volunteer</span></a>,\n",
              " <a data-ga=\"rhs-Trending_Topics|show_template_https://timesofindia.indiatimes.com/home/education/news/nta-ugc-net-december-2019-admit-card-released-heres-direct-link/articleshow/71992617.cms-position_10\" href=\"https://timesofindia.indiatimes.com/home/education/news/nta-ugc-net-december-2019-admit-card-released-heres-direct-link/articleshow/71992617.cms\" title=\"NTA NET Admit Card\"><span class=\"_3ckWJ\">NTA NET Admit Card</span></a>,\n",
              " <a data-ga=\"rhs-latest_videos|section_Top Videos\" href=\"https://timesofindia.indiatimes.com/videos/top-videos\" title=\"Top Videos\">Top Videos</a>,\n",
              " <a data-ga=\"rhs-latest_videos|section_Top Videos-video_71991695-position_1\" href=\"https://timesofindia.indiatimes.com/videos/city/kolkata/cyclone-bulbul-pm-takes-stock-speaks-to-west-bengal-cm-mamata-banerjee/videoshow/71991695.cms\" title=\"Cyclone Bulbul: PM takes stock, speaks to West Bengal CM Mamata Banerjee \"><span class=\"_26Ie1\"><span class=\"_36Ujm\"><img alt=\"Cyclone Bulbul: PM takes stock, speaks to West Bengal CM Mamata Banerjee \" src=\"https://timesofindia.indiatimes.com/thumb/imgsize-344567,msid-71991695,width-200,resizemode-4/71991695.jpg\"/></span></span><span class=\"_3ckWJ\">Cyclone Bulbul: PM takes stock, speaks to West Bengal CM Mamata Banerjee </span></a>,\n",
              " <a data-ga=\"rhs-latest_videos|section_Top Videos-video_71981955-position_2\" href=\"https://timesofindia.indiatimes.com/videos/entertainment/hindi/ananya-pandays-cousin-alanna-panday-is-the-newest-hottie-on-the-block-heres-why/videoshow/71981955.cms\" title=\"AnanyaPandey's beautiful cousin Alanna Panday is the girl to watch out for \"><span class=\"_26Ie1\"><span class=\"_36Ujm\"><img alt=\"AnanyaPandey's beautiful cousin Alanna Panday is the girl to watch out for \" src=\"https://timesofindia.indiatimes.com/thumb/imgsize-199341,msid-71981955,width-200,resizemode-4/71981955.jpg\"/></span></span><span class=\"_3ckWJ\">AnanyaPandey's beautiful cousin Alanna Panday is the girl to watch out for </span></a>,\n",
              " <a data-ga=\"rhs-latest_videos|section_Trending Videos\" href=\"https://timesofindia.indiatimes.com/videos/trending-videos\" title=\"Trending Videos\">Trending Videos</a>,\n",
              " <a data-ga=\"rhs-latest_videos|section_Trending Videos-video_71520386-position_1\" href=\"https://timesofindia.indiatimes.com/videos/beauty-pageants/miss-diva/miss-diva-universe-2019-vartika-singh-at-hyatt-regency-lucknow/videoshow/71520386.cms\" title=\"Miss Diva Universe 2019 Vartika Singh at Hyatt Regency Lucknow \"><span class=\"_26Ie1\"><span class=\"_36Ujm\"><img alt=\"Miss Diva Universe 2019 Vartika Singh at Hyatt Regency Lucknow \" src=\"https://timesofindia.indiatimes.com/thumb/imgsize-29764,msid-71520386,width-200,resizemode-4/71520386.jpg\"/></span></span><span class=\"_3ckWJ\">Miss Diva Universe 2019 Vartika Singh at Hyatt Regency Lucknow </span></a>,\n",
              " <a data-ga=\"rhs-latest_videos|section_Trending Videos-video_71630577-position_2\" href=\"https://timesofindia.indiatimes.com/videos/beauty-pageants/miss-diva/shefali-sood-and-varun-verma-during-press-conference-at-aloft-new-delhi-aerocity/videoshow/71630577.cms\" title=\"Shefali Sood and Varun Verma during Press Conference at Aloft New Delhi Aerocity \"><span class=\"_26Ie1\"><span class=\"_36Ujm\"><img alt=\"Shefali Sood and Varun Verma during Press Conference at Aloft New Delhi Aerocity \" src=\"https://timesofindia.indiatimes.com/thumb/imgsize-100119,msid-71630577,width-200,resizemode-4/71630577.jpg\"/></span></span><span class=\"_3ckWJ\">Shefali Sood and Varun Verma during Press Conference at Aloft New Delhi Aerocity </span></a>,\n",
              " <a data-ga=\"rhs-latest_videos|section_Trending Videos-video_71553129-position_3\" href=\"https://timesofindia.indiatimes.com/videos/beauty-pageants/miss-diva/shivani-jadhavs-first-glimpse-at-miss-grand-international-2019/videoshow/71553129.cms\" title=\"Shivani Jadhav's first glimpse at Miss Grand International 2019 \"><span class=\"_26Ie1\"><span class=\"_36Ujm\"><img alt=\"Shivani Jadhav's first glimpse at Miss Grand International 2019 \" src=\"https://timesofindia.indiatimes.com/thumb/imgsize-807397,msid-71553129,width-200,resizemode-4/71553129.jpg\"/></span></span><span class=\"_3ckWJ\">Shivani Jadhav's first glimpse at Miss Grand International 2019 </span></a>,\n",
              " <a data-ga=\"rhs-latest_videos|section_Trending Videos-video_71630939-position_4\" href=\"https://timesofindia.indiatimes.com/videos/beauty-pageants/foreign-pageants/nagaland-beauty-queens-answer-about-pm-modi-goes-viral-on-the-internet/videoshow/71630939.cms\" title=\"Nagaland beauty queen's answer about PM Modi goes viral on the internet \"><span class=\"_26Ie1\"><span class=\"_36Ujm\"><img alt=\"Nagaland beauty queen's answer about PM Modi goes viral on the internet \" src=\"https://timesofindia.indiatimes.com/thumb/imgsize-73178,msid-71630939,width-200,resizemode-4/71630939.jpg\"/></span></span><span class=\"_3ckWJ\">Nagaland beauty queen's answer about PM Modi goes viral on the internet </span></a>,\n",
              " <a data-ga=\"rhs-more_from_toi|msid_71936814-position_1\" href=\"https://timesofindia.indiatimes.com/life-style/food-news/8-drinks-that-help-you-sleep-better-at-night/photostory/71936814.cms\" title=\"8 drinks that help you sleep better at night\"><span class=\"_26Ie1\"><span class=\"_36Ujm\"><img alt=\"8 drinks that help you sleep better at night\" src=\"https://static.toiimg.com/photo/71936814.cms?pl=1064432\"/></span></span><span class=\"_3ckWJ\">8 drinks that help you sleep better at night</span></a>,\n",
              " <a data-ga=\"rhs-more_from_toi|msid_71935970-position_2\" href=\"https://timesofindia.indiatimes.com/life-style/food-news/this-is-the-worlds-most-expensive-wedding-cake-and-we-are-drooling-over-it/photostory/71935970.cms\" title=\"This is the worldâs most expensive wedding cake and we are drooling over it!\"><span class=\"_26Ie1\"><span class=\"_36Ujm\"><img alt=\"This is the worldâs most expensive wedding cake and we are drooling over it!\" src=\"https://static.toiimg.com/photo/71935970.cms?pl=781195\"/></span></span><span class=\"_3ckWJ\">This is the worldâs most expensive wedding cake and we are drooling over it!</span></a>,\n",
              " <a data-ga=\"rhs-more_from_toi|msid_71752780-position_3\" href=\"https://timesofindia.indiatimes.com/most-searched-products/health-and-fitness/health-care/superfood-pumpkin-seeds-flax-seeds-more-seeds-that-you-can-add-to-your-diet/articleshow/71752780.cms?utm_source=TOI&amp;utm_campaign=TOIRHSCONTENT\" title=\"Superfood: Pumpkin seeds, flax seeds &amp; more seeds that you can add to your diet\"><span class=\"_26Ie1\"><span class=\"_36Ujm\"><img alt=\"Superfood: Pumpkin seeds, flax seeds &amp; more seeds that you can add to your diet\" src=\"https://static.toiimg.com/photo/71752780.cms?pl=373685\"/></span></span><span class=\"_3ckWJ\">Superfood: Pumpkin seeds, flax seeds &amp; more seeds that you can add to your diet</span></a>,\n",
              " <a data-ga=\"rhs-more_from_toi|msid_71919914-position_4\" href=\"https://timesofindia.indiatimes.com/most-searched-products/home-decor-and-garden/garden-and-outdoors/bring-home-these-powerful-air-purifying-plants-to-improve-air-quality/articleshow/71919914.cms?utm_source=TOI&amp;utm_campaign=TOIRHSCONTENT\" title=\"Bring home these powerful air purifying plants to improve air quality\"><span class=\"_26Ie1\"><span class=\"_36Ujm\"><img alt=\"Bring home these powerful air purifying plants to improve air quality\" src=\"https://static.toiimg.com/photo/71919914.cms?pl=190474\"/></span></span><span class=\"_3ckWJ\">Bring home these powerful air purifying plants to improve air quality</span></a>,\n",
              " <a data-ga=\"quick_links-topic_link|topic_Article 370-position_1\" href=\"https://timesofindia.indiatimes.com/india/What-is-Article-370Article-370/articleshow/35678708.cms\">Article 370</a>,\n",
              " <a data-ga=\"quick_links-topic_link|topic_RTI Bill-position_2\" href=\"https://timesofindia.indiatimes.com/india/rti-amendment-bill-explained/articleshow/70341996.cms\">RTI Bill</a>,\n",
              " <a data-ga=\"quick_links-topic_link|topic_Podcast news-position_3\" href=\"https://timesofindia.indiatimes.com/podcasts\">Podcast news</a>,\n",
              " <a data-ga=\"quick_links-topic_link|topic_Yamuna Flood-position_4\" href=\"https://timesofindia.indiatimes.com/topic/yamuna-flood\">Yamuna Flood</a>,\n",
              " <a data-ga=\"quick_links-topic_link|topic_G7 Summit-position_5\" href=\"https://timesofindia.indiatimes.com/topic/g7-summit\">G7 Summit</a>,\n",
              " <a data-ga=\"quick_links-topic_link|topic_Maharashtra election 2019-position_6\" href=\"https://timesofindia.indiatimes.com/elections/maharashtra-lok-sabha-election\">Maharashtra election 2019</a>,\n",
              " <a data-ga=\"quick_links-topic_link|topic_West Bengal Election-position_7\" href=\"https://timesofindia.indiatimes.com/elections/west-bengal-lok-sabha-election\">West Bengal Election</a>,\n",
              " <a data-ga=\"quick_links-topic_link|topic_Tamil Nadu election 2019-position_8\" href=\"https://timesofindia.indiatimes.com/elections/tamil-nadu-lok-sabha-election\">Tamil Nadu election 2019</a>,\n",
              " <a data-ga=\"quick_links-topic_link|topic_UP Election 2019-position_9\" href=\"https://timesofindia.indiatimes.com/elections/uttar-pradesh-lok-sabha-election\">UP Election 2019</a>,\n",
              " <a data-ga=\"quick_links-topic_link|topic_Bihar election 2019-position_10\" href=\"https://timesofindia.indiatimes.com/elections/bihar-lok-sabha-election\">Bihar election 2019</a>,\n",
              " <a data-ga=\"quick_links-topic_link|topic_UP Election Date-position_11\" href=\"https://timesofindia.indiatimes.com/elections/uttar-pradesh-lok-sabha-election/schedule\">UP Election Date</a>,\n",
              " <a data-ga=\"quick_links-topic_link|topic_Andhra Election Date-position_12\" href=\"https://timesofindia.indiatimes.com/elections/andhra-pradesh-lok-sabha-election/schedule\">Andhra Election Date</a>,\n",
              " <a data-ga=\"quick_links-topic_link|topic_Bihar Election Date-position_13\" href=\"https://timesofindia.indiatimes.com/elections/bihar-lok-sabha-election/schedule\">Bihar Election Date</a>,\n",
              " <a data-ga=\"quick_links-topic_link|topic_Andhra Assembly Election-position_14\" href=\"https://timesofindia.indiatimes.com/elections/assembly-elections/andhra-pradesh\">Andhra Assembly Election</a>,\n",
              " <a data-ga=\"quick_links-topic_link|topic_Lok Sabha-position_15\" href=\"https://timesofindia.indiatimes.com/topic/Lok-Sabha\">Lok Sabha</a>,\n",
              " <a data-ga=\"quick_links-topic_link|topic_MP Election Date-position_16\" href=\"https://timesofindia.indiatimes.com/elections/madhya-pradesh-lok-sabha-election/schedule\">MP Election Date</a>,\n",
              " <a data-ga=\"quick_links-topic_link|topic_Maharashtra Election Date-position_17\" href=\"https://timesofindia.indiatimes.com/elections/maharashtra-lok-sabha-election/schedule\">Maharashtra Election Date</a>,\n",
              " <a data-ga=\"quick_links-topic_link|topic_Shiv Sena-position_18\" href=\"https://timesofindia.indiatimes.com/topic/Shiv-Sena\">Shiv Sena</a>,\n",
              " <a data-ga=\"quick_links-topic_link|topic_YSRCP-position_19\" href=\"https://timesofindia.indiatimes.com/topic/Ysrcp\">YSRCP</a>,\n",
              " <a data-ga=\"quick_links-topic_link|topic_TDP-position_20\" href=\"https://timesofindia.indiatimes.com/topic/Telugu-Desam-Party\">TDP</a>,\n",
              " <a data-ga=\"quick_links-topic_link|topic_WB Election Date-position_21\" href=\"https://timesofindia.indiatimes.com/elections/west-bengal-lok-sabha-election/schedule\">WB Election Date</a>,\n",
              " <a data-ga=\"quick_links-topic_link|topic_JDU-position_22\" href=\"https://timesofindia.indiatimes.com/topic/janata-dal-united\">JDU</a>,\n",
              " <a data-ga=\"quick_links-topic_link|topic_Congress-position_23\" href=\"https://timesofindia.indiatimes.com/topic/Indian-National-Congress\">Congress</a>,\n",
              " <a data-ga=\"quick_links-topic_link|topic_BJP news-position_24\" href=\"https://timesofindia.indiatimes.com/topic/bharatiya-janata-party\">BJP news</a>,\n",
              " <a data-ga=\"quick_links-topic_link|topic_Gujarat Election Date-position_25\" href=\"https://timesofindia.indiatimes.com/elections/gujarat-lok-sabha-election/schedule\">Gujarat Election Date</a>,\n",
              " <a data-ga=\"quick_links-topic_link|topic_SC ST Act-position_26\" href=\"https://timesofindia.indiatimes.com/topic/sc-st-atrocities-act\">SC ST Act</a>,\n",
              " <a data-ga=\"quick_links-topic_link|topic_UIDAI-position_27\" href=\"https://timesofindia.indiatimes.com/topic/UIDAI\">UIDAI</a>,\n",
              " <a data-ga=\"quick_links-topic_link|topic_Indian Army-position_28\" href=\"https://timesofindia.indiatimes.com/topic/Indian-Army\">Indian Army</a>,\n",
              " <a data-ga=\"quick_links-topic_link|topic_ISRO news-position_29\" href=\"https://timesofindia.indiatimes.com/topic/ISRO\">ISRO news</a>,\n",
              " <a data-ga=\"quick_links-topic_link|topic_Supreme Court-position_30\" href=\"https://timesofindia.indiatimes.com/topic/supreme-court-of-india\">Supreme Court</a>,\n",
              " <a data-ga=\"quick_links-topic_link|topic_Rajasthan Election Date-position_31\" href=\"https://timesofindia.indiatimes.com/elections/rajasthan-lok-sabha-election/schedule\">Rajasthan Election Date</a>,\n",
              " <a data-ga=\"quick_links-topic_link|topic_Telangana Election Date-position_32\" href=\"https://timesofindia.indiatimes.com/elections/telangana-lok-sabha-election/schedule\">Telangana Election Date</a>,\n",
              " <a data-ga=\"quick_links-topic_link|topic_Tamilrockers 2018-position_33\" href=\"https://timesofindia.indiatimes.com/topic/tamil-rockers\">Tamilrockers 2018</a>,\n",
              " <a data-ga=\"quick_links-topic_link|topic_Uttarakhand news-position_34\" href=\"https://timesofindia.indiatimes.com/india/uttarakhand\">Uttarakhand news</a>,\n",
              " <a data-ga=\"quick_links-topic_link|topic_Sikkim news-position_35\" href=\"https://timesofindia.indiatimes.com/india/sikkim\">Sikkim news</a>,\n",
              " <a data-ga=\"quick_links-topic_link|topic_Orrisa news-position_36\" href=\"https://timesofindia.indiatimes.com/india/orissa\">Orrisa news</a>,\n",
              " <a data-ga=\"quick_links-topic_link|topic_Karnataka Election Date-position_37\" href=\"https://timesofindia.indiatimes.com/elections/karnataka-lok-sabha-election/schedule\">Karnataka Election Date</a>,\n",
              " <a data-ga=\"quick_links-topic_link|topic_Nagaland news-position_38\" href=\"https://timesofindia.indiatimes.com/india/nagaland\">Nagaland news</a>,\n",
              " <a data-ga=\"quick_links-topic_link|topic_Satta King-position_39\" href=\"https://timesofindia.indiatimes.com/india/what-is-satta-matka/articleshow/65670358.cms\">Satta King</a>,\n",
              " <a data-ga=\"quick_links-topic_link|topic_Manipur news-position_40\" href=\"https://timesofindia.indiatimes.com/india/manipur\">Manipur news</a>,\n",
              " <a data-ga=\"quick_links-topic_link|topic_Meghalaya news-position_41\" href=\"https://timesofindia.indiatimes.com/india/meghalaya\">Meghalaya news</a>,\n",
              " <a class=\"\" href=\"https://timesofindia.indiatimes.com/topic/jyotiraditya-scindia\" pg=\"WEB-TOIFooter#Jyotiraditya Scindia~Trending In India\" rel=\"noopener\" target=\"_blank\">Jyotiraditya Scindia</a>,\n",
              " <a class=\"\" href=\"https://timesofindia.indiatimes.com/topic/Omar-Abdullah\" pg=\"WEB-TOIFooter#Omar Abdullah~Trending In India\" rel=\"noopener\" target=\"_blank\">Omar Abdullah</a>,\n",
              " <a class=\"\" href=\"https://timesofindia.indiatimes.com/topic/sachin-pilot\" pg=\"WEB-TOIFooter#Sachin Pilot~Trending In India\" rel=\"noopener\" target=\"_blank\">Sachin Pilot</a>,\n",
              " <a class=\"\" href=\"https://timesofindia.indiatimes.com/topic/Asaduddin-Owaisi\" pg=\"WEB-TOIFooter#Asaduddin Owaisi~Trending In India\" rel=\"noopener\" target=\"_blank\">Asaduddin Owaisi</a>,\n",
              " <a class=\"\" href=\"https://timesofindia.indiatimes.com/topic/Mayawati\" pg=\"WEB-TOIFooter#Mayawati~Trending In India\" rel=\"noopener\" target=\"_blank\">Mayawati</a>,\n",
              " <a class=\"\" href=\"https://timesofindia.indiatimes.com/topic/Rajnath-Singh\" pg=\"WEB-TOIFooter#Rajnath Singh~Trending In India\" rel=\"noopener\" target=\"_blank\">Rajnath Singh</a>,\n",
              " <a class=\"\" href=\"http://economictimes.indiatimes.com/\" pg=\"WEB-TOIFooter#The Economic Times~Other Times Group News Sites\" rel=\"noopener noreferrer nofollow\" target=\"_blank\">The Economic Times</a>,\n",
              " <a class=\"\" href=\"http://mumbaimirror.indiatimes.com/\" pg=\"WEB-TOIFooter#Mumbai Mirror~Other Times Group News Sites\" rel=\"noopener noreferrer nofollow\" target=\"_blank\">Mumbai Mirror</a>,\n",
              " <a class=\"\" href=\"http://in.ign.com/\" pg=\"WEB-TOIFooter#IGN India~Other Times Group News Sites\" rel=\"noopener noreferrer nofollow\" target=\"_blank\">IGN India</a>,\n",
              " <a class=\"\" href=\"http://hindi.economictimes.indiatimes.com/business.cms\" pg=\"WEB-TOIFooter#Hindi Economic Times~Other Times Group News Sites\" rel=\"noopener noreferrer nofollow\" target=\"_blank\">Hindi Economic Times</a>,\n",
              " <a class=\"\" href=\"http://www.timesnow.tv/\" pg=\"WEB-TOIFooter#Times Now~Other Times Group News Sites\" rel=\"noopener noreferrer nofollow\" target=\"_blank\">Times Now</a>,\n",
              " <a class=\"\" href=\"https://www.iamgujarat.com/\" pg=\"WEB-TOIFooter#I am Gujarat~Other Times Group News Sites\" rel=\"noopener noreferrer nofollow\" target=\"_blank\">I am Gujarat</a>,\n",
              " <a class=\"\" href=\"http://punemirror.indiatimes.com/\" pg=\"WEB-TOIFooter#Pune Mirror~Other Times Group News Sites\" rel=\"noopener noreferrer nofollow\" target=\"_blank\">Pune Mirror</a>,\n",
              " <a class=\"\" href=\"https://tamil.samayam.com/\" pg=\"WEB-TOIFooter#Tamil Samayam~Other Times Group News Sites\" rel=\"noopener noreferrer nofollow\" target=\"_blank\">Tamil Samayam</a>,\n",
              " <a class=\"\" href=\"http://bangaloremirror.indiatimes.com/\" pg=\"WEB-TOIFooter#Bangalore Mirror~Other Times Group News Sites\" rel=\"noopener noreferrer nofollow\" target=\"_blank\">Bangalore Mirror</a>,\n",
              " <a class=\"\" href=\"https://maharashtratimes.indiatimes.com/\" pg=\"WEB-TOIFooter#Maharashtra Times~Other Times Group News Sites\" rel=\"noopener noreferrer nofollow\" target=\"_blank\">Maharashtra Times</a>,\n",
              " <a class=\"\" href=\"https://telugu.samayam.com/\" pg=\"WEB-TOIFooter#Telugu Samayam~Other Times Group News Sites\" rel=\"noopener noreferrer nofollow\" target=\"_blank\">Telugu Samayam</a>,\n",
              " <a class=\"\" href=\"http://ahmedabadmirror.indiatimes.com/\" pg=\"WEB-TOIFooter#Ahmedabad Mirror~Other Times Group News Sites\" rel=\"noopener noreferrer nofollow\" target=\"_blank\">Ahmedabad Mirror</a>,\n",
              " <a class=\"\" href=\"http://www.gogreenindia.co.in/\" pg=\"WEB-TOIFooter#Go Green~Other Times Group News Sites\" rel=\"noopener noreferrer nofollow\" target=\"_blank\">Go Green</a>,\n",
              " <a class=\"\" href=\"http://www.misskyra.com\" pg=\"WEB-TOIFooter#Miss Kyra~Other Times Group News Sites\" rel=\"noopener noreferrer nofollow\" target=\"_blank\">Miss Kyra</a>,\n",
              " <a class=\"\" href=\"http://www.itsmyascent.com/\" pg=\"WEB-TOIFooter#ItsMyAscent~Other Times Group News Sites\" rel=\"noopener noreferrer nofollow\" target=\"_blank\">ItsMyAscent</a>,\n",
              " <a class=\"\" href=\"https://navbharattimes.indiatimes.com/\" pg=\"WEB-TOIFooter#Navbharat Times~Other Times Group News Sites\" rel=\"noopener noreferrer nofollow\" target=\"_blank\">Navbharat Times</a>,\n",
              " <a class=\"\" href=\"http://www.educationtimes.com/\" pg=\"WEB-TOIFooter#Education Times~Other Times Group News Sites\" rel=\"noopener noreferrer nofollow\" target=\"_blank\">Education Times</a>,\n",
              " <a class=\"\" href=\"https://hindi.filmipop.com\" pg=\"WEB-TOIFooter#FILMIPOP Hindi~Other Times Group News Sites\" rel=\"noopener noreferrer nofollow\" target=\"_blank\">FILMIPOP Hindi</a>,\n",
              " <a class=\"\" href=\"http://brandcapital.co.in\" pg=\"WEB-TOIFooter#Brand Capital~Other Times Group News Sites\" rel=\"noopener noreferrer nofollow\" target=\"_blank\">Brand Capital</a>,\n",
              " <a class=\"\" href=\"https://eisamay.indiatimes.com/\" pg=\"WEB-TOIFooter#Eisamay~Other Times Group News Sites\" rel=\"noopener noreferrer nofollow\" target=\"_blank\">Eisamay</a>,\n",
              " <a class=\"\" href=\"http://www.indiatimes.com/\" pg=\"WEB-TOIFooter#Indiatimes~Other Times Group News Sites\" rel=\"noopener noreferrer nofollow\" target=\"_blank\">Indiatimes</a>,\n",
              " <a class=\"\" href=\"http://gujarati.economictimes.indiatimes.com/\" pg=\"WEB-TOIFooter#Gujarati Economic Times~Other Times Group News Sites\" rel=\"noopener noreferrer nofollow\" target=\"_blank\">Gujarati Economic Times</a>,\n",
              " <a class=\"\" href=\"https://vijaykarnataka.indiatimes.com/\" pg=\"WEB-TOIFooter#Vijaya Karnataka~Other Times Group News Sites\" rel=\"noopener noreferrer nofollow\" target=\"_blank\">Vijaya Karnataka</a>,\n",
              " <a class=\"\" href=\"https://malayalam.samayam.com/\" pg=\"WEB-TOIFooter#Malayalam Samayam~Other Times Group News Sites\" rel=\"noopener noreferrer nofollow\" target=\"_blank\">Malayalam Samayam</a>,\n",
              " <a class=\"\" href=\"https://recipes.timesofindia.com/?_ga=1.169341601.1238453668.1488804546\" pg=\"WEB-TOIFooter#Times Food~Other Times Group News Sites\" rel=\"noopener noreferrer nofollow\" target=\"_blank\">Times Food</a>,\n",
              " <a class=\"\" href=\"https://www.baazinow.com/?utm_source=SEO&amp;utm_campaign=TOI\" pg=\"WEB-TOIFooter#Games App~Other Times Group News Sites\" rel=\"noopener noreferrer nofollow\" target=\"_blank\">Games App</a>,\n",
              " <a class=\"\" href=\"https://www.mxplayer.in/\" pg=\"WEB-TOIFooter#MX Player~Other Times Group News Sites\" rel=\"noopener noreferrer nofollow\" target=\"_blank\">MX Player</a>,\n",
              " <a class=\"\" href=\"https://www.timespoints.com/#/products?utm_source=TOI&amp;utm_medium=Footer&amp;utm_campaign=TOI_Footer\" pg=\"WEB-TOIFooter#TimesPoints~Other Times Group News Sites\" rel=\"noopener noreferrer nofollow\" target=\"_blank\">TimesPoints</a>,\n",
              " <a class=\"\" href=\"http://idiva.com/index.php?host=TOI\" pg='WEB-TOIFooter#iDiva~Living and Entertainment\" ' rel=\"noopener noreferrer nofollow\" target=\"_blank\">iDiva</a>,\n",
              " <a class=\"\" href=\"http://mensxp.com\" pg=\"WEB-TOIFooter#MensXP.com~Living and Entertainment\" rel=\"noopener noreferrer nofollow\" target=\"_blank\">MensXP.com</a>,\n",
              " <a class=\"\" href=\"http://www.femina.in\" pg=\"WEB-TOIFooter#Femina~Living and Entertainment\" rel=\"noopener noreferrer nofollow\" target=\"_blank\">Femina</a>,\n",
              " <a class=\"\" href=\"https://timesofindia.indiatimes.com/etimes\" pg='WEB-TOIFooter#ETimes~Living and Entertainment\" ' rel=\"noopener\" target=\"_blank\">ETimes</a>,\n",
              " <a class=\"\" href=\"http://www.grazia.co.in\" pg=\"WEB-TOIFooter#Grazia~Living and Entertainment\" rel=\"noopener noreferrer nofollow\" target=\"_blank\">Grazia</a>,\n",
              " <a class=\"\" href=\"http://www.zoomtv.in/\" pg='WEB-TOIFooter#Zoom~Living and Entertainment\" ' rel=\"noopener noreferrer nofollow\" target=\"_blank\">Zoom</a>,\n",
              " <a class=\"\" href=\"https://www.happytrips.com/destinations\" pg=\"WEB-TOIFooter#Travel Destinations~Living and Entertainment\" rel=\"noopener noreferrer nofollow\" target=\"_blank\">Travel Destinations</a>,\n",
              " <a class=\"\" href=\"http://www.bombaytimes.com\" pg=\"WEB-TOIFooter#Bombay Times~Living and Entertainment\" rel=\"noopener noreferrer nofollow\" target=\"_blank\">Bombay Times</a>,\n",
              " <a class=\"\" href=\"http://cricbuzz.com\" pg=\"WEB-TOIFooter#Cricbuzz.com~Living and Entertainment\" rel=\"noopener noreferrer nofollow\" target=\"_blank\">Cricbuzz.com</a>,\n",
              " <a class=\"\" href=\"http://www.filmfare.com\" pg=\"WEB-TOIFooter#Filmfare~Living and Entertainment\" rel=\"noopener noreferrer nofollow\" target=\"_blank\">Filmfare</a>,\n",
              " <a class=\"\" href=\"https://gaana.com/newrelease\" pg=\"WEB-TOIFooter#Online Songs~Living and Entertainment\" rel=\"noopener noreferrer nofollow\" target=\"_blank\">Online Songs</a>,\n",
              " <a class=\"\" href=\"ttps://timesofindia.indiatimes.com/tv/hindi\" pg=\"WEB-TOIFooter#hindi TV~Living and Entertainment\" rel=\"noopener\" target=\"_blank\">TV</a>,\n",
              " <a class=\"\" href=\"https://timesofindia.indiatimes.com/life-style\" pg=\"WEB-TOIFooter#Life Style~Living and Entertainment\" rel=\"noopener\" target=\"_blank\">Life &amp; Style </a>,\n",
              " <a class=\"\" href=\"https://longwalks.onelink.me/OzWN/longwalksapp\" pg=\"WEB-TOIFooter#Longwalks App~Living and Entertainment\" rel=\"noopener noreferrer nofollow\" target=\"_blank\">Longwalks App</a>,\n",
              " <a class=\"\" href=\"https://subscribe.timesgroup.com/subscription\" pg=\"WEB-TOIFooter#Newspaper Subscription~Living and Entertainment\" rel=\"noopener noreferrer nofollow\" target=\"_blank\">Newspaper Subscription</a>,\n",
              " <a class=\"\" href=\"https://timesofindia.indiatimes.com/life-style/food-news\" pg=\"WEB-TOIFooter#Food News~Living and Entertainment\" rel=\"noopener\" target=\"_blank\">Food News</a>,\n",
              " <a class=\"\" href=\"https://www.timesprime.com?utm_source=TOI_Sites&amp;utm_medium=et&amp;utm_campaign=footer\" pg=\"WEB-TOIFooter#Times Prime~Living and Entertainment\" rel=\"noopener noreferrer nofollow\" target=\"_blank\">Times Prime</a>,\n",
              " <a class=\"\" href=\"https://www.whatshot.in/\" pg=\"WEB-TOIFooter#Longwalks App~Living and Entertainment\" rel=\"noopener noreferrer nofollow\" target=\"_blank\">Whats Hot</a>,\n",
              " <a class=\"\" href=\"https://timesofindia.indiatimes.com/india/cyclone-bulbul-kills-man-in-kolkata-brings-heavy-rain-to-odisha/articleshow/71989407.cms\" pg=\"WEB-TOIFooter#Bulbul cyclone~Top Trends\" rel=\"noopener\" target=\"_blank\">Bulbul cyclone</a>,\n",
              " <a class=\"\" href=\"https://timesofindia.indiatimes.com/india/feel-vindicated-blessed-says-lk-advani-after-ayodhya-verdict/articleshow/71989602.cms\" pg=\"WEB-TOIFooter#LK Advani~Top Trends\" rel=\"noopener\" target=\"_blank\">LK Advani</a>,\n",
              " <a class=\"\" href=\"https://timesofindia.indiatimes.com/india/scs-verdict-on-ayodhya-land-dispute-key-takeaways/articleshow/71980491.cms\" pg=\"WEB-TOIFooter#Supreme Court~Top Trends\" rel=\"noopener\" target=\"_blank\">Supreme Court</a>,\n",
              " <a class=\"\" href=\"https://timesofindia.indiatimes.com/india/if-vhp-design-is-followed-temple-may-take-at-least-five-years-to-build/articleshow/71989286.cms\" pg=\"WEB-TOIFooter#Ram Mandir~Top Trends\" rel=\"noopener\" target=\"_blank\">Ram Mandir</a>,\n",
              " <a class=\"\" href=\"https://timesofindia.indiatimes.com/india/kartarpur-corridor-inauguration-november-9/liveblog/71978754.cms\" pg=\"WEB-TOIFooter#Kartarpur Corridor~Top Trends\" rel=\"noopener\" target=\"_blank\">Kartarpur Corridor</a>,\n",
              " <a class=\"\" href=\"https://timesofindia.indiatimes.com/india/ayodhya-verdict-live-updates-supreme-court-verdict-on-ram-mandir-babri-masjid-dispute/liveblog/71978224.cms\" pg=\"WEB-TOIFooter#Ayodhya verdict~Top Trends\" rel=\"noopener\" target=\"_blank\">Ayodhya verdict</a>,\n",
              " <a class=\"\" href=\"https://timesofindia.indiatimes.com/india/cyclone-bulbul-pm-modi-speaks-with-west-bengal-cm-mamata-banerjee-on-situation/articleshow/71990867.cms\" pg=\"WEB-TOIFooter#Narendra Modi~Top Trends\" rel=\"noopener\" target=\"_blank\">Narendra Modi</a>,\n",
              " <a class=\"\" href=\"https://timesofindia.indiatimes.com/sports/cricket/bangladesh-in-india/rohit-sharma-is-in-the-form-of-his-life-mohinder-amarnath/articleshow/71990947.cms\" pg=\"WEB-TOIFooter#Rohit Sharma~Top Trends\" rel=\"noopener\" target=\"_blank\">Rohit Sharma</a>,\n",
              " <a class=\"\" href=\"https://timesofindia.indiatimes.com/home/education/news/ap-grama-2nd-phase-registration-2019-to-end-today-check-details-here/articleshow/71992706.cms\" pg=\"WEB-TOIFooter#AP Grama Volunteer~Top Trends\" rel=\"noopener\" target=\"_blank\">AP Grama Volunteer</a>,\n",
              " <a class=\"\" href=\"https://timesofindia.indiatimes.com/home/education/news/nta-ugc-net-december-2019-admit-card-released-heres-direct-link/articleshow/71992617.cms\" pg=\"WEB-TOIFooter#NTA NET Admit Card~Top Trends\" rel=\"noopener\" target=\"_blank\">NTA NET Admit Card</a>,\n",
              " <a class=\"\" href=\"https://timesofindia.indiatimes.com/india/will-declare-strategy-if-no-one-else-forms-government-sanjay-raut/articleshow/71991025.cms\" pg=\"WEB-TOIFooter#Maharashtra News~Top Trends\" rel=\"noopener\" target=\"_blank\">Maharashtra News</a>,\n",
              " <a class=\"\" href=\"https://timesofindia.indiatimes.com/home/education/news/htet-admit-card-2019-to-be-released-today-htetonline-com-check-download-link-here/articleshow/71965519.cms\" pg=\"WEB-TOIFooter#HTET Admit Card~Top Trends\" rel=\"noopener\" target=\"_blank\">HTET Admit Card</a>,\n",
              " <a class=\"\" href=\"https://timesofindia.indiatimes.com/home/education/news/ibps-po-prelims-scorecard-2019-to-be-released-today-at-ibps-in/articleshow/71968629.cms\" pg=\"WEB-TOIFooter#IBPS PO Score Card~Top Trends\" rel=\"noopener\" target=\"_blank\">IBPS PO Score Card</a>,\n",
              " <a class=\"\" href=\"https://timesofindia.indiatimes.com/home/education/news/dsssb-assistant-teacher-primary-admit-card-2019-released-heres-direct-link/articleshow/71966436.cms\" pg=\"WEB-TOIFooter#DSSSB PRT Admit Card~Top Trends\" rel=\"noopener\" target=\"_blank\">DSSSB PRT Admit Card</a>,\n",
              " <a class=\"\" href=\"https://timesofindia.indiatimes.com/videos/city/delhi/tis-hazari-incident-lawyers-paid-no-heed-to-this-lady-cops-plea-with-folded-hands/videoshow/71966420.cms\" pg=\"WEB-TOIFooter#Tis Hazari~Top Trends\" rel=\"noopener\" target=\"_blank\">Tis Hazari</a>,\n",
              " <a class=\"\" href=\"https://timesofindia.indiatimes.com/city/kochi/kerala-lottery-results-08-11-2019-nirmal-nr-146-results-today-first-prize-rs-6o-lakh/articleshow/71967536.cms\" pg=\"WEB-TOIFooter#Kerala lottery results~Top Trends\" rel=\"noopener\" target=\"_blank\">Kerala lottery results</a>,\n",
              " <a class=\"\" href=\"https://timesofindia.indiatimes.com/news\" pg=\"WEB-TOIFooter#News~Top Trends\" rel=\"noopener\" target=\"_blank\">News</a>,\n",
              " <a class=\"\" href=\"https://timesofindia.indiatimes.com/astrology/horoscope/horoscope-today-november-10-2019-check-astrological-prediction-for-leo-virgo-libra-scorpio-and-other-signs/articleshow/71989504.cms\" pg=\"WEB-TOIFooter#Horoscope today~Top Trends\" rel=\"noopener\" target=\"_blank\">Horoscope today</a>,\n",
              " <a class=\"\" href=\"https://www.ads2book.com/\" pg=\"WEB-TOIFooter#Ads 2 Book~Services\" rel=\"noopener noreferrer nofollow\" target=\"_blank\">Ads 2 Book</a>,\n",
              " <a class=\"\" href=\"https://play.google.com/store/apps/details?id=co.gradeup.android&amp;hl=en&amp;utm_source=Organic_TOI&amp;utm_medium=Backlink&amp;utm_term=KW_BankExamApp&amp;utm_campaign=TOI_Backlink\" pg=\"WEB-TOIFooter#Bank Exam App~Services\" rel=\"noopener noreferrer nofollow\" target=\"_blank\">Bank Exam App</a>,\n",
              " <a class=\"\" href=\"https://play.google.com/store/apps/details?id=com.smartspends\" pg=\"WEB-TOIFooter#ET Money Finance App~Services\" rel=\"noopener noreferrer nofollow\" target=\"_blank\">ET Money Finance App</a>,\n",
              " <a class=\"\" href=\"http://www.coupondunia.in/\" pg=\"WEB-TOIFooter#CouponDunia~Services\" rel=\"noopener noreferrer nofollow\" target=\"_blank\">CouponDunia</a>,\n",
              " <a class=\"\" href=\"https://www.dineout.co.in/\" pg=\"WEB-TOIFooter#Dineout~Services\" rel=\"noopener noreferrer nofollow\" target=\"_blank\">Dineout</a>,\n",
              " <a class=\"\" href=\"http://www.magicbricks.com/\" pg=\"WEB-TOIFooter#Magic Bricks~Services\" rel=\"noopener noreferrer nofollow\" target=\"_blank\">Magicbricks</a>,\n",
              " <a class=\"\" href=\"http://www.techgig.com\" pg=\"WEB-TOIFooter#Techgig~Services\" rel=\"noopener noreferrer nofollow\" target=\"_blank\">Techgig</a>,\n",
              " <a class=\"\" href=\"http://www.timesjobs.com/\" pg=\"WEB-TOIFooter#Times Jobs~Services\" rel=\"noopener noreferrer nofollow\" target=\"_blank\">Times Jobs</a>,\n",
              " <a class=\"\" href=\"https://play.google.com/store/apps/details?id=in.til.popkorn\" pg=\"WEB-TOIFooter#Bollywood News~Services\" rel=\"noopener noreferrer nofollow\" target=\"_blank\">Bollywood News</a>,\n",
              " <a class=\"\" href=\"http://www.timesmobile.in/\" pg=\"WEB-TOIFooter#iDiva~Services\" rel=\"noopener noreferrer nofollow\" target=\"_blank\">Times Mobile</a>,\n",
              " <a class=\"\" href=\"https://www.zigwheels.com/\" pg=\"WEB-TOIFooter#Zigwheels~Services\" rel=\"noopener\" target=\"_blank\">Buy Car</a>,\n",
              " <a class=\"\" href=\"https://www.remit2india.com/sendmoneytoindia/homepage.jsp\" pg=\"WEB-TOIFooter#Remit 2 India~Services\" rel=\"noopener noreferrer nofollow\" target=\"_blank\">Remit 2 India</a>,\n",
              " <a class=\"\" href=\"http://www.tcnext.com/\" pg=\"WEB-TOIFooter#TC Next~Services\" rel=\"noopener noreferrer nofollow\" target=\"_blank\">TC Next</a>,\n",
              " <a class=\"\" href=\"https://www.zigwheels.com/newbikes\" pg=\"WEB-TOIFooter#Bikes in India~Services\" rel=\"noopener\" target=\"_blank\">Bikes in India</a>,\n",
              " <a class=\"\" href=\"https://www.zigwheels.com/used-car\" pg=\"WEB-TOIFooter#Used Cars~Services\" rel=\"noopener\" target=\"_blank\">Used Cars</a>,\n",
              " <a class=\"\" href=\"http://www.astrospeak.com\" pg=\"WEB-TOIFooter#Astro Speak~Services\" rel=\"noopener noreferrer nofollow\" target=\"_blank\">Astro Speak</a>,\n",
              " <a class=\"\" href=\"https://www.gadgetsnow.com/\" pg=\"WEB-TOIFooter#Gadgets Now~Services\" rel=\"noopener noreferrer nofollow\" target=\"_blank\">Gadgets Now</a>,\n",
              " <a class=\"\" href=\"http://careers.timesgroup.com/\" pg=\"WEB-TOIFooter#Careers~Services\" rel=\"noopener noreferrer nofollow\" target=\"_blank\">Careers</a>,\n",
              " <a class=\"\" href=\"https://www.colombiaonline.com/\" pg=\"WEB-TOIFooter#Colombia~Services\" rel=\"noopener noreferrer nofollow\" target=\"_blank\">Colombia</a>,\n",
              " <a class=\"\" href=\"https://timesofindia.indiatimes.com/home/headlines\" pg=\"WEB-TOIFooter#Headlines~Popular Categories\" rel=\"noopener\" target=\"_blank\">Headlines</a>,\n",
              " <a class=\"\" href=\"https://timesofindia.indiatimes.com/sports\" pg=\"WEB-TOIFooter#Sports News~Popular Categories\" rel=\"noopener\" target=\"_blank\">Sports News</a>,\n",
              " <a class=\"\" href=\"https://timesofindia.indiatimes.com/business/india-business\" pg=\"WEB-TOIFooter#Business News~Popular Categories\" rel=\"noopener\" target=\"_blank\">Business News</a>,\n",
              " <a class=\"\" href=\"https://timesofindia.indiatimes.com/india\" pg=\"WEB-TOIFooter#India News~Popular Categories\" rel=\"noopener\" target=\"_blank\">India News</a>,\n",
              " <a class=\"\" href=\"https://timesofindia.indiatimes.com/world\" pg=\"WEB-TOIFooter#World News~Popular Categories\" rel=\"noopener\" target=\"_blank\">World News</a>,\n",
              " <a class=\"\" href=\"https://timesofindia.indiatimes.com/entertainment/hindi/bollywood/news\" pg=\"WEB-TOIFooter#Bollywood News~Popular Categories\" rel=\"noopener\" target=\"_blank\">Bollywood News</a>,\n",
              " <a class=\"\" href=\"https://timesofindia.indiatimes.com/life-style/health-fitness\" pg=\"WEB-TOIFooter#Health &amp; Fitness Tips~Popular Categories\" rel=\"noopener\" target=\"_blank\">Health &amp; Fitness Tips</a>,\n",
              " <a class=\"\" href=\"https://timesofindia.indiatimes.com/tv/hindi\" pg=\"WEB-TOIFooter#Indian TV Shows~Popular Categories\" rel=\"noopener\" target=\"_blank\">Indian TV Shows</a>,\n",
              " <a class=\"\" href=\"http://photogallery.indiatimes.com/celebs/articlelist/2371672.cms\" pg=\"WEB-TOIFooter#Celebrity Photos~Popular Categories\" rel=\"noopener noreferrer nofollow\" target=\"_blank\">Celebrity Photos</a>,\n",
              " <a class=\"\" href=\"https://timesofindia.indiatimes.com/videos/entertainment/hindi/ananya-pandays-cousin-alanna-panday-is-the-newest-hottie-on-the-block-heres-why/videoshow/71981955.cms\" pg=\"WEB-TOIFooter#Ananya Panday~Hot on the Web\" rel=\"noopener\" target=\"_blank\">Ananya Panday</a>,\n",
              " <a class=\"\" href=\"https://timesofindia.indiatimes.com/videos/entertainment/music/bhojpuri/khesari-lal-yadav-bhojpuri-song-videos-kajal-raghwani-bhojpuri-gana-video-song-phoolawa-sukhal-ba-from-muqaddar-ft-khesari-lal-yadav-and-kajal-raghwani/videoshow/71971791.cms\" pg=\"WEB-TOIFooter#Muqaddar Song~Hot on the Web\" rel=\"noopener\" target=\"_blank\">Muqaddar Song</a>,\n",
              " <a class=\"\" href=\"https://timesofindia.indiatimes.com/videos/entertainment/hindi/priyanka-chopra-enjoys-family-night-in-new-delhi-mom-madhu-chopra-joins-in-the-celebration/videoshow/71981074.cms\" pg=\"WEB-TOIFooter#Priyanka Chopra~Hot on the Web\" rel=\"noopener\" target=\"_blank\">Priyanka Chopra</a>,\n",
              " <a class=\"\" href=\"https://timesofindia.indiatimes.com/videos/entertainment/hindi/natasha-dalal-says-marriage-with-varun-dhawan-will-have-to-wait/videoshow/71980516.cms\" pg=\"WEB-TOIFooter#Varun Dhawan~Hot on the Web\" rel=\"noopener\" target=\"_blank\">Varun Dhawan</a>,\n",
              " <a class=\"\" href=\"https://timesofindia.indiatimes.com/videos/entertainment/hindi/cuteness-overload-taimur-ali-khan-waves-indian-flag-at-airport-as-he-gets-spotted-with-mommy-kareena-kapoor-khan/videoshow/71980150.cms\" pg=\"WEB-TOIFooter#Taimur Ali Khan~Hot on the Web\" rel=\"noopener\" target=\"_blank\">Taimur Ali Khan</a>,\n",
              " <a class=\"\" href=\"https://timesofindia.indiatimes.com/videos/entertainment/hindi/akshay-kumar-gets-injured-on-the-sets-of-rohit-shettys-film-sooryavanshi-in-mumbai/videoshow/71983739.cms\" pg=\"WEB-TOIFooter#Akshay Kumar~Hot on the Web\" rel=\"noopener\" target=\"_blank\">Akshay Kumar</a>,\n",
              " <a class=\"\" href=\"https://timesofindia.indiatimes.com/videos/entertainment/music/bhojpuri/watch-pawan-singh-bhojpuri-song-videos-bhojpuri-gana-video-song-sab-dhan-khai-jaana-ho-from-dhadkan-ft-pawan-singh-and-sikha-mishra/videoshow/71955054.cms\" pg=\"WEB-TOIFooter#Pawan Singh Song~Hot on the Web\" rel=\"noopener\" target=\"_blank\">Pawan Singh Song</a>,\n",
              " <a class=\"\" href=\"https://timesofindia.indiatimes.com/videos/entertainment/hindi/heres-the-reason-behind-disha-patanis-sore-knees/videoshow/71984137.cms\" pg=\"WEB-TOIFooter#Disha Patani~Hot on the Web\" rel=\"noopener\" target=\"_blank\">Disha Patani</a>,\n",
              " <a class=\"\" href=\"https://timesofindia.indiatimes.com/videos/entertainment/hindi/ayushmann-khurranas-bala-gets-leaked-online-by-piracy-website-tamilrockers-on-its-first-day-of-release/videoshow/71984522.cms\" pg=\"WEB-TOIFooter#Bala Leaked Online~Hot on the Web\" rel=\"noopener\" target=\"_blank\">Bala Leaked Online</a>,\n",
              " <a class=\"\" href=\"https://timesofindia.indiatimes.com/entertainment/hindi/bollywood/news/ayodhyaverdict-bollywood-celebs-react-to-the-supreme-courts-judgement/articleshow/71981159.cms\" pg=\"WEB-TOIFooter#Celebs Reactions~Trending Topics\" rel=\"noopener\" target=\"_blank\">Celebs Reactions</a>,\n",
              " <a class=\"\" href=\"https://timesofindia.indiatimes.com/entertainment/hindi/bollywood/news/ayodhyaverdict-farhan-akhtar-requests-all-to-respect-the-supreme-courts-verdict-with-grace/articleshow/71980571.cms\" pg=\"WEB-TOIFooter#Farhan Akhtar~Trending Topics\" rel=\"noopener\" target=\"_blank\">Farhan Akhtar</a>,\n",
              " <a class=\"\" href=\"https://timesofindia.indiatimes.com/videos/entertainment/music/bhojpuri/monalisa-bhojpuri-song-videos-pawan-singh-bhojpuri-gana-video-song-makaiya-me-raja-ji-from-darar-ft-pawan-singh-and-monalisa/videoshow/71950815.cms\" pg=\"WEB-TOIFooter#Monalisa Video Song~Trending Topics\" rel=\"noopener\" target=\"_blank\">Monalisa Video Song</a>,\n",
              " <a class=\"\" href=\"https://timesofindia.indiatimes.com/videos/entertainment/music/bhojpuri/bhojpuri-song-videos-khesari-lal-yadav-ka-bhojpuri-gana-video-song-bhojpuri-song-cycliya-wali-dil-le-gail-from-dilwala-ft-khesari-lal-yadav-and-akshara-singh/videoshow/71922161.cms\" pg=\"WEB-TOIFooter#Khesari-Akshara Song~Trending Topics\" rel=\"noopener\" target=\"_blank\">Khesari-Akshara Song</a>,\n",
              " <a class=\"\" href=\"https://timesofindia.indiatimes.com/life-style/events/eid-milad-un-nabi-images-eid-mubarak-barawafat-greeting-cards-wishes-messages-to-share-on-eid-e-milad/photostory/71954658.cms\" pg=\"WEB-TOIFooter#Barawafat Messages~Trending Topics\" rel=\"noopener\" target=\"_blank\">Barawafat Messages</a>,\n",
              " <a class=\"\" href=\"https://timesofindia.indiatimes.com/life-style/events/happy-eid-milad-un-nabi-2019-eid-mubarak-images-cards-wishes-messages-greetings-quotes-pictures-gifs-and-wallpapers/articleshow/71967107.cms\" pg=\"WEB-TOIFooter#Eid Mubarak Images~Trending Topics\" rel=\"noopener\" target=\"_blank\">Eid Mubarak Images</a>,\n",
              " <a class=\"\" href=\"https://timesofindia.indiatimes.com/life-style/events/happy-eid-milad-un-nabi-barawafat-2019-eid-mubarak-wishes-messages-quotes-images-facebook-whatsapp-status/articleshow/71971258.cms\" pg=\"WEB-TOIFooter#Eid Milad Wishes~Trending Topics\" rel=\"noopener\" target=\"_blank\">Eid Milad Wishes</a>,\n",
              " <a class=\"\" href=\"https://timesofindia.indiatimes.com/videos/entertainment/music/bhojpuri/watch-khesari-lal-yadav-ka-bhojpuri-gana-video-song-bhojpuri-song-ae-sunarko-dil-me-uthata-sunami-ft-khesari-lal-yadav-and-shubhi-sharma/videoshow/71936983.cms\" pg=\"WEB-TOIFooter#Khesari-Shubhi Song~Trending Topics\" rel=\"noopener\" target=\"_blank\">Khesari-Shubhi Song</a>,\n",
              " <a class=\"\" href=\"https://timesofindia.indiatimes.com/entertainment/hindi/bollywood/news/bala-box-office-collection-day-1-ayushmann-khurranas-film-is-off-to-a-good-start-surpasses-dream-girl-first-day-collection/articleshow/71981831.cms\" pg=\"WEB-TOIFooter#Bala Box Office~Trending Topics\" rel=\"noopener\" target=\"_blank\">Bala Box Office</a>,\n",
              " <a class=\"\" href=\"https://timesofindia.indiatimes.com/life-style/events/date-significance-history-and-importance-of-eid-un-nabi/articleshow/71972520.cms\" pg=\"WEB-TOIFooter#Eid-Un-Nabi Significance~Trending Topics\" rel=\"noopener\" target=\"_blank\">Eid-Un-Nabi Significance</a>,\n",
              " <a class=\"\" href=\"https://timesofindia.indiatimes.com/tv/news/hindi/bigg-boss-13-salman-khan-asks-shehnaz-gill-and-sidharth-shukla-if-they-have-feelings-for-each-other/articleshow/71984403.cms\" pg=\"WEB-TOIFooter#Bigg Boss 13~Trending Topics\" rel=\"noopener\" target=\"_blank\">Bigg Boss 13</a>,\n",
              " <a class=\"\" href=\"https://timesofindia.indiatimes.com/life-style/health-fitness/weight-loss/weight-loss-story-i-was-tired-of-constant-body-shaming-i-lost-40-kilos-by-work-outing-at-home/articleshow/71971186.cms\" pg=\"WEB-TOIFooter#Weight Loss~Trending Topics\" rel=\"noopener\" target=\"_blank\">Weight Loss</a>,\n",
              " <a class=\"\" href=\"https://timesofindia.indiatimes.com/gadgets-news/every-second-smartwatch-sold-in-the-world-is-an-apple-watch/articleshow/71964960.cms\" pg=\"WEB-TOIFooter#Apple Watch~Trending Topics\" rel=\"noopener\" target=\"_blank\">Apple Watch</a>,\n",
              " <a class=\"\" href=\"https://timesofindia.indiatimes.com/gadgets-news/whatsapp-makes-online-shopping-easier-heres-how/articleshow/71965304.cms\" pg=\"WEB-TOIFooter#Whatsapp Shopping Feature~Trending Topics\" rel=\"noopener\" target=\"_blank\">Whatsapp Shopping Feature</a>,\n",
              " <a class=\"\" href=\"https://timesofindia.indiatimes.com/gadgets-news/underaged-gamers-will-now-have-these-restrictions/articleshow/71965001.cms\" pg=\"WEB-TOIFooter#Underaged Games Restrictions~Trending Topics\" rel=\"noopener\" target=\"_blank\">Underaged Games Restrictions</a>,\n",
              " <a class=\"\" href=\"https://timesofindia.indiatimes.com/gadgets-news/oppo-reno-3-may-feature-4500mah-battery-and-90hz-refresh-rate/articleshow/71954080.cms\" pg=\"WEB-TOIFooter#Oppo Reno 3~Trending Topics\" rel=\"noopener\" target=\"_blank\">Oppo Reno 3</a>,\n",
              " <a class=\"\" href=\"https://timesofindia.indiatimes.com/gadgets-news/whatsapp-updates-group-privacy-feature-what-it-means-for-you/articleshow/71950654.cms\" pg=\"WEB-TOIFooter#Whatsapp Privacy Feature~Trending Topics\" rel=\"noopener\" target=\"_blank\">Whatsapp Privacy Feature</a>,\n",
              " <a class=\"\" href=\"https://timesofindia.indiatimes.com/gadgets-news/amazon-app-quiz-november-8-2019-answer-these-questions-to-win-fujifilm-x-t100-mirrorless-camera/articleshow/71966799.cms\" pg=\"WEB-TOIFooter#Amazon App Quiz~Trending Topics\" rel=\"noopener\" target=\"_blank\">Amazon App Quiz</a>,\n",
              " <a href=\"https://www.facebook.com/TimesofIndia\" pg=\"WEB-TOIFooter#facebook~Follow us on\" rel=\"noopener noreferrer nofollow\" target=\"_blank\"><i></i>facebook</a>,\n",
              " <a href=\"https://twitter.com/timesofindia\" pg=\"WEB-TOIFooter#twitter~Follow us on\" rel=\"noopener noreferrer nofollow\" target=\"_blank\"><i></i>twitter</a>,\n",
              " <a href=\"https://timesofindia.indiatimes.com/rss.cms\" pg=\"WEB-TOIFooter#rss feed~Follow us on\" rel=\"noopener\" target=\"_blank\"><i></i>rss feed</a>,\n",
              " <a href=\"https://www.youtube.com/timesofindia\" pg=\"WEB-TOIFooter#youtube~Follow us on\" rel=\"noopener noreferrer nofollow\" target=\"_blank\"><i></i>youtube</a>,\n",
              " <a href='https://play.google.com/store/apps/details?id=com.toi.reader.activities&amp;utm_source=TOInewHP_TILwidget&amp;utm_medium=ABtest&amp;utm_campaign=TOInewHP\"' pg=\"WEB-TOIFooter#android~Download toi app\" rel=\"noopener noreferrer nofollow\" target=\"_blank\"><i></i>android</a>,\n",
              " <a href='https://itunes.apple.com/us/app/the-times-of-india/id427589329?utm_source=TOInewHP_TILwidget&amp;utm_medium=ABtest&amp;utm_campaign=TOInewHP\"' pg=\"WEB-TOIFooter#iphone~Download toi app\" rel=\"noopener noreferrer nofollow\" target=\"_blank\"><i></i>iphone</a>,\n",
              " <a href='http://appworld.blackberry.com/webstore/content/36532/?utm_source=TOInewHP_TILwidget&amp;utm_medium=ABtest&amp;utm_campaign=TOInewHP\"' pg=\"WEB-TOIFooter#BlackBerry~Download toi app\" rel=\"noopener noreferrer nofollow\" target=\"_blank\"><i></i>BlackBerry</a>,\n",
              " <a href='https://itunes.apple.com/us/app/the-times-of-india-for-ipad/id427164653?utm_source=TOInewHP_TILwidget&amp;utm_medium=ABtest&amp;utm_campaign=TOInewHP\"' pg=\"WEB-TOIFooter#ipad~Download toi app\" rel=\"noopener noreferrer nofollow\" target=\"_blank\"><i></i>ipad</a>,\n",
              " <a href='http://www.windowsphone.com/en-in/store/app/the-times-of-india/26c39c5c-7a5a-4173-9a93-7c5bd539d4c8?utm_source=TOInewHP_TILwidget&amp;utm_medium=ABtest&amp;utm_campaign=TOInewHP\"' pg=\"WEB-TOIFooter#windows phone~Download toi app\" rel=\"noopener noreferrer nofollow\" target=\"_blank\"><i></i>windows phone</a>,\n",
              " <a class=\"_1W3uT\" href=\"#\" rel=\"noopener nofollow\"></a>,\n",
              " <a class=\" \" href=\"http://www.timesinternet.in\" pg=\"WEB-TOIFooter#About us~Others\" rel=\"noopener noreferrer nofollow\" target=\"_blank\">About us </a>,\n",
              " <a class=\" \" href=\"https://www.ads.timesinternet.in/expresso/selfservice/loginSelfService.htm\" pg=\"WEB-TOIFooter#Create Your Own Ad~Others\" rel=\"noopener noreferrer nofollow\" target=\"_blank\">Create Your Own Ad </a>,\n",
              " <a class=\" \" href=\"http://www.indiatimes.com/termsandcondition\" pg=\"WEB-TOIFooter#Terms of Use and Grievance Redressal Policy~Others\" rel=\"noopener noreferrer nofollow\" target=\"_blank\">Terms of Use and Grievance Redressal Policy </a>,\n",
              " <a class=\" \" href=\"http://www.indiatimes.com/privacypolicy\" pg=\"WEB-TOIFooter#Privacy policy~Others\" rel=\"noopener noreferrer nofollow\" target=\"_blank\">Privacy policy </a>,\n",
              " <a class=\" \" href=\"http://advertise.indiatimes.com/\" pg=\"WEB-TOIFooter#Advertise with us~Others\" rel=\"noopener noreferrer nofollow\" target=\"_blank\">Advertise with us </a>,\n",
              " <a class=\" \" href=\"https://timesofindia.indiatimes.com/rss.cms\" pg=\"WEB-TOIFooter#RSS~Others\" rel=\"noopener\" target=\"_blank\">RSS </a>,\n",
              " <a class=\" eu-hidden\" href=\"https://timesofindia.indiatimes.com/newsletterhome.cms\" pg=\"WEB-TOIFooter#Newsletter~Others\" rel=\"noopener\" target=\"_blank\">Newsletter </a>,\n",
              " <a class=\" eu-hidden\" href=\"https://timesofindia.indiatimes.com/feedback.cms\" pg=\"WEB-TOIFooter#Feedback~Others\" rel=\"noopener\" target=\"_blank\">Feedback </a>,\n",
              " <a class=\" eu-hidden\" href=\"http://epaper.timesofindia.com/\" pg=\"WEB-TOIFooter#ePaper~Others\" rel=\"noopener noreferrer nofollow\" target=\"_blank\">ePaper </a>,\n",
              " <a class=\" \" href=\"https://timesofindia.indiatimes.com/sitemap.cms\" pg=\"WEB-TOIFooter#Sitemap~Others\" rel=\"noopener\" target=\"_blank\">Sitemap </a>,\n",
              " <a class=\" \" href=\"https://timesofindia.indiatimes.com/archive.cms\" pg=\"WEB-TOIFooter#Archives~Others\" rel=\"noopener\" target=\"_blank\">Archives </a>]"
            ]
          },
          "metadata": {
            "tags": []
          },
          "execution_count": 23
        }
      ]
    },
    {
      "cell_type": "code",
      "metadata": {
        "id": "_QwAPl7u4kEq",
        "colab_type": "code",
        "colab": {
          "base_uri": "https://localhost:8080/",
          "height": 836
        },
        "outputId": "1c7c3502-6496-4aaf-b739-97e60cd3ca56"
      },
      "source": [
        "def parser(link):\n",
        "  response = requests.get(link)\n",
        "  soup=BeautifulSoup(response.text,\"html.parser\")\n",
        "  result = soup.find_all(\"a\")\n",
        "  text = [result[i].text for i in range(len(result))]\n",
        "  final_news =\" \".join(text)\n",
        "  return final_news\n",
        "te=parser(news)\n",
        "print(te)\n"
      ],
      "execution_count": 24,
      "outputs": [
        {
          "output_type": "stream",
          "text": [
            " #AajSawaroApnaKal SUBMIT    \n",
            "\n",
            " \n",
            "\n",
            "     LIVE TV DownloadNews18 App English हिन्दी বাংলা मराठी ગુજરાતી ಕನ್ನಡ தமிழ் മലയാളം తెలుగు ਪੰਜਾਬੀ اردو অসমীয়া Home Elections Politics India Opinion Entertainment Tech Auto Buzz Videos Cricket TV Shows TV Videos Travel Business Health and Fitness Blogs Podcast Immersives Football Food Stocks Lok Sabha Elections 2019 Assembly Elections 2018 Services World Lifestyle Mission Paani Budget Sports iReel Awards Latest Ayodhya Verdict Photos Lifestyle Immersives Vanity Diaries ISL 2019 Lifestyle & Banking Swasth India Privacy Policy English English हिन्दी Hindi বাংলা Bengali मराठी Marathi ગુજરાતી Gujarati ಕನ್ನಡ Kannada தமிழ் Tamil മലയാളംMalayalam తెలుగుTELUGU ਪੰਜਾਬੀPunjabi اردو Urdu        Home Elections Politics India Opinion Entertainment Tech Auto Buzz Videos Cricket All Sections    LIVE TV     Home Elections Politics India Opinion Entertainment Tech Auto Buzz Videos Cricket TV Shows TV Videos Travel Business Health and Fitness Blogs Podcast Immersives Football Food Stocks Lok Sabha Elections 2019 Assembly Elections 2018 Services World Lifestyle Mission Paani Budget Sports iReel Awards Latest Ayodhya Verdict Photos Lifestyle Immersives Vanity Diaries ISL 2019 Lifestyle & Banking Swasth India Latest Ayodhya Verdict Photos Lifestyle Immersives Vanity Diaries ISL 2019 Lifestyle & Banking Swasth India  Politics  Movies Photos     Ayodhya Verdict UN Chief Urges India, Pak to Exercise 'Maximum Restraint' on Kashmir, Invokes Simla Agreement Delhi Odd-even Rule: Police to Intensify Checks this Week After 297 violators Fined on Saturday National Education Day: Remembering Free India's First HRD Minister Maulana Abul Kalam Azad Guruparb 2019: Date, Significance and History Behind Guru Nanak Jayanti News18 \n",
            "India\n",
            " News18.com          subscribe to News18 Daybreak Twitter Instagram Facebook Telegram TikTok YouTube Antonio Guterres Article 370 revoked J&K jammu and kashmir Read full article Next Story Next Story \n",
            "\n",
            "\n",
            "\n",
            "\n",
            " \n",
            "\n",
            "Saturday 09 November , 2019\n",
            "Launch of Kartarpur Corridor Amidst Indo-Pak Strife | Crux+\n",
            "\n",
            " \n",
            "\n",
            "Wednesday 06 November , 2019\n",
            "Babri Masjid-Ram Mandir Case History | Rare Interviews | Crux Files\n",
            "\n",
            " \n",
            "\n",
            "Friday 08 November , 2019\n",
            "LK Advani: The Architect of Hindutva Politics | Rare Interviews\n",
            "\n",
            "     \n",
            "\n",
            "   ATP Finals: Roger Federer Up Against It after Shocking Dominc Thiem Defeat   Cristiano Ronaldo Leaves Stadium Before Final Whistle after Being Substituted   This Modified Hero Splendor Costs Rs 2 Lakh and Is Hard to Recognize   'Brave' Goat Who Had Befriended Tiger it Was 'Meal' For, Passes Away   Ayodhya Verdict: Message of Love and Peace Takes Over Twitter as #HinduMuslimBhaiBhai Trends \n",
            "\n",
            "\n",
            "\n",
            "\n",
            "+9\n",
            "\n",
            "Abul Kalam Azad Birth Anniversary: 9 Must See Pics\n",
            "\n",
            " \n",
            "\n",
            "\n",
            "\n",
            "\n",
            "+30\n",
            "\n",
            "Ranveer Singh aces Kapil Dev’s Iconic Natraj Shot in '83\n",
            "\n",
            " Madhya Pradesh  Rajasthan  Telangana  Chhattisgarh   Mizoram                  India Lifestyle Tech Politics Auto Sports iVideos Football Delhi Odd-even Rule: Police to Intensify Checks this Week After 297 violators Fined on Saturday Tanhaji New Poster: Celebrating the 100th Film of Ajay Devgn National Education Day: Remembering Free India's First HRD Minister Maulana Abul Kalam Azad Premier League Title Race Done Unless Injuries Strike Liverpool: Jose Mourinho India vs Bangladesh | We Have a Long Way to Go in T20 Cricket: Mahmudullah About Us  Privacy Policy  Cookie Policy  Disclaimer  Contact Us   Sitemap  Complaint Redressal  Advertise With Us News18 India  CricketNext   Bangla News  Gujarati News  Urdu News  Marathi News  TopperLearning  Moneycontrol   Firstpost   CompareIndia  CNBCTV18  History India  MTV India  In.com  Clear Study Doubts Education Franchisee Opportunity CAprep18\n"
          ],
          "name": "stdout"
        }
      ]
    },
    {
      "cell_type": "markdown",
      "metadata": {
        "id": "O58immrK-vrq",
        "colab_type": "text"
      },
      "source": [
        "## Latent Semantic Analysis / Topic Modelling\n"
      ]
    },
    {
      "cell_type": "code",
      "metadata": {
        "id": "rV8DlXXx6hU9",
        "colab_type": "code",
        "colab": {
          "base_uri": "https://localhost:8080/",
          "height": 71
        },
        "outputId": "23f38aaf-96b3-46ed-d0be-c6e450e92ae6"
      },
      "source": [
        "df=pd.read_csv(\"/content/drive/My Drive/NLP datasets/Consumer_Complaints_big.csv\")\n",
        "df = df[[\"Consumer complaint narrative\"]]\n",
        "df = df.dropna()\n",
        "df_new = df[:100]\n",
        "df_new = df_new[\"Consumer complaint narrative\"].str.lower()\n",
        "from sklearn.preprocessing import LabelEncoder\n",
        "le = LabelEncoder()\n",
        "from string import punctuation\n",
        "from nltk.corpus import stopwords\n",
        "stuff_to_be_removed = list(stopwords.words(\"english\"))+list(punctuation)\n",
        "from nltk.tokenize import word_tokenize\n",
        "from nltk.stem import LancasterStemmer\n",
        "stemmer=LancasterStemmer()\n",
        "corpus =df_new.tolist()\n",
        "dataset1=[]\n",
        "final_corpus=[]\n",
        "for x in range(len(corpus)):\n",
        "    text=word_tokenize(corpus[x].lower())\n",
        "    text = [stemmer.stem(y) for y in text if y not in stuff_to_be_removed]\n",
        "    ent = \" \".join(text)\n",
        "    final_corpus.append(ent)\n",
        "vectorizer = TfidfVectorizer()\n",
        "X= vectorizer.fit_transform(final_corpus)"
      ],
      "execution_count": 25,
      "outputs": [
        {
          "output_type": "stream",
          "text": [
            "/usr/local/lib/python3.6/dist-packages/IPython/core/interactiveshell.py:2718: DtypeWarning: Columns (5,6,11,16) have mixed types. Specify dtype option on import or set low_memory=False.\n",
            "  interactivity=interactivity, compiler=compiler, result=result)\n"
          ],
          "name": "stderr"
        }
      ]
    },
    {
      "cell_type": "code",
      "metadata": {
        "id": "P910aymIAgSn",
        "colab_type": "code",
        "colab": {
          "base_uri": "https://localhost:8080/",
          "height": 51
        },
        "outputId": "5df17004-a977-4cbb-9fb0-22b88da5a22e"
      },
      "source": [
        "from sklearn.decomposition import TruncatedSVD\n",
        "lsa = TruncatedSVD(n_components=4,n_iter=100)\n",
        "lsa.fit(X)"
      ],
      "execution_count": 26,
      "outputs": [
        {
          "output_type": "execute_result",
          "data": {
            "text/plain": [
              "TruncatedSVD(algorithm='randomized', n_components=4, n_iter=100,\n",
              "             random_state=None, tol=0.0)"
            ]
          },
          "metadata": {
            "tags": []
          },
          "execution_count": 26
        }
      ]
    },
    {
      "cell_type": "code",
      "metadata": {
        "id": "xQowJWNrB3oo",
        "colab_type": "code",
        "colab": {}
      },
      "source": [
        "row = lsa.components_[0]\n",
        "prob=list(row)"
      ],
      "execution_count": 0,
      "outputs": []
    },
    {
      "cell_type": "code",
      "metadata": {
        "id": "xbAc9gneCcOa",
        "colab_type": "code",
        "colab": {}
      },
      "source": [
        "fenames = list(vectorizer.get_feature_names())"
      ],
      "execution_count": 0,
      "outputs": []
    },
    {
      "cell_type": "code",
      "metadata": {
        "id": "P9ILD4JtCggj",
        "colab_type": "code",
        "colab": {
          "base_uri": "https://localhost:8080/",
          "height": 833
        },
        "outputId": "e030a168-9348-4081-b20a-298fc33673b3"
      },
      "source": [
        "for i,y in enumerate(lsa.components_):\n",
        "  word=zip(fenames,y)\n",
        "  sortedwords=sorted(word,key=lambda x:x[1],reverse=True)\n",
        "  sortedwords=sortedwords[:10]\n",
        "  print(\"\\n Topic\",i,\":\")\n",
        "  for x in sortedwords:\n",
        "    print(x)"
      ],
      "execution_count": 29,
      "outputs": [
        {
          "output_type": "stream",
          "text": [
            "\n",
            " Topic 0 :\n",
            "('xxxx', 0.812724861834828)\n",
            "('xx', 0.23372680027068216)\n",
            "('report', 0.153079554529978)\n",
            "('account', 0.13991230481337485)\n",
            "('credit', 0.13721854299038336)\n",
            "('debt', 0.11410284848532509)\n",
            "('00', 0.09908409827516594)\n",
            "('consum', 0.09133886984868748)\n",
            "('inform', 0.09111075076089122)\n",
            "('collect', 0.08824086853082351)\n",
            "\n",
            " Topic 1 :\n",
            "('consum', 0.5626290552777313)\n",
            "('block', 0.3007841576623223)\n",
            "('theft', 0.26820243273317596)\n",
            "('id', 0.2638454723897126)\n",
            "('inform', 0.26005964663895004)\n",
            "('ag', 0.20920214534272505)\n",
            "('sect', 0.20300756198244616)\n",
            "('report', 0.1910296805836367)\n",
            "('victim', 0.1678314874432057)\n",
            "('shal', 0.13850128650884916)\n",
            "\n",
            " Topic 2 :\n",
            "('account', 0.3643729062190856)\n",
            "('credit', 0.2292472744437237)\n",
            "('belong', 0.18459952232211213)\n",
            "('docu', 0.13922609001478972)\n",
            "('would', 0.13192043257427877)\n",
            "('debt', 0.12858469467954428)\n",
            "('lik', 0.12681902680985918)\n",
            "('report', 0.12193794679847002)\n",
            "('sign', 0.12108763407055903)\n",
            "('investigation', 0.11932608747191636)\n",
            "\n",
            " Topic 3 :\n",
            "('victim', 0.5170040264316145)\n",
            "('theft', 0.38952374835754233)\n",
            "('id', 0.33787095427959946)\n",
            "('account', 0.2547288958181439)\n",
            "('credit', 0.145836611979512)\n",
            "('belong', 0.14582077576001098)\n",
            "('lik', 0.09262499238916477)\n",
            "('docu', 0.09201580524613347)\n",
            "('would', 0.09114521792745416)\n",
            "('investigation', 0.0865524569293133)\n"
          ],
          "name": "stdout"
        }
      ]
    },
    {
      "cell_type": "markdown",
      "metadata": {
        "id": "1kPcSQ3oPCVU",
        "colab_type": "text"
      },
      "source": [
        "##Gensim Library"
      ]
    },
    {
      "cell_type": "code",
      "metadata": {
        "id": "6svwmMJnVe-h",
        "colab_type": "code",
        "colab": {
          "base_uri": "https://localhost:8080/",
          "height": 544
        },
        "outputId": "e8365362-3eef-4a12-b1ba-66e6a97511a6"
      },
      "source": [
        "!pip install pyLDAvis"
      ],
      "execution_count": 30,
      "outputs": [
        {
          "output_type": "stream",
          "text": [
            "Collecting pyLDAvis\n",
            "\u001b[?25l  Downloading https://files.pythonhosted.org/packages/a5/3a/af82e070a8a96e13217c8f362f9a73e82d61ac8fff3a2561946a97f96266/pyLDAvis-2.1.2.tar.gz (1.6MB)\n",
            "\r\u001b[K     |▏                               | 10kB 18.9MB/s eta 0:00:01\r\u001b[K     |▍                               | 20kB 6.3MB/s eta 0:00:01\r\u001b[K     |▋                               | 30kB 8.8MB/s eta 0:00:01\r\u001b[K     |▉                               | 40kB 5.7MB/s eta 0:00:01\r\u001b[K     |█                               | 51kB 6.9MB/s eta 0:00:01\r\u001b[K     |█▏                              | 61kB 8.1MB/s eta 0:00:01\r\u001b[K     |█▍                              | 71kB 7.9MB/s eta 0:00:01\r\u001b[K     |█▋                              | 81kB 8.8MB/s eta 0:00:01\r\u001b[K     |█▉                              | 92kB 9.8MB/s eta 0:00:01\r\u001b[K     |██                              | 102kB 9.0MB/s eta 0:00:01\r\u001b[K     |██▎                             | 112kB 9.0MB/s eta 0:00:01\r\u001b[K     |██▍                             | 122kB 9.0MB/s eta 0:00:01\r\u001b[K     |██▋                             | 133kB 9.0MB/s eta 0:00:01\r\u001b[K     |██▉                             | 143kB 9.0MB/s eta 0:00:01\r\u001b[K     |███                             | 153kB 9.0MB/s eta 0:00:01\r\u001b[K     |███▎                            | 163kB 9.0MB/s eta 0:00:01\r\u001b[K     |███▌                            | 174kB 9.0MB/s eta 0:00:01\r\u001b[K     |███▋                            | 184kB 9.0MB/s eta 0:00:01\r\u001b[K     |███▉                            | 194kB 9.0MB/s eta 0:00:01\r\u001b[K     |████                            | 204kB 9.0MB/s eta 0:00:01\r\u001b[K     |████▎                           | 215kB 9.0MB/s eta 0:00:01\r\u001b[K     |████▌                           | 225kB 9.0MB/s eta 0:00:01\r\u001b[K     |████▊                           | 235kB 9.0MB/s eta 0:00:01\r\u001b[K     |████▉                           | 245kB 9.0MB/s eta 0:00:01\r\u001b[K     |█████                           | 256kB 9.0MB/s eta 0:00:01\r\u001b[K     |█████▎                          | 266kB 9.0MB/s eta 0:00:01\r\u001b[K     |█████▌                          | 276kB 9.0MB/s eta 0:00:01\r\u001b[K     |█████▊                          | 286kB 9.0MB/s eta 0:00:01\r\u001b[K     |█████▉                          | 296kB 9.0MB/s eta 0:00:01\r\u001b[K     |██████                          | 307kB 9.0MB/s eta 0:00:01\r\u001b[K     |██████▎                         | 317kB 9.0MB/s eta 0:00:01\r\u001b[K     |██████▌                         | 327kB 9.0MB/s eta 0:00:01\r\u001b[K     |██████▊                         | 337kB 9.0MB/s eta 0:00:01\r\u001b[K     |███████                         | 348kB 9.0MB/s eta 0:00:01\r\u001b[K     |███████                         | 358kB 9.0MB/s eta 0:00:01\r\u001b[K     |███████▎                        | 368kB 9.0MB/s eta 0:00:01\r\u001b[K     |███████▌                        | 378kB 9.0MB/s eta 0:00:01\r\u001b[K     |███████▊                        | 389kB 9.0MB/s eta 0:00:01\r\u001b[K     |████████                        | 399kB 9.0MB/s eta 0:00:01\r\u001b[K     |████████▏                       | 409kB 9.0MB/s eta 0:00:01\r\u001b[K     |████████▎                       | 419kB 9.0MB/s eta 0:00:01\r\u001b[K     |████████▌                       | 430kB 9.0MB/s eta 0:00:01\r\u001b[K     |████████▊                       | 440kB 9.0MB/s eta 0:00:01\r\u001b[K     |█████████                       | 450kB 9.0MB/s eta 0:00:01\r\u001b[K     |█████████▏                      | 460kB 9.0MB/s eta 0:00:01\r\u001b[K     |█████████▍                      | 471kB 9.0MB/s eta 0:00:01\r\u001b[K     |█████████▌                      | 481kB 9.0MB/s eta 0:00:01\r\u001b[K     |█████████▊                      | 491kB 9.0MB/s eta 0:00:01\r\u001b[K     |██████████                      | 501kB 9.0MB/s eta 0:00:01\r\u001b[K     |██████████▏                     | 512kB 9.0MB/s eta 0:00:01\r\u001b[K     |██████████▍                     | 522kB 9.0MB/s eta 0:00:01\r\u001b[K     |██████████▋                     | 532kB 9.0MB/s eta 0:00:01\r\u001b[K     |██████████▊                     | 542kB 9.0MB/s eta 0:00:01\r\u001b[K     |███████████                     | 552kB 9.0MB/s eta 0:00:01\r\u001b[K     |███████████▏                    | 563kB 9.0MB/s eta 0:00:01\r\u001b[K     |███████████▍                    | 573kB 9.0MB/s eta 0:00:01\r\u001b[K     |███████████▋                    | 583kB 9.0MB/s eta 0:00:01\r\u001b[K     |███████████▊                    | 593kB 9.0MB/s eta 0:00:01\r\u001b[K     |████████████                    | 604kB 9.0MB/s eta 0:00:01\r\u001b[K     |████████████▏                   | 614kB 9.0MB/s eta 0:00:01\r\u001b[K     |████████████▍                   | 624kB 9.0MB/s eta 0:00:01\r\u001b[K     |████████████▋                   | 634kB 9.0MB/s eta 0:00:01\r\u001b[K     |████████████▉                   | 645kB 9.0MB/s eta 0:00:01\r\u001b[K     |█████████████                   | 655kB 9.0MB/s eta 0:00:01\r\u001b[K     |█████████████▏                  | 665kB 9.0MB/s eta 0:00:01\r\u001b[K     |█████████████▍                  | 675kB 9.0MB/s eta 0:00:01\r\u001b[K     |█████████████▋                  | 686kB 9.0MB/s eta 0:00:01\r\u001b[K     |█████████████▉                  | 696kB 9.0MB/s eta 0:00:01\r\u001b[K     |██████████████                  | 706kB 9.0MB/s eta 0:00:01\r\u001b[K     |██████████████▏                 | 716kB 9.0MB/s eta 0:00:01\r\u001b[K     |██████████████▍                 | 727kB 9.0MB/s eta 0:00:01\r\u001b[K     |██████████████▋                 | 737kB 9.0MB/s eta 0:00:01\r\u001b[K     |██████████████▉                 | 747kB 9.0MB/s eta 0:00:01\r\u001b[K     |███████████████                 | 757kB 9.0MB/s eta 0:00:01\r\u001b[K     |███████████████▎                | 768kB 9.0MB/s eta 0:00:01\r\u001b[K     |███████████████▍                | 778kB 9.0MB/s eta 0:00:01\r\u001b[K     |███████████████▋                | 788kB 9.0MB/s eta 0:00:01\r\u001b[K     |███████████████▉                | 798kB 9.0MB/s eta 0:00:01\r\u001b[K     |████████████████                | 808kB 9.0MB/s eta 0:00:01\r\u001b[K     |████████████████▎               | 819kB 9.0MB/s eta 0:00:01\r\u001b[K     |████████████████▌               | 829kB 9.0MB/s eta 0:00:01\r\u001b[K     |████████████████▋               | 839kB 9.0MB/s eta 0:00:01\r\u001b[K     |████████████████▉               | 849kB 9.0MB/s eta 0:00:01\r\u001b[K     |█████████████████               | 860kB 9.0MB/s eta 0:00:01\r\u001b[K     |█████████████████▎              | 870kB 9.0MB/s eta 0:00:01\r\u001b[K     |█████████████████▌              | 880kB 9.0MB/s eta 0:00:01\r\u001b[K     |█████████████████▋              | 890kB 9.0MB/s eta 0:00:01\r\u001b[K     |█████████████████▉              | 901kB 9.0MB/s eta 0:00:01\r\u001b[K     |██████████████████              | 911kB 9.0MB/s eta 0:00:01\r\u001b[K     |██████████████████▎             | 921kB 9.0MB/s eta 0:00:01\r\u001b[K     |██████████████████▌             | 931kB 9.0MB/s eta 0:00:01\r\u001b[K     |██████████████████▊             | 942kB 9.0MB/s eta 0:00:01\r\u001b[K     |██████████████████▉             | 952kB 9.0MB/s eta 0:00:01\r\u001b[K     |███████████████████             | 962kB 9.0MB/s eta 0:00:01\r\u001b[K     |███████████████████▎            | 972kB 9.0MB/s eta 0:00:01\r\u001b[K     |███████████████████▌            | 983kB 9.0MB/s eta 0:00:01\r\u001b[K     |███████████████████▊            | 993kB 9.0MB/s eta 0:00:01\r\u001b[K     |████████████████████            | 1.0MB 9.0MB/s eta 0:00:01\r\u001b[K     |████████████████████            | 1.0MB 9.0MB/s eta 0:00:01\r\u001b[K     |████████████████████▎           | 1.0MB 9.0MB/s eta 0:00:01\r\u001b[K     |████████████████████▌           | 1.0MB 9.0MB/s eta 0:00:01\r\u001b[K     |████████████████████▊           | 1.0MB 9.0MB/s eta 0:00:01\r\u001b[K     |█████████████████████           | 1.1MB 9.0MB/s eta 0:00:01\r\u001b[K     |█████████████████████▏          | 1.1MB 9.0MB/s eta 0:00:01\r\u001b[K     |█████████████████████▎          | 1.1MB 9.0MB/s eta 0:00:01\r\u001b[K     |█████████████████████▌          | 1.1MB 9.0MB/s eta 0:00:01\r\u001b[K     |█████████████████████▊          | 1.1MB 9.0MB/s eta 0:00:01\r\u001b[K     |██████████████████████          | 1.1MB 9.0MB/s eta 0:00:01\r\u001b[K     |██████████████████████▏         | 1.1MB 9.0MB/s eta 0:00:01\r\u001b[K     |██████████████████████▍         | 1.1MB 9.0MB/s eta 0:00:01\r\u001b[K     |██████████████████████▌         | 1.1MB 9.0MB/s eta 0:00:01\r\u001b[K     |██████████████████████▊         | 1.1MB 9.0MB/s eta 0:00:01\r\u001b[K     |███████████████████████         | 1.2MB 9.0MB/s eta 0:00:01\r\u001b[K     |███████████████████████▏        | 1.2MB 9.0MB/s eta 0:00:01\r\u001b[K     |███████████████████████▍        | 1.2MB 9.0MB/s eta 0:00:01\r\u001b[K     |███████████████████████▌        | 1.2MB 9.0MB/s eta 0:00:01\r\u001b[K     |███████████████████████▊        | 1.2MB 9.0MB/s eta 0:00:01\r\u001b[K     |████████████████████████        | 1.2MB 9.0MB/s eta 0:00:01\r\u001b[K     |████████████████████████▏       | 1.2MB 9.0MB/s eta 0:00:01\r\u001b[K     |████████████████████████▍       | 1.2MB 9.0MB/s eta 0:00:01\r\u001b[K     |████████████████████████▋       | 1.2MB 9.0MB/s eta 0:00:01\r\u001b[K     |████████████████████████▊       | 1.2MB 9.0MB/s eta 0:00:01\r\u001b[K     |█████████████████████████       | 1.3MB 9.0MB/s eta 0:00:01\r\u001b[K     |█████████████████████████▏      | 1.3MB 9.0MB/s eta 0:00:01\r\u001b[K     |█████████████████████████▍      | 1.3MB 9.0MB/s eta 0:00:01\r\u001b[K     |█████████████████████████▋      | 1.3MB 9.0MB/s eta 0:00:01\r\u001b[K     |█████████████████████████▉      | 1.3MB 9.0MB/s eta 0:00:01\r\u001b[K     |██████████████████████████      | 1.3MB 9.0MB/s eta 0:00:01\r\u001b[K     |██████████████████████████▏     | 1.3MB 9.0MB/s eta 0:00:01\r\u001b[K     |██████████████████████████▍     | 1.3MB 9.0MB/s eta 0:00:01\r\u001b[K     |██████████████████████████▋     | 1.3MB 9.0MB/s eta 0:00:01\r\u001b[K     |██████████████████████████▉     | 1.4MB 9.0MB/s eta 0:00:01\r\u001b[K     |███████████████████████████     | 1.4MB 9.0MB/s eta 0:00:01\r\u001b[K     |███████████████████████████▏    | 1.4MB 9.0MB/s eta 0:00:01\r\u001b[K     |███████████████████████████▍    | 1.4MB 9.0MB/s eta 0:00:01\r\u001b[K     |███████████████████████████▋    | 1.4MB 9.0MB/s eta 0:00:01\r\u001b[K     |███████████████████████████▉    | 1.4MB 9.0MB/s eta 0:00:01\r\u001b[K     |████████████████████████████    | 1.4MB 9.0MB/s eta 0:00:01\r\u001b[K     |████████████████████████████▏   | 1.4MB 9.0MB/s eta 0:00:01\r\u001b[K     |████████████████████████████▍   | 1.4MB 9.0MB/s eta 0:00:01\r\u001b[K     |████████████████████████████▋   | 1.4MB 9.0MB/s eta 0:00:01\r\u001b[K     |████████████████████████████▉   | 1.5MB 9.0MB/s eta 0:00:01\r\u001b[K     |█████████████████████████████   | 1.5MB 9.0MB/s eta 0:00:01\r\u001b[K     |█████████████████████████████▎  | 1.5MB 9.0MB/s eta 0:00:01\r\u001b[K     |█████████████████████████████▍  | 1.5MB 9.0MB/s eta 0:00:01\r\u001b[K     |█████████████████████████████▋  | 1.5MB 9.0MB/s eta 0:00:01\r\u001b[K     |█████████████████████████████▉  | 1.5MB 9.0MB/s eta 0:00:01\r\u001b[K     |██████████████████████████████  | 1.5MB 9.0MB/s eta 0:00:01\r\u001b[K     |██████████████████████████████▎ | 1.5MB 9.0MB/s eta 0:00:01\r\u001b[K     |██████████████████████████████▌ | 1.5MB 9.0MB/s eta 0:00:01\r\u001b[K     |██████████████████████████████▋ | 1.5MB 9.0MB/s eta 0:00:01\r\u001b[K     |██████████████████████████████▉ | 1.6MB 9.0MB/s eta 0:00:01\r\u001b[K     |███████████████████████████████ | 1.6MB 9.0MB/s eta 0:00:01\r\u001b[K     |███████████████████████████████▎| 1.6MB 9.0MB/s eta 0:00:01\r\u001b[K     |███████████████████████████████▌| 1.6MB 9.0MB/s eta 0:00:01\r\u001b[K     |███████████████████████████████▊| 1.6MB 9.0MB/s eta 0:00:01\r\u001b[K     |███████████████████████████████▉| 1.6MB 9.0MB/s eta 0:00:01\r\u001b[K     |████████████████████████████████| 1.6MB 9.0MB/s \n",
            "\u001b[?25hRequirement already satisfied: wheel>=0.23.0 in /usr/local/lib/python3.6/dist-packages (from pyLDAvis) (0.33.6)\n",
            "Requirement already satisfied: numpy>=1.9.2 in /usr/local/lib/python3.6/dist-packages (from pyLDAvis) (1.17.3)\n",
            "Requirement already satisfied: scipy>=0.18.0 in /usr/local/lib/python3.6/dist-packages (from pyLDAvis) (1.3.1)\n",
            "Requirement already satisfied: pandas>=0.17.0 in /usr/local/lib/python3.6/dist-packages (from pyLDAvis) (0.25.3)\n",
            "Requirement already satisfied: joblib>=0.8.4 in /usr/local/lib/python3.6/dist-packages (from pyLDAvis) (0.14.0)\n",
            "Requirement already satisfied: jinja2>=2.7.2 in /usr/local/lib/python3.6/dist-packages (from pyLDAvis) (2.10.3)\n",
            "Requirement already satisfied: numexpr in /usr/local/lib/python3.6/dist-packages (from pyLDAvis) (2.7.0)\n",
            "Requirement already satisfied: pytest in /usr/local/lib/python3.6/dist-packages (from pyLDAvis) (3.6.4)\n",
            "Requirement already satisfied: future in /usr/local/lib/python3.6/dist-packages (from pyLDAvis) (0.16.0)\n",
            "Collecting funcy\n",
            "  Downloading https://files.pythonhosted.org/packages/eb/3a/fc8323f913e8a9c6f33f7203547f8a2171223da5ed965f2541dafb10aa09/funcy-1.13-py2.py3-none-any.whl\n",
            "Requirement already satisfied: python-dateutil>=2.6.1 in /usr/local/lib/python3.6/dist-packages (from pandas>=0.17.0->pyLDAvis) (2.6.1)\n",
            "Requirement already satisfied: pytz>=2017.2 in /usr/local/lib/python3.6/dist-packages (from pandas>=0.17.0->pyLDAvis) (2018.9)\n",
            "Requirement already satisfied: MarkupSafe>=0.23 in /usr/local/lib/python3.6/dist-packages (from jinja2>=2.7.2->pyLDAvis) (1.1.1)\n",
            "Requirement already satisfied: pluggy<0.8,>=0.5 in /usr/local/lib/python3.6/dist-packages (from pytest->pyLDAvis) (0.7.1)\n",
            "Requirement already satisfied: more-itertools>=4.0.0 in /usr/local/lib/python3.6/dist-packages (from pytest->pyLDAvis) (7.2.0)\n",
            "Requirement already satisfied: six>=1.10.0 in /usr/local/lib/python3.6/dist-packages (from pytest->pyLDAvis) (1.12.0)\n",
            "Requirement already satisfied: setuptools in /usr/local/lib/python3.6/dist-packages (from pytest->pyLDAvis) (41.4.0)\n",
            "Requirement already satisfied: atomicwrites>=1.0 in /usr/local/lib/python3.6/dist-packages (from pytest->pyLDAvis) (1.3.0)\n",
            "Requirement already satisfied: py>=1.5.0 in /usr/local/lib/python3.6/dist-packages (from pytest->pyLDAvis) (1.8.0)\n",
            "Requirement already satisfied: attrs>=17.4.0 in /usr/local/lib/python3.6/dist-packages (from pytest->pyLDAvis) (19.3.0)\n",
            "Building wheels for collected packages: pyLDAvis\n",
            "  Building wheel for pyLDAvis (setup.py) ... \u001b[?25l\u001b[?25hdone\n",
            "  Created wheel for pyLDAvis: filename=pyLDAvis-2.1.2-py2.py3-none-any.whl size=97711 sha256=a60bdd121935aefb3e551a3f9bc2dec38210f2a4cf67f8c4fd63a618d3ad94fb\n",
            "  Stored in directory: /root/.cache/pip/wheels/98/71/24/513a99e58bb6b8465bae4d2d5e9dba8f0bef8179e3051ac414\n",
            "Successfully built pyLDAvis\n",
            "Installing collected packages: funcy, pyLDAvis\n",
            "Successfully installed funcy-1.13 pyLDAvis-2.1.2\n"
          ],
          "name": "stdout"
        }
      ]
    },
    {
      "cell_type": "code",
      "metadata": {
        "id": "w6tukeC9MECw",
        "colab_type": "code",
        "colab": {}
      },
      "source": [
        "import re\n",
        "import numpy as np\n",
        "import pandas as pd\n",
        "from pprint import pprint\n",
        "\n",
        "# Gensim\n",
        "import gensim\n",
        "import gensim.corpora as corpora\n",
        "from gensim.utils import simple_preprocess\n",
        "from gensim.models import CoherenceModel\n",
        "\n",
        "# spacy for lemmatization\n",
        "import spacy\n",
        "\n",
        "# Plotting tools\n",
        "import pyLDAvis\n",
        "import pyLDAvis.gensim  # don't skip this\n",
        "import matplotlib.pyplot as plt\n",
        "%matplotlib inline\n",
        "\n",
        "# Enable logging for gensim - optional\n",
        "import logging\n",
        "logging.basicConfig(format='%(asctime)s : %(levelname)s : %(message)s', level=logging.ERROR)\n",
        "\n",
        "import warnings\n",
        "warnings.filterwarnings(\"ignore\",category=DeprecationWarning)"
      ],
      "execution_count": 0,
      "outputs": []
    },
    {
      "cell_type": "code",
      "metadata": {
        "id": "2XR7qY7ZVGME",
        "colab_type": "code",
        "colab": {}
      },
      "source": [
        "from nltk.corpus import stopwords\n",
        "stop_words = stopwords.words('english')\n",
        "stop_words.extend(['from', 'subject', 're', 'edu', 'use'])"
      ],
      "execution_count": 0,
      "outputs": []
    },
    {
      "cell_type": "code",
      "metadata": {
        "id": "-m58Srr3Vptm",
        "colab_type": "code",
        "colab": {
          "base_uri": "https://localhost:8080/",
          "height": 306
        },
        "outputId": "aacf2efc-45d9-4fa4-db76-1e17e8878978"
      },
      "source": [
        "df = pd.read_json('https://raw.githubusercontent.com/selva86/datasets/master/newsgroups.json')\n",
        "print(df.target_names.unique())\n",
        "df.head()"
      ],
      "execution_count": 33,
      "outputs": [
        {
          "output_type": "stream",
          "text": [
            "['rec.autos' 'comp.sys.mac.hardware' 'comp.graphics' 'sci.space'\n",
            " 'talk.politics.guns' 'sci.med' 'comp.sys.ibm.pc.hardware'\n",
            " 'comp.os.ms-windows.misc' 'rec.motorcycles' 'talk.religion.misc'\n",
            " 'misc.forsale' 'alt.atheism' 'sci.electronics' 'comp.windows.x'\n",
            " 'rec.sport.hockey' 'rec.sport.baseball' 'soc.religion.christian'\n",
            " 'talk.politics.mideast' 'talk.politics.misc' 'sci.crypt']\n"
          ],
          "name": "stdout"
        },
        {
          "output_type": "execute_result",
          "data": {
            "text/html": [
              "<div>\n",
              "<style scoped>\n",
              "    .dataframe tbody tr th:only-of-type {\n",
              "        vertical-align: middle;\n",
              "    }\n",
              "\n",
              "    .dataframe tbody tr th {\n",
              "        vertical-align: top;\n",
              "    }\n",
              "\n",
              "    .dataframe thead th {\n",
              "        text-align: right;\n",
              "    }\n",
              "</style>\n",
              "<table border=\"1\" class=\"dataframe\">\n",
              "  <thead>\n",
              "    <tr style=\"text-align: right;\">\n",
              "      <th></th>\n",
              "      <th>content</th>\n",
              "      <th>target</th>\n",
              "      <th>target_names</th>\n",
              "    </tr>\n",
              "  </thead>\n",
              "  <tbody>\n",
              "    <tr>\n",
              "      <th>0</th>\n",
              "      <td>From: lerxst@wam.umd.edu (where's my thing)\\nS...</td>\n",
              "      <td>7</td>\n",
              "      <td>rec.autos</td>\n",
              "    </tr>\n",
              "    <tr>\n",
              "      <th>1</th>\n",
              "      <td>From: guykuo@carson.u.washington.edu (Guy Kuo)...</td>\n",
              "      <td>4</td>\n",
              "      <td>comp.sys.mac.hardware</td>\n",
              "    </tr>\n",
              "    <tr>\n",
              "      <th>2</th>\n",
              "      <td>From: twillis@ec.ecn.purdue.edu (Thomas E Will...</td>\n",
              "      <td>4</td>\n",
              "      <td>comp.sys.mac.hardware</td>\n",
              "    </tr>\n",
              "    <tr>\n",
              "      <th>3</th>\n",
              "      <td>From: jgreen@amber (Joe Green)\\nSubject: Re: W...</td>\n",
              "      <td>1</td>\n",
              "      <td>comp.graphics</td>\n",
              "    </tr>\n",
              "    <tr>\n",
              "      <th>4</th>\n",
              "      <td>From: jcm@head-cfa.harvard.edu (Jonathan McDow...</td>\n",
              "      <td>14</td>\n",
              "      <td>sci.space</td>\n",
              "    </tr>\n",
              "  </tbody>\n",
              "</table>\n",
              "</div>"
            ],
            "text/plain": [
              "                                             content  ...           target_names\n",
              "0  From: lerxst@wam.umd.edu (where's my thing)\\nS...  ...              rec.autos\n",
              "1  From: guykuo@carson.u.washington.edu (Guy Kuo)...  ...  comp.sys.mac.hardware\n",
              "2  From: twillis@ec.ecn.purdue.edu (Thomas E Will...  ...  comp.sys.mac.hardware\n",
              "3  From: jgreen@amber (Joe Green)\\nSubject: Re: W...  ...          comp.graphics\n",
              "4  From: jcm@head-cfa.harvard.edu (Jonathan McDow...  ...              sci.space\n",
              "\n",
              "[5 rows x 3 columns]"
            ]
          },
          "metadata": {
            "tags": []
          },
          "execution_count": 33
        }
      ]
    },
    {
      "cell_type": "code",
      "metadata": {
        "id": "XMCQVTXIVtMA",
        "colab_type": "code",
        "colab": {
          "base_uri": "https://localhost:8080/",
          "height": 187
        },
        "outputId": "12efc0bd-b7c1-41f0-bf12-5a73b0a19497"
      },
      "source": [
        "data = df.content.values.tolist()\n",
        "\n",
        "# Remove Emails\n",
        "data = [re.sub('\\S*@\\S*\\s?', '', sent) for sent in data]\n",
        "\n",
        "# Remove new line characters\n",
        "data = [re.sub('\\s+', ' ', sent) for sent in data]\n",
        "\n",
        "# Remove distracting single quotes\n",
        "data = [re.sub(\"\\'\", \"\", sent) for sent in data]\n",
        "\n",
        "pprint(data[:1])"
      ],
      "execution_count": 34,
      "outputs": [
        {
          "output_type": "stream",
          "text": [
            "['From: (wheres my thing) Subject: WHAT car is this!? Nntp-Posting-Host: '\n",
            " 'rac3.wam.umd.edu Organization: University of Maryland, College Park Lines: '\n",
            " '15 I was wondering if anyone out there could enlighten me on this car I saw '\n",
            " 'the other day. It was a 2-door sports car, looked to be from the late 60s/ '\n",
            " 'early 70s. It was called a Bricklin. The doors were really small. In '\n",
            " 'addition, the front bumper was separate from the rest of the body. This is '\n",
            " 'all I know. If anyone can tellme a model name, engine specs, years of '\n",
            " 'production, where this car is made, history, or whatever info you have on '\n",
            " 'this funky looking car, please e-mail. Thanks, - IL ---- brought to you by '\n",
            " 'your neighborhood Lerxst ---- ']\n"
          ],
          "name": "stdout"
        }
      ]
    },
    {
      "cell_type": "code",
      "metadata": {
        "id": "Jy_PnhXxV7Um",
        "colab_type": "code",
        "colab": {
          "base_uri": "https://localhost:8080/",
          "height": 54
        },
        "outputId": "39eba3de-b4c6-45de-9da3-8653222d73ce"
      },
      "source": [
        "def sent_to_words(sentences):\n",
        "    for sentence in sentences:\n",
        "        yield(gensim.utils.simple_preprocess(str(sentence), deacc=True))  # deacc=True removes punctuations\n",
        "\n",
        "data_words = list(sent_to_words(data))\n",
        "\n",
        "print(data_words[:1])"
      ],
      "execution_count": 35,
      "outputs": [
        {
          "output_type": "stream",
          "text": [
            "[['from', 'wheres', 'my', 'thing', 'subject', 'what', 'car', 'is', 'this', 'nntp', 'posting', 'host', 'rac', 'wam', 'umd', 'edu', 'organization', 'university', 'of', 'maryland', 'college', 'park', 'lines', 'was', 'wondering', 'if', 'anyone', 'out', 'there', 'could', 'enlighten', 'me', 'on', 'this', 'car', 'saw', 'the', 'other', 'day', 'it', 'was', 'door', 'sports', 'car', 'looked', 'to', 'be', 'from', 'the', 'late', 'early', 'it', 'was', 'called', 'bricklin', 'the', 'doors', 'were', 'really', 'small', 'in', 'addition', 'the', 'front', 'bumper', 'was', 'separate', 'from', 'the', 'rest', 'of', 'the', 'body', 'this', 'is', 'all', 'know', 'if', 'anyone', 'can', 'tellme', 'model', 'name', 'engine', 'specs', 'years', 'of', 'production', 'where', 'this', 'car', 'is', 'made', 'history', 'or', 'whatever', 'info', 'you', 'have', 'on', 'this', 'funky', 'looking', 'car', 'please', 'mail', 'thanks', 'il', 'brought', 'to', 'you', 'by', 'your', 'neighborhood', 'lerxst']]\n"
          ],
          "name": "stdout"
        }
      ]
    },
    {
      "cell_type": "code",
      "metadata": {
        "id": "mXFhJUWaWouM",
        "colab_type": "code",
        "colab": {
          "base_uri": "https://localhost:8080/",
          "height": 54
        },
        "outputId": "6286cd6e-44d9-4540-b56e-4b609729071f"
      },
      "source": [
        "def sent_to_words(sentences):\n",
        "    for sentence in sentences:\n",
        "        yield(gensim.utils.simple_preprocess(str(sentence), deacc=True))  # deacc=True removes punctuations\n",
        "\n",
        "data_words = list(sent_to_words(data))\n",
        "\n",
        "print(data_words[:1])"
      ],
      "execution_count": 36,
      "outputs": [
        {
          "output_type": "stream",
          "text": [
            "[['from', 'wheres', 'my', 'thing', 'subject', 'what', 'car', 'is', 'this', 'nntp', 'posting', 'host', 'rac', 'wam', 'umd', 'edu', 'organization', 'university', 'of', 'maryland', 'college', 'park', 'lines', 'was', 'wondering', 'if', 'anyone', 'out', 'there', 'could', 'enlighten', 'me', 'on', 'this', 'car', 'saw', 'the', 'other', 'day', 'it', 'was', 'door', 'sports', 'car', 'looked', 'to', 'be', 'from', 'the', 'late', 'early', 'it', 'was', 'called', 'bricklin', 'the', 'doors', 'were', 'really', 'small', 'in', 'addition', 'the', 'front', 'bumper', 'was', 'separate', 'from', 'the', 'rest', 'of', 'the', 'body', 'this', 'is', 'all', 'know', 'if', 'anyone', 'can', 'tellme', 'model', 'name', 'engine', 'specs', 'years', 'of', 'production', 'where', 'this', 'car', 'is', 'made', 'history', 'or', 'whatever', 'info', 'you', 'have', 'on', 'this', 'funky', 'looking', 'car', 'please', 'mail', 'thanks', 'il', 'brought', 'to', 'you', 'by', 'your', 'neighborhood', 'lerxst']]\n"
          ],
          "name": "stdout"
        }
      ]
    },
    {
      "cell_type": "code",
      "metadata": {
        "id": "aUXd15OlYqZ9",
        "colab_type": "code",
        "colab": {
          "base_uri": "https://localhost:8080/",
          "height": 88
        },
        "outputId": "4ac8c0f4-0ac3-4d49-f938-122e8e634e56"
      },
      "source": [
        "bigram = gensim.models.Phrases(data_words, min_count=5, threshold=100) # higher threshold fewer phrases.\n",
        "trigram = gensim.models.Phrases(bigram[data_words], threshold=100)  \n",
        "\n",
        "# Faster way to get a sentence clubbed as a trigram/bigram\n",
        "bigram_mod = gensim.models.phrases.Phraser(bigram)\n",
        "trigram_mod = gensim.models.phrases.Phraser(trigram)\n",
        "\n",
        "# See trigram example\n",
        "print(trigram_mod[bigram_mod[data_words[0]]])"
      ],
      "execution_count": 37,
      "outputs": [
        {
          "output_type": "stream",
          "text": [
            "/usr/local/lib/python3.6/dist-packages/gensim/models/phrases.py:598: UserWarning: For a faster implementation, use the gensim.models.phrases.Phraser class\n",
            "  warnings.warn(\"For a faster implementation, use the gensim.models.phrases.Phraser class\")\n"
          ],
          "name": "stderr"
        },
        {
          "output_type": "stream",
          "text": [
            "['from', 'wheres', 'my', 'thing', 'subject', 'what', 'car', 'is', 'this', 'nntp_posting_host', 'rac_wam_umd_edu', 'organization', 'university', 'of', 'maryland_college_park', 'lines', 'was', 'wondering', 'if', 'anyone', 'out', 'there', 'could', 'enlighten', 'me', 'on', 'this', 'car', 'saw', 'the', 'other', 'day', 'it', 'was', 'door', 'sports', 'car', 'looked', 'to', 'be', 'from', 'the', 'late', 'early', 'it', 'was', 'called', 'bricklin', 'the', 'doors', 'were', 'really', 'small', 'in', 'addition', 'the', 'front_bumper', 'was', 'separate', 'from', 'the', 'rest', 'of', 'the', 'body', 'this', 'is', 'all', 'know', 'if', 'anyone', 'can', 'tellme', 'model', 'name', 'engine', 'specs', 'years', 'of', 'production', 'where', 'this', 'car', 'is', 'made', 'history', 'or', 'whatever', 'info', 'you', 'have', 'on', 'this', 'funky', 'looking', 'car', 'please', 'mail', 'thanks', 'il', 'brought', 'to', 'you', 'by', 'your', 'neighborhood', 'lerxst']\n"
          ],
          "name": "stdout"
        }
      ]
    },
    {
      "cell_type": "code",
      "metadata": {
        "id": "hpsq_meHYzkL",
        "colab_type": "code",
        "colab": {
          "base_uri": "https://localhost:8080/",
          "height": 54
        },
        "outputId": "b6de75ce-2f98-47d0-f54d-d5bf7c1abd3f"
      },
      "source": [
        "def remove_stopwords(texts):\n",
        "    return [[word for word in simple_preprocess(str(doc)) if word not in stop_words] for doc in texts]\n",
        "\n",
        "def make_bigrams(texts):\n",
        "    return [bigram_mod[doc] for doc in texts]\n",
        "\n",
        "def make_trigrams(texts):\n",
        "    return [trigram_mod[bigram_mod[doc]] for doc in texts]\n",
        "\n",
        "def lemmatization(texts, allowed_postags=['NOUN', 'ADJ', 'VERB', 'ADV']):\n",
        "    \"\"\"https://spacy.io/api/annotation\"\"\"\n",
        "    texts_out = []\n",
        "    for sent in texts:\n",
        "        doc = nlp(\" \".join(sent)) \n",
        "        texts_out.append([token.lemma_ for token in doc if token.pos_ in allowed_postags])\n",
        "    return texts_out\n",
        "\n",
        "data_words_nostops = remove_stopwords(data_words)\n",
        "\n",
        "# Form Bigrams\n",
        "data_words_bigrams = make_bigrams(data_words_nostops)\n",
        "\n",
        "# Initialize spacy 'en' model, keeping only tagger component (for efficiency)\n",
        "# python3 -m spacy download en\n",
        "nlp = spacy.load('en', disable=['parser', 'ner'])\n",
        "\n",
        "# Do lemmatization keeping only noun, adj, vb, adv\n",
        "data_lemmatized = lemmatization(data_words_bigrams, allowed_postags=['NOUN', 'ADJ', 'VERB', 'ADV'])\n",
        "\n",
        "print(data_lemmatized[:1])"
      ],
      "execution_count": 38,
      "outputs": [
        {
          "output_type": "stream",
          "text": [
            "[['where', 's', 'thing', 'car', 'nntp_poste', 'host', 'umd', 'organization', 'university', 'maryland_college', 'park', 'line', 'wonder', 'anyone', 'could', 'enlighten', 'car', 'see', 'day', 'door', 'sport', 'car', 'look', 'late', 'early', 'call', 'bricklin', 'door', 'really', 'small', 'addition', 'front_bumper', 'separate', 'rest', 'body', 'know', 'anyone', 'tellme', 'model', 'name', 'engine', 'specs', 'year', 'production', 'car', 'make', 'history', 'info', 'funky', 'look', 'car', 'mail', 'thank', 'bring', 'neighborhood', 'lerxst']]\n"
          ],
          "name": "stdout"
        }
      ]
    },
    {
      "cell_type": "code",
      "metadata": {
        "id": "aiajwn1-ZTPK",
        "colab_type": "code",
        "colab": {
          "base_uri": "https://localhost:8080/",
          "height": 54
        },
        "outputId": "c277360f-24e3-4f04-e3a8-1f8d9ee0de29"
      },
      "source": [
        "id2word = corpora.Dictionary(data_lemmatized)\n",
        "texts = data_lemmatized\n",
        "corpus = [id2word.doc2bow(text) for text in texts]\n",
        "print(corpus[:1])"
      ],
      "execution_count": 39,
      "outputs": [
        {
          "output_type": "stream",
          "text": [
            "[[(0, 1), (1, 2), (2, 1), (3, 1), (4, 1), (5, 1), (6, 5), (7, 1), (8, 1), (9, 2), (10, 1), (11, 1), (12, 1), (13, 1), (14, 1), (15, 1), (16, 1), (17, 1), (18, 1), (19, 1), (20, 1), (21, 1), (22, 2), (23, 1), (24, 1), (25, 1), (26, 1), (27, 1), (28, 1), (29, 1), (30, 1), (31, 1), (32, 1), (33, 1), (34, 1), (35, 1), (36, 1), (37, 1), (38, 1), (39, 1), (40, 1), (41, 1), (42, 1), (43, 1), (44, 1), (45, 1), (46, 1), (47, 1), (48, 1)]]\n"
          ],
          "name": "stdout"
        }
      ]
    },
    {
      "cell_type": "code",
      "metadata": {
        "id": "yXPZ6hWKaK8E",
        "colab_type": "code",
        "colab": {
          "base_uri": "https://localhost:8080/",
          "height": 34
        },
        "outputId": "de52197f-ecfe-4ffd-a3bf-e122be102d7a"
      },
      "source": [
        "id2word[9]"
      ],
      "execution_count": 40,
      "outputs": [
        {
          "output_type": "execute_result",
          "data": {
            "text/plain": [
              "'door'"
            ]
          },
          "metadata": {
            "tags": []
          },
          "execution_count": 40
        }
      ]
    },
    {
      "cell_type": "code",
      "metadata": {
        "id": "WP1-NwmyaUYf",
        "colab_type": "code",
        "colab": {
          "base_uri": "https://localhost:8080/",
          "height": 850
        },
        "outputId": "4c43e91f-72de-4142-ce15-c74be372a4fb"
      },
      "source": [
        "[[(id2word[id], freq) for id, freq in cp] for cp in corpus[:1]]"
      ],
      "execution_count": 41,
      "outputs": [
        {
          "output_type": "execute_result",
          "data": {
            "text/plain": [
              "[[('addition', 1),\n",
              "  ('anyone', 2),\n",
              "  ('body', 1),\n",
              "  ('bricklin', 1),\n",
              "  ('bring', 1),\n",
              "  ('call', 1),\n",
              "  ('car', 5),\n",
              "  ('could', 1),\n",
              "  ('day', 1),\n",
              "  ('door', 2),\n",
              "  ('early', 1),\n",
              "  ('engine', 1),\n",
              "  ('enlighten', 1),\n",
              "  ('front_bumper', 1),\n",
              "  ('funky', 1),\n",
              "  ('history', 1),\n",
              "  ('host', 1),\n",
              "  ('info', 1),\n",
              "  ('know', 1),\n",
              "  ('late', 1),\n",
              "  ('lerxst', 1),\n",
              "  ('line', 1),\n",
              "  ('look', 2),\n",
              "  ('mail', 1),\n",
              "  ('make', 1),\n",
              "  ('maryland_college', 1),\n",
              "  ('model', 1),\n",
              "  ('name', 1),\n",
              "  ('neighborhood', 1),\n",
              "  ('nntp_poste', 1),\n",
              "  ('organization', 1),\n",
              "  ('park', 1),\n",
              "  ('production', 1),\n",
              "  ('really', 1),\n",
              "  ('rest', 1),\n",
              "  ('s', 1),\n",
              "  ('see', 1),\n",
              "  ('separate', 1),\n",
              "  ('small', 1),\n",
              "  ('specs', 1),\n",
              "  ('sport', 1),\n",
              "  ('tellme', 1),\n",
              "  ('thank', 1),\n",
              "  ('thing', 1),\n",
              "  ('umd', 1),\n",
              "  ('university', 1),\n",
              "  ('where', 1),\n",
              "  ('wonder', 1),\n",
              "  ('year', 1)]]"
            ]
          },
          "metadata": {
            "tags": []
          },
          "execution_count": 41
        }
      ]
    },
    {
      "cell_type": "code",
      "metadata": {
        "id": "ElkXtbscaZC8",
        "colab_type": "code",
        "colab": {}
      },
      "source": [
        "lda_model = gensim.models.ldamodel.LdaModel(corpus=corpus,\n",
        "                                           id2word=id2word,\n",
        "                                           num_topics=20, \n",
        "                                           random_state=100,\n",
        "                                           update_every=1,\n",
        "                                           chunksize=100,\n",
        "                                           passes=10,\n",
        "                                           alpha='auto',\n",
        "                                           per_word_topics=True)"
      ],
      "execution_count": 0,
      "outputs": []
    },
    {
      "cell_type": "code",
      "metadata": {
        "id": "sYltuXd6afod",
        "colab_type": "code",
        "colab": {
          "base_uri": "https://localhost:8080/",
          "height": 1000
        },
        "outputId": "9b87bd37-ed4d-497d-e97b-516d2c695372"
      },
      "source": [
        "pprint(lda_model.print_topics())\n",
        "doc_lda = lda_model[corpus]\n",
        "print('\\nPerplexity: ', lda_model.log_perplexity(corpus))  # a measure of how good the model is. lower the better.\n",
        "\n",
        "# Compute Coherence Score\n",
        "coherence_model_lda = CoherenceModel(model=lda_model, texts=data_lemmatized, dictionary=id2word, coherence='c_v')\n",
        "coherence_lda = coherence_model_lda.get_coherence()\n",
        "print('\\nCoherence Score: ', coherence_lda)\n"
      ],
      "execution_count": 43,
      "outputs": [
        {
          "output_type": "stream",
          "text": [
            "[(0,\n",
            "  '0.036*\"team\" + 0.036*\"game\" + 0.020*\"sale\" + 0.019*\"play\" + 0.015*\"hockey\" '\n",
            "  '+ 0.012*\"year\" + 0.008*\"nhl\" + 0.008*\"trade\" + 0.008*\"wing\" + '\n",
            "  '0.007*\"steven\"'),\n",
            " (1,\n",
            "  '0.040*\"book\" + 0.020*\"belief\" + 0.020*\"atheist\" + 0.018*\"church\" + '\n",
            "  '0.015*\"pin\" + 0.015*\"slave\" + 0.014*\"sphere\" + 0.012*\"character\" + '\n",
            "  '0.010*\"lord\" + 0.009*\"headache\"'),\n",
            " (2,\n",
            "  '0.015*\"choose\" + 0.012*\"input\" + 0.011*\"sin\" + 0.010*\"notice\" + 0.009*\"eat\" '\n",
            "  '+ 0.009*\"cd\" + 0.009*\"food\" + 0.009*\"material\" + 0.008*\"signal\" + '\n",
            "  '0.008*\"external\"'),\n",
            " (3,\n",
            "  '0.035*\"not\" + 0.022*\"write\" + 0.022*\"do\" + 0.020*\"would\" + 0.020*\"line\" + '\n",
            "  '0.019*\"organization\" + 0.017*\"be\" + 0.017*\"article\" + 0.014*\"get\" + '\n",
            "  '0.014*\"know\"'),\n",
            " (4,\n",
            "  '0.533*\"ax\" + 0.008*\"rlk\" + 0.006*\"cub\" + 0.005*\"echo\" + '\n",
            "  '0.004*\"tufts_university\" + 0.004*\"stl\" + 0.004*\"pitcher\" + 0.004*\"pit\" + '\n",
            "  '0.004*\"lk\" + 0.003*\"differential\"'),\n",
            " (5,\n",
            "  '0.027*\"israel\" + 0.015*\"israeli\" + 0.011*\"jew\" + 0.009*\"lebanese\" + '\n",
            "  '0.009*\"arab\" + 0.009*\"jewish\" + 0.009*\"war\" + 0.008*\"death\" + 0.008*\"kill\" '\n",
            "  '+ 0.007*\"attack\"'),\n",
            " (6,\n",
            "  '0.030*\"drive\" + 0.018*\"card\" + 0.014*\"mac\" + 0.013*\"driver\" + '\n",
            "  '0.012*\"system\" + 0.011*\"cpu\" + 0.009*\"memory\" + 0.009*\"computer\" + '\n",
            "  '0.009*\"chip\" + 0.009*\"use\"'),\n",
            " (7,\n",
            "  '0.053*\"_\" + 0.045*\"max\" + 0.012*\"dn\" + 0.010*\"eeg\" + 0.009*\"cx\" + 0.007*\"c\" '\n",
            "  '+ 0.007*\"mv\" + 0.005*\"mk\" + 0.005*\"sw\" + 0.004*\"mj\"'),\n",
            " (8,\n",
            "  '0.015*\"library\" + 0.015*\"section\" + 0.013*\"st\" + 0.011*\"ed\" + 0.009*\"title\" '\n",
            "  '+ 0.009*\"art\" + 0.009*\"author\" + 0.009*\"pa\" + 0.009*\"translation\" + '\n",
            "  '0.009*\"page\"'),\n",
            " (9,\n",
            "  '0.017*\"car\" + 0.011*\"new\" + 0.009*\"buy\" + 0.009*\"physical\" + 0.008*\"power\" '\n",
            "  '+ 0.008*\"type\" + 0.007*\"old\" + 0.007*\"graphic\" + 0.007*\"screen\" + '\n",
            "  '0.007*\"good\"'),\n",
            " (10,\n",
            "  '0.035*\"god\" + 0.021*\"evidence\" + 0.017*\"christian\" + 0.015*\"reason\" + '\n",
            "  '0.015*\"believe\" + 0.012*\"say\" + 0.011*\"faith\" + 0.010*\"claim\" + '\n",
            "  '0.010*\"exist\" + 0.010*\"sense\"'),\n",
            " (11,\n",
            "  '0.019*\"university\" + 0.017*\"organization\" + 0.015*\"line\" + 0.014*\"instal\" + '\n",
            "  '0.011*\"michael\" + 0.010*\"format\" + 0.010*\"package\" + 0.010*\"problem\" + '\n",
            "  '0.009*\"distribution\" + 0.009*\"robert\"'),\n",
            " (12,\n",
            "  '0.018*\"pay\" + 0.015*\"item\" + 0.014*\"service\" + 0.012*\"cover\" + 0.012*\"cost\" '\n",
            "  '+ 0.011*\"sell\" + 0.010*\"recommend\" + 0.010*\"replace\" + 0.009*\"gateway\" + '\n",
            "  '0.009*\"air\"'),\n",
            " (13,\n",
            "  '0.019*\"line\" + 0.017*\"window\" + 0.016*\"mail\" + 0.016*\"file\" + 0.016*\"thank\" '\n",
            "  '+ 0.015*\"program\" + 0.013*\"use\" + 0.011*\"organization\" + 0.011*\"system\" + '\n",
            "  '0.009*\"email\"'),\n",
            " (14,\n",
            "  '0.019*\"state\" + 0.012*\"law\" + 0.012*\"issue\" + 0.011*\"right\" + 0.010*\"case\" '\n",
            "  '+ 0.008*\"group\" + 0.006*\"new\" + 0.005*\"people\" + 0.005*\"national\" + '\n",
            "  '0.005*\"support\"'),\n",
            " (15,\n",
            "  '0.025*\"internet\" + 0.020*\"bike\" + 0.017*\"server\" + 0.014*\"md\" + 0.013*\"com\" '\n",
            "  '+ 0.012*\"engine\" + 0.011*\"ride\" + 0.011*\"steve\" + 0.011*\"pain\" + '\n",
            "  '0.010*\"route\"'),\n",
            " (16,\n",
            "  '0.019*\"gun\" + 0.010*\"kill\" + 0.010*\"people\" + 0.009*\"armenian\" + '\n",
            "  '0.008*\"say\" + 0.008*\"fire\" + 0.008*\"child\" + 0.007*\"greek\" + '\n",
            "  '0.006*\"government\" + 0.006*\"american\"'),\n",
            " (17,\n",
            "  '0.020*\"win\" + 0.016*\"year\" + 0.014*\"player\" + 0.013*\"university\" + '\n",
            "  '0.012*\"patient\" + 0.009*\"fan\" + 0.008*\"run\" + 0.008*\"drug\" + 0.007*\"score\" '\n",
            "  '+ 0.007*\"mouse\"'),\n",
            " (18,\n",
            "  '0.027*\"space\" + 0.012*\"research\" + 0.009*\"faq\" + 0.008*\"earth\" + '\n",
            "  '0.008*\"mount\" + 0.007*\"science\" + 0.007*\"launch\" + 0.006*\"project\" + '\n",
            "  '0.006*\"moon\" + 0.006*\"datum\"'),\n",
            " (19,\n",
            "  '0.041*\"key\" + 0.014*\"system\" + 0.014*\"ripem\" + 0.013*\"government\" + '\n",
            "  '0.013*\"public\" + 0.012*\"security\" + 0.012*\"encryption\" + 0.010*\"tape\" + '\n",
            "  '0.009*\"chip\" + 0.009*\"clipper\"')]\n",
            "\n",
            "Perplexity:  -8.732797516655772\n",
            "\n",
            "Coherence Score:  0.5017680246997409\n"
          ],
          "name": "stdout"
        }
      ]
    }
  ]
}
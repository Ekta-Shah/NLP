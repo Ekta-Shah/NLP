{
  "nbformat": 4,
  "nbformat_minor": 0,
  "metadata": {
    "colab": {
      "name": "NLP_27092019.ipynb",
      "provenance": []
    },
    "kernelspec": {
      "name": "python3",
      "display_name": "Python 3"
    }
  },
  "cells": [
    {
      "cell_type": "markdown",
      "metadata": {
        "id": "24ozF7hU5n-Y",
        "colab_type": "text"
      },
      "source": [
        "###Chatbots"
      ]
    },
    {
      "cell_type": "code",
      "metadata": {
        "id": "B8M8YLUZ5hNB",
        "colab_type": "code",
        "colab": {}
      },
      "source": [
        "!pip install chatterbot"
      ],
      "execution_count": 0,
      "outputs": []
    },
    {
      "cell_type": "code",
      "metadata": {
        "id": "5YpBeY-Vt5pn",
        "colab_type": "code",
        "outputId": "59b71118-b7ba-4fcd-bc3f-3dee4fb626a1",
        "colab": {
          "base_uri": "https://localhost:8080/",
          "height": 326
        }
      },
      "source": [
        "!pip install chatterbot_corpus"
      ],
      "execution_count": 0,
      "outputs": [
        {
          "output_type": "stream",
          "text": [
            "Collecting chatterbot_corpus\n",
            "\u001b[?25l  Downloading https://files.pythonhosted.org/packages/ed/19/f8b41daf36fe4b0f43e283a820362ffdb2c1128600ab4ee187e84262fa4d/chatterbot_corpus-1.2.0-py2.py3-none-any.whl (117kB)\n",
            "\r\u001b[K     |██▉                             | 10kB 16.9MB/s eta 0:00:01\r\u001b[K     |█████▋                          | 20kB 6.9MB/s eta 0:00:01\r\u001b[K     |████████▍                       | 30kB 9.5MB/s eta 0:00:01\r\u001b[K     |███████████▏                    | 40kB 6.1MB/s eta 0:00:01\r\u001b[K     |██████████████                  | 51kB 7.4MB/s eta 0:00:01\r\u001b[K     |████████████████▊               | 61kB 8.7MB/s eta 0:00:01\r\u001b[K     |███████████████████▋            | 71kB 9.9MB/s eta 0:00:01\r\u001b[K     |██████████████████████▍         | 81kB 11.0MB/s eta 0:00:01\r\u001b[K     |█████████████████████████▏      | 92kB 12.2MB/s eta 0:00:01\r\u001b[K     |████████████████████████████    | 102kB 9.8MB/s eta 0:00:01\r\u001b[K     |██████████████████████████████▊ | 112kB 9.8MB/s eta 0:00:01\r\u001b[K     |████████████████████████████████| 122kB 9.8MB/s \n",
            "\u001b[?25hCollecting PyYAML<4.0,>=3.12 (from chatterbot_corpus)\n",
            "\u001b[?25l  Downloading https://files.pythonhosted.org/packages/9e/a3/1d13970c3f36777c583f136c136f804d70f500168edc1edea6daa7200769/PyYAML-3.13.tar.gz (270kB)\n",
            "\r\u001b[K     |█▏                              | 10kB 17.8MB/s eta 0:00:01\r\u001b[K     |██▍                             | 20kB 25.9MB/s eta 0:00:01\r\u001b[K     |███▋                            | 30kB 33.4MB/s eta 0:00:01\r\u001b[K     |████▉                           | 40kB 37.8MB/s eta 0:00:01\r\u001b[K     |██████                          | 51kB 42.0MB/s eta 0:00:01\r\u001b[K     |███████▎                        | 61kB 46.0MB/s eta 0:00:01\r\u001b[K     |████████▌                       | 71kB 48.6MB/s eta 0:00:01\r\u001b[K     |█████████▊                      | 81kB 50.8MB/s eta 0:00:01\r\u001b[K     |███████████                     | 92kB 53.8MB/s eta 0:00:01\r\u001b[K     |████████████                    | 102kB 56.0MB/s eta 0:00:01\r\u001b[K     |█████████████▎                  | 112kB 56.0MB/s eta 0:00:01\r\u001b[K     |██████████████▌                 | 122kB 56.0MB/s eta 0:00:01\r\u001b[K     |███████████████▊                | 133kB 56.0MB/s eta 0:00:01\r\u001b[K     |█████████████████               | 143kB 56.0MB/s eta 0:00:01\r\u001b[K     |██████████████████▏             | 153kB 56.0MB/s eta 0:00:01\r\u001b[K     |███████████████████▍            | 163kB 56.0MB/s eta 0:00:01\r\u001b[K     |████████████████████▋           | 174kB 56.0MB/s eta 0:00:01\r\u001b[K     |█████████████████████▉          | 184kB 56.0MB/s eta 0:00:01\r\u001b[K     |███████████████████████         | 194kB 56.0MB/s eta 0:00:01\r\u001b[K     |████████████████████████▏       | 204kB 56.0MB/s eta 0:00:01\r\u001b[K     |█████████████████████████▍      | 215kB 56.0MB/s eta 0:00:01\r\u001b[K     |██████████████████████████▋     | 225kB 56.0MB/s eta 0:00:01\r\u001b[K     |███████████████████████████▉    | 235kB 56.0MB/s eta 0:00:01\r\u001b[K     |█████████████████████████████   | 245kB 56.0MB/s eta 0:00:01\r\u001b[K     |██████████████████████████████▎ | 256kB 56.0MB/s eta 0:00:01\r\u001b[K     |███████████████████████████████▌| 266kB 56.0MB/s eta 0:00:01\r\u001b[K     |████████████████████████████████| 276kB 56.0MB/s \n",
            "\u001b[?25hBuilding wheels for collected packages: PyYAML\n",
            "  Building wheel for PyYAML (setup.py) ... \u001b[?25l\u001b[?25hdone\n",
            "  Created wheel for PyYAML: filename=PyYAML-3.13-cp36-cp36m-linux_x86_64.whl size=43087 sha256=015aa212c2d0f027ad7b76273e85f4038138b74886ae913225ac7cfe7335acf2\n",
            "  Stored in directory: /root/.cache/pip/wheels/ad/da/0c/74eb680767247273e2cf2723482cb9c924fe70af57c334513f\n",
            "Successfully built PyYAML\n",
            "\u001b[31mERROR: chatterbot 1.0.5 has requirement pyyaml<5.2,>=5.1, but you'll have pyyaml 3.13 which is incompatible.\u001b[0m\n",
            "Installing collected packages: PyYAML, chatterbot-corpus\n",
            "  Found existing installation: PyYAML 5.1.2\n",
            "    Uninstalling PyYAML-5.1.2:\n",
            "      Successfully uninstalled PyYAML-5.1.2\n",
            "Successfully installed PyYAML-3.13 chatterbot-corpus-1.2.0\n"
          ],
          "name": "stdout"
        }
      ]
    },
    {
      "cell_type": "code",
      "metadata": {
        "id": "QolEpHfGuHD3",
        "colab_type": "code",
        "colab": {}
      },
      "source": [
        "from chatterbot import ChatBot\n",
        "from chatterbot.trainers import ListTrainer"
      ],
      "execution_count": 0,
      "outputs": []
    },
    {
      "cell_type": "code",
      "metadata": {
        "id": "JREc2nWKuTW8",
        "colab_type": "code",
        "outputId": "06f3671b-55a1-4f5a-f683-ee3f9fcd0943",
        "colab": {
          "base_uri": "https://localhost:8080/",
          "height": 136
        }
      },
      "source": [
        "my_bot = ChatBot(name='PyBot', read_only=True,\n",
        "                 logic_adapters=['chatterbot.logic.MathematicalEvaluation',\n",
        "                                 'chatterbot.logic.BestMatch'])"
      ],
      "execution_count": 0,
      "outputs": [
        {
          "output_type": "stream",
          "text": [
            "[nltk_data] Downloading package wordnet to /root/nltk_data...\n",
            "[nltk_data]   Unzipping corpora/wordnet.zip.\n",
            "[nltk_data] Downloading package stopwords to /root/nltk_data...\n",
            "[nltk_data]   Unzipping corpora/stopwords.zip.\n",
            "[nltk_data] Downloading package averaged_perceptron_tagger to\n",
            "[nltk_data]     /root/nltk_data...\n",
            "[nltk_data]   Unzipping taggers/averaged_perceptron_tagger.zip.\n"
          ],
          "name": "stdout"
        }
      ]
    },
    {
      "cell_type": "code",
      "metadata": {
        "id": "R8qHA9nIu9FZ",
        "colab_type": "code",
        "colab": {}
      },
      "source": [
        "small_talk = ['hi there!',\n",
        "              'hi!',\n",
        "              'how do you do?',\n",
        "              'how are you?',\n",
        "              'i\\'m good.',\n",
        "              'fine, you?',\n",
        "              'always cool.',\n",
        "              'i\\'m ok',\n",
        "              'glad to not hear that.',\n",
        "              'i\\'m fine',\n",
        "              'glad to hear that.',\n",
        "              'i feel awesome',\n",
        "              'excellent, glad to hear that.',\n",
        "              'not so good',\n",
        "              'sorry to hear that.',\n",
        "              'what\\'s your name?',\n",
        "              'i\\'m pybot. ask me a math question, please.']\n",
        "math_talk_1 = ['pythagorean theorem',\n",
        "               'a squared plus b squared equals c squared.']\n",
        "math_talk_2 = ['law of cosines',\n",
        "               'c**2 = a**2 + b**2 - 2 * a * b * cos(gamma)']"
      ],
      "execution_count": 0,
      "outputs": []
    },
    {
      "cell_type": "code",
      "metadata": {
        "id": "y0nRppJ2vE6C",
        "colab_type": "code",
        "outputId": "428ea58e-b3ea-466f-8dc0-da67d9301c74",
        "colab": {
          "base_uri": "https://localhost:8080/",
          "height": 68
        }
      },
      "source": [
        "list_trainer = ListTrainer(my_bot)\n",
        "for item in (small_talk, math_talk_1, math_talk_2):\n",
        "    list_trainer.train(item)"
      ],
      "execution_count": 0,
      "outputs": [
        {
          "output_type": "stream",
          "text": [
            "List Trainer: [####################] 100%\n",
            "List Trainer: [####################] 100%\n",
            "List Trainer: [####################] 100%\n"
          ],
          "name": "stdout"
        }
      ]
    },
    {
      "cell_type": "code",
      "metadata": {
        "id": "OZsPegpNvMdS",
        "colab_type": "code",
        "outputId": "9221e6af-02fc-49f1-f821-239395be24ad",
        "colab": {
          "base_uri": "https://localhost:8080/",
          "height": 34
        }
      },
      "source": [
        "print(my_bot.get_response(\"hi\"))"
      ],
      "execution_count": 0,
      "outputs": [
        {
          "output_type": "stream",
          "text": [
            "how do you do?\n"
          ],
          "name": "stdout"
        }
      ]
    },
    {
      "cell_type": "code",
      "metadata": {
        "id": "lCrqRHvavREu",
        "colab_type": "code",
        "outputId": "730b9f5f-2a9f-442d-fe30-56d4a74e5f1a",
        "colab": {
          "base_uri": "https://localhost:8080/",
          "height": 34
        }
      },
      "source": [
        "print(my_bot.get_response(\"i'm ok\"))"
      ],
      "execution_count": 0,
      "outputs": [
        {
          "output_type": "stream",
          "text": [
            "glad to hear that.\n"
          ],
          "name": "stdout"
        }
      ]
    },
    {
      "cell_type": "code",
      "metadata": {
        "id": "RGn7kHJ8vXcs",
        "colab_type": "code",
        "outputId": "9afcdc6a-f1e7-401e-ac24-2ccc66f2f37f",
        "colab": {
          "base_uri": "https://localhost:8080/",
          "height": 34
        }
      },
      "source": [
        "print(my_bot.get_response(\"what's your name?\"))"
      ],
      "execution_count": 0,
      "outputs": [
        {
          "output_type": "stream",
          "text": [
            "i'm pybot. ask me a math question, please.\n"
          ],
          "name": "stdout"
        }
      ]
    },
    {
      "cell_type": "code",
      "metadata": {
        "id": "sCZ5yrRQvaZk",
        "colab_type": "code",
        "outputId": "4570e2c4-e551-463b-eca5-199591e23e54",
        "colab": {
          "base_uri": "https://localhost:8080/",
          "height": 34
        }
      },
      "source": [
        "print(my_bot.get_response(\"show me the pythagorean theorem\"))"
      ],
      "execution_count": 0,
      "outputs": [
        {
          "output_type": "stream",
          "text": [
            "a squared plus b squared equals c squared.\n"
          ],
          "name": "stdout"
        }
      ]
    },
    {
      "cell_type": "code",
      "metadata": {
        "id": "tLwgLWL7veQF",
        "colab_type": "code",
        "outputId": "c2c226a9-69ef-4771-e232-710f21e2eedf",
        "colab": {
          "base_uri": "https://localhost:8080/",
          "height": 34
        }
      },
      "source": [
        "print(my_bot.get_response(\"do you know the law of cosines?\"))"
      ],
      "execution_count": 0,
      "outputs": [
        {
          "output_type": "stream",
          "text": [
            "c**2 = a**2 + b**2 - 2 * a * b * cos(gamma)\n"
          ],
          "name": "stdout"
        }
      ]
    },
    {
      "cell_type": "code",
      "metadata": {
        "id": "lfFwUyJKvhgP",
        "colab_type": "code",
        "outputId": "4a070596-2c57-406b-9166-56a88f8264d8",
        "colab": {
          "base_uri": "https://localhost:8080/",
          "height": 340
        }
      },
      "source": [
        "from chatterbot.trainers import ChatterBotCorpusTrainer\n",
        "corpus_trainer = ChatterBotCorpusTrainer(my_bot)\n",
        "corpus_trainer.train('chatterbot.corpus.english')"
      ],
      "execution_count": 0,
      "outputs": [
        {
          "output_type": "stream",
          "text": [
            "Training ai.yml: [####################] 100%\n",
            "Training botprofile.yml: [####################] 100%\n",
            "Training computers.yml: [####################] 100%\n",
            "Training conversations.yml: [####################] 100%\n",
            "Training emotion.yml: [####################] 100%\n",
            "Training food.yml: [####################] 100%\n",
            "Training gossip.yml: [####################] 100%\n",
            "Training greetings.yml: [####################] 100%\n",
            "Training health.yml: [####################] 100%\n",
            "Training history.yml: [####################] 100%\n",
            "\n",
            "Training literature.yml: [####################] 100%\n",
            "Training money.yml: [####################] 100%\n",
            "Training movies.yml: [####################] 100%\n",
            "Training politics.yml: [####################] 100%\n",
            "Training psychology.yml: [####################] 100%\n",
            "Training science.yml: [####################] 100%\n",
            "Training sports.yml: [####################] 100%\n",
            "Training trivia.yml: [####################] 100%\n"
          ],
          "name": "stdout"
        }
      ]
    },
    {
      "cell_type": "code",
      "metadata": {
        "id": "MAiiQH0PzdHo",
        "colab_type": "code",
        "colab": {}
      },
      "source": [
        ""
      ],
      "execution_count": 0,
      "outputs": []
    }
  ]
}